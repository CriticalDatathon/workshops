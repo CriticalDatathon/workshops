{
  "nbformat": 4,
  "nbformat_minor": 0,
  "metadata": {
    "colab": {
      "provenance": [],
      "authorship_tag": "ABX9TyNbgf3U6bARwikCzKMpuPVl",
      "include_colab_link": true
    },
    "kernelspec": {
      "name": "python3",
      "display_name": "Python 3"
    },
    "language_info": {
      "name": "python"
    }
  },
  "cells": [
    {
      "cell_type": "markdown",
      "metadata": {
        "id": "view-in-github",
        "colab_type": "text"
      },
      "source": [
        "<a href=\"https://colab.research.google.com/github/CriticalDatathon/workshops/blob/main/workshop1.ipynb\" target=\"_parent\"><img src=\"https://colab.research.google.com/assets/colab-badge.svg\" alt=\"Open In Colab\"/></a>"
      ]
    },
    {
      "cell_type": "markdown",
      "source": [
        "# Workshop 1 - Understanding the Problem & Study Design"
      ],
      "metadata": {
        "id": "yebd6C2bAz8B"
      }
    },
    {
      "cell_type": "code",
      "source": [],
      "metadata": {
        "id": "r-vtNYBUA73e"
      },
      "execution_count": null,
      "outputs": []
    }
  ]
}