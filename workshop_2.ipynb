{
  "nbformat": 4,
  "nbformat_minor": 0,
  "metadata": {
    "colab": {
      "provenance": []
    },
    "kernelspec": {
      "name": "python3",
      "display_name": "Python 3"
    },
    "language_info": {
      "name": "python"
    }
  },
  "cells": [
    {
      "cell_type": "markdown",
      "source": [
        "# Workshop 2: Clinical Variables & Feature Engineering\n",
        "\n",
        "### Data Analysis:\n",
        "\n",
        "Once we understand the problem, we have formed a multidisciplinary team, formulated the research question and our hypothesis (workshop 1), we have to start working with the data. What data do we have? How do they look? What distributions do they have?\n",
        "\n",
        "Let's remember that in data science, data is the most important thing, and whether or not we can solve a problem depends on the data quality. At the same time, understanding the data also helps us to have a clearer vision of what we are facing and in case the data is not very good, we can at least fix it.\n",
        "\n",
        "Specifically, understanding the problem and the data are the essential phases in a data science project. An error in this phase is much more critical than an error in the modeling and evaluation phases. We must bear in mind that machine learning is not a magical tool that solves any type of problem, but rather a mathematical/statistical tool that learns from what we teach it, therefore if the data has biases, the model will also have them."
      ],
      "metadata": {
        "id": "M65WOuF6u62h"
      }
    },
    {
      "cell_type": "markdown",
      "source": [
        "### Setup environment"
      ],
      "metadata": {
        "id": "EffSajZhq7lo"
      }
    },
    {
      "cell_type": "code",
      "source": [
        "# !pip install --upgrade ipykernel"
      ],
      "metadata": {
        "id": "rvJ-sEJLmYPJ"
      },
      "execution_count": 1,
      "outputs": []
    },
    {
      "cell_type": "code",
      "execution_count": 2,
      "metadata": {
        "id": "otcVcnAOQEUH"
      },
      "outputs": [],
      "source": [
        "# Data reading in Dataframe format and data preprocessing\n",
        "import pandas as pd\n",
        "\n",
        "# Data Visualization\n",
        "import matplotlib.pyplot as plt\n",
        "import seaborn as sns\n",
        "\n",
        "# For missing values\n",
        "import missingno as msno\n",
        "\n",
        "# Linear algebra operations\n",
        "import numpy as np\n",
        "\n",
        "# Machine learning models and preprocessing\n",
        "from sklearn.preprocessing import MinMaxScaler\n",
        "from sklearn.preprocessing import StandardScaler\n",
        "from sklearn import preprocessing"
      ]
    },
    {
      "cell_type": "code",
      "source": [
        "import warnings\n",
        "warnings.filterwarnings('ignore')"
      ],
      "metadata": {
        "id": "jeNd6uy3zpwe"
      },
      "execution_count": 3,
      "outputs": []
    },
    {
      "cell_type": "code",
      "source": [
        "# Load the Drive helper and mount\n",
        "from google.colab import drive\n",
        "drive.mount('/content/drive')"
      ],
      "metadata": {
        "colab": {
          "base_uri": "https://localhost:8080/"
        },
        "id": "Frc9RcmKR3Ea",
        "outputId": "132f2c6d-6c00-4616-d571-10e9895388e9"
      },
      "execution_count": 4,
      "outputs": [
        {
          "output_type": "stream",
          "name": "stdout",
          "text": [
            "Drive already mounted at /content/drive; to attempt to forcibly remount, call drive.mount(\"/content/drive\", force_remount=True).\n"
          ]
        }
      ]
    },
    {
      "cell_type": "code",
      "source": [
        "%cd /content/drive/MyDrive/MIMIC_IV\n",
        "!ls"
      ],
      "metadata": {
        "colab": {
          "base_uri": "https://localhost:8080/"
        },
        "id": "pYsx3v330G4u",
        "outputId": "786c6873-4fb8-41ac-b09d-930726262fdf"
      },
      "execution_count": 5,
      "outputs": [
        {
          "output_type": "stream",
          "name": "stdout",
          "text": [
            "/content/drive/MyDrive/MIMIC_IV\n",
            "columns_dictionary.csv\t   get_MimicIV.ipynb\t\t   oxygen_dataset\n",
            "columns_dictionary.gsheet  MIMIC_Data_Preprocessing.ipynb\n",
            "generate_dict.ipynb\t   mimiciv_full\n"
          ]
        }
      ]
    },
    {
      "cell_type": "code",
      "source": [
        "# Dataset Path:\n",
        "PATH = 'oxygen_dataset/MIMIC_IV.csv'"
      ],
      "metadata": {
        "id": "yVBKvHF90OYZ"
      },
      "execution_count": 6,
      "outputs": []
    },
    {
      "cell_type": "markdown",
      "source": [
        "### Read the dataset"
      ],
      "metadata": {
        "id": "Hzzgjobkzz1u"
      }
    },
    {
      "cell_type": "code",
      "source": [
        "def null_values(df):\n",
        "  \"\"\" \n",
        "  This function checks if there are null values in the dataframe:\n",
        "  In case of not having null values, print: 'There aren't null values in the dataframe'\n",
        "  In case of having null values, print the columns with these values\n",
        "  \"\"\"\n",
        "  \n",
        "  nulos = df.isnull().sum().any()\n",
        "  if nulos == False:\n",
        "    print(\"There aren't null values in the dataframe\")\n",
        "  else:\n",
        "    print('Null values: ')\n",
        "    print(df.isnull().sum()[df.isnull().sum()  > 0])"
      ],
      "metadata": {
        "id": "T5NLdL3K1cib"
      },
      "execution_count": 7,
      "outputs": []
    },
    {
      "cell_type": "code",
      "source": [
        "# Read file\n",
        "df = pd.read_csv(PATH)\n",
        "print(f'The dataset has {df.shape[0]} rows and {df.shape[1]} columns')\n",
        "\n",
        "# Check if there are null values\n",
        "null_values(df)\n",
        "\n",
        "# Print first 5 rows\n",
        "df.head()"
      ],
      "metadata": {
        "colab": {
          "base_uri": "https://localhost:8080/",
          "height": 636
        },
        "id": "vwAy1XAHR3Gq",
        "outputId": "1c8dc0d8-6c4a-4e53-9793-04a79fc4c2dd"
      },
      "execution_count": 8,
      "outputs": [
        {
          "output_type": "stream",
          "name": "stdout",
          "text": [
            "The dataset has 81797 rows and 138 columns\n",
            "Null values: \n",
            "weight                 6827\n",
            "height                15693\n",
            "BMI                   15958\n",
            "delta_vent_start      10070\n",
            "ventilation_status    10070\n",
            "                      ...  \n",
            "temperature             961\n",
            "delta_glucose            13\n",
            "glucose                  13\n",
            "delta_heart_rhythm       12\n",
            "heart_rhythm             12\n",
            "Length: 102, dtype: int64\n"
          ]
        },
        {
          "output_type": "execute_result",
          "data": {
            "text/plain": [
              "   subject_id   stay_id       SaO2_timestamp  SaO2  delta_SpO2  SpO2  \\\n",
              "0    10001884  37510196  2131-01-12 21:04:00  90.0          -4    89   \n",
              "1    10001884  37510196  2131-01-13 02:28:00  92.0         -28    94   \n",
              "2    10002013  39060235  2160-05-18 16:03:00  99.0           0    99   \n",
              "3    10002013  39060235  2160-05-18 17:42:00  96.0         -42    97   \n",
              "4    10002013  39060235  2160-05-18 21:32:00  97.0         -32    98   \n",
              "\n",
              "   hidden_hypoxemia   hadm_id gender  sex_female  ...  delta_mbp   mbp  \\\n",
              "0                 0  26184834      F           1  ...         -3  96.0   \n",
              "1                 0  26184834      F           1  ...        -27  98.0   \n",
              "2                 0  23581541      F           1  ...         -3  86.5   \n",
              "3                 0  23581541      F           1  ...         18  73.0   \n",
              "4                 0  23581541      F           1  ...         28  86.0   \n",
              "\n",
              "  delta_resp_rate resp_rate delta_temperature  temperature  delta_glucose  \\\n",
              "0            -4.0      19.5             -64.0        36.72          445.0   \n",
              "1           -28.0      22.0              92.0        36.56          121.0   \n",
              "2            -2.0      14.0              -3.0        36.90            0.0   \n",
              "3            18.0      23.0              18.0        36.70            0.0   \n",
              "4            28.0      18.0              28.0        37.50            0.0   \n",
              "\n",
              "   glucose delta_heart_rhythm             heart_rhythm  \n",
              "0    199.0               -4.0        SR (Sinus Rhythm)  \n",
              "1    199.0              -28.0        SR (Sinus Rhythm)  \n",
              "2    155.0               -3.0        SR (Sinus Rhythm)  \n",
              "3    149.0               18.0  ST (Sinus Tachycardia)   \n",
              "4    141.0               28.0        SR (Sinus Rhythm)  \n",
              "\n",
              "[5 rows x 138 columns]"
            ],
            "text/html": [
              "\n",
              "  <div id=\"df-feb153ba-f46a-45e9-8184-f97285ae14bd\">\n",
              "    <div class=\"colab-df-container\">\n",
              "      <div>\n",
              "<style scoped>\n",
              "    .dataframe tbody tr th:only-of-type {\n",
              "        vertical-align: middle;\n",
              "    }\n",
              "\n",
              "    .dataframe tbody tr th {\n",
              "        vertical-align: top;\n",
              "    }\n",
              "\n",
              "    .dataframe thead th {\n",
              "        text-align: right;\n",
              "    }\n",
              "</style>\n",
              "<table border=\"1\" class=\"dataframe\">\n",
              "  <thead>\n",
              "    <tr style=\"text-align: right;\">\n",
              "      <th></th>\n",
              "      <th>subject_id</th>\n",
              "      <th>stay_id</th>\n",
              "      <th>SaO2_timestamp</th>\n",
              "      <th>SaO2</th>\n",
              "      <th>delta_SpO2</th>\n",
              "      <th>SpO2</th>\n",
              "      <th>hidden_hypoxemia</th>\n",
              "      <th>hadm_id</th>\n",
              "      <th>gender</th>\n",
              "      <th>sex_female</th>\n",
              "      <th>...</th>\n",
              "      <th>delta_mbp</th>\n",
              "      <th>mbp</th>\n",
              "      <th>delta_resp_rate</th>\n",
              "      <th>resp_rate</th>\n",
              "      <th>delta_temperature</th>\n",
              "      <th>temperature</th>\n",
              "      <th>delta_glucose</th>\n",
              "      <th>glucose</th>\n",
              "      <th>delta_heart_rhythm</th>\n",
              "      <th>heart_rhythm</th>\n",
              "    </tr>\n",
              "  </thead>\n",
              "  <tbody>\n",
              "    <tr>\n",
              "      <th>0</th>\n",
              "      <td>10001884</td>\n",
              "      <td>37510196</td>\n",
              "      <td>2131-01-12 21:04:00</td>\n",
              "      <td>90.0</td>\n",
              "      <td>-4</td>\n",
              "      <td>89</td>\n",
              "      <td>0</td>\n",
              "      <td>26184834</td>\n",
              "      <td>F</td>\n",
              "      <td>1</td>\n",
              "      <td>...</td>\n",
              "      <td>-3</td>\n",
              "      <td>96.0</td>\n",
              "      <td>-4.0</td>\n",
              "      <td>19.5</td>\n",
              "      <td>-64.0</td>\n",
              "      <td>36.72</td>\n",
              "      <td>445.0</td>\n",
              "      <td>199.0</td>\n",
              "      <td>-4.0</td>\n",
              "      <td>SR (Sinus Rhythm)</td>\n",
              "    </tr>\n",
              "    <tr>\n",
              "      <th>1</th>\n",
              "      <td>10001884</td>\n",
              "      <td>37510196</td>\n",
              "      <td>2131-01-13 02:28:00</td>\n",
              "      <td>92.0</td>\n",
              "      <td>-28</td>\n",
              "      <td>94</td>\n",
              "      <td>0</td>\n",
              "      <td>26184834</td>\n",
              "      <td>F</td>\n",
              "      <td>1</td>\n",
              "      <td>...</td>\n",
              "      <td>-27</td>\n",
              "      <td>98.0</td>\n",
              "      <td>-28.0</td>\n",
              "      <td>22.0</td>\n",
              "      <td>92.0</td>\n",
              "      <td>36.56</td>\n",
              "      <td>121.0</td>\n",
              "      <td>199.0</td>\n",
              "      <td>-28.0</td>\n",
              "      <td>SR (Sinus Rhythm)</td>\n",
              "    </tr>\n",
              "    <tr>\n",
              "      <th>2</th>\n",
              "      <td>10002013</td>\n",
              "      <td>39060235</td>\n",
              "      <td>2160-05-18 16:03:00</td>\n",
              "      <td>99.0</td>\n",
              "      <td>0</td>\n",
              "      <td>99</td>\n",
              "      <td>0</td>\n",
              "      <td>23581541</td>\n",
              "      <td>F</td>\n",
              "      <td>1</td>\n",
              "      <td>...</td>\n",
              "      <td>-3</td>\n",
              "      <td>86.5</td>\n",
              "      <td>-2.0</td>\n",
              "      <td>14.0</td>\n",
              "      <td>-3.0</td>\n",
              "      <td>36.90</td>\n",
              "      <td>0.0</td>\n",
              "      <td>155.0</td>\n",
              "      <td>-3.0</td>\n",
              "      <td>SR (Sinus Rhythm)</td>\n",
              "    </tr>\n",
              "    <tr>\n",
              "      <th>3</th>\n",
              "      <td>10002013</td>\n",
              "      <td>39060235</td>\n",
              "      <td>2160-05-18 17:42:00</td>\n",
              "      <td>96.0</td>\n",
              "      <td>-42</td>\n",
              "      <td>97</td>\n",
              "      <td>0</td>\n",
              "      <td>23581541</td>\n",
              "      <td>F</td>\n",
              "      <td>1</td>\n",
              "      <td>...</td>\n",
              "      <td>18</td>\n",
              "      <td>73.0</td>\n",
              "      <td>18.0</td>\n",
              "      <td>23.0</td>\n",
              "      <td>18.0</td>\n",
              "      <td>36.70</td>\n",
              "      <td>0.0</td>\n",
              "      <td>149.0</td>\n",
              "      <td>18.0</td>\n",
              "      <td>ST (Sinus Tachycardia)</td>\n",
              "    </tr>\n",
              "    <tr>\n",
              "      <th>4</th>\n",
              "      <td>10002013</td>\n",
              "      <td>39060235</td>\n",
              "      <td>2160-05-18 21:32:00</td>\n",
              "      <td>97.0</td>\n",
              "      <td>-32</td>\n",
              "      <td>98</td>\n",
              "      <td>0</td>\n",
              "      <td>23581541</td>\n",
              "      <td>F</td>\n",
              "      <td>1</td>\n",
              "      <td>...</td>\n",
              "      <td>28</td>\n",
              "      <td>86.0</td>\n",
              "      <td>28.0</td>\n",
              "      <td>18.0</td>\n",
              "      <td>28.0</td>\n",
              "      <td>37.50</td>\n",
              "      <td>0.0</td>\n",
              "      <td>141.0</td>\n",
              "      <td>28.0</td>\n",
              "      <td>SR (Sinus Rhythm)</td>\n",
              "    </tr>\n",
              "  </tbody>\n",
              "</table>\n",
              "<p>5 rows × 138 columns</p>\n",
              "</div>\n",
              "      <button class=\"colab-df-convert\" onclick=\"convertToInteractive('df-feb153ba-f46a-45e9-8184-f97285ae14bd')\"\n",
              "              title=\"Convert this dataframe to an interactive table.\"\n",
              "              style=\"display:none;\">\n",
              "        \n",
              "  <svg xmlns=\"http://www.w3.org/2000/svg\" height=\"24px\"viewBox=\"0 0 24 24\"\n",
              "       width=\"24px\">\n",
              "    <path d=\"M0 0h24v24H0V0z\" fill=\"none\"/>\n",
              "    <path d=\"M18.56 5.44l.94 2.06.94-2.06 2.06-.94-2.06-.94-.94-2.06-.94 2.06-2.06.94zm-11 1L8.5 8.5l.94-2.06 2.06-.94-2.06-.94L8.5 2.5l-.94 2.06-2.06.94zm10 10l.94 2.06.94-2.06 2.06-.94-2.06-.94-.94-2.06-.94 2.06-2.06.94z\"/><path d=\"M17.41 7.96l-1.37-1.37c-.4-.4-.92-.59-1.43-.59-.52 0-1.04.2-1.43.59L10.3 9.45l-7.72 7.72c-.78.78-.78 2.05 0 2.83L4 21.41c.39.39.9.59 1.41.59.51 0 1.02-.2 1.41-.59l7.78-7.78 2.81-2.81c.8-.78.8-2.07 0-2.86zM5.41 20L4 18.59l7.72-7.72 1.47 1.35L5.41 20z\"/>\n",
              "  </svg>\n",
              "      </button>\n",
              "      \n",
              "  <style>\n",
              "    .colab-df-container {\n",
              "      display:flex;\n",
              "      flex-wrap:wrap;\n",
              "      gap: 12px;\n",
              "    }\n",
              "\n",
              "    .colab-df-convert {\n",
              "      background-color: #E8F0FE;\n",
              "      border: none;\n",
              "      border-radius: 50%;\n",
              "      cursor: pointer;\n",
              "      display: none;\n",
              "      fill: #1967D2;\n",
              "      height: 32px;\n",
              "      padding: 0 0 0 0;\n",
              "      width: 32px;\n",
              "    }\n",
              "\n",
              "    .colab-df-convert:hover {\n",
              "      background-color: #E2EBFA;\n",
              "      box-shadow: 0px 1px 2px rgba(60, 64, 67, 0.3), 0px 1px 3px 1px rgba(60, 64, 67, 0.15);\n",
              "      fill: #174EA6;\n",
              "    }\n",
              "\n",
              "    [theme=dark] .colab-df-convert {\n",
              "      background-color: #3B4455;\n",
              "      fill: #D2E3FC;\n",
              "    }\n",
              "\n",
              "    [theme=dark] .colab-df-convert:hover {\n",
              "      background-color: #434B5C;\n",
              "      box-shadow: 0px 1px 3px 1px rgba(0, 0, 0, 0.15);\n",
              "      filter: drop-shadow(0px 1px 2px rgba(0, 0, 0, 0.3));\n",
              "      fill: #FFFFFF;\n",
              "    }\n",
              "  </style>\n",
              "\n",
              "      <script>\n",
              "        const buttonEl =\n",
              "          document.querySelector('#df-feb153ba-f46a-45e9-8184-f97285ae14bd button.colab-df-convert');\n",
              "        buttonEl.style.display =\n",
              "          google.colab.kernel.accessAllowed ? 'block' : 'none';\n",
              "\n",
              "        async function convertToInteractive(key) {\n",
              "          const element = document.querySelector('#df-feb153ba-f46a-45e9-8184-f97285ae14bd');\n",
              "          const dataTable =\n",
              "            await google.colab.kernel.invokeFunction('convertToInteractive',\n",
              "                                                     [key], {});\n",
              "          if (!dataTable) return;\n",
              "\n",
              "          const docLinkHtml = 'Like what you see? Visit the ' +\n",
              "            '<a target=\"_blank\" href=https://colab.research.google.com/notebooks/data_table.ipynb>data table notebook</a>'\n",
              "            + ' to learn more about interactive tables.';\n",
              "          element.innerHTML = '';\n",
              "          dataTable['output_type'] = 'display_data';\n",
              "          await google.colab.output.renderOutput(dataTable, element);\n",
              "          const docLink = document.createElement('div');\n",
              "          docLink.innerHTML = docLinkHtml;\n",
              "          element.appendChild(docLink);\n",
              "        }\n",
              "      </script>\n",
              "    </div>\n",
              "  </div>\n",
              "  "
            ]
          },
          "metadata": {},
          "execution_count": 8
        }
      ]
    },
    {
      "cell_type": "markdown",
      "source": [
        "## Understand your Data:"
      ],
      "metadata": {
        "id": "sKiLCcTe_1s2"
      }
    },
    {
      "cell_type": "markdown",
      "source": [
        "### Understand the variables:\n",
        "\n",
        "The first step is to understand what variables your dataset has and how these variables are distributed. The columns and data types are:\n",
        "\n",
        "| name                           | type    | description                                                                                                |\n",
        "|:-------------------------------|:--------|:-----------------------------------------------------------------------------------------------------------|\n",
        "| subject_id                     | int64   | Unique identifier for each patient                                                                         |\n",
        "| stay_id                        | int64   | Unique identifier for each hospital stay                                                                   |\n",
        "| SaO2_timestamp                 | object  | Timestamp for SaO2 measurement                                                                             |\n",
        "| SaO2                           | float64 | Arterial oxygen saturation                                                                                 |\n",
        "| delta_SpO2                     | int64   | Time offset (in minutes) in the measurement of peripheral oxygen saturation                                |\n",
        "| SpO2                           | int64   | Peripheral oxygen saturation                                                                               |\n",
        "| hidden_hypoxemia               | int64   | Indicates if the patient had hypoxemia without clinical signs                                              |\n",
        "| hadm_id                        | int64   | Unique identifier for each hospital admission                                                              |\n",
        "| gender                         | object  | Gender of the patient                                                                                      |\n",
        "| sex_female                     | int64   | Indicates if the patient is female                                                                         |\n",
        "| anchor_age                     | int64   | Age of the patient at the time of admission                                                                |\n",
        "| race                           | object  | Race of the patient                                                                                        |\n",
        "| race_group                     | object  | Grouping of race into broader categories                                                                   |\n",
        "| language                       | object  | Primary language spoken by the patient                                                                     |\n",
        "| insurance                      | object  | Type of insurance of the patient                                                                           |\n",
        "| weight                         | float64 | Weight of the patient in kilograms                                                                         |\n",
        "| height                         | float64 | Height of the patient in centimeters                                                                       |\n",
        "| BMI                            | float64 | Body Mass Index of the patient                                                                             |\n",
        "| anchor_year_group              | object  | Grouping of admission year into broader categories                                                         |\n",
        "| first_hosp_stay                | bool    | Indicates if this is the first hospital stay for the patient                                               |\n",
        "| first_icu_stay                 | bool    | Indicates if this is the first ICU stay for the patient                                                    |\n",
        "| icustay_seq                    | int64   | Sequence number of ICU stay for the patient                                                                |\n",
        "| admittime                      | object  | Timestamp for hospital admission                                                                           |\n",
        "| dischtime                      | object  | Timestamp for hospital discharge                                                                           |\n",
        "| icu_intime                     | object  | Timestamp for ICU admission                                                                                |\n",
        "| icu_outtime                    | object  | Timestamp for ICU discharge                                                                                |\n",
        "| los_hospital                   | int64   | Length of hospital stay in days                                                                            |\n",
        "| los_icu                        | float64 | Length of ICU stay in days                                                                                 |\n",
        "| CCI                            | int64   | Charlson Comorbidity Index                                                                                 |\n",
        "| SOFA_admission                 | int64   | Sequential Organ Failure Assessment (SOFA) score at admission                                              |\n",
        "| mortality_in                   | int64   | Indicates if the patient died during the hospital stay                                                     |\n",
        "| delta_vent_start               | float64 | Time since ventilation started (in minutes) at the time of the measurement                                 |\n",
        "| ventilation_status             | object  | Indicates if the patient was on mechanical ventilation                                                     |\n",
        "| invasive_vent                  | int64   | Indicates if the patient was on invasive mechanical ventilation                                            |\n",
        "| delta_FiO2                     | float64 | Time offset (in minutes) in the measurement of inspired oxygen (FiO2)                                      |\n",
        "| FiO2                           | float64 | Fraction of inspired oxygen                                                                                |\n",
        "| delta_rrt                      | float64 | Time since renal replacement therapy (in minutes) at the time of the measurement                           |\n",
        "| rrt                            | int64   | Indicates if the patient was on renal replacement therapy                                                  |\n",
        "| delta_vp_start                 | float64 | Time since vasopressor therapy started (in minutes) at the time of the measurement                         |\n",
        "| norepinephrine_equivalent_dose | float64 | Dose of norepinephrine equivalent to other vasopressors (in mcg/kg/min)                                    |\n",
        "| delta_sofa_coag                | float64 | Time offset (in minutes) in the measurement of SOFA score for coagulation from the previous measurement    |\n",
        "| sofa_coag                      | float64 | SOFA score for coagulation                                                                                 |\n",
        "| delta_sofa_liver               | float64 | Time offset (in minutes) in the measurement of SOFA score for liver from the previous measurement          |\n",
        "| sofa_liver                     | float64 | SOFA score for liver                                                                                       |\n",
        "| delta_sofa_cv                  | int64   | Time offset (in minutes) in the measurement of SOFA score for cardiovascular from the previous measurement |\n",
        "| sofa_cv                        | int64   | Cardiovascular component of Sequential Organ Failure Assessment (SOFA) score                               |\n",
        "| delta_sofa_cns                 | float64 | Time offset (in minutes) in the measurement of central nervous system component of SOFA                    |\n",
        "| sofa_cns                       | float64 | Central nervous system component of SOFA score                                                             |\n",
        "| delta_sofa_renal               | float64 | Time difference between the SaO2 measurement and the timestamp of the SaO2 measurement                     |\n",
        "| sofa_renal                     | float64 | Renal component of SOFA score                                                                              |\n",
        "| delta_sofa_resp                | float64 | Time offset (in minutes) in the measurement of respiratory component of SOFA                               |\n",
        "| sofa_resp                      | float64 | Respiratory component of SOFA score                                                                        |\n",
        "| delta_hemoglobin               | float64 | Time offset (in minutes) in the measurement of hemoglobin level                                            |\n",
        "| hemoglobin                     | float64 | Hemoglobin level                                                                                           |\n",
        "| delta_hematocrit               | float64 | Time offset (in minutes) in the measurement of Change in hematocrit level                                  |\n",
        "| hematocrit                     | float64 | Hematocrit level                                                                                           |\n",
        "| delta_mch                      | float64 | Time offset (in minutes) in the measurement of mean corpuscular hemoglobin                                 |\n",
        "| mch                            | float64 | Mean corpuscular hemoglobin                                                                                |\n",
        "| delta_mchc                     | float64 | Time offset (in minutes) in the measurement of mean corpuscular hemoglobin concentration                   |\n",
        "| mchc                           | float64 | Mean corpuscular hemoglobin concentration                                                                  |\n",
        "| delta_mcv                      | float64 | Time offset (in minutes) in the measurement of mean corpuscular volume                                     |\n",
        "| mcv                            | float64 | Mean corpuscular volume                                                                                    |\n",
        "| delta_platelet                 | float64 | Time offset (in minutes) in the measurement of platelet count                                              |\n",
        "| platelet                       | float64 | Platelet count                                                                                             |\n",
        "| delta_rbc                      | float64 | Time offset (in minutes) in the measurement of red blood cell count                                        |\n",
        "| rbc                            | float64 | Red blood cell count                                                                                       |\n",
        "| delta_rdw                      | float64 | Time offset (in minutes) in the measurement of Change in red cell distribution width                       |\n",
        "| rdw                            | float64 | Red cell distribution width                                                                                |\n",
        "| delta_wbc                      | float64 | Time offset (in minutes) in the measurement of white blood cell count                                      |\n",
        "| wbc                            | float64 | White blood cell count                                                                                     |\n",
        "| delta_d_dimer                  | float64 | Time offset (in minutes) in the measurement of Change in D-dimer                                           |\n",
        "| d_dimer                        | float64 | D-dimer level                                                                                              |\n",
        "| delta_fibrinogen               | float64 | Time offset (in minutes) in the measurement of fibrinogen level                                            |\n",
        "| fibrinogen                     | float64 | Fibrinogen level                                                                                           |\n",
        "| delta_thrombin                 | float64 | Time offset (in minutes) in the measurement of thrombin time                                               |\n",
        "| thrombin                       | float64 | Thrombin time                                                                                              |\n",
        "| delta_inr                      | float64 | Time offset (in minutes) in the measurement of Change in international normalized ratio (INR)              |\n",
        "| inr                            | float64 | International normalized ratio (INR)                                                                       |\n",
        "| delta_pt                       | float64 | Time offset (in minutes) in the measurement of prothrombin time (PT)                                       |\n",
        "| pt                             | float64 | Prothrombin time (PT)                                                                                      |\n",
        "| delta_ptt                      | float64 | Time offset (in minutes) in the measurement of partial thromboplastin time (PTT)                           |\n",
        "| ptt                            | float64 | Partial thromboplastin time (PTT)                                                                          |\n",
        "| delta_alt                      | float64 | Time offset (in minutes) in the measurement of alanine transaminase (ALT) level                            |\n",
        "| alt                            | float64 | Alanine transaminase (ALT) level                                                                           |\n",
        "| delta_alp                      | float64 | Time offset (in minutes) in the measurement of hhange in alkaline phosphatase (ALP) level                  |\n",
        "| alp                            | float64 | Alkaline phosphatase (ALP) level                                                                           |\n",
        "| delta_ast                      | float64 | Time offset (in minutes) in the measurement of aspartate transaminase (AST) level                          |\n",
        "| ast                            | float64 | Aspartate transaminase (AST) level                                                                         |\n",
        "| delta_bilirubin_total          | float64 | Time offset (in minutes) in the measurement of total bilirubin level                                       |\n",
        "| bilirubin_total                | float64 | Total bilirubin level                                                                                      |\n",
        "| delta_bilirubin_direct         | float64 | Time offset (in minutes) in the measurement of  direct bilirubin level                                     |\n",
        "| bilirubin_direct               | float64 | Direct bilirubin level                                                                                     |\n",
        "| delta_bilirubin_indirect       | float64 | Time offset (in minutes) in the measurement of indirect bilirubin level                                    |\n",
        "| bilirubin_indirect             | float64 | Indirect bilirubin level                                                                                   |\n",
        "| delta_ck_cpk                   | float64 | Time offset (in minutes) in the measurement of  creatine kinase (CPK) level                                |\n",
        "| ck_cpk                         | float64 | Creatine kinase (CPK) level                                                                                |\n",
        "| delta_ck_mb                    | float64 | Time offset (in minutes) in the measurement of  creatine kinase MB (CK-MB) level                           |\n",
        "| ck_mb                          | float64 | Creatine kinase MB (CK-MB) level                                                                           |\n",
        "| delta_ggt                      | float64 | Time offset (in minutes) in the measurement of  gamma-glutamyl transferase (GGT) level                     |\n",
        "| ggt                            | float64 | Gamma-glutamyl transferase (GGT) level                                                                     |\n",
        "| delta_ld_ldh                   | float64 | Time offset (in minutes) in the measurement of  lactate dehydrogenase (LDH) level                          |\n",
        "| ld_ldh                         | float64 | Lactate dehydrogenase (LDH) level                                                                          |\n",
        "| delta_albumin                  | float64 | Time offset (in minutes) in the measurement of albumin level                                               |\n",
        "| albumin                        | float64 | Albumin level                                                                                              |\n",
        "| delta_aniongap                 | float64 | Time offset (in minutes) in the measurement of anion gap                                                   |\n",
        "| aniongap                       | float64 | Anion gap                                                                                                  |\n",
        "| delta_bicarbonate              | float64 | Time offset (in minutes) in the measurement of bicarbonate level                                           |\n",
        "| bicarbonate                    | float64 | Bicarbonate level                                                                                          |\n",
        "| delta_bun                      | float64 | Time offset (in minutes) in the measurement of blood urea nitrogen (BUN) level                             |\n",
        "| bun                            | float64 | Blood urea nitrogen (BUN) level                                                                            |\n",
        "| delta_calcium                  | float64 | Time offset (in minutes) in the measurement of calcium level                                               |\n",
        "| calcium                        | float64 | Calcium level                                                                                              |\n",
        "| delta_chloride                 | float64 | Time offset (in minutes) in the measurement of chloride level                                              |\n",
        "| chloride                       | float64 | Chloride level                                                                                             |\n",
        "| delta_creatinine               | float64 | Time offset (in minutes) in the measurement of creatinine level                                            |\n",
        "| creatinine                     | float64 | Creatinine level                                                                                           |\n",
        "| delta_glucose_lab              | float64 | Time offset (in minutes) in the measurement of glucose level from laboratory                               |\n",
        "| glucose_lab                    | float64 | Glucose level from laboratory measurement                                                                  |\n",
        "| delta_sodium                   | float64 | Time offset (in minutes) in the measurement of sodium level                                                |\n",
        "| sodium                         | float64 | Sodium level                                                                                               |\n",
        "| delta_potassium                | float64 | Time offset (in minutes) in the measurement of potassium level                                             |\n",
        "| potassium                      | float64 | Potassium level                                                                                            |\n",
        "| delta_ph                       | float64 | Time offset (in minutes) in the measurement of pH level                                                    |\n",
        "| ph                             | float64 | pH level                                                                                                   |\n",
        "| delta_lactate                  | float64 | Time offset (in minutes) in the measurement of lactate level                                               |\n",
        "| lactate                        | float64 | Lactate level                                                                                              |\n",
        "| delta_heart_rate               | int64   | Time offset (in minutes) in the measurement of  heart rate                                                 |\n",
        "| heart_rate                     | float64 | Heart rate                                                                                                 |\n",
        "| delta_mbp                      | int64   | Time offset (in minutes) in the measurement of mean blood pressure (MBP)                                   |\n",
        "| mbp                            | float64 | Mean blood pressure (MBP)                                                                                  |\n",
        "| delta_resp_rate                | float64 | Time offset (in minutes) in the measurement of respiratory rate                                            |\n",
        "| resp_rate                      | float64 | Respiratory rate                                                                                           |\n",
        "| delta_temperature              | float64 | Time offset (in minutes) in the measurement of body temperature                                            |\n",
        "| temperature                    | float64 | Body temperature                                                                                           |\n",
        "| delta_glucose                  | float64 | Time offset (in minutes) in the measurement of glucose level                                               |\n",
        "| glucose                        | float64 | Glucose level                                                                                              |\n",
        "| delta_heart_rhythm             | float64 | Time offset (in minutes) in the measurement of heart rhythm                                                |\n",
        "| heart_rhythm                   | object  | Heart rhythm                                                                                               |"
      ],
      "metadata": {
        "id": "zqwtcefTVxdh"
      }
    },
    {
      "cell_type": "markdown",
      "source": [
        "### Select you variables"
      ],
      "metadata": {
        "id": "ZEzfCAqiVRx8"
      }
    },
    {
      "cell_type": "markdown",
      "source": [
        "**Note:** To simplify the task we will use a reduced group of variables for the following analysis. Ideally you should decide with your groups which variables you consider to be really important.\n",
        "\n",
        "The variables should be selected:\n",
        "1. Always thinking about the question to solve and the hypothesis.\n",
        "2. Using the clinical experience of the members of the group and if possible supported by literature.\n",
        "3. Using mathematical and statistical methods.\n"
      ],
      "metadata": {
        "id": "_dKt3CcNDP_9"
      }
    },
    {
      "cell_type": "markdown",
      "source": [
        "Due to the hypothesis we need some demographic information:"
      ],
      "metadata": {
        "id": "npybroq6Ju2a"
      }
    },
    {
      "cell_type": "code",
      "source": [
        "# Patient main information\n",
        "patient_info = ['subject_id', 'stay_id', 'SaO2_timestamp', 'SaO2', 'delta_SpO2', 'SpO2', 'hidden_hypoxemia', 'ventilation_status']\n",
        "\n",
        "# Demographic variables\n",
        "demographic_variables = ['gender', 'anchor_age', 'race_group', 'language', 'insurance']"
      ],
      "metadata": {
        "id": "ZIUc7QwLJuDT"
      },
      "execution_count": 9,
      "outputs": []
    },
    {
      "cell_type": "markdown",
      "source": [
        "The clinical variables selected were selected based on the variables that are most related with SaO2 and Spo2 and a correlation method was used to filter those variables. \n",
        "You can use other methods and criteria!"
      ],
      "metadata": {
        "id": "gZxXW_09KCOC"
      }
    },
    {
      "cell_type": "markdown",
      "source": [
        "1. Manual variable selection"
      ],
      "metadata": {
        "id": "Ucr8SD4lW0Eh"
      }
    },
    {
      "cell_type": "code",
      "source": [
        "# Static clinical variables\n",
        "static_clinical_variables = ['CCI', 'BMI', 'SOFA_admission']\n",
        "\n",
        "# Temporal clinical variables\n",
        "sofa_variables = [column for column in df.columns if 'sofa' in column]\n",
        "temporal_clinical_variables = ['SpO2', 'SaO2', 'FiO2', 'ventilation_status', 'delta_vent_start', 'delta_rrt', 'delta_vp_start',\n",
        "                               'mch', 'mchc', 'mcv', 'platelet', 'rbc', 'rdw', 'wbc', 'inr', 'pt', 'ptt', 'alt', 'alp', 'ast',\n",
        "                               'bilirubin_total', 'delta_albumin', 'albumin', 'aniongap', 'bicarbonate', 'bun', 'calcium', 'chloride',\n",
        "                               'creatinine', 'glucose_lab', 'sodium', 'potassium', 'ph', 'lactate', 'norepinephrine_equivalent_dose',\n",
        "                               'hemoglobin', 'hematocrit', 'delta_ld_ldh', 'ld_ldh'] + sofa_variables\n",
        "\n",
        "outcomes = ['los_hospital', 'los_icu', 'mortality_in']\n",
        "\n",
        "treatment = ['invasive_vent', 'rrt']"
      ],
      "metadata": {
        "id": "GLYKUYWtKjNh"
      },
      "execution_count": 10,
      "outputs": []
    },
    {
      "cell_type": "markdown",
      "source": [
        "2. Variable filtering using a correlation"
      ],
      "metadata": {
        "id": "lhKfPsmRW8TA"
      }
    },
    {
      "cell_type": "code",
      "source": [
        "def get_most_correlated(df, variable, n):\n",
        "  \"\"\"\n",
        "  Function to get the most direct and inverse correlated variables to a specific variable\n",
        "  Inputs:\n",
        "  df: A pandas dataframe with all the variables\n",
        "  variable: S string with the name of the variable with respect to which we want to calculate the correlation (Eg. 'SaO2')\n",
        "  n: A integer with the number of variables that we want to get as most directly and inverse correlated\n",
        "  Output:\n",
        "  A list with top n most correlated words (inversely and directly)\n",
        "  \"\"\"\n",
        "\n",
        "  # Calculate the correlation matrix\n",
        "  corr_matrix = df.corr()\n",
        "\n",
        "  # Print the correlation matrix\n",
        "  correlation = corr_matrix[variable].sort_values(ascending=False)\n",
        "  positive_correlated = correlation[:n]\n",
        "  inversely_correlated = correlation[-n:]\n",
        "  print('#'*40, f' {variable} ' , '#'*40)\n",
        "  print(f'The {n} most correlated variables to variable {variable} are: ')\n",
        "  print(positive_correlated)\n",
        "  print(f'The {n} most inversely correlated variables to variable {variable} are: ')\n",
        "  print(inversely_correlated)\n",
        "\n",
        "  return list(positive_correlated.index) + list(inversely_correlated.index)"
      ],
      "metadata": {
        "id": "bqsjG9cFIVTS"
      },
      "execution_count": 11,
      "outputs": []
    },
    {
      "cell_type": "code",
      "source": [
        "print(f'The number of initial variables is {len(temporal_clinical_variables)}')\n",
        "\n",
        "# Get variables correlated to SpO2\n",
        "columns_sao2 = get_most_correlated(df[temporal_clinical_variables], variable='SpO2', n=5)\n",
        "\n",
        "# Get variables correlated to SaO2\n",
        "columns_spo2 = get_most_correlated(df[temporal_clinical_variables], variable='SaO2', n=5)\n",
        "\n",
        "resulting_temporal_clinical_variables = list(set(columns_sao2 + columns_spo2))\n",
        "\n",
        "print(f'The number of resulting variables is {len(resulting_temporal_clinical_variables)}')"
      ],
      "metadata": {
        "colab": {
          "base_uri": "https://localhost:8080/"
        },
        "id": "rxZJnP7bIVWT",
        "outputId": "b04cb3b3-8786-477d-e58e-b7e563344974"
      },
      "execution_count": 12,
      "outputs": [
        {
          "output_type": "stream",
          "name": "stdout",
          "text": [
            "The number of initial variables is 51\n",
            "########################################  SpO2  ########################################\n",
            "The 5 most correlated variables to variable SpO2 are: \n",
            "SpO2        1.000000\n",
            "ph          0.185766\n",
            "chloride    0.095257\n",
            "albumin     0.095159\n",
            "mchc        0.067810\n",
            "Name: SpO2, dtype: float64\n",
            "The 5 most inversely correlated variables to variable SpO2 are: \n",
            "norepinephrine_equivalent_dose   -0.163746\n",
            "aniongap                         -0.172393\n",
            "lactate                          -0.215895\n",
            "FiO2                             -0.225294\n",
            "sofa_resp                        -0.310444\n",
            "Name: SpO2, dtype: float64\n",
            "########################################  SaO2  ########################################\n",
            "The 5 most correlated variables to variable SaO2 are: \n",
            "SaO2                1.000000\n",
            "pt                  0.006520\n",
            "inr                 0.006451\n",
            "bicarbonate         0.006430\n",
            "delta_vent_start    0.005067\n",
            "Name: SaO2, dtype: float64\n",
            "The 5 most inversely correlated variables to variable SaO2 are: \n",
            "mchc              -0.006480\n",
            "delta_ld_ldh      -0.007847\n",
            "chloride          -0.008792\n",
            "delta_albumin     -0.011447\n",
            "delta_sofa_resp   -0.020103\n",
            "Name: SaO2, dtype: float64\n",
            "The number of resulting variables is 18\n"
          ]
        }
      ]
    },
    {
      "cell_type": "code",
      "source": [
        "# Get the resulting dataframe\n",
        "variables = list(set(patient_info + demographic_variables + static_clinical_variables + resulting_temporal_clinical_variables + outcomes + treatment))\n",
        "\n",
        "df = df [variables]\n",
        "df.head()"
      ],
      "metadata": {
        "colab": {
          "base_uri": "https://localhost:8080/",
          "height": 386
        },
        "id": "NMQJzYj-DPk6",
        "outputId": "2a749726-9bb0-44f8-834f-1561798a1b22"
      },
      "execution_count": 13,
      "outputs": [
        {
          "output_type": "execute_result",
          "data": {
            "text/plain": [
              "   subject_id    ph  inr  hidden_hypoxemia       SaO2_timestamp  anchor_age  \\\n",
              "0    10001884  7.38  1.1                 0  2131-01-12 21:04:00          68   \n",
              "1    10001884  7.42  1.1                 0  2131-01-13 02:28:00          68   \n",
              "2    10002013  7.33  1.0                 0  2160-05-18 16:03:00          53   \n",
              "3    10002013  7.33  1.0                 0  2160-05-18 17:42:00          53   \n",
              "4    10002013  7.35  1.0                 0  2160-05-18 21:32:00          53   \n",
              "\n",
              "   chloride  norepinephrine_equivalent_dose  delta_SpO2  CCI  ...  FiO2    pt  \\\n",
              "0      95.0                             NaN          -4    5  ...  40.0  12.4   \n",
              "1      95.0                             NaN         -28    5  ...  40.0  12.1   \n",
              "2     109.0                             NaN           0    7  ...  50.0  11.3   \n",
              "3     108.0                             NaN         -42    7  ...  50.0  11.3   \n",
              "4     108.0                             NaN         -32    7  ...  50.0  11.3   \n",
              "\n",
              "   language        BMI los_hospital  invasive_vent aniongap  rrt  bicarbonate  \\\n",
              "0   ENGLISH  26.370238           13              0     15.0    0         31.0   \n",
              "1   ENGLISH  26.370238           13              0     15.0    0         31.0   \n",
              "2   ENGLISH  38.946813            5              1     12.0    0         23.0   \n",
              "3   ENGLISH  38.946813            5              1     12.0    0         23.0   \n",
              "4   ENGLISH  38.946813            5              0     12.0    0         23.0   \n",
              "\n",
              "   sofa_resp  \n",
              "0        2.0  \n",
              "1        2.0  \n",
              "2        1.0  \n",
              "3        3.0  \n",
              "4        2.0  \n",
              "\n",
              "[5 rows x 37 columns]"
            ],
            "text/html": [
              "\n",
              "  <div id=\"df-ece3fa4e-90ac-40bf-95c9-75269700ba6a\">\n",
              "    <div class=\"colab-df-container\">\n",
              "      <div>\n",
              "<style scoped>\n",
              "    .dataframe tbody tr th:only-of-type {\n",
              "        vertical-align: middle;\n",
              "    }\n",
              "\n",
              "    .dataframe tbody tr th {\n",
              "        vertical-align: top;\n",
              "    }\n",
              "\n",
              "    .dataframe thead th {\n",
              "        text-align: right;\n",
              "    }\n",
              "</style>\n",
              "<table border=\"1\" class=\"dataframe\">\n",
              "  <thead>\n",
              "    <tr style=\"text-align: right;\">\n",
              "      <th></th>\n",
              "      <th>subject_id</th>\n",
              "      <th>ph</th>\n",
              "      <th>inr</th>\n",
              "      <th>hidden_hypoxemia</th>\n",
              "      <th>SaO2_timestamp</th>\n",
              "      <th>anchor_age</th>\n",
              "      <th>chloride</th>\n",
              "      <th>norepinephrine_equivalent_dose</th>\n",
              "      <th>delta_SpO2</th>\n",
              "      <th>CCI</th>\n",
              "      <th>...</th>\n",
              "      <th>FiO2</th>\n",
              "      <th>pt</th>\n",
              "      <th>language</th>\n",
              "      <th>BMI</th>\n",
              "      <th>los_hospital</th>\n",
              "      <th>invasive_vent</th>\n",
              "      <th>aniongap</th>\n",
              "      <th>rrt</th>\n",
              "      <th>bicarbonate</th>\n",
              "      <th>sofa_resp</th>\n",
              "    </tr>\n",
              "  </thead>\n",
              "  <tbody>\n",
              "    <tr>\n",
              "      <th>0</th>\n",
              "      <td>10001884</td>\n",
              "      <td>7.38</td>\n",
              "      <td>1.1</td>\n",
              "      <td>0</td>\n",
              "      <td>2131-01-12 21:04:00</td>\n",
              "      <td>68</td>\n",
              "      <td>95.0</td>\n",
              "      <td>NaN</td>\n",
              "      <td>-4</td>\n",
              "      <td>5</td>\n",
              "      <td>...</td>\n",
              "      <td>40.0</td>\n",
              "      <td>12.4</td>\n",
              "      <td>ENGLISH</td>\n",
              "      <td>26.370238</td>\n",
              "      <td>13</td>\n",
              "      <td>0</td>\n",
              "      <td>15.0</td>\n",
              "      <td>0</td>\n",
              "      <td>31.0</td>\n",
              "      <td>2.0</td>\n",
              "    </tr>\n",
              "    <tr>\n",
              "      <th>1</th>\n",
              "      <td>10001884</td>\n",
              "      <td>7.42</td>\n",
              "      <td>1.1</td>\n",
              "      <td>0</td>\n",
              "      <td>2131-01-13 02:28:00</td>\n",
              "      <td>68</td>\n",
              "      <td>95.0</td>\n",
              "      <td>NaN</td>\n",
              "      <td>-28</td>\n",
              "      <td>5</td>\n",
              "      <td>...</td>\n",
              "      <td>40.0</td>\n",
              "      <td>12.1</td>\n",
              "      <td>ENGLISH</td>\n",
              "      <td>26.370238</td>\n",
              "      <td>13</td>\n",
              "      <td>0</td>\n",
              "      <td>15.0</td>\n",
              "      <td>0</td>\n",
              "      <td>31.0</td>\n",
              "      <td>2.0</td>\n",
              "    </tr>\n",
              "    <tr>\n",
              "      <th>2</th>\n",
              "      <td>10002013</td>\n",
              "      <td>7.33</td>\n",
              "      <td>1.0</td>\n",
              "      <td>0</td>\n",
              "      <td>2160-05-18 16:03:00</td>\n",
              "      <td>53</td>\n",
              "      <td>109.0</td>\n",
              "      <td>NaN</td>\n",
              "      <td>0</td>\n",
              "      <td>7</td>\n",
              "      <td>...</td>\n",
              "      <td>50.0</td>\n",
              "      <td>11.3</td>\n",
              "      <td>ENGLISH</td>\n",
              "      <td>38.946813</td>\n",
              "      <td>5</td>\n",
              "      <td>1</td>\n",
              "      <td>12.0</td>\n",
              "      <td>0</td>\n",
              "      <td>23.0</td>\n",
              "      <td>1.0</td>\n",
              "    </tr>\n",
              "    <tr>\n",
              "      <th>3</th>\n",
              "      <td>10002013</td>\n",
              "      <td>7.33</td>\n",
              "      <td>1.0</td>\n",
              "      <td>0</td>\n",
              "      <td>2160-05-18 17:42:00</td>\n",
              "      <td>53</td>\n",
              "      <td>108.0</td>\n",
              "      <td>NaN</td>\n",
              "      <td>-42</td>\n",
              "      <td>7</td>\n",
              "      <td>...</td>\n",
              "      <td>50.0</td>\n",
              "      <td>11.3</td>\n",
              "      <td>ENGLISH</td>\n",
              "      <td>38.946813</td>\n",
              "      <td>5</td>\n",
              "      <td>1</td>\n",
              "      <td>12.0</td>\n",
              "      <td>0</td>\n",
              "      <td>23.0</td>\n",
              "      <td>3.0</td>\n",
              "    </tr>\n",
              "    <tr>\n",
              "      <th>4</th>\n",
              "      <td>10002013</td>\n",
              "      <td>7.35</td>\n",
              "      <td>1.0</td>\n",
              "      <td>0</td>\n",
              "      <td>2160-05-18 21:32:00</td>\n",
              "      <td>53</td>\n",
              "      <td>108.0</td>\n",
              "      <td>NaN</td>\n",
              "      <td>-32</td>\n",
              "      <td>7</td>\n",
              "      <td>...</td>\n",
              "      <td>50.0</td>\n",
              "      <td>11.3</td>\n",
              "      <td>ENGLISH</td>\n",
              "      <td>38.946813</td>\n",
              "      <td>5</td>\n",
              "      <td>0</td>\n",
              "      <td>12.0</td>\n",
              "      <td>0</td>\n",
              "      <td>23.0</td>\n",
              "      <td>2.0</td>\n",
              "    </tr>\n",
              "  </tbody>\n",
              "</table>\n",
              "<p>5 rows × 37 columns</p>\n",
              "</div>\n",
              "      <button class=\"colab-df-convert\" onclick=\"convertToInteractive('df-ece3fa4e-90ac-40bf-95c9-75269700ba6a')\"\n",
              "              title=\"Convert this dataframe to an interactive table.\"\n",
              "              style=\"display:none;\">\n",
              "        \n",
              "  <svg xmlns=\"http://www.w3.org/2000/svg\" height=\"24px\"viewBox=\"0 0 24 24\"\n",
              "       width=\"24px\">\n",
              "    <path d=\"M0 0h24v24H0V0z\" fill=\"none\"/>\n",
              "    <path d=\"M18.56 5.44l.94 2.06.94-2.06 2.06-.94-2.06-.94-.94-2.06-.94 2.06-2.06.94zm-11 1L8.5 8.5l.94-2.06 2.06-.94-2.06-.94L8.5 2.5l-.94 2.06-2.06.94zm10 10l.94 2.06.94-2.06 2.06-.94-2.06-.94-.94-2.06-.94 2.06-2.06.94z\"/><path d=\"M17.41 7.96l-1.37-1.37c-.4-.4-.92-.59-1.43-.59-.52 0-1.04.2-1.43.59L10.3 9.45l-7.72 7.72c-.78.78-.78 2.05 0 2.83L4 21.41c.39.39.9.59 1.41.59.51 0 1.02-.2 1.41-.59l7.78-7.78 2.81-2.81c.8-.78.8-2.07 0-2.86zM5.41 20L4 18.59l7.72-7.72 1.47 1.35L5.41 20z\"/>\n",
              "  </svg>\n",
              "      </button>\n",
              "      \n",
              "  <style>\n",
              "    .colab-df-container {\n",
              "      display:flex;\n",
              "      flex-wrap:wrap;\n",
              "      gap: 12px;\n",
              "    }\n",
              "\n",
              "    .colab-df-convert {\n",
              "      background-color: #E8F0FE;\n",
              "      border: none;\n",
              "      border-radius: 50%;\n",
              "      cursor: pointer;\n",
              "      display: none;\n",
              "      fill: #1967D2;\n",
              "      height: 32px;\n",
              "      padding: 0 0 0 0;\n",
              "      width: 32px;\n",
              "    }\n",
              "\n",
              "    .colab-df-convert:hover {\n",
              "      background-color: #E2EBFA;\n",
              "      box-shadow: 0px 1px 2px rgba(60, 64, 67, 0.3), 0px 1px 3px 1px rgba(60, 64, 67, 0.15);\n",
              "      fill: #174EA6;\n",
              "    }\n",
              "\n",
              "    [theme=dark] .colab-df-convert {\n",
              "      background-color: #3B4455;\n",
              "      fill: #D2E3FC;\n",
              "    }\n",
              "\n",
              "    [theme=dark] .colab-df-convert:hover {\n",
              "      background-color: #434B5C;\n",
              "      box-shadow: 0px 1px 3px 1px rgba(0, 0, 0, 0.15);\n",
              "      filter: drop-shadow(0px 1px 2px rgba(0, 0, 0, 0.3));\n",
              "      fill: #FFFFFF;\n",
              "    }\n",
              "  </style>\n",
              "\n",
              "      <script>\n",
              "        const buttonEl =\n",
              "          document.querySelector('#df-ece3fa4e-90ac-40bf-95c9-75269700ba6a button.colab-df-convert');\n",
              "        buttonEl.style.display =\n",
              "          google.colab.kernel.accessAllowed ? 'block' : 'none';\n",
              "\n",
              "        async function convertToInteractive(key) {\n",
              "          const element = document.querySelector('#df-ece3fa4e-90ac-40bf-95c9-75269700ba6a');\n",
              "          const dataTable =\n",
              "            await google.colab.kernel.invokeFunction('convertToInteractive',\n",
              "                                                     [key], {});\n",
              "          if (!dataTable) return;\n",
              "\n",
              "          const docLinkHtml = 'Like what you see? Visit the ' +\n",
              "            '<a target=\"_blank\" href=https://colab.research.google.com/notebooks/data_table.ipynb>data table notebook</a>'\n",
              "            + ' to learn more about interactive tables.';\n",
              "          element.innerHTML = '';\n",
              "          dataTable['output_type'] = 'display_data';\n",
              "          await google.colab.output.renderOutput(dataTable, element);\n",
              "          const docLink = document.createElement('div');\n",
              "          docLink.innerHTML = docLinkHtml;\n",
              "          element.appendChild(docLink);\n",
              "        }\n",
              "      </script>\n",
              "    </div>\n",
              "  </div>\n",
              "  "
            ]
          },
          "metadata": {},
          "execution_count": 13
        }
      ]
    },
    {
      "cell_type": "markdown",
      "source": [
        "### Understand how variables are distributed:\n",
        "\n",
        "To see a description of some statistics of each numeric variable, you can use `df.describe()`:"
      ],
      "metadata": {
        "id": "-MHV8nXH_pZ7"
      }
    },
    {
      "cell_type": "code",
      "source": [
        "df.describe()"
      ],
      "metadata": {
        "colab": {
          "base_uri": "https://localhost:8080/",
          "height": 394
        },
        "id": "gyYJzvip-4-2",
        "outputId": "51d8c0a5-a39b-44c4-99f0-ac2a380e9ff6"
      },
      "execution_count": 14,
      "outputs": [
        {
          "output_type": "execute_result",
          "data": {
            "text/plain": [
              "         subject_id            ph           inr  hidden_hypoxemia  \\\n",
              "count  8.179700e+04  81733.000000  81732.000000      81797.000000   \n",
              "mean   1.504775e+07      7.384281      1.487963          0.019341   \n",
              "std    2.878467e+06      0.082489      0.728323          0.137720   \n",
              "min    1.000188e+07      6.780000      0.700000          0.000000   \n",
              "25%    1.251033e+07      7.340000      1.200000          0.000000   \n",
              "50%    1.506291e+07      7.390000      1.300000          0.000000   \n",
              "75%    1.753622e+07      7.440000      1.500000          0.000000   \n",
              "max    1.999984e+07      7.750000     22.600000          1.000000   \n",
              "\n",
              "         anchor_age      chloride  norepinephrine_equivalent_dose  \\\n",
              "count  81797.000000  81747.000000                    39795.000000   \n",
              "mean      64.748707    103.740398                        2.282976   \n",
              "std       14.386776      6.229126                        3.497515   \n",
              "min       18.000000     63.000000                        0.004000   \n",
              "25%       57.000000    100.000000                        0.050000   \n",
              "50%       67.000000    104.000000                        0.140700   \n",
              "75%       75.000000    108.000000                        6.030000   \n",
              "max       91.000000    143.000000                      209.878400   \n",
              "\n",
              "         delta_SpO2           CCI          mchc  ...  mortality_in  \\\n",
              "count  81797.000000  81797.000000  81750.000000  ...  81797.000000   \n",
              "mean     -26.009511      5.282993     33.165172  ...      0.248016   \n",
              "std       17.978644      2.646276      1.690451  ...      0.431864   \n",
              "min      -90.000000      0.000000     24.400000  ...      0.000000   \n",
              "25%      -40.000000      3.000000     32.100000  ...      0.000000   \n",
              "50%      -24.000000      5.000000     33.200000  ...      0.000000   \n",
              "75%      -11.000000      7.000000     34.300000  ...      0.000000   \n",
              "max        0.000000     19.000000     70.400000  ...      1.000000   \n",
              "\n",
              "               FiO2            pt           BMI  los_hospital  invasive_vent  \\\n",
              "count  70383.000000  81732.000000  65839.000000   81797.00000   81797.000000   \n",
              "mean      53.577526     16.265101     29.821850      22.24897       0.752069   \n",
              "std       18.100129      7.353307      7.419175      21.93700       0.431814   \n",
              "min       21.000000      8.000000      7.431629       0.00000       0.000000   \n",
              "25%       40.000000     12.900000     24.840980       8.00000       1.000000   \n",
              "50%       50.000000     14.200000     28.615917      16.00000       1.000000   \n",
              "75%       60.000000     16.600000     33.200787      29.00000       1.000000   \n",
              "max      100.000000    150.000000    125.519391     249.00000       1.000000   \n",
              "\n",
              "           aniongap           rrt   bicarbonate     sofa_resp  \n",
              "count  81747.000000  81797.000000  81747.000000  79829.000000  \n",
              "mean      14.502245      0.236573     23.618823      2.043393  \n",
              "std        4.640869      0.424981      4.815412      0.970216  \n",
              "min       -1.000000      0.000000      2.000000      0.000000  \n",
              "25%       11.000000      0.000000     21.000000      2.000000  \n",
              "50%       14.000000      0.000000     23.000000      2.000000  \n",
              "75%       17.000000      0.000000     26.000000      3.000000  \n",
              "max       56.000000      1.000000     50.000000      4.000000  \n",
              "\n",
              "[8 rows x 31 columns]"
            ],
            "text/html": [
              "\n",
              "  <div id=\"df-626a2db0-f2df-4d5b-96d7-02e0b519e928\">\n",
              "    <div class=\"colab-df-container\">\n",
              "      <div>\n",
              "<style scoped>\n",
              "    .dataframe tbody tr th:only-of-type {\n",
              "        vertical-align: middle;\n",
              "    }\n",
              "\n",
              "    .dataframe tbody tr th {\n",
              "        vertical-align: top;\n",
              "    }\n",
              "\n",
              "    .dataframe thead th {\n",
              "        text-align: right;\n",
              "    }\n",
              "</style>\n",
              "<table border=\"1\" class=\"dataframe\">\n",
              "  <thead>\n",
              "    <tr style=\"text-align: right;\">\n",
              "      <th></th>\n",
              "      <th>subject_id</th>\n",
              "      <th>ph</th>\n",
              "      <th>inr</th>\n",
              "      <th>hidden_hypoxemia</th>\n",
              "      <th>anchor_age</th>\n",
              "      <th>chloride</th>\n",
              "      <th>norepinephrine_equivalent_dose</th>\n",
              "      <th>delta_SpO2</th>\n",
              "      <th>CCI</th>\n",
              "      <th>mchc</th>\n",
              "      <th>...</th>\n",
              "      <th>mortality_in</th>\n",
              "      <th>FiO2</th>\n",
              "      <th>pt</th>\n",
              "      <th>BMI</th>\n",
              "      <th>los_hospital</th>\n",
              "      <th>invasive_vent</th>\n",
              "      <th>aniongap</th>\n",
              "      <th>rrt</th>\n",
              "      <th>bicarbonate</th>\n",
              "      <th>sofa_resp</th>\n",
              "    </tr>\n",
              "  </thead>\n",
              "  <tbody>\n",
              "    <tr>\n",
              "      <th>count</th>\n",
              "      <td>8.179700e+04</td>\n",
              "      <td>81733.000000</td>\n",
              "      <td>81732.000000</td>\n",
              "      <td>81797.000000</td>\n",
              "      <td>81797.000000</td>\n",
              "      <td>81747.000000</td>\n",
              "      <td>39795.000000</td>\n",
              "      <td>81797.000000</td>\n",
              "      <td>81797.000000</td>\n",
              "      <td>81750.000000</td>\n",
              "      <td>...</td>\n",
              "      <td>81797.000000</td>\n",
              "      <td>70383.000000</td>\n",
              "      <td>81732.000000</td>\n",
              "      <td>65839.000000</td>\n",
              "      <td>81797.00000</td>\n",
              "      <td>81797.000000</td>\n",
              "      <td>81747.000000</td>\n",
              "      <td>81797.000000</td>\n",
              "      <td>81747.000000</td>\n",
              "      <td>79829.000000</td>\n",
              "    </tr>\n",
              "    <tr>\n",
              "      <th>mean</th>\n",
              "      <td>1.504775e+07</td>\n",
              "      <td>7.384281</td>\n",
              "      <td>1.487963</td>\n",
              "      <td>0.019341</td>\n",
              "      <td>64.748707</td>\n",
              "      <td>103.740398</td>\n",
              "      <td>2.282976</td>\n",
              "      <td>-26.009511</td>\n",
              "      <td>5.282993</td>\n",
              "      <td>33.165172</td>\n",
              "      <td>...</td>\n",
              "      <td>0.248016</td>\n",
              "      <td>53.577526</td>\n",
              "      <td>16.265101</td>\n",
              "      <td>29.821850</td>\n",
              "      <td>22.24897</td>\n",
              "      <td>0.752069</td>\n",
              "      <td>14.502245</td>\n",
              "      <td>0.236573</td>\n",
              "      <td>23.618823</td>\n",
              "      <td>2.043393</td>\n",
              "    </tr>\n",
              "    <tr>\n",
              "      <th>std</th>\n",
              "      <td>2.878467e+06</td>\n",
              "      <td>0.082489</td>\n",
              "      <td>0.728323</td>\n",
              "      <td>0.137720</td>\n",
              "      <td>14.386776</td>\n",
              "      <td>6.229126</td>\n",
              "      <td>3.497515</td>\n",
              "      <td>17.978644</td>\n",
              "      <td>2.646276</td>\n",
              "      <td>1.690451</td>\n",
              "      <td>...</td>\n",
              "      <td>0.431864</td>\n",
              "      <td>18.100129</td>\n",
              "      <td>7.353307</td>\n",
              "      <td>7.419175</td>\n",
              "      <td>21.93700</td>\n",
              "      <td>0.431814</td>\n",
              "      <td>4.640869</td>\n",
              "      <td>0.424981</td>\n",
              "      <td>4.815412</td>\n",
              "      <td>0.970216</td>\n",
              "    </tr>\n",
              "    <tr>\n",
              "      <th>min</th>\n",
              "      <td>1.000188e+07</td>\n",
              "      <td>6.780000</td>\n",
              "      <td>0.700000</td>\n",
              "      <td>0.000000</td>\n",
              "      <td>18.000000</td>\n",
              "      <td>63.000000</td>\n",
              "      <td>0.004000</td>\n",
              "      <td>-90.000000</td>\n",
              "      <td>0.000000</td>\n",
              "      <td>24.400000</td>\n",
              "      <td>...</td>\n",
              "      <td>0.000000</td>\n",
              "      <td>21.000000</td>\n",
              "      <td>8.000000</td>\n",
              "      <td>7.431629</td>\n",
              "      <td>0.00000</td>\n",
              "      <td>0.000000</td>\n",
              "      <td>-1.000000</td>\n",
              "      <td>0.000000</td>\n",
              "      <td>2.000000</td>\n",
              "      <td>0.000000</td>\n",
              "    </tr>\n",
              "    <tr>\n",
              "      <th>25%</th>\n",
              "      <td>1.251033e+07</td>\n",
              "      <td>7.340000</td>\n",
              "      <td>1.200000</td>\n",
              "      <td>0.000000</td>\n",
              "      <td>57.000000</td>\n",
              "      <td>100.000000</td>\n",
              "      <td>0.050000</td>\n",
              "      <td>-40.000000</td>\n",
              "      <td>3.000000</td>\n",
              "      <td>32.100000</td>\n",
              "      <td>...</td>\n",
              "      <td>0.000000</td>\n",
              "      <td>40.000000</td>\n",
              "      <td>12.900000</td>\n",
              "      <td>24.840980</td>\n",
              "      <td>8.00000</td>\n",
              "      <td>1.000000</td>\n",
              "      <td>11.000000</td>\n",
              "      <td>0.000000</td>\n",
              "      <td>21.000000</td>\n",
              "      <td>2.000000</td>\n",
              "    </tr>\n",
              "    <tr>\n",
              "      <th>50%</th>\n",
              "      <td>1.506291e+07</td>\n",
              "      <td>7.390000</td>\n",
              "      <td>1.300000</td>\n",
              "      <td>0.000000</td>\n",
              "      <td>67.000000</td>\n",
              "      <td>104.000000</td>\n",
              "      <td>0.140700</td>\n",
              "      <td>-24.000000</td>\n",
              "      <td>5.000000</td>\n",
              "      <td>33.200000</td>\n",
              "      <td>...</td>\n",
              "      <td>0.000000</td>\n",
              "      <td>50.000000</td>\n",
              "      <td>14.200000</td>\n",
              "      <td>28.615917</td>\n",
              "      <td>16.00000</td>\n",
              "      <td>1.000000</td>\n",
              "      <td>14.000000</td>\n",
              "      <td>0.000000</td>\n",
              "      <td>23.000000</td>\n",
              "      <td>2.000000</td>\n",
              "    </tr>\n",
              "    <tr>\n",
              "      <th>75%</th>\n",
              "      <td>1.753622e+07</td>\n",
              "      <td>7.440000</td>\n",
              "      <td>1.500000</td>\n",
              "      <td>0.000000</td>\n",
              "      <td>75.000000</td>\n",
              "      <td>108.000000</td>\n",
              "      <td>6.030000</td>\n",
              "      <td>-11.000000</td>\n",
              "      <td>7.000000</td>\n",
              "      <td>34.300000</td>\n",
              "      <td>...</td>\n",
              "      <td>0.000000</td>\n",
              "      <td>60.000000</td>\n",
              "      <td>16.600000</td>\n",
              "      <td>33.200787</td>\n",
              "      <td>29.00000</td>\n",
              "      <td>1.000000</td>\n",
              "      <td>17.000000</td>\n",
              "      <td>0.000000</td>\n",
              "      <td>26.000000</td>\n",
              "      <td>3.000000</td>\n",
              "    </tr>\n",
              "    <tr>\n",
              "      <th>max</th>\n",
              "      <td>1.999984e+07</td>\n",
              "      <td>7.750000</td>\n",
              "      <td>22.600000</td>\n",
              "      <td>1.000000</td>\n",
              "      <td>91.000000</td>\n",
              "      <td>143.000000</td>\n",
              "      <td>209.878400</td>\n",
              "      <td>0.000000</td>\n",
              "      <td>19.000000</td>\n",
              "      <td>70.400000</td>\n",
              "      <td>...</td>\n",
              "      <td>1.000000</td>\n",
              "      <td>100.000000</td>\n",
              "      <td>150.000000</td>\n",
              "      <td>125.519391</td>\n",
              "      <td>249.00000</td>\n",
              "      <td>1.000000</td>\n",
              "      <td>56.000000</td>\n",
              "      <td>1.000000</td>\n",
              "      <td>50.000000</td>\n",
              "      <td>4.000000</td>\n",
              "    </tr>\n",
              "  </tbody>\n",
              "</table>\n",
              "<p>8 rows × 31 columns</p>\n",
              "</div>\n",
              "      <button class=\"colab-df-convert\" onclick=\"convertToInteractive('df-626a2db0-f2df-4d5b-96d7-02e0b519e928')\"\n",
              "              title=\"Convert this dataframe to an interactive table.\"\n",
              "              style=\"display:none;\">\n",
              "        \n",
              "  <svg xmlns=\"http://www.w3.org/2000/svg\" height=\"24px\"viewBox=\"0 0 24 24\"\n",
              "       width=\"24px\">\n",
              "    <path d=\"M0 0h24v24H0V0z\" fill=\"none\"/>\n",
              "    <path d=\"M18.56 5.44l.94 2.06.94-2.06 2.06-.94-2.06-.94-.94-2.06-.94 2.06-2.06.94zm-11 1L8.5 8.5l.94-2.06 2.06-.94-2.06-.94L8.5 2.5l-.94 2.06-2.06.94zm10 10l.94 2.06.94-2.06 2.06-.94-2.06-.94-.94-2.06-.94 2.06-2.06.94z\"/><path d=\"M17.41 7.96l-1.37-1.37c-.4-.4-.92-.59-1.43-.59-.52 0-1.04.2-1.43.59L10.3 9.45l-7.72 7.72c-.78.78-.78 2.05 0 2.83L4 21.41c.39.39.9.59 1.41.59.51 0 1.02-.2 1.41-.59l7.78-7.78 2.81-2.81c.8-.78.8-2.07 0-2.86zM5.41 20L4 18.59l7.72-7.72 1.47 1.35L5.41 20z\"/>\n",
              "  </svg>\n",
              "      </button>\n",
              "      \n",
              "  <style>\n",
              "    .colab-df-container {\n",
              "      display:flex;\n",
              "      flex-wrap:wrap;\n",
              "      gap: 12px;\n",
              "    }\n",
              "\n",
              "    .colab-df-convert {\n",
              "      background-color: #E8F0FE;\n",
              "      border: none;\n",
              "      border-radius: 50%;\n",
              "      cursor: pointer;\n",
              "      display: none;\n",
              "      fill: #1967D2;\n",
              "      height: 32px;\n",
              "      padding: 0 0 0 0;\n",
              "      width: 32px;\n",
              "    }\n",
              "\n",
              "    .colab-df-convert:hover {\n",
              "      background-color: #E2EBFA;\n",
              "      box-shadow: 0px 1px 2px rgba(60, 64, 67, 0.3), 0px 1px 3px 1px rgba(60, 64, 67, 0.15);\n",
              "      fill: #174EA6;\n",
              "    }\n",
              "\n",
              "    [theme=dark] .colab-df-convert {\n",
              "      background-color: #3B4455;\n",
              "      fill: #D2E3FC;\n",
              "    }\n",
              "\n",
              "    [theme=dark] .colab-df-convert:hover {\n",
              "      background-color: #434B5C;\n",
              "      box-shadow: 0px 1px 3px 1px rgba(0, 0, 0, 0.15);\n",
              "      filter: drop-shadow(0px 1px 2px rgba(0, 0, 0, 0.3));\n",
              "      fill: #FFFFFF;\n",
              "    }\n",
              "  </style>\n",
              "\n",
              "      <script>\n",
              "        const buttonEl =\n",
              "          document.querySelector('#df-626a2db0-f2df-4d5b-96d7-02e0b519e928 button.colab-df-convert');\n",
              "        buttonEl.style.display =\n",
              "          google.colab.kernel.accessAllowed ? 'block' : 'none';\n",
              "\n",
              "        async function convertToInteractive(key) {\n",
              "          const element = document.querySelector('#df-626a2db0-f2df-4d5b-96d7-02e0b519e928');\n",
              "          const dataTable =\n",
              "            await google.colab.kernel.invokeFunction('convertToInteractive',\n",
              "                                                     [key], {});\n",
              "          if (!dataTable) return;\n",
              "\n",
              "          const docLinkHtml = 'Like what you see? Visit the ' +\n",
              "            '<a target=\"_blank\" href=https://colab.research.google.com/notebooks/data_table.ipynb>data table notebook</a>'\n",
              "            + ' to learn more about interactive tables.';\n",
              "          element.innerHTML = '';\n",
              "          dataTable['output_type'] = 'display_data';\n",
              "          await google.colab.output.renderOutput(dataTable, element);\n",
              "          const docLink = document.createElement('div');\n",
              "          docLink.innerHTML = docLinkHtml;\n",
              "          element.appendChild(docLink);\n",
              "        }\n",
              "      </script>\n",
              "    </div>\n",
              "  </div>\n",
              "  "
            ]
          },
          "metadata": {},
          "execution_count": 14
        }
      ]
    },
    {
      "cell_type": "markdown",
      "source": [
        "The problem with `data.describe()` is that it groups using all the data of each variable, this means that if in our group there are populations that are underestimated or overestimated, the description will not take that into account. An alternative to solve that problem is using the function `groupby()`. With group by we can generate groups of populations using variables. An exmple is:"
      ],
      "metadata": {
        "id": "q8hv2yMShisk"
      }
    },
    {
      "cell_type": "code",
      "source": [
        "# Group the mean of oxygen saturation of arterial blood (SaO2) by gender\n",
        "avg_sao2_by_gender = df.groupby('gender')['SaO2'].mean()\n",
        "avg_sao2_by_gender"
      ],
      "metadata": {
        "colab": {
          "base_uri": "https://localhost:8080/"
        },
        "id": "KmRNIklehdSj",
        "outputId": "6b65e360-8a3f-43b1-f64f-aed72d061d3f"
      },
      "execution_count": 15,
      "outputs": [
        {
          "output_type": "execute_result",
          "data": {
            "text/plain": [
              "gender\n",
              "F    338.010395\n",
              "M    209.201145\n",
              "Name: SaO2, dtype: float64"
            ]
          },
          "metadata": {},
          "execution_count": 15
        }
      ]
    },
    {
      "cell_type": "markdown",
      "source": [
        "You can also generate groups using more than one variable and more than one grouping methods"
      ],
      "metadata": {
        "id": "cUtoT_Z2yoN9"
      }
    },
    {
      "cell_type": "code",
      "source": [
        "# Obtain count, mean, standard deviation, min value and max value for (SaO2) and (SpO2) grouping by gender and race group:\n",
        "avg_sao2_by_ethnicity = df.groupby(['gender', 'race_group']).agg({\n",
        "    'SaO2': ['count', 'mean', 'std', 'min', 'max'], \n",
        "    'SpO2': ['count', 'mean', 'std', 'min', 'max']\n",
        "})\n",
        "avg_sao2_by_ethnicity"
      ],
      "metadata": {
        "colab": {
          "base_uri": "https://localhost:8080/",
          "height": 426
        },
        "id": "ZmqCwMY6hdVj",
        "outputId": "eb82bcf6-179c-4312-938a-e66716029b09"
      },
      "execution_count": 16,
      "outputs": [
        {
          "output_type": "execute_result",
          "data": {
            "text/plain": [
              "                    SaO2                                             SpO2  \\\n",
              "                   count        mean           std   min       max  count   \n",
              "gender race_group                                                           \n",
              "F      Asian         496   95.288306      3.902284  57.0      99.0    496   \n",
              "       Black        2482  498.369944  20070.461868   9.0  999999.0   2482   \n",
              "       Hispanic     1119  989.170688  29891.176153  59.0  999999.0   1119   \n",
              "       Other        5859  266.378682  13063.100385  42.0  999999.0   5859   \n",
              "       White       18947  307.051383  14527.248613   0.0  999999.0  18947   \n",
              "M      Asian        1738   95.531358      4.742736   1.7     100.0   1738   \n",
              "       Black        3162   95.441524     16.504664   1.1     969.0   3162   \n",
              "       Hispanic     1702   96.068096      5.105161   0.0     100.0   1702   \n",
              "       Other       10033  195.104130   9982.582800   4.5  999999.0  10033   \n",
              "       White       36259  233.781354  11741.165465   0.0  999999.0  36259   \n",
              "\n",
              "                                                 \n",
              "                        mean       std min  max  \n",
              "gender race_group                                \n",
              "F      Asian       97.062500  5.859131  14  100  \n",
              "       Black       96.955278  5.467652   0  100  \n",
              "       Hispanic    96.692583  5.609078   0  100  \n",
              "       Other       96.723502  4.921543   2  100  \n",
              "       White       96.767140  4.790770   0  100  \n",
              "M      Asian       97.215190  3.685500  59  100  \n",
              "       Black       96.922201  5.100783   0  100  \n",
              "       Hispanic    97.468860  3.367711  38  100  \n",
              "       Other       96.466959  4.949056   7  100  \n",
              "       White       96.818997  4.134932   0  147  "
            ],
            "text/html": [
              "\n",
              "  <div id=\"df-bc250e86-a11d-41da-b60a-ef7fb37800cd\">\n",
              "    <div class=\"colab-df-container\">\n",
              "      <div>\n",
              "<style scoped>\n",
              "    .dataframe tbody tr th:only-of-type {\n",
              "        vertical-align: middle;\n",
              "    }\n",
              "\n",
              "    .dataframe tbody tr th {\n",
              "        vertical-align: top;\n",
              "    }\n",
              "\n",
              "    .dataframe thead tr th {\n",
              "        text-align: left;\n",
              "    }\n",
              "\n",
              "    .dataframe thead tr:last-of-type th {\n",
              "        text-align: right;\n",
              "    }\n",
              "</style>\n",
              "<table border=\"1\" class=\"dataframe\">\n",
              "  <thead>\n",
              "    <tr>\n",
              "      <th></th>\n",
              "      <th></th>\n",
              "      <th colspan=\"5\" halign=\"left\">SaO2</th>\n",
              "      <th colspan=\"5\" halign=\"left\">SpO2</th>\n",
              "    </tr>\n",
              "    <tr>\n",
              "      <th></th>\n",
              "      <th></th>\n",
              "      <th>count</th>\n",
              "      <th>mean</th>\n",
              "      <th>std</th>\n",
              "      <th>min</th>\n",
              "      <th>max</th>\n",
              "      <th>count</th>\n",
              "      <th>mean</th>\n",
              "      <th>std</th>\n",
              "      <th>min</th>\n",
              "      <th>max</th>\n",
              "    </tr>\n",
              "    <tr>\n",
              "      <th>gender</th>\n",
              "      <th>race_group</th>\n",
              "      <th></th>\n",
              "      <th></th>\n",
              "      <th></th>\n",
              "      <th></th>\n",
              "      <th></th>\n",
              "      <th></th>\n",
              "      <th></th>\n",
              "      <th></th>\n",
              "      <th></th>\n",
              "      <th></th>\n",
              "    </tr>\n",
              "  </thead>\n",
              "  <tbody>\n",
              "    <tr>\n",
              "      <th rowspan=\"5\" valign=\"top\">F</th>\n",
              "      <th>Asian</th>\n",
              "      <td>496</td>\n",
              "      <td>95.288306</td>\n",
              "      <td>3.902284</td>\n",
              "      <td>57.0</td>\n",
              "      <td>99.0</td>\n",
              "      <td>496</td>\n",
              "      <td>97.062500</td>\n",
              "      <td>5.859131</td>\n",
              "      <td>14</td>\n",
              "      <td>100</td>\n",
              "    </tr>\n",
              "    <tr>\n",
              "      <th>Black</th>\n",
              "      <td>2482</td>\n",
              "      <td>498.369944</td>\n",
              "      <td>20070.461868</td>\n",
              "      <td>9.0</td>\n",
              "      <td>999999.0</td>\n",
              "      <td>2482</td>\n",
              "      <td>96.955278</td>\n",
              "      <td>5.467652</td>\n",
              "      <td>0</td>\n",
              "      <td>100</td>\n",
              "    </tr>\n",
              "    <tr>\n",
              "      <th>Hispanic</th>\n",
              "      <td>1119</td>\n",
              "      <td>989.170688</td>\n",
              "      <td>29891.176153</td>\n",
              "      <td>59.0</td>\n",
              "      <td>999999.0</td>\n",
              "      <td>1119</td>\n",
              "      <td>96.692583</td>\n",
              "      <td>5.609078</td>\n",
              "      <td>0</td>\n",
              "      <td>100</td>\n",
              "    </tr>\n",
              "    <tr>\n",
              "      <th>Other</th>\n",
              "      <td>5859</td>\n",
              "      <td>266.378682</td>\n",
              "      <td>13063.100385</td>\n",
              "      <td>42.0</td>\n",
              "      <td>999999.0</td>\n",
              "      <td>5859</td>\n",
              "      <td>96.723502</td>\n",
              "      <td>4.921543</td>\n",
              "      <td>2</td>\n",
              "      <td>100</td>\n",
              "    </tr>\n",
              "    <tr>\n",
              "      <th>White</th>\n",
              "      <td>18947</td>\n",
              "      <td>307.051383</td>\n",
              "      <td>14527.248613</td>\n",
              "      <td>0.0</td>\n",
              "      <td>999999.0</td>\n",
              "      <td>18947</td>\n",
              "      <td>96.767140</td>\n",
              "      <td>4.790770</td>\n",
              "      <td>0</td>\n",
              "      <td>100</td>\n",
              "    </tr>\n",
              "    <tr>\n",
              "      <th rowspan=\"5\" valign=\"top\">M</th>\n",
              "      <th>Asian</th>\n",
              "      <td>1738</td>\n",
              "      <td>95.531358</td>\n",
              "      <td>4.742736</td>\n",
              "      <td>1.7</td>\n",
              "      <td>100.0</td>\n",
              "      <td>1738</td>\n",
              "      <td>97.215190</td>\n",
              "      <td>3.685500</td>\n",
              "      <td>59</td>\n",
              "      <td>100</td>\n",
              "    </tr>\n",
              "    <tr>\n",
              "      <th>Black</th>\n",
              "      <td>3162</td>\n",
              "      <td>95.441524</td>\n",
              "      <td>16.504664</td>\n",
              "      <td>1.1</td>\n",
              "      <td>969.0</td>\n",
              "      <td>3162</td>\n",
              "      <td>96.922201</td>\n",
              "      <td>5.100783</td>\n",
              "      <td>0</td>\n",
              "      <td>100</td>\n",
              "    </tr>\n",
              "    <tr>\n",
              "      <th>Hispanic</th>\n",
              "      <td>1702</td>\n",
              "      <td>96.068096</td>\n",
              "      <td>5.105161</td>\n",
              "      <td>0.0</td>\n",
              "      <td>100.0</td>\n",
              "      <td>1702</td>\n",
              "      <td>97.468860</td>\n",
              "      <td>3.367711</td>\n",
              "      <td>38</td>\n",
              "      <td>100</td>\n",
              "    </tr>\n",
              "    <tr>\n",
              "      <th>Other</th>\n",
              "      <td>10033</td>\n",
              "      <td>195.104130</td>\n",
              "      <td>9982.582800</td>\n",
              "      <td>4.5</td>\n",
              "      <td>999999.0</td>\n",
              "      <td>10033</td>\n",
              "      <td>96.466959</td>\n",
              "      <td>4.949056</td>\n",
              "      <td>7</td>\n",
              "      <td>100</td>\n",
              "    </tr>\n",
              "    <tr>\n",
              "      <th>White</th>\n",
              "      <td>36259</td>\n",
              "      <td>233.781354</td>\n",
              "      <td>11741.165465</td>\n",
              "      <td>0.0</td>\n",
              "      <td>999999.0</td>\n",
              "      <td>36259</td>\n",
              "      <td>96.818997</td>\n",
              "      <td>4.134932</td>\n",
              "      <td>0</td>\n",
              "      <td>147</td>\n",
              "    </tr>\n",
              "  </tbody>\n",
              "</table>\n",
              "</div>\n",
              "      <button class=\"colab-df-convert\" onclick=\"convertToInteractive('df-bc250e86-a11d-41da-b60a-ef7fb37800cd')\"\n",
              "              title=\"Convert this dataframe to an interactive table.\"\n",
              "              style=\"display:none;\">\n",
              "        \n",
              "  <svg xmlns=\"http://www.w3.org/2000/svg\" height=\"24px\"viewBox=\"0 0 24 24\"\n",
              "       width=\"24px\">\n",
              "    <path d=\"M0 0h24v24H0V0z\" fill=\"none\"/>\n",
              "    <path d=\"M18.56 5.44l.94 2.06.94-2.06 2.06-.94-2.06-.94-.94-2.06-.94 2.06-2.06.94zm-11 1L8.5 8.5l.94-2.06 2.06-.94-2.06-.94L8.5 2.5l-.94 2.06-2.06.94zm10 10l.94 2.06.94-2.06 2.06-.94-2.06-.94-.94-2.06-.94 2.06-2.06.94z\"/><path d=\"M17.41 7.96l-1.37-1.37c-.4-.4-.92-.59-1.43-.59-.52 0-1.04.2-1.43.59L10.3 9.45l-7.72 7.72c-.78.78-.78 2.05 0 2.83L4 21.41c.39.39.9.59 1.41.59.51 0 1.02-.2 1.41-.59l7.78-7.78 2.81-2.81c.8-.78.8-2.07 0-2.86zM5.41 20L4 18.59l7.72-7.72 1.47 1.35L5.41 20z\"/>\n",
              "  </svg>\n",
              "      </button>\n",
              "      \n",
              "  <style>\n",
              "    .colab-df-container {\n",
              "      display:flex;\n",
              "      flex-wrap:wrap;\n",
              "      gap: 12px;\n",
              "    }\n",
              "\n",
              "    .colab-df-convert {\n",
              "      background-color: #E8F0FE;\n",
              "      border: none;\n",
              "      border-radius: 50%;\n",
              "      cursor: pointer;\n",
              "      display: none;\n",
              "      fill: #1967D2;\n",
              "      height: 32px;\n",
              "      padding: 0 0 0 0;\n",
              "      width: 32px;\n",
              "    }\n",
              "\n",
              "    .colab-df-convert:hover {\n",
              "      background-color: #E2EBFA;\n",
              "      box-shadow: 0px 1px 2px rgba(60, 64, 67, 0.3), 0px 1px 3px 1px rgba(60, 64, 67, 0.15);\n",
              "      fill: #174EA6;\n",
              "    }\n",
              "\n",
              "    [theme=dark] .colab-df-convert {\n",
              "      background-color: #3B4455;\n",
              "      fill: #D2E3FC;\n",
              "    }\n",
              "\n",
              "    [theme=dark] .colab-df-convert:hover {\n",
              "      background-color: #434B5C;\n",
              "      box-shadow: 0px 1px 3px 1px rgba(0, 0, 0, 0.15);\n",
              "      filter: drop-shadow(0px 1px 2px rgba(0, 0, 0, 0.3));\n",
              "      fill: #FFFFFF;\n",
              "    }\n",
              "  </style>\n",
              "\n",
              "      <script>\n",
              "        const buttonEl =\n",
              "          document.querySelector('#df-bc250e86-a11d-41da-b60a-ef7fb37800cd button.colab-df-convert');\n",
              "        buttonEl.style.display =\n",
              "          google.colab.kernel.accessAllowed ? 'block' : 'none';\n",
              "\n",
              "        async function convertToInteractive(key) {\n",
              "          const element = document.querySelector('#df-bc250e86-a11d-41da-b60a-ef7fb37800cd');\n",
              "          const dataTable =\n",
              "            await google.colab.kernel.invokeFunction('convertToInteractive',\n",
              "                                                     [key], {});\n",
              "          if (!dataTable) return;\n",
              "\n",
              "          const docLinkHtml = 'Like what you see? Visit the ' +\n",
              "            '<a target=\"_blank\" href=https://colab.research.google.com/notebooks/data_table.ipynb>data table notebook</a>'\n",
              "            + ' to learn more about interactive tables.';\n",
              "          element.innerHTML = '';\n",
              "          dataTable['output_type'] = 'display_data';\n",
              "          await google.colab.output.renderOutput(dataTable, element);\n",
              "          const docLink = document.createElement('div');\n",
              "          docLink.innerHTML = docLinkHtml;\n",
              "          element.appendChild(docLink);\n",
              "        }\n",
              "      </script>\n",
              "    </div>\n",
              "  </div>\n",
              "  "
            ]
          },
          "metadata": {},
          "execution_count": 16
        }
      ]
    },
    {
      "cell_type": "markdown",
      "source": [
        "Alternatively, there are also libraries that allow us to do this process automatically. Below is an example using tableone library. \n",
        "\n",
        "Install using the command `!pip install tableone`"
      ],
      "metadata": {
        "id": "O-tm_ARoz-8s"
      }
    },
    {
      "cell_type": "code",
      "source": [
        "# As a first step let's do a preprocessing to some variables like:\n",
        "df['language'] = df['language'].replace({'ENGLISH': 'Proficient', '?': 'Limited Proficiency'})"
      ],
      "metadata": {
        "id": "pPzYMKLP9LJa"
      },
      "execution_count": 17,
      "outputs": []
    },
    {
      "cell_type": "code",
      "source": [
        "!pip install tableone\n",
        "from tableone import TableOne\n",
        "\n",
        "groupby = ['race_group']\n",
        "\n",
        "categorical_variables = ['mortality_in','gender', 'language', 'invasive_vent']\n",
        "numerical_variables = ['anchor_age', 'los_icu', 'los_hospital', 'CCI', 'SOFA_admission']\n",
        "columns = categorical_variables + numerical_variables\n",
        "\n",
        "labels ={'anchor_age': 'age',\n",
        "         'SOFA_admission': 'SOFA'} \n",
        "\n",
        "\n",
        "mytable = TableOne(df, columns=columns, categorical=categorical_variables, groupby=groupby, nonnormal=numerical_variables, rename=labels, pval=False)\n",
        "mytable"
      ],
      "metadata": {
        "colab": {
          "base_uri": "https://localhost:8080/",
          "height": 751
        },
        "id": "foYkDJqQocnL",
        "outputId": "a0e20310-007d-40ee-9498-51ecbe3bb306"
      },
      "execution_count": 18,
      "outputs": [
        {
          "output_type": "stream",
          "name": "stdout",
          "text": [
            "Looking in indexes: https://pypi.org/simple, https://us-python.pkg.dev/colab-wheels/public/simple/\n",
            "Requirement already satisfied: tableone in /usr/local/lib/python3.10/dist-packages (0.7.12)\n",
            "Requirement already satisfied: tabulate>=0.8.10 in /usr/local/lib/python3.10/dist-packages (from tableone) (0.8.10)\n",
            "Requirement already satisfied: scipy>=1.7.0 in /usr/local/lib/python3.10/dist-packages (from tableone) (1.10.1)\n",
            "Requirement already satisfied: numpy>=1.19.1 in /usr/local/lib/python3.10/dist-packages (from tableone) (1.22.4)\n",
            "Requirement already satisfied: pandas>=1.2.1 in /usr/local/lib/python3.10/dist-packages (from tableone) (1.5.3)\n",
            "Requirement already satisfied: statsmodels>=0.12.1 in /usr/local/lib/python3.10/dist-packages (from tableone) (0.13.5)\n",
            "Requirement already satisfied: python-dateutil>=2.8.1 in /usr/local/lib/python3.10/dist-packages (from pandas>=1.2.1->tableone) (2.8.2)\n",
            "Requirement already satisfied: pytz>=2020.1 in /usr/local/lib/python3.10/dist-packages (from pandas>=1.2.1->tableone) (2022.7.1)\n",
            "Requirement already satisfied: patsy>=0.5.2 in /usr/local/lib/python3.10/dist-packages (from statsmodels>=0.12.1->tableone) (0.5.3)\n",
            "Requirement already satisfied: packaging>=21.3 in /usr/local/lib/python3.10/dist-packages (from statsmodels>=0.12.1->tableone) (23.1)\n",
            "Requirement already satisfied: six in /usr/local/lib/python3.10/dist-packages (from patsy>=0.5.2->statsmodels>=0.12.1->tableone) (1.16.0)\n"
          ]
        },
        {
          "output_type": "execute_result",
          "data": {
            "text/plain": [
              "                                                 Grouped by race_group                                                                                                            \n",
              "                                                               Missing           Overall             Asian             Black          Hispanic             Other             White\n",
              "n                                                                                  81797              2234              5644              2821             15892             55206\n",
              "mortality_in, n (%)          0                                       0      61510 (75.2)       1729 (77.4)       4422 (78.3)       2217 (78.6)      10193 (64.1)      42949 (77.8)\n",
              "                             1                                              20287 (24.8)        505 (22.6)       1222 (21.7)        604 (21.4)       5699 (35.9)      12257 (22.2)\n",
              "gender, n (%)                F                                       0      28903 (35.3)        496 (22.2)       2482 (44.0)       1119 (39.7)       5859 (36.9)      18947 (34.3)\n",
              "                             M                                              52894 (64.7)       1738 (77.8)       3162 (56.0)       1702 (60.3)      10033 (63.1)      36259 (65.7)\n",
              "language, n (%)              Limited Proficiency                     0       9293 (11.4)       1337 (59.8)        764 (13.5)       2080 (73.7)       2522 (15.9)        2590 (4.7)\n",
              "                             Proficient                                     72504 (88.6)        897 (40.2)       4880 (86.5)        741 (26.3)      13370 (84.1)      52616 (95.3)\n",
              "invasive_vent, n (%)         0                                       0      20280 (24.8)        450 (20.1)       1518 (26.9)        814 (28.9)       3677 (23.1)      13821 (25.0)\n",
              "                             1                                              61517 (75.2)       1784 (79.9)       4126 (73.1)       2007 (71.1)      12215 (76.9)      41385 (75.0)\n",
              "age, median [Q1,Q3]                                                  0  67.0 [57.0,75.0]  66.0 [53.0,73.0]  61.0 [50.0,70.0]  60.0 [47.0,71.0]  67.0 [53.0,75.0]  67.0 [58.0,76.0]\n",
              "los_icu, median [Q1,Q3]                                              0    8.7 [3.4,19.3]   14.5 [4.6,32.7]    9.0 [4.1,17.8]    9.2 [3.3,18.8]    9.7 [4.0,22.3]    8.1 [3.2,18.4]\n",
              "los_hospital, median [Q1,Q3]                                         0   16.0 [8.0,29.0]  22.0 [10.0,42.0]   16.0 [9.8,29.0]   18.0 [9.0,38.0]   16.0 [8.0,30.0]   15.0 [8.0,28.0]\n",
              "CCI, median [Q1,Q3]                                                  0     5.0 [3.0,7.0]     5.0 [3.0,7.0]     5.0 [3.0,7.0]     5.0 [3.0,7.0]     5.0 [3.0,7.0]     5.0 [3.0,7.0]\n",
              "SOFA, median [Q1,Q3]                                                 0    8.0 [5.0,11.0]    9.0 [6.0,11.0]    8.0 [5.0,11.0]    8.0 [5.0,12.0]    8.0 [5.0,12.0]    7.0 [5.0,10.0]"
            ],
            "text/html": [
              "<div>\n",
              "<style scoped>\n",
              "    .dataframe tbody tr th:only-of-type {\n",
              "        vertical-align: middle;\n",
              "    }\n",
              "\n",
              "    .dataframe tbody tr th {\n",
              "        vertical-align: top;\n",
              "    }\n",
              "\n",
              "    .dataframe thead tr th {\n",
              "        text-align: left;\n",
              "    }\n",
              "</style>\n",
              "<table border=\"1\" class=\"dataframe\">\n",
              "  <thead>\n",
              "    <tr>\n",
              "      <th></th>\n",
              "      <th></th>\n",
              "      <th colspan=\"7\" halign=\"left\">Grouped by race_group</th>\n",
              "    </tr>\n",
              "    <tr>\n",
              "      <th></th>\n",
              "      <th></th>\n",
              "      <th>Missing</th>\n",
              "      <th>Overall</th>\n",
              "      <th>Asian</th>\n",
              "      <th>Black</th>\n",
              "      <th>Hispanic</th>\n",
              "      <th>Other</th>\n",
              "      <th>White</th>\n",
              "    </tr>\n",
              "  </thead>\n",
              "  <tbody>\n",
              "    <tr>\n",
              "      <th>n</th>\n",
              "      <th></th>\n",
              "      <td></td>\n",
              "      <td>81797</td>\n",
              "      <td>2234</td>\n",
              "      <td>5644</td>\n",
              "      <td>2821</td>\n",
              "      <td>15892</td>\n",
              "      <td>55206</td>\n",
              "    </tr>\n",
              "    <tr>\n",
              "      <th rowspan=\"2\" valign=\"top\">mortality_in, n (%)</th>\n",
              "      <th>0</th>\n",
              "      <td>0</td>\n",
              "      <td>61510 (75.2)</td>\n",
              "      <td>1729 (77.4)</td>\n",
              "      <td>4422 (78.3)</td>\n",
              "      <td>2217 (78.6)</td>\n",
              "      <td>10193 (64.1)</td>\n",
              "      <td>42949 (77.8)</td>\n",
              "    </tr>\n",
              "    <tr>\n",
              "      <th>1</th>\n",
              "      <td></td>\n",
              "      <td>20287 (24.8)</td>\n",
              "      <td>505 (22.6)</td>\n",
              "      <td>1222 (21.7)</td>\n",
              "      <td>604 (21.4)</td>\n",
              "      <td>5699 (35.9)</td>\n",
              "      <td>12257 (22.2)</td>\n",
              "    </tr>\n",
              "    <tr>\n",
              "      <th rowspan=\"2\" valign=\"top\">gender, n (%)</th>\n",
              "      <th>F</th>\n",
              "      <td>0</td>\n",
              "      <td>28903 (35.3)</td>\n",
              "      <td>496 (22.2)</td>\n",
              "      <td>2482 (44.0)</td>\n",
              "      <td>1119 (39.7)</td>\n",
              "      <td>5859 (36.9)</td>\n",
              "      <td>18947 (34.3)</td>\n",
              "    </tr>\n",
              "    <tr>\n",
              "      <th>M</th>\n",
              "      <td></td>\n",
              "      <td>52894 (64.7)</td>\n",
              "      <td>1738 (77.8)</td>\n",
              "      <td>3162 (56.0)</td>\n",
              "      <td>1702 (60.3)</td>\n",
              "      <td>10033 (63.1)</td>\n",
              "      <td>36259 (65.7)</td>\n",
              "    </tr>\n",
              "    <tr>\n",
              "      <th rowspan=\"2\" valign=\"top\">language, n (%)</th>\n",
              "      <th>Limited Proficiency</th>\n",
              "      <td>0</td>\n",
              "      <td>9293 (11.4)</td>\n",
              "      <td>1337 (59.8)</td>\n",
              "      <td>764 (13.5)</td>\n",
              "      <td>2080 (73.7)</td>\n",
              "      <td>2522 (15.9)</td>\n",
              "      <td>2590 (4.7)</td>\n",
              "    </tr>\n",
              "    <tr>\n",
              "      <th>Proficient</th>\n",
              "      <td></td>\n",
              "      <td>72504 (88.6)</td>\n",
              "      <td>897 (40.2)</td>\n",
              "      <td>4880 (86.5)</td>\n",
              "      <td>741 (26.3)</td>\n",
              "      <td>13370 (84.1)</td>\n",
              "      <td>52616 (95.3)</td>\n",
              "    </tr>\n",
              "    <tr>\n",
              "      <th rowspan=\"2\" valign=\"top\">invasive_vent, n (%)</th>\n",
              "      <th>0</th>\n",
              "      <td>0</td>\n",
              "      <td>20280 (24.8)</td>\n",
              "      <td>450 (20.1)</td>\n",
              "      <td>1518 (26.9)</td>\n",
              "      <td>814 (28.9)</td>\n",
              "      <td>3677 (23.1)</td>\n",
              "      <td>13821 (25.0)</td>\n",
              "    </tr>\n",
              "    <tr>\n",
              "      <th>1</th>\n",
              "      <td></td>\n",
              "      <td>61517 (75.2)</td>\n",
              "      <td>1784 (79.9)</td>\n",
              "      <td>4126 (73.1)</td>\n",
              "      <td>2007 (71.1)</td>\n",
              "      <td>12215 (76.9)</td>\n",
              "      <td>41385 (75.0)</td>\n",
              "    </tr>\n",
              "    <tr>\n",
              "      <th>age, median [Q1,Q3]</th>\n",
              "      <th></th>\n",
              "      <td>0</td>\n",
              "      <td>67.0 [57.0,75.0]</td>\n",
              "      <td>66.0 [53.0,73.0]</td>\n",
              "      <td>61.0 [50.0,70.0]</td>\n",
              "      <td>60.0 [47.0,71.0]</td>\n",
              "      <td>67.0 [53.0,75.0]</td>\n",
              "      <td>67.0 [58.0,76.0]</td>\n",
              "    </tr>\n",
              "    <tr>\n",
              "      <th>los_icu, median [Q1,Q3]</th>\n",
              "      <th></th>\n",
              "      <td>0</td>\n",
              "      <td>8.7 [3.4,19.3]</td>\n",
              "      <td>14.5 [4.6,32.7]</td>\n",
              "      <td>9.0 [4.1,17.8]</td>\n",
              "      <td>9.2 [3.3,18.8]</td>\n",
              "      <td>9.7 [4.0,22.3]</td>\n",
              "      <td>8.1 [3.2,18.4]</td>\n",
              "    </tr>\n",
              "    <tr>\n",
              "      <th>los_hospital, median [Q1,Q3]</th>\n",
              "      <th></th>\n",
              "      <td>0</td>\n",
              "      <td>16.0 [8.0,29.0]</td>\n",
              "      <td>22.0 [10.0,42.0]</td>\n",
              "      <td>16.0 [9.8,29.0]</td>\n",
              "      <td>18.0 [9.0,38.0]</td>\n",
              "      <td>16.0 [8.0,30.0]</td>\n",
              "      <td>15.0 [8.0,28.0]</td>\n",
              "    </tr>\n",
              "    <tr>\n",
              "      <th>CCI, median [Q1,Q3]</th>\n",
              "      <th></th>\n",
              "      <td>0</td>\n",
              "      <td>5.0 [3.0,7.0]</td>\n",
              "      <td>5.0 [3.0,7.0]</td>\n",
              "      <td>5.0 [3.0,7.0]</td>\n",
              "      <td>5.0 [3.0,7.0]</td>\n",
              "      <td>5.0 [3.0,7.0]</td>\n",
              "      <td>5.0 [3.0,7.0]</td>\n",
              "    </tr>\n",
              "    <tr>\n",
              "      <th>SOFA, median [Q1,Q3]</th>\n",
              "      <th></th>\n",
              "      <td>0</td>\n",
              "      <td>8.0 [5.0,11.0]</td>\n",
              "      <td>9.0 [6.0,11.0]</td>\n",
              "      <td>8.0 [5.0,11.0]</td>\n",
              "      <td>8.0 [5.0,12.0]</td>\n",
              "      <td>8.0 [5.0,12.0]</td>\n",
              "      <td>7.0 [5.0,10.0]</td>\n",
              "    </tr>\n",
              "  </tbody>\n",
              "</table>\n",
              "</div><br />"
            ]
          },
          "metadata": {},
          "execution_count": 18
        }
      ]
    },
    {
      "cell_type": "markdown",
      "source": [
        "Now let's create a new tableone using all the variables to to measure differences between ethnic groups!"
      ],
      "metadata": {
        "id": "O2SZRMx6LL3R"
      }
    },
    {
      "cell_type": "code",
      "source": [
        "def get_categorical_numerical_variables(df, limit, ignore, verbose=True):\n",
        "  \"\"\"\n",
        "  File to get numerical and categorical variables\n",
        "  Inputs:\n",
        "  df: A pandas dataframe with all the variables\n",
        "  limit: A integer with the maximum number of unique items in a variable to be categorical\n",
        "  ignore: Python list with columns to ignore\n",
        "\n",
        "  Outputs:\n",
        "  categorical_columns, numerical_columns: List with the names of categorical and numerical variables\n",
        "\n",
        "  \"\"\"\n",
        "  \n",
        "  categorical_columns = []\n",
        "  numerical_columns = []\n",
        "\n",
        "  for column in df.columns:\n",
        "    if column in ignore:\n",
        "      continue\n",
        "    unique_values = len(pd.unique(df[column]))\n",
        "    if unique_values <= limit:\n",
        "      if verbose:\n",
        "        print(f'The column {column} has {unique_values}, so is categorical')\n",
        "      categorical_columns.append(column)\n",
        "    else:\n",
        "      if verbose:\n",
        "        print(f'The column {column} has {unique_values}, so is numerical')\n",
        "      numerical_columns.append(column)\n",
        "\n",
        "  return categorical_columns, numerical_columns"
      ],
      "metadata": {
        "id": "ouIrWL4AiEM2",
        "colab": {
          "base_uri": "https://localhost:8080/"
        },
        "outputId": "137ae3ae-e5a1-4289-aa55-0eb031fdde76"
      },
      "execution_count": 19,
      "outputs": [
        {
          "output_type": "stream",
          "name": "stderr",
          "text": [
            "/usr/local/lib/python3.10/dist-packages/ipykernel/ipkernel.py:283: DeprecationWarning: `should_run_async` will not call `transform_cell` automatically in the future. Please pass the result to `transformed_cell` argument and any exception that happen during thetransform in `preprocessing_exc_tuple` in IPython 7.17 and above.\n",
            "  and should_run_async(code)\n"
          ]
        }
      ]
    },
    {
      "cell_type": "code",
      "source": [
        "groupby = ['race_group']\n",
        "ignore = ['SaO2_timestamp', 'stay_id', 'subject_id'] + groupby\n",
        "categorical_columns, numerical_columns = get_categorical_numerical_variables(df, limit=10, ignore=ignore)"
      ],
      "metadata": {
        "colab": {
          "base_uri": "https://localhost:8080/"
        },
        "id": "e4mKATylIfJW",
        "outputId": "3542f1ed-e951-4bbc-9df1-037c8530f5f8"
      },
      "execution_count": 20,
      "outputs": [
        {
          "output_type": "stream",
          "name": "stdout",
          "text": [
            "The column ph has 93, so is numerical\n",
            "The column inr has 124, so is numerical\n",
            "The column hidden_hypoxemia has 2, so is categorical\n",
            "The column anchor_age has 73, so is numerical\n",
            "The column chloride has 71, so is numerical\n",
            "The column norepinephrine_equivalent_dose has 9730, so is numerical\n",
            "The column delta_SpO2 has 91, so is numerical\n",
            "The column CCI has 20, so is numerical\n",
            "The column insurance has 3, so is categorical\n",
            "The column mchc has 153, so is numerical\n",
            "The column delta_ld_ldh has 24387, so is numerical\n",
            "The column gender has 2, so is categorical\n",
            "The column ventilation_status has 7, so is categorical\n",
            "The column lactate has 265, so is numerical\n",
            "The column delta_vent_start has 14949, so is numerical\n",
            "The column SpO2 has 86, so is numerical\n",
            "The column SaO2 has 125, so is numerical\n",
            "The column albumin has 53, so is numerical\n",
            "The column SOFA_admission has 24, so is numerical\n",
            "The column delta_sofa_resp has 3443, so is numerical\n",
            "The column los_icu has 935, so is numerical\n",
            "The column delta_albumin has 24984, so is numerical\n",
            "The column mortality_in has 2, so is categorical\n",
            "The column FiO2 has 61, so is numerical\n",
            "The column pt has 651, so is numerical\n",
            "The column language has 2, so is categorical\n",
            "The column BMI has 5892, so is numerical\n",
            "The column los_hospital has 139, so is numerical\n",
            "The column invasive_vent has 2, so is categorical\n",
            "The column aniongap has 55, so is numerical\n",
            "The column rrt has 2, so is categorical\n",
            "The column bicarbonate has 52, so is numerical\n",
            "The column sofa_resp has 6, so is categorical\n"
          ]
        },
        {
          "output_type": "stream",
          "name": "stderr",
          "text": [
            "/usr/local/lib/python3.10/dist-packages/ipykernel/ipkernel.py:283: DeprecationWarning: `should_run_async` will not call `transform_cell` automatically in the future. Please pass the result to `transformed_cell` argument and any exception that happen during thetransform in `preprocessing_exc_tuple` in IPython 7.17 and above.\n",
            "  and should_run_async(code)\n"
          ]
        }
      ]
    },
    {
      "cell_type": "code",
      "source": [
        "TableOne(df, columns=categorical_columns+numerical_columns, categorical=categorical_columns, nonnormal=numerical_columns, groupby=groupby)"
      ],
      "metadata": {
        "colab": {
          "base_uri": "https://localhost:8080/",
          "height": 1000
        },
        "id": "eElIVQoVe3HX",
        "outputId": "4f94d7f5-ee7f-4197-d4c8-174f3f74b286"
      },
      "execution_count": 21,
      "outputs": [
        {
          "output_type": "stream",
          "name": "stderr",
          "text": [
            "/usr/local/lib/python3.10/dist-packages/ipykernel/ipkernel.py:283: DeprecationWarning: `should_run_async` will not call `transform_cell` automatically in the future. Please pass the result to `transformed_cell` argument and any exception that happen during thetransform in `preprocessing_exc_tuple` in IPython 7.17 and above.\n",
            "  and should_run_async(code)\n"
          ]
        },
        {
          "output_type": "execute_result",
          "data": {
            "text/plain": [
              "                                                                   Grouped by race_group                                                                                                                                                            \n",
              "                                                                                 Missing                   Overall                     Asian                     Black                  Hispanic                     Other                     White\n",
              "n                                                                                                            81797                      2234                      5644                      2821                     15892                     55206\n",
              "hidden_hypoxemia, n (%)                        0                                       0              80215 (98.1)               2190 (98.0)               5458 (96.7)               2771 (98.2)              15545 (97.8)              54251 (98.3)\n",
              "                                               1                                                        1582 (1.9)                  44 (2.0)                 186 (3.3)                  50 (1.8)                 347 (2.2)                 955 (1.7)\n",
              "insurance, n (%)                               Medicaid                                0                4688 (5.7)                311 (13.9)                 520 (9.2)                387 (13.7)                1278 (8.0)                2192 (4.0)\n",
              "                                               Medicare                                               38065 (46.5)                499 (22.3)               2214 (39.2)               1148 (40.7)               6486 (40.8)              27718 (50.2)\n",
              "                                               Other                                                  39044 (47.7)               1424 (63.7)               2910 (51.6)               1286 (45.6)               8128 (51.1)              25296 (45.8)\n",
              "gender, n (%)                                  F                                       0              28903 (35.3)                496 (22.2)               2482 (44.0)               1119 (39.7)               5859 (36.9)              18947 (34.3)\n",
              "                                               M                                                      52894 (64.7)               1738 (77.8)               3162 (56.0)               1702 (60.3)              10033 (63.1)              36259 (65.7)\n",
              "ventilation_status, n (%)                      HFNC                                10070                 754 (1.1)                   8 (0.4)                  78 (1.6)                  49 (2.0)                 132 (1.0)                 487 (1.0)\n",
              "                                               InvasiveVent                                           61353 (85.5)               1777 (89.4)               4104 (83.9)               1997 (83.2)              12182 (88.6)              41293 (84.8)\n",
              "                                               NonInvasiveVent                                           519 (0.7)                   5 (0.3)                  59 (1.2)                  21 (0.9)                 115 (0.8)                 319 (0.7)\n",
              "                                               SupplementalOxygen                                      8926 (12.4)                 191 (9.6)                630 (12.9)                322 (13.4)                1284 (9.3)               6499 (13.3)\n",
              "                                               Tracheostomy                                              164 (0.2)                   7 (0.4)                  22 (0.4)                  10 (0.4)                  33 (0.2)                  92 (0.2)\n",
              "                                               None                                                       11 (0.0)                                                                                                 1 (0.0)                  10 (0.0)\n",
              "mortality_in, n (%)                            0                                       0              61510 (75.2)               1729 (77.4)               4422 (78.3)               2217 (78.6)              10193 (64.1)              42949 (77.8)\n",
              "                                               1                                                      20287 (24.8)                505 (22.6)               1222 (21.7)                604 (21.4)               5699 (35.9)              12257 (22.2)\n",
              "language, n (%)                                Limited Proficiency                     0               9293 (11.4)               1337 (59.8)                764 (13.5)               2080 (73.7)               2522 (15.9)                2590 (4.7)\n",
              "                                               Proficient                                             72504 (88.6)                897 (40.2)               4880 (86.5)                741 (26.3)              13370 (84.1)              52616 (95.3)\n",
              "invasive_vent, n (%)                           0                                       0              20280 (24.8)                450 (20.1)               1518 (26.9)                814 (28.9)               3677 (23.1)              13821 (25.0)\n",
              "                                               1                                                      61517 (75.2)               1784 (79.9)               4126 (73.1)               2007 (71.1)              12215 (76.9)              41385 (75.0)\n",
              "rrt, n (%)                                     0                                       0              62446 (76.3)               1380 (61.8)               4142 (73.4)               2033 (72.1)              11050 (69.5)              43841 (79.4)\n",
              "                                               1                                                      19351 (23.7)                854 (38.2)               1502 (26.6)                788 (27.9)               4842 (30.5)              11365 (20.6)\n",
              "sofa_resp, n (%)                               0.0                                  1968                6127 (7.7)                218 (10.0)                598 (11.3)                 271 (9.9)                1199 (7.7)                3841 (7.1)\n",
              "                                               1.0                                                    13565 (17.0)                323 (14.8)               1009 (19.0)                528 (19.3)               2359 (15.1)               9346 (17.3)\n",
              "                                               2.0                                                    34823 (43.6)                862 (39.5)               2148 (40.4)               1186 (43.4)               6467 (41.3)              24160 (44.8)\n",
              "                                               3.0                                                    21345 (26.7)                653 (29.9)               1283 (24.1)                625 (22.9)               4576 (29.2)              14208 (26.3)\n",
              "                                               4.0                                                      3969 (5.0)                 129 (5.9)                 276 (5.2)                 121 (4.4)                1050 (6.7)                2393 (4.4)\n",
              "ph, median [Q1,Q3]                                                                    64             7.4 [7.3,7.4]             7.4 [7.3,7.4]             7.4 [7.3,7.4]             7.4 [7.3,7.4]             7.4 [7.3,7.4]             7.4 [7.3,7.4]\n",
              "inr, median [Q1,Q3]                                                                   65             1.3 [1.2,1.5]             1.3 [1.1,1.5]             1.3 [1.2,1.5]             1.3 [1.2,1.5]             1.3 [1.2,1.5]             1.3 [1.2,1.5]\n",
              "anchor_age, median [Q1,Q3]                                                             0          67.0 [57.0,75.0]          66.0 [53.0,73.0]          61.0 [50.0,70.0]          60.0 [47.0,71.0]          67.0 [53.0,75.0]          67.0 [58.0,76.0]\n",
              "chloride, median [Q1,Q3]                                                              50       104.0 [100.0,108.0]        103.0 [99.0,107.0]        103.0 [99.0,107.0]        103.0 [98.0,107.0]        104.0 [99.0,108.0]       104.0 [100.0,108.0]\n",
              "norepinephrine_equivalent_dose, median [Q1,Q3]                                     42002             0.1 [0.1,6.0]             0.2 [0.1,6.1]             0.2 [0.1,6.1]             0.2 [0.1,6.1]             0.2 [0.1,6.1]             0.1 [0.1,5.8]\n",
              "delta_SpO2, median [Q1,Q3]                                                             0       -24.0 [-40.0,-11.0]       -23.0 [-41.0,-10.0]       -24.0 [-41.0,-11.0]       -23.0 [-40.0,-11.0]       -24.0 [-41.0,-11.0]       -23.0 [-40.0,-10.0]\n",
              "CCI, median [Q1,Q3]                                                                    0             5.0 [3.0,7.0]             5.0 [3.0,7.0]             5.0 [3.0,7.0]             5.0 [3.0,7.0]             5.0 [3.0,7.0]             5.0 [3.0,7.0]\n",
              "mchc, median [Q1,Q3]                                                                  47          33.2 [32.1,34.3]          33.1 [32.1,34.2]          32.6 [31.4,33.8]          33.2 [32.0,34.4]          33.2 [32.1,34.2]          33.3 [32.2,34.4]\n",
              "delta_ld_ldh, median [Q1,Q3]                                                        8931    -236.0 [-2545.0,732.0]     -47.0 [-1700.0,748.0]    -251.5 [-2881.2,697.0]    -118.0 [-1875.0,713.0]    -210.0 [-2015.8,520.0]    -259.0 [-2764.0,875.0]\n",
              "lactate, median [Q1,Q3]                                                              326             1.6 [1.1,2.3]             1.6 [1.2,2.4]             1.5 [1.1,2.2]             1.6 [1.1,2.6]             1.6 [1.2,2.4]             1.5 [1.1,2.2]\n",
              "delta_vent_start, median [Q1,Q3]                                                   10070  -1231.0 [-4399.0,-350.0]  -2214.0 [-7782.8,-535.5]  -1420.0 [-4825.0,-388.0]  -1163.0 [-3697.5,-335.5]  -1473.0 [-4974.5,-393.0]  -1142.0 [-4133.2,-330.0]\n",
              "SpO2, median [Q1,Q3]                                                                   0         98.0 [95.0,100.0]         98.0 [96.0,100.0]         98.0 [96.0,100.0]         98.0 [96.0,100.0]         98.0 [95.0,100.0]         98.0 [95.0,100.0]\n",
              "SaO2, median [Q1,Q3]                                                                   0          97.0 [95.0,98.0]          96.0 [95.0,98.0]          97.0 [94.0,98.0]          97.0 [95.0,98.0]          97.0 [95.0,98.0]          97.0 [95.0,98.0]\n",
              "albumin, median [Q1,Q3]                                                             2857             3.1 [2.6,3.8]             3.1 [2.6,3.6]             3.1 [2.7,3.6]             3.2 [2.7,3.9]             3.0 [2.5,3.6]             3.2 [2.6,3.8]\n",
              "SOFA_admission, median [Q1,Q3]                                                         0            8.0 [5.0,11.0]            9.0 [6.0,11.0]            8.0 [5.0,11.0]            8.0 [5.0,12.0]            8.0 [5.0,12.0]            7.0 [5.0,10.0]\n",
              "delta_sofa_resp, median [Q1,Q3]                                                     1968           27.0 [9.0,45.0]           27.0 [7.0,45.0]           29.0 [9.0,46.0]           28.0 [9.0,45.0]          28.0 [10.0,45.0]           27.0 [8.0,45.0]\n",
              "los_icu, median [Q1,Q3]                                                                0            8.7 [3.4,19.3]           14.5 [4.6,32.7]            9.0 [4.1,17.8]            9.2 [3.3,18.8]            9.7 [4.0,22.3]            8.1 [3.2,18.4]\n",
              "delta_albumin, median [Q1,Q3]                                                       2857    -850.0 [-4062.0,563.0]    -653.0 [-3851.2,703.5]    -812.0 [-3868.8,635.8]    -696.0 [-4230.0,748.0]    -578.0 [-3062.0,526.5]    -988.0 [-4387.0,548.0]\n",
              "FiO2, median [Q1,Q3]                                                               11414          50.0 [40.0,60.0]          50.0 [40.0,60.0]          50.0 [40.0,60.0]          50.0 [40.0,60.0]          50.0 [40.0,60.0]          50.0 [40.0,60.0]\n",
              "pt, median [Q1,Q3]                                                                    65          14.2 [12.9,16.6]          14.0 [12.5,16.3]          14.4 [12.9,16.7]          14.3 [13.1,16.7]          14.2 [12.8,16.7]          14.2 [12.9,16.6]\n",
              "BMI, median [Q1,Q3]                                                                15958          28.6 [24.8,33.2]          24.6 [23.0,28.7]          29.8 [25.5,35.4]          29.6 [25.7,33.3]          28.5 [24.8,34.3]          28.6 [25.0,33.1]\n",
              "los_hospital, median [Q1,Q3]                                                           0           16.0 [8.0,29.0]          22.0 [10.0,42.0]           16.0 [9.8,29.0]           18.0 [9.0,38.0]           16.0 [8.0,30.0]           15.0 [8.0,28.0]\n",
              "aniongap, median [Q1,Q3]                                                              50          14.0 [11.0,17.0]          14.0 [12.0,17.0]          14.0 [12.0,17.0]          14.0 [12.0,18.0]          14.0 [12.0,18.0]          14.0 [11.0,17.0]\n",
              "bicarbonate, median [Q1,Q3]                                                           50          23.0 [21.0,26.0]          24.0 [21.0,26.0]          24.0 [21.0,27.0]          23.0 [21.0,26.0]          23.0 [20.0,26.0]          23.0 [21.0,26.0]"
            ],
            "text/html": [
              "<div>\n",
              "<style scoped>\n",
              "    .dataframe tbody tr th:only-of-type {\n",
              "        vertical-align: middle;\n",
              "    }\n",
              "\n",
              "    .dataframe tbody tr th {\n",
              "        vertical-align: top;\n",
              "    }\n",
              "\n",
              "    .dataframe thead tr th {\n",
              "        text-align: left;\n",
              "    }\n",
              "</style>\n",
              "<table border=\"1\" class=\"dataframe\">\n",
              "  <thead>\n",
              "    <tr>\n",
              "      <th></th>\n",
              "      <th></th>\n",
              "      <th colspan=\"7\" halign=\"left\">Grouped by race_group</th>\n",
              "    </tr>\n",
              "    <tr>\n",
              "      <th></th>\n",
              "      <th></th>\n",
              "      <th>Missing</th>\n",
              "      <th>Overall</th>\n",
              "      <th>Asian</th>\n",
              "      <th>Black</th>\n",
              "      <th>Hispanic</th>\n",
              "      <th>Other</th>\n",
              "      <th>White</th>\n",
              "    </tr>\n",
              "  </thead>\n",
              "  <tbody>\n",
              "    <tr>\n",
              "      <th>n</th>\n",
              "      <th></th>\n",
              "      <td></td>\n",
              "      <td>81797</td>\n",
              "      <td>2234</td>\n",
              "      <td>5644</td>\n",
              "      <td>2821</td>\n",
              "      <td>15892</td>\n",
              "      <td>55206</td>\n",
              "    </tr>\n",
              "    <tr>\n",
              "      <th rowspan=\"2\" valign=\"top\">hidden_hypoxemia, n (%)</th>\n",
              "      <th>0</th>\n",
              "      <td>0</td>\n",
              "      <td>80215 (98.1)</td>\n",
              "      <td>2190 (98.0)</td>\n",
              "      <td>5458 (96.7)</td>\n",
              "      <td>2771 (98.2)</td>\n",
              "      <td>15545 (97.8)</td>\n",
              "      <td>54251 (98.3)</td>\n",
              "    </tr>\n",
              "    <tr>\n",
              "      <th>1</th>\n",
              "      <td></td>\n",
              "      <td>1582 (1.9)</td>\n",
              "      <td>44 (2.0)</td>\n",
              "      <td>186 (3.3)</td>\n",
              "      <td>50 (1.8)</td>\n",
              "      <td>347 (2.2)</td>\n",
              "      <td>955 (1.7)</td>\n",
              "    </tr>\n",
              "    <tr>\n",
              "      <th rowspan=\"3\" valign=\"top\">insurance, n (%)</th>\n",
              "      <th>Medicaid</th>\n",
              "      <td>0</td>\n",
              "      <td>4688 (5.7)</td>\n",
              "      <td>311 (13.9)</td>\n",
              "      <td>520 (9.2)</td>\n",
              "      <td>387 (13.7)</td>\n",
              "      <td>1278 (8.0)</td>\n",
              "      <td>2192 (4.0)</td>\n",
              "    </tr>\n",
              "    <tr>\n",
              "      <th>Medicare</th>\n",
              "      <td></td>\n",
              "      <td>38065 (46.5)</td>\n",
              "      <td>499 (22.3)</td>\n",
              "      <td>2214 (39.2)</td>\n",
              "      <td>1148 (40.7)</td>\n",
              "      <td>6486 (40.8)</td>\n",
              "      <td>27718 (50.2)</td>\n",
              "    </tr>\n",
              "    <tr>\n",
              "      <th>Other</th>\n",
              "      <td></td>\n",
              "      <td>39044 (47.7)</td>\n",
              "      <td>1424 (63.7)</td>\n",
              "      <td>2910 (51.6)</td>\n",
              "      <td>1286 (45.6)</td>\n",
              "      <td>8128 (51.1)</td>\n",
              "      <td>25296 (45.8)</td>\n",
              "    </tr>\n",
              "    <tr>\n",
              "      <th rowspan=\"2\" valign=\"top\">gender, n (%)</th>\n",
              "      <th>F</th>\n",
              "      <td>0</td>\n",
              "      <td>28903 (35.3)</td>\n",
              "      <td>496 (22.2)</td>\n",
              "      <td>2482 (44.0)</td>\n",
              "      <td>1119 (39.7)</td>\n",
              "      <td>5859 (36.9)</td>\n",
              "      <td>18947 (34.3)</td>\n",
              "    </tr>\n",
              "    <tr>\n",
              "      <th>M</th>\n",
              "      <td></td>\n",
              "      <td>52894 (64.7)</td>\n",
              "      <td>1738 (77.8)</td>\n",
              "      <td>3162 (56.0)</td>\n",
              "      <td>1702 (60.3)</td>\n",
              "      <td>10033 (63.1)</td>\n",
              "      <td>36259 (65.7)</td>\n",
              "    </tr>\n",
              "    <tr>\n",
              "      <th rowspan=\"6\" valign=\"top\">ventilation_status, n (%)</th>\n",
              "      <th>HFNC</th>\n",
              "      <td>10070</td>\n",
              "      <td>754 (1.1)</td>\n",
              "      <td>8 (0.4)</td>\n",
              "      <td>78 (1.6)</td>\n",
              "      <td>49 (2.0)</td>\n",
              "      <td>132 (1.0)</td>\n",
              "      <td>487 (1.0)</td>\n",
              "    </tr>\n",
              "    <tr>\n",
              "      <th>InvasiveVent</th>\n",
              "      <td></td>\n",
              "      <td>61353 (85.5)</td>\n",
              "      <td>1777 (89.4)</td>\n",
              "      <td>4104 (83.9)</td>\n",
              "      <td>1997 (83.2)</td>\n",
              "      <td>12182 (88.6)</td>\n",
              "      <td>41293 (84.8)</td>\n",
              "    </tr>\n",
              "    <tr>\n",
              "      <th>NonInvasiveVent</th>\n",
              "      <td></td>\n",
              "      <td>519 (0.7)</td>\n",
              "      <td>5 (0.3)</td>\n",
              "      <td>59 (1.2)</td>\n",
              "      <td>21 (0.9)</td>\n",
              "      <td>115 (0.8)</td>\n",
              "      <td>319 (0.7)</td>\n",
              "    </tr>\n",
              "    <tr>\n",
              "      <th>SupplementalOxygen</th>\n",
              "      <td></td>\n",
              "      <td>8926 (12.4)</td>\n",
              "      <td>191 (9.6)</td>\n",
              "      <td>630 (12.9)</td>\n",
              "      <td>322 (13.4)</td>\n",
              "      <td>1284 (9.3)</td>\n",
              "      <td>6499 (13.3)</td>\n",
              "    </tr>\n",
              "    <tr>\n",
              "      <th>Tracheostomy</th>\n",
              "      <td></td>\n",
              "      <td>164 (0.2)</td>\n",
              "      <td>7 (0.4)</td>\n",
              "      <td>22 (0.4)</td>\n",
              "      <td>10 (0.4)</td>\n",
              "      <td>33 (0.2)</td>\n",
              "      <td>92 (0.2)</td>\n",
              "    </tr>\n",
              "    <tr>\n",
              "      <th>None</th>\n",
              "      <td></td>\n",
              "      <td>11 (0.0)</td>\n",
              "      <td></td>\n",
              "      <td></td>\n",
              "      <td></td>\n",
              "      <td>1 (0.0)</td>\n",
              "      <td>10 (0.0)</td>\n",
              "    </tr>\n",
              "    <tr>\n",
              "      <th rowspan=\"2\" valign=\"top\">mortality_in, n (%)</th>\n",
              "      <th>0</th>\n",
              "      <td>0</td>\n",
              "      <td>61510 (75.2)</td>\n",
              "      <td>1729 (77.4)</td>\n",
              "      <td>4422 (78.3)</td>\n",
              "      <td>2217 (78.6)</td>\n",
              "      <td>10193 (64.1)</td>\n",
              "      <td>42949 (77.8)</td>\n",
              "    </tr>\n",
              "    <tr>\n",
              "      <th>1</th>\n",
              "      <td></td>\n",
              "      <td>20287 (24.8)</td>\n",
              "      <td>505 (22.6)</td>\n",
              "      <td>1222 (21.7)</td>\n",
              "      <td>604 (21.4)</td>\n",
              "      <td>5699 (35.9)</td>\n",
              "      <td>12257 (22.2)</td>\n",
              "    </tr>\n",
              "    <tr>\n",
              "      <th rowspan=\"2\" valign=\"top\">language, n (%)</th>\n",
              "      <th>Limited Proficiency</th>\n",
              "      <td>0</td>\n",
              "      <td>9293 (11.4)</td>\n",
              "      <td>1337 (59.8)</td>\n",
              "      <td>764 (13.5)</td>\n",
              "      <td>2080 (73.7)</td>\n",
              "      <td>2522 (15.9)</td>\n",
              "      <td>2590 (4.7)</td>\n",
              "    </tr>\n",
              "    <tr>\n",
              "      <th>Proficient</th>\n",
              "      <td></td>\n",
              "      <td>72504 (88.6)</td>\n",
              "      <td>897 (40.2)</td>\n",
              "      <td>4880 (86.5)</td>\n",
              "      <td>741 (26.3)</td>\n",
              "      <td>13370 (84.1)</td>\n",
              "      <td>52616 (95.3)</td>\n",
              "    </tr>\n",
              "    <tr>\n",
              "      <th rowspan=\"2\" valign=\"top\">invasive_vent, n (%)</th>\n",
              "      <th>0</th>\n",
              "      <td>0</td>\n",
              "      <td>20280 (24.8)</td>\n",
              "      <td>450 (20.1)</td>\n",
              "      <td>1518 (26.9)</td>\n",
              "      <td>814 (28.9)</td>\n",
              "      <td>3677 (23.1)</td>\n",
              "      <td>13821 (25.0)</td>\n",
              "    </tr>\n",
              "    <tr>\n",
              "      <th>1</th>\n",
              "      <td></td>\n",
              "      <td>61517 (75.2)</td>\n",
              "      <td>1784 (79.9)</td>\n",
              "      <td>4126 (73.1)</td>\n",
              "      <td>2007 (71.1)</td>\n",
              "      <td>12215 (76.9)</td>\n",
              "      <td>41385 (75.0)</td>\n",
              "    </tr>\n",
              "    <tr>\n",
              "      <th rowspan=\"2\" valign=\"top\">rrt, n (%)</th>\n",
              "      <th>0</th>\n",
              "      <td>0</td>\n",
              "      <td>62446 (76.3)</td>\n",
              "      <td>1380 (61.8)</td>\n",
              "      <td>4142 (73.4)</td>\n",
              "      <td>2033 (72.1)</td>\n",
              "      <td>11050 (69.5)</td>\n",
              "      <td>43841 (79.4)</td>\n",
              "    </tr>\n",
              "    <tr>\n",
              "      <th>1</th>\n",
              "      <td></td>\n",
              "      <td>19351 (23.7)</td>\n",
              "      <td>854 (38.2)</td>\n",
              "      <td>1502 (26.6)</td>\n",
              "      <td>788 (27.9)</td>\n",
              "      <td>4842 (30.5)</td>\n",
              "      <td>11365 (20.6)</td>\n",
              "    </tr>\n",
              "    <tr>\n",
              "      <th rowspan=\"5\" valign=\"top\">sofa_resp, n (%)</th>\n",
              "      <th>0.0</th>\n",
              "      <td>1968</td>\n",
              "      <td>6127 (7.7)</td>\n",
              "      <td>218 (10.0)</td>\n",
              "      <td>598 (11.3)</td>\n",
              "      <td>271 (9.9)</td>\n",
              "      <td>1199 (7.7)</td>\n",
              "      <td>3841 (7.1)</td>\n",
              "    </tr>\n",
              "    <tr>\n",
              "      <th>1.0</th>\n",
              "      <td></td>\n",
              "      <td>13565 (17.0)</td>\n",
              "      <td>323 (14.8)</td>\n",
              "      <td>1009 (19.0)</td>\n",
              "      <td>528 (19.3)</td>\n",
              "      <td>2359 (15.1)</td>\n",
              "      <td>9346 (17.3)</td>\n",
              "    </tr>\n",
              "    <tr>\n",
              "      <th>2.0</th>\n",
              "      <td></td>\n",
              "      <td>34823 (43.6)</td>\n",
              "      <td>862 (39.5)</td>\n",
              "      <td>2148 (40.4)</td>\n",
              "      <td>1186 (43.4)</td>\n",
              "      <td>6467 (41.3)</td>\n",
              "      <td>24160 (44.8)</td>\n",
              "    </tr>\n",
              "    <tr>\n",
              "      <th>3.0</th>\n",
              "      <td></td>\n",
              "      <td>21345 (26.7)</td>\n",
              "      <td>653 (29.9)</td>\n",
              "      <td>1283 (24.1)</td>\n",
              "      <td>625 (22.9)</td>\n",
              "      <td>4576 (29.2)</td>\n",
              "      <td>14208 (26.3)</td>\n",
              "    </tr>\n",
              "    <tr>\n",
              "      <th>4.0</th>\n",
              "      <td></td>\n",
              "      <td>3969 (5.0)</td>\n",
              "      <td>129 (5.9)</td>\n",
              "      <td>276 (5.2)</td>\n",
              "      <td>121 (4.4)</td>\n",
              "      <td>1050 (6.7)</td>\n",
              "      <td>2393 (4.4)</td>\n",
              "    </tr>\n",
              "    <tr>\n",
              "      <th>ph, median [Q1,Q3]</th>\n",
              "      <th></th>\n",
              "      <td>64</td>\n",
              "      <td>7.4 [7.3,7.4]</td>\n",
              "      <td>7.4 [7.3,7.4]</td>\n",
              "      <td>7.4 [7.3,7.4]</td>\n",
              "      <td>7.4 [7.3,7.4]</td>\n",
              "      <td>7.4 [7.3,7.4]</td>\n",
              "      <td>7.4 [7.3,7.4]</td>\n",
              "    </tr>\n",
              "    <tr>\n",
              "      <th>inr, median [Q1,Q3]</th>\n",
              "      <th></th>\n",
              "      <td>65</td>\n",
              "      <td>1.3 [1.2,1.5]</td>\n",
              "      <td>1.3 [1.1,1.5]</td>\n",
              "      <td>1.3 [1.2,1.5]</td>\n",
              "      <td>1.3 [1.2,1.5]</td>\n",
              "      <td>1.3 [1.2,1.5]</td>\n",
              "      <td>1.3 [1.2,1.5]</td>\n",
              "    </tr>\n",
              "    <tr>\n",
              "      <th>anchor_age, median [Q1,Q3]</th>\n",
              "      <th></th>\n",
              "      <td>0</td>\n",
              "      <td>67.0 [57.0,75.0]</td>\n",
              "      <td>66.0 [53.0,73.0]</td>\n",
              "      <td>61.0 [50.0,70.0]</td>\n",
              "      <td>60.0 [47.0,71.0]</td>\n",
              "      <td>67.0 [53.0,75.0]</td>\n",
              "      <td>67.0 [58.0,76.0]</td>\n",
              "    </tr>\n",
              "    <tr>\n",
              "      <th>chloride, median [Q1,Q3]</th>\n",
              "      <th></th>\n",
              "      <td>50</td>\n",
              "      <td>104.0 [100.0,108.0]</td>\n",
              "      <td>103.0 [99.0,107.0]</td>\n",
              "      <td>103.0 [99.0,107.0]</td>\n",
              "      <td>103.0 [98.0,107.0]</td>\n",
              "      <td>104.0 [99.0,108.0]</td>\n",
              "      <td>104.0 [100.0,108.0]</td>\n",
              "    </tr>\n",
              "    <tr>\n",
              "      <th>norepinephrine_equivalent_dose, median [Q1,Q3]</th>\n",
              "      <th></th>\n",
              "      <td>42002</td>\n",
              "      <td>0.1 [0.1,6.0]</td>\n",
              "      <td>0.2 [0.1,6.1]</td>\n",
              "      <td>0.2 [0.1,6.1]</td>\n",
              "      <td>0.2 [0.1,6.1]</td>\n",
              "      <td>0.2 [0.1,6.1]</td>\n",
              "      <td>0.1 [0.1,5.8]</td>\n",
              "    </tr>\n",
              "    <tr>\n",
              "      <th>delta_SpO2, median [Q1,Q3]</th>\n",
              "      <th></th>\n",
              "      <td>0</td>\n",
              "      <td>-24.0 [-40.0,-11.0]</td>\n",
              "      <td>-23.0 [-41.0,-10.0]</td>\n",
              "      <td>-24.0 [-41.0,-11.0]</td>\n",
              "      <td>-23.0 [-40.0,-11.0]</td>\n",
              "      <td>-24.0 [-41.0,-11.0]</td>\n",
              "      <td>-23.0 [-40.0,-10.0]</td>\n",
              "    </tr>\n",
              "    <tr>\n",
              "      <th>CCI, median [Q1,Q3]</th>\n",
              "      <th></th>\n",
              "      <td>0</td>\n",
              "      <td>5.0 [3.0,7.0]</td>\n",
              "      <td>5.0 [3.0,7.0]</td>\n",
              "      <td>5.0 [3.0,7.0]</td>\n",
              "      <td>5.0 [3.0,7.0]</td>\n",
              "      <td>5.0 [3.0,7.0]</td>\n",
              "      <td>5.0 [3.0,7.0]</td>\n",
              "    </tr>\n",
              "    <tr>\n",
              "      <th>mchc, median [Q1,Q3]</th>\n",
              "      <th></th>\n",
              "      <td>47</td>\n",
              "      <td>33.2 [32.1,34.3]</td>\n",
              "      <td>33.1 [32.1,34.2]</td>\n",
              "      <td>32.6 [31.4,33.8]</td>\n",
              "      <td>33.2 [32.0,34.4]</td>\n",
              "      <td>33.2 [32.1,34.2]</td>\n",
              "      <td>33.3 [32.2,34.4]</td>\n",
              "    </tr>\n",
              "    <tr>\n",
              "      <th>delta_ld_ldh, median [Q1,Q3]</th>\n",
              "      <th></th>\n",
              "      <td>8931</td>\n",
              "      <td>-236.0 [-2545.0,732.0]</td>\n",
              "      <td>-47.0 [-1700.0,748.0]</td>\n",
              "      <td>-251.5 [-2881.2,697.0]</td>\n",
              "      <td>-118.0 [-1875.0,713.0]</td>\n",
              "      <td>-210.0 [-2015.8,520.0]</td>\n",
              "      <td>-259.0 [-2764.0,875.0]</td>\n",
              "    </tr>\n",
              "    <tr>\n",
              "      <th>lactate, median [Q1,Q3]</th>\n",
              "      <th></th>\n",
              "      <td>326</td>\n",
              "      <td>1.6 [1.1,2.3]</td>\n",
              "      <td>1.6 [1.2,2.4]</td>\n",
              "      <td>1.5 [1.1,2.2]</td>\n",
              "      <td>1.6 [1.1,2.6]</td>\n",
              "      <td>1.6 [1.2,2.4]</td>\n",
              "      <td>1.5 [1.1,2.2]</td>\n",
              "    </tr>\n",
              "    <tr>\n",
              "      <th>delta_vent_start, median [Q1,Q3]</th>\n",
              "      <th></th>\n",
              "      <td>10070</td>\n",
              "      <td>-1231.0 [-4399.0,-350.0]</td>\n",
              "      <td>-2214.0 [-7782.8,-535.5]</td>\n",
              "      <td>-1420.0 [-4825.0,-388.0]</td>\n",
              "      <td>-1163.0 [-3697.5,-335.5]</td>\n",
              "      <td>-1473.0 [-4974.5,-393.0]</td>\n",
              "      <td>-1142.0 [-4133.2,-330.0]</td>\n",
              "    </tr>\n",
              "    <tr>\n",
              "      <th>SpO2, median [Q1,Q3]</th>\n",
              "      <th></th>\n",
              "      <td>0</td>\n",
              "      <td>98.0 [95.0,100.0]</td>\n",
              "      <td>98.0 [96.0,100.0]</td>\n",
              "      <td>98.0 [96.0,100.0]</td>\n",
              "      <td>98.0 [96.0,100.0]</td>\n",
              "      <td>98.0 [95.0,100.0]</td>\n",
              "      <td>98.0 [95.0,100.0]</td>\n",
              "    </tr>\n",
              "    <tr>\n",
              "      <th>SaO2, median [Q1,Q3]</th>\n",
              "      <th></th>\n",
              "      <td>0</td>\n",
              "      <td>97.0 [95.0,98.0]</td>\n",
              "      <td>96.0 [95.0,98.0]</td>\n",
              "      <td>97.0 [94.0,98.0]</td>\n",
              "      <td>97.0 [95.0,98.0]</td>\n",
              "      <td>97.0 [95.0,98.0]</td>\n",
              "      <td>97.0 [95.0,98.0]</td>\n",
              "    </tr>\n",
              "    <tr>\n",
              "      <th>albumin, median [Q1,Q3]</th>\n",
              "      <th></th>\n",
              "      <td>2857</td>\n",
              "      <td>3.1 [2.6,3.8]</td>\n",
              "      <td>3.1 [2.6,3.6]</td>\n",
              "      <td>3.1 [2.7,3.6]</td>\n",
              "      <td>3.2 [2.7,3.9]</td>\n",
              "      <td>3.0 [2.5,3.6]</td>\n",
              "      <td>3.2 [2.6,3.8]</td>\n",
              "    </tr>\n",
              "    <tr>\n",
              "      <th>SOFA_admission, median [Q1,Q3]</th>\n",
              "      <th></th>\n",
              "      <td>0</td>\n",
              "      <td>8.0 [5.0,11.0]</td>\n",
              "      <td>9.0 [6.0,11.0]</td>\n",
              "      <td>8.0 [5.0,11.0]</td>\n",
              "      <td>8.0 [5.0,12.0]</td>\n",
              "      <td>8.0 [5.0,12.0]</td>\n",
              "      <td>7.0 [5.0,10.0]</td>\n",
              "    </tr>\n",
              "    <tr>\n",
              "      <th>delta_sofa_resp, median [Q1,Q3]</th>\n",
              "      <th></th>\n",
              "      <td>1968</td>\n",
              "      <td>27.0 [9.0,45.0]</td>\n",
              "      <td>27.0 [7.0,45.0]</td>\n",
              "      <td>29.0 [9.0,46.0]</td>\n",
              "      <td>28.0 [9.0,45.0]</td>\n",
              "      <td>28.0 [10.0,45.0]</td>\n",
              "      <td>27.0 [8.0,45.0]</td>\n",
              "    </tr>\n",
              "    <tr>\n",
              "      <th>los_icu, median [Q1,Q3]</th>\n",
              "      <th></th>\n",
              "      <td>0</td>\n",
              "      <td>8.7 [3.4,19.3]</td>\n",
              "      <td>14.5 [4.6,32.7]</td>\n",
              "      <td>9.0 [4.1,17.8]</td>\n",
              "      <td>9.2 [3.3,18.8]</td>\n",
              "      <td>9.7 [4.0,22.3]</td>\n",
              "      <td>8.1 [3.2,18.4]</td>\n",
              "    </tr>\n",
              "    <tr>\n",
              "      <th>delta_albumin, median [Q1,Q3]</th>\n",
              "      <th></th>\n",
              "      <td>2857</td>\n",
              "      <td>-850.0 [-4062.0,563.0]</td>\n",
              "      <td>-653.0 [-3851.2,703.5]</td>\n",
              "      <td>-812.0 [-3868.8,635.8]</td>\n",
              "      <td>-696.0 [-4230.0,748.0]</td>\n",
              "      <td>-578.0 [-3062.0,526.5]</td>\n",
              "      <td>-988.0 [-4387.0,548.0]</td>\n",
              "    </tr>\n",
              "    <tr>\n",
              "      <th>FiO2, median [Q1,Q3]</th>\n",
              "      <th></th>\n",
              "      <td>11414</td>\n",
              "      <td>50.0 [40.0,60.0]</td>\n",
              "      <td>50.0 [40.0,60.0]</td>\n",
              "      <td>50.0 [40.0,60.0]</td>\n",
              "      <td>50.0 [40.0,60.0]</td>\n",
              "      <td>50.0 [40.0,60.0]</td>\n",
              "      <td>50.0 [40.0,60.0]</td>\n",
              "    </tr>\n",
              "    <tr>\n",
              "      <th>pt, median [Q1,Q3]</th>\n",
              "      <th></th>\n",
              "      <td>65</td>\n",
              "      <td>14.2 [12.9,16.6]</td>\n",
              "      <td>14.0 [12.5,16.3]</td>\n",
              "      <td>14.4 [12.9,16.7]</td>\n",
              "      <td>14.3 [13.1,16.7]</td>\n",
              "      <td>14.2 [12.8,16.7]</td>\n",
              "      <td>14.2 [12.9,16.6]</td>\n",
              "    </tr>\n",
              "    <tr>\n",
              "      <th>BMI, median [Q1,Q3]</th>\n",
              "      <th></th>\n",
              "      <td>15958</td>\n",
              "      <td>28.6 [24.8,33.2]</td>\n",
              "      <td>24.6 [23.0,28.7]</td>\n",
              "      <td>29.8 [25.5,35.4]</td>\n",
              "      <td>29.6 [25.7,33.3]</td>\n",
              "      <td>28.5 [24.8,34.3]</td>\n",
              "      <td>28.6 [25.0,33.1]</td>\n",
              "    </tr>\n",
              "    <tr>\n",
              "      <th>los_hospital, median [Q1,Q3]</th>\n",
              "      <th></th>\n",
              "      <td>0</td>\n",
              "      <td>16.0 [8.0,29.0]</td>\n",
              "      <td>22.0 [10.0,42.0]</td>\n",
              "      <td>16.0 [9.8,29.0]</td>\n",
              "      <td>18.0 [9.0,38.0]</td>\n",
              "      <td>16.0 [8.0,30.0]</td>\n",
              "      <td>15.0 [8.0,28.0]</td>\n",
              "    </tr>\n",
              "    <tr>\n",
              "      <th>aniongap, median [Q1,Q3]</th>\n",
              "      <th></th>\n",
              "      <td>50</td>\n",
              "      <td>14.0 [11.0,17.0]</td>\n",
              "      <td>14.0 [12.0,17.0]</td>\n",
              "      <td>14.0 [12.0,17.0]</td>\n",
              "      <td>14.0 [12.0,18.0]</td>\n",
              "      <td>14.0 [12.0,18.0]</td>\n",
              "      <td>14.0 [11.0,17.0]</td>\n",
              "    </tr>\n",
              "    <tr>\n",
              "      <th>bicarbonate, median [Q1,Q3]</th>\n",
              "      <th></th>\n",
              "      <td>50</td>\n",
              "      <td>23.0 [21.0,26.0]</td>\n",
              "      <td>24.0 [21.0,26.0]</td>\n",
              "      <td>24.0 [21.0,27.0]</td>\n",
              "      <td>23.0 [21.0,26.0]</td>\n",
              "      <td>23.0 [20.0,26.0]</td>\n",
              "      <td>23.0 [21.0,26.0]</td>\n",
              "    </tr>\n",
              "  </tbody>\n",
              "</table>\n",
              "</div><br />"
            ]
          },
          "metadata": {},
          "execution_count": 21
        }
      ]
    },
    {
      "cell_type": "markdown",
      "source": [
        "### visualize your data\n",
        "\n",
        "While statistics are important, it is also very important and key to visualize the data. This will help to share the information and results in a visual and intuitive way, and identify anomalous and data patterns that could be useful when choosing the model."
      ],
      "metadata": {
        "id": "y-8mdEVQLSKZ"
      }
    },
    {
      "cell_type": "markdown",
      "source": [
        "#### Demographic Information"
      ],
      "metadata": {
        "id": "0L5teBSObmED"
      }
    },
    {
      "cell_type": "code",
      "source": [
        "sns.histplot(data=df, x=\"race_group\", kde=False)\n",
        "plt.title('Race group distribution')\n",
        "plt.show()"
      ],
      "metadata": {
        "colab": {
          "base_uri": "https://localhost:8080/",
          "height": 528
        },
        "id": "nIarH7T8bmbP",
        "outputId": "2878f95d-d633-4f46-8d91-f2d2275df31c"
      },
      "execution_count": 22,
      "outputs": [
        {
          "output_type": "stream",
          "name": "stderr",
          "text": [
            "/usr/local/lib/python3.10/dist-packages/ipykernel/ipkernel.py:283: DeprecationWarning: `should_run_async` will not call `transform_cell` automatically in the future. Please pass the result to `transformed_cell` argument and any exception that happen during thetransform in `preprocessing_exc_tuple` in IPython 7.17 and above.\n",
            "  and should_run_async(code)\n"
          ]
        },
        {
          "output_type": "display_data",
          "data": {
            "text/plain": [
              "<Figure size 640x480 with 1 Axes>"
            ],
            "image/png": "[encoded data removed]"
          },
          "metadata": {}
        }
      ]
    },
    {
      "cell_type": "code",
      "source": [
        "sns.histplot(data=df, x=\"gender\", kde=False)\n",
        "plt.title('Gender distribution')\n",
        "plt.show()"
      ],
      "metadata": {
        "colab": {
          "base_uri": "https://localhost:8080/",
          "height": 528
        },
        "id": "21beiKNxcJGf",
        "outputId": "598492d2-ac0b-43ee-836b-154187847d06"
      },
      "execution_count": 23,
      "outputs": [
        {
          "output_type": "stream",
          "name": "stderr",
          "text": [
            "/usr/local/lib/python3.10/dist-packages/ipykernel/ipkernel.py:283: DeprecationWarning: `should_run_async` will not call `transform_cell` automatically in the future. Please pass the result to `transformed_cell` argument and any exception that happen during thetransform in `preprocessing_exc_tuple` in IPython 7.17 and above.\n",
            "  and should_run_async(code)\n"
          ]
        },
        {
          "output_type": "display_data",
          "data": {
            "text/plain": [
              "<Figure size 640x480 with 1 Axes>"
            ],
            "image/png": "[encoded data removed]"
          },
          "metadata": {}
        }
      ]
    },
    {
      "cell_type": "code",
      "source": [
        "sns.histplot(data=df, x=\"anchor_age\", hue=\"race_group\", multiple=\"dodge\")\n",
        "plt.title('Age distribution by race group')\n",
        "plt.show()"
      ],
      "metadata": {
        "colab": {
          "base_uri": "https://localhost:8080/",
          "height": 528
        },
        "id": "gKDp62Uldi6l",
        "outputId": "74c54dc4-94fb-437b-e625-47df1e035aec"
      },
      "execution_count": 24,
      "outputs": [
        {
          "output_type": "stream",
          "name": "stderr",
          "text": [
            "/usr/local/lib/python3.10/dist-packages/ipykernel/ipkernel.py:283: DeprecationWarning: `should_run_async` will not call `transform_cell` automatically in the future. Please pass the result to `transformed_cell` argument and any exception that happen during thetransform in `preprocessing_exc_tuple` in IPython 7.17 and above.\n",
            "  and should_run_async(code)\n"
          ]
        },
        {
          "output_type": "display_data",
          "data": {
            "text/plain": [
              "<Figure size 640x480 with 1 Axes>"
            ],
            "image/png": "[encoded data removed]"
          },
          "metadata": {}
        }
      ]
    },
    {
      "cell_type": "markdown",
      "source": [
        "#### SaO2"
      ],
      "metadata": {
        "id": "Mhi4eVrrhzJ3"
      }
    },
    {
      "cell_type": "code",
      "source": [
        "def plot_groupby(df, group1, group2, variable, barplot=True, boxplot=True, violinplot=False):\n",
        "\n",
        "  \"\"\"\n",
        "  This function creates two plots that compare the average values of a variable for two groups in a pandas dataframe.\n",
        "  The function allows the user to choose between a bar plot, box plot, and violin plot for each group.\n",
        "  The first plot compares the averages for the first group, and the second plot compares the averages for the second group.\n",
        "  \n",
        "  Inputs:\n",
        "  df: pandas dataframe\n",
        "  group1: string, name of the first categorical variable to group by\n",
        "  group2: string, name of the second categorical variable to group by\n",
        "  variable: string, name of the numerical variable to plot\n",
        "  barplot: boolean, optional, default True. Whether to plot bar plots or not\n",
        "  boxplot: boolean, optional, default True. Whether to plot box plots or not\n",
        "  violinplot: boolean, optional, default False. Whether to plot violin plots or not\n",
        "  \n",
        "  Outputs: \n",
        "  None\n",
        "  \"\"\"\n",
        "\n",
        "  avg_by_group1 = df.groupby(group1)[variable].mean()\n",
        "  avg_by_group2 = df.groupby(group2)[variable].mean()\n",
        "\n",
        "  fig, (ax1, ax2) = plt.subplots(1, 2, figsize=(12, 6))\n",
        "  \n",
        "  if barplot:\n",
        "    # Bar plot\n",
        "    print('Bar Plot: ')\n",
        "    ax1.bar(avg_by_group1.index, avg_by_group1.values)\n",
        "    ax1.set_xlabel(group1)\n",
        "    ax1.set_ylabel(f'Average {variable}')\n",
        "    ax2.bar(avg_by_group2.index, avg_by_group2.values)\n",
        "    ax2.set_xlabel(group2)\n",
        "    ax2.set_ylabel(f'Average {variable}')\n",
        "    plt.show()\n",
        "\n",
        "  if boxplot:\n",
        "    # Create box plots to visualize the distribution of SaO2 values by gender and ethnicity\n",
        "    print('Box Plot: ')\n",
        "    sns.boxplot(x=group1, y=variable, hue=group2, data=df)\n",
        "    plt.show()\n",
        "\n",
        "  if violinplot:\n",
        "    print('Violin Plot: ')\n",
        "    sns.violinplot(x=group1, y=variable, hue=group2, data=df)\n",
        "    plt.show()\n"
      ],
      "metadata": {
        "id": "IOWP5b6IZSyW",
        "colab": {
          "base_uri": "https://localhost:8080/"
        },
        "outputId": "f20487a6-980f-4531-b713-d8a9fcc83976"
      },
      "execution_count": 25,
      "outputs": [
        {
          "output_type": "stream",
          "name": "stderr",
          "text": [
            "/usr/local/lib/python3.10/dist-packages/ipykernel/ipkernel.py:283: DeprecationWarning: `should_run_async` will not call `transform_cell` automatically in the future. Please pass the result to `transformed_cell` argument and any exception that happen during thetransform in `preprocessing_exc_tuple` in IPython 7.17 and above.\n",
            "  and should_run_async(code)\n"
          ]
        }
      ]
    },
    {
      "cell_type": "code",
      "source": [
        "plot_groupby(df, group1='gender', group2='race_group', variable='SaO2')"
      ],
      "metadata": {
        "id": "kd8Y6R_P9qag",
        "colab": {
          "base_uri": "https://localhost:8080/",
          "height": 1000
        },
        "outputId": "eb6ff51c-77ef-4705-f431-149396575042"
      },
      "execution_count": 26,
      "outputs": [
        {
          "output_type": "stream",
          "name": "stderr",
          "text": [
            "/usr/local/lib/python3.10/dist-packages/ipykernel/ipkernel.py:283: DeprecationWarning: `should_run_async` will not call `transform_cell` automatically in the future. Please pass the result to `transformed_cell` argument and any exception that happen during thetransform in `preprocessing_exc_tuple` in IPython 7.17 and above.\n",
            "  and should_run_async(code)\n"
          ]
        },
        {
          "output_type": "stream",
          "name": "stdout",
          "text": [
            "Bar Plot: \n"
          ]
        },
        {
          "output_type": "display_data",
          "data": {
            "text/plain": [
              "<Figure size 1200x600 with 2 Axes>"
            ],
            "image/png": "[encoded data removed]"
          },
          "metadata": {}
        },
        {
          "output_type": "stream",
          "name": "stdout",
          "text": [
            "Box Plot: \n"
          ]
        },
        {
          "output_type": "display_data",
          "data": {
            "text/plain": [
              "<Figure size 640x480 with 1 Axes>"
            ],
            "image/png": "[encoded data removed]"
          },
          "metadata": {}
        }
      ]
    },
    {
      "cell_type": "markdown",
      "source": [
        "##### Alert: While there are no missing values in SaO2. There are a number of very high values well above what they should be (between 0 and 100). That explains why we have such high average values. This tells us that the values in 99999 are possibly missing values."
      ],
      "metadata": {
        "id": "nGWUt21SNhbd"
      }
    },
    {
      "cell_type": "code",
      "source": [
        "outliers = 100\n",
        "\n",
        "df['SaO2'] = df['SaO2'].apply(lambda x: np.nan if x > outliers else x)\n",
        "#df['SaO2']"
      ],
      "metadata": {
        "id": "YdZUt_G6NffR",
        "colab": {
          "base_uri": "https://localhost:8080/"
        },
        "outputId": "4ad51e99-36c3-4b42-f7ba-c43e7c15949c"
      },
      "execution_count": 27,
      "outputs": [
        {
          "output_type": "stream",
          "name": "stderr",
          "text": [
            "/usr/local/lib/python3.10/dist-packages/ipykernel/ipkernel.py:283: DeprecationWarning: `should_run_async` will not call `transform_cell` automatically in the future. Please pass the result to `transformed_cell` argument and any exception that happen during thetransform in `preprocessing_exc_tuple` in IPython 7.17 and above.\n",
            "  and should_run_async(code)\n"
          ]
        }
      ]
    },
    {
      "cell_type": "code",
      "source": [
        "plot_groupby(df, group1='gender', group2='race_group', variable='SaO2')"
      ],
      "metadata": {
        "colab": {
          "base_uri": "https://localhost:8080/",
          "height": 1000
        },
        "id": "MN6TLs4kaser",
        "outputId": "caee1227-5882-4fa3-e15a-f1e23ce52645"
      },
      "execution_count": 28,
      "outputs": [
        {
          "output_type": "stream",
          "name": "stderr",
          "text": [
            "/usr/local/lib/python3.10/dist-packages/ipykernel/ipkernel.py:283: DeprecationWarning: `should_run_async` will not call `transform_cell` automatically in the future. Please pass the result to `transformed_cell` argument and any exception that happen during thetransform in `preprocessing_exc_tuple` in IPython 7.17 and above.\n",
            "  and should_run_async(code)\n"
          ]
        },
        {
          "output_type": "stream",
          "name": "stdout",
          "text": [
            "Bar Plot: \n"
          ]
        },
        {
          "output_type": "display_data",
          "data": {
            "text/plain": [
              "<Figure size 1200x600 with 2 Axes>"
            ],
            "image/png": "[encoded data removed]"
          },
          "metadata": {}
        },
        {
          "output_type": "stream",
          "name": "stdout",
          "text": [
            "Box Plot: \n"
          ]
        },
        {
          "output_type": "display_data",
          "data": {
            "text/plain": [
              "<Figure size 640x480 with 1 Axes>"
            ],
            "image/png": "[encoded data removed]"
          },
          "metadata": {}
        }
      ]
    },
    {
      "cell_type": "markdown",
      "source": [
        "#### SpO2"
      ],
      "metadata": {
        "id": "5VbxyRjYh6UN"
      }
    },
    {
      "cell_type": "code",
      "source": [
        "plot_groupby(df, group1='gender', group2='race_group', variable='SpO2')"
      ],
      "metadata": {
        "id": "mcbHq8-0jIMB",
        "colab": {
          "base_uri": "https://localhost:8080/",
          "height": 1000
        },
        "outputId": "f7b930b1-8453-4ae3-9ab5-57c94c6520fb"
      },
      "execution_count": 29,
      "outputs": [
        {
          "output_type": "stream",
          "name": "stderr",
          "text": [
            "/usr/local/lib/python3.10/dist-packages/ipykernel/ipkernel.py:283: DeprecationWarning: `should_run_async` will not call `transform_cell` automatically in the future. Please pass the result to `transformed_cell` argument and any exception that happen during thetransform in `preprocessing_exc_tuple` in IPython 7.17 and above.\n",
            "  and should_run_async(code)\n"
          ]
        },
        {
          "output_type": "stream",
          "name": "stdout",
          "text": [
            "Bar Plot: \n"
          ]
        },
        {
          "output_type": "display_data",
          "data": {
            "text/plain": [
              "<Figure size 1200x600 with 2 Axes>"
            ],
            "image/png": "[encoded data removed]"
          },
          "metadata": {}
        },
        {
          "output_type": "stream",
          "name": "stdout",
          "text": [
            "Box Plot: \n"
          ]
        },
        {
          "output_type": "display_data",
          "data": {
            "text/plain": [
              "<Figure size 640x480 with 1 Axes>"
            ],
            "image/png": "[encoded data removed]"
          },
          "metadata": {}
        }
      ]
    },
    {
      "cell_type": "code",
      "source": [
        "outliers = 100\n",
        "\n",
        "df['SpO2'] = df['SpO2'].apply(lambda x: np.nan if x > outliers else x)\n",
        "#df['SpO2']"
      ],
      "metadata": {
        "id": "k_41Icb4gpX6",
        "colab": {
          "base_uri": "https://localhost:8080/"
        },
        "outputId": "846a6296-e0b1-415e-92a1-6f773ce4b9cd"
      },
      "execution_count": 30,
      "outputs": [
        {
          "output_type": "stream",
          "name": "stderr",
          "text": [
            "/usr/local/lib/python3.10/dist-packages/ipykernel/ipkernel.py:283: DeprecationWarning: `should_run_async` will not call `transform_cell` automatically in the future. Please pass the result to `transformed_cell` argument and any exception that happen during thetransform in `preprocessing_exc_tuple` in IPython 7.17 and above.\n",
            "  and should_run_async(code)\n"
          ]
        }
      ]
    },
    {
      "cell_type": "markdown",
      "source": [
        "#### Time Offset"
      ],
      "metadata": {
        "id": "_IApC0RKfjcO"
      }
    },
    {
      "cell_type": "code",
      "source": [
        "for column in df.columns:\n",
        "  if 'delta' in column:\n",
        "    print(column)"
      ],
      "metadata": {
        "colab": {
          "base_uri": "https://localhost:8080/"
        },
        "id": "OSwa5fEdhQT_",
        "outputId": "11537c6f-dd54-4bb5-cd8d-84081ef6ac15"
      },
      "execution_count": 31,
      "outputs": [
        {
          "output_type": "stream",
          "name": "stdout",
          "text": [
            "delta_SpO2\n",
            "delta_ld_ldh\n",
            "delta_vent_start\n",
            "delta_sofa_resp\n",
            "delta_albumin\n"
          ]
        },
        {
          "output_type": "stream",
          "name": "stderr",
          "text": [
            "/usr/local/lib/python3.10/dist-packages/ipykernel/ipkernel.py:283: DeprecationWarning: `should_run_async` will not call `transform_cell` automatically in the future. Please pass the result to `transformed_cell` argument and any exception that happen during thetransform in `preprocessing_exc_tuple` in IPython 7.17 and above.\n",
            "  and should_run_async(code)\n"
          ]
        }
      ]
    },
    {
      "cell_type": "code",
      "source": [
        "plot_groupby(df, group1='gender', group2='race_group', variable='delta_vent_start', barplot=True, boxplot=False, violinplot=True)"
      ],
      "metadata": {
        "id": "QCGZGTHfeuiC",
        "colab": {
          "base_uri": "https://localhost:8080/",
          "height": 1000
        },
        "outputId": "03e644e8-a5a2-4e35-cd33-15f925c69eb6"
      },
      "execution_count": 32,
      "outputs": [
        {
          "output_type": "stream",
          "name": "stderr",
          "text": [
            "/usr/local/lib/python3.10/dist-packages/ipykernel/ipkernel.py:283: DeprecationWarning: `should_run_async` will not call `transform_cell` automatically in the future. Please pass the result to `transformed_cell` argument and any exception that happen during thetransform in `preprocessing_exc_tuple` in IPython 7.17 and above.\n",
            "  and should_run_async(code)\n"
          ]
        },
        {
          "output_type": "stream",
          "name": "stdout",
          "text": [
            "Bar Plot: \n"
          ]
        },
        {
          "output_type": "display_data",
          "data": {
            "text/plain": [
              "<Figure size 1200x600 with 2 Axes>"
            ],
            "image/png": "[encoded data removed]"
          },
          "metadata": {}
        },
        {
          "output_type": "stream",
          "name": "stdout",
          "text": [
            "Violin Plot: \n"
          ]
        },
        {
          "output_type": "display_data",
          "data": {
            "text/plain": [
              "<Figure size 640x480 with 1 Axes>"
            ],
            "image/png": "[encoded data removed]"
          },
          "metadata": {}
        }
      ]
    },
    {
      "cell_type": "code",
      "source": [
        "plot_groupby(df, group1='gender', group2='race_group', variable='delta_sofa_resp', barplot=True, boxplot=False, violinplot=True)"
      ],
      "metadata": {
        "colab": {
          "base_uri": "https://localhost:8080/",
          "height": 1000
        },
        "id": "QIK-sO7Ug0Eh",
        "outputId": "c833cae1-173c-4a71-da46-57a9c81f82da"
      },
      "execution_count": 33,
      "outputs": [
        {
          "output_type": "stream",
          "name": "stderr",
          "text": [
            "/usr/local/lib/python3.10/dist-packages/ipykernel/ipkernel.py:283: DeprecationWarning: `should_run_async` will not call `transform_cell` automatically in the future. Please pass the result to `transformed_cell` argument and any exception that happen during thetransform in `preprocessing_exc_tuple` in IPython 7.17 and above.\n",
            "  and should_run_async(code)\n"
          ]
        },
        {
          "output_type": "stream",
          "name": "stdout",
          "text": [
            "Bar Plot: \n"
          ]
        },
        {
          "output_type": "display_data",
          "data": {
            "text/plain": [
              "<Figure size 1200x600 with 2 Axes>"
            ],
            "image/png": "[encoded data removed]"
          },
          "metadata": {}
        },
        {
          "output_type": "stream",
          "name": "stdout",
          "text": [
            "Violin Plot: \n"
          ]
        },
        {
          "output_type": "display_data",
          "data": {
            "text/plain": [
              "<Figure size 640x480 with 1 Axes>"
            ],
            "image/png": "[encoded data removed]"
          },
          "metadata": {}
        }
      ]
    },
    {
      "cell_type": "markdown",
      "source": [
        "## Preprocessing\n",
        "\n",
        "We know that there are some outliers so let's assume that those values al missing values and then analyze the amount of missing values for preprocessing"
      ],
      "metadata": {
        "id": "OQxBAUV7SCcV"
      }
    },
    {
      "cell_type": "markdown",
      "source": [
        "### Missing values"
      ],
      "metadata": {
        "id": "Th51UTXwSRYk"
      }
    },
    {
      "cell_type": "code",
      "source": [
        "msno.matrix(df)"
      ],
      "metadata": {
        "id": "cW7ysOZGeunN",
        "colab": {
          "base_uri": "https://localhost:8080/",
          "height": 779
        },
        "outputId": "1520baa1-eac1-4088-dc98-dc922c1b2955"
      },
      "execution_count": 34,
      "outputs": [
        {
          "output_type": "stream",
          "name": "stderr",
          "text": [
            "/usr/local/lib/python3.10/dist-packages/ipykernel/ipkernel.py:283: DeprecationWarning: `should_run_async` will not call `transform_cell` automatically in the future. Please pass the result to `transformed_cell` argument and any exception that happen during thetransform in `preprocessing_exc_tuple` in IPython 7.17 and above.\n",
            "  and should_run_async(code)\n"
          ]
        },
        {
          "output_type": "execute_result",
          "data": {
            "text/plain": [
              "<Axes: >"
            ]
          },
          "metadata": {},
          "execution_count": 34
        },
        {
          "output_type": "display_data",
          "data": {
            "text/plain": [
              "<Figure size 2500x1000 with 2 Axes>"
            ],
            "image/png": "[encoded data removed]"
          },
          "metadata": {}
        }
      ]
    },
    {
      "cell_type": "code",
      "source": [
        "### List of columns with mussing values ###\n",
        "null_values(df)"
      ],
      "metadata": {
        "colab": {
          "base_uri": "https://localhost:8080/"
        },
        "id": "DNVsJ8FRSJ7N",
        "outputId": "2a41ac1d-be3d-4d70-fd59-5f8e45d8e602"
      },
      "execution_count": 35,
      "outputs": [
        {
          "output_type": "stream",
          "name": "stderr",
          "text": [
            "/usr/local/lib/python3.10/dist-packages/ipykernel/ipkernel.py:283: DeprecationWarning: `should_run_async` will not call `transform_cell` automatically in the future. Please pass the result to `transformed_cell` argument and any exception that happen during thetransform in `preprocessing_exc_tuple` in IPython 7.17 and above.\n",
            "  and should_run_async(code)\n"
          ]
        },
        {
          "output_type": "stream",
          "name": "stdout",
          "text": [
            "Null values: \n",
            "ph                                   64\n",
            "inr                                  65\n",
            "chloride                             50\n",
            "norepinephrine_equivalent_dose    42002\n",
            "mchc                                 47\n",
            "delta_ld_ldh                       8931\n",
            "ventilation_status                10070\n",
            "lactate                             326\n",
            "delta_vent_start                  10070\n",
            "SpO2                                  1\n",
            "SaO2                                 26\n",
            "albumin                            2857\n",
            "delta_sofa_resp                    1968\n",
            "delta_albumin                      2857\n",
            "FiO2                              11414\n",
            "pt                                   65\n",
            "BMI                               15958\n",
            "aniongap                             50\n",
            "bicarbonate                          50\n",
            "sofa_resp                          1968\n",
            "dtype: int64\n"
          ]
        }
      ]
    },
    {
      "cell_type": "markdown",
      "source": [
        "### Data Imputation\n",
        "\n",
        "There are various imputation methods of different complexity, ranging from imputing using the most common value (mode) (usually used for categorical variables) or the average or median value depending on the distribution of the data (usually used for numerical variables), to imputation methods using machine learning algorithms to predict the missing value using the other variables as a reference. While any method of data imputation can be valid, you have to take care to avoid data leakage or adding bias when doing this process."
      ],
      "metadata": {
        "id": "TGfy5tf4SndZ"
      }
    },
    {
      "cell_type": "markdown",
      "source": [
        "As we have the columns with missing data, let's divide the columns into two sub groups:\n",
        "1. Categorical columns with missing\n",
        "2. Numerical columns with missing"
      ],
      "metadata": {
        "id": "Vsi0qe3cQzmV"
      }
    },
    {
      "cell_type": "code",
      "source": [
        "# Get numerical and categorical columns:\n",
        "categorical_cols, numerical_cols = get_categorical_numerical_variables(df, limit=10, ignore=ignore, verbose=False)"
      ],
      "metadata": {
        "colab": {
          "base_uri": "https://localhost:8080/"
        },
        "id": "qExWrf1JxPoU",
        "outputId": "121f634a-f635-4e03-8cd4-9e9f07ffa195"
      },
      "execution_count": 36,
      "outputs": [
        {
          "output_type": "stream",
          "name": "stderr",
          "text": [
            "/usr/local/lib/python3.10/dist-packages/ipykernel/ipkernel.py:283: DeprecationWarning: `should_run_async` will not call `transform_cell` automatically in the future. Please pass the result to `transformed_cell` argument and any exception that happen during thetransform in `preprocessing_exc_tuple` in IPython 7.17 and above.\n",
            "  and should_run_async(code)\n"
          ]
        }
      ]
    },
    {
      "cell_type": "code",
      "source": [
        "# Get the columns with missing data\n",
        "columns_missing = df.isnull().sum()[df.isnull().sum()  > 0].index\n",
        "columns_missing"
      ],
      "metadata": {
        "colab": {
          "base_uri": "https://localhost:8080/"
        },
        "id": "0RLwYEoKynP_",
        "outputId": "893e9df1-7f4b-4ec1-facf-143a11fe60af"
      },
      "execution_count": 37,
      "outputs": [
        {
          "output_type": "stream",
          "name": "stderr",
          "text": [
            "/usr/local/lib/python3.10/dist-packages/ipykernel/ipkernel.py:283: DeprecationWarning: `should_run_async` will not call `transform_cell` automatically in the future. Please pass the result to `transformed_cell` argument and any exception that happen during thetransform in `preprocessing_exc_tuple` in IPython 7.17 and above.\n",
            "  and should_run_async(code)\n"
          ]
        },
        {
          "output_type": "execute_result",
          "data": {
            "text/plain": [
              "Index(['ph', 'inr', 'chloride', 'norepinephrine_equivalent_dose', 'mchc',\n",
              "       'delta_ld_ldh', 'ventilation_status', 'lactate', 'delta_vent_start',\n",
              "       'SpO2', 'SaO2', 'albumin', 'delta_sofa_resp', 'delta_albumin', 'FiO2',\n",
              "       'pt', 'BMI', 'aniongap', 'bicarbonate', 'sofa_resp'],\n",
              "      dtype='object')"
            ]
          },
          "metadata": {},
          "execution_count": 37
        }
      ]
    },
    {
      "cell_type": "code",
      "source": [
        "from sklearn.linear_model import LinearRegression\n",
        "from sklearn.preprocessing import LabelEncoder\n",
        "\n",
        "def apply_data_imputation(df, groupby_cols, impute_cols, method='model'):\n",
        "\n",
        "  \"\"\"\n",
        "  Apply data imputation on missing values of columns by groupby the given columns.\n",
        "\n",
        "  Inputs:\n",
        "  df: Pandas DataFrame with the input data to apply data imputation.\n",
        "  groupby_cols: list with the column names to groupby the data.\n",
        "  impute_cols: list with the column names to apply data imputation.\n",
        "  method: str with the method to apply data imputation. Available options are 'median', 'mean', and 'mode', and 'model'.\n",
        "\n",
        "  Output:\n",
        "  Pandas DataFrame with the data after applying data imputation on missing values of columns.\n",
        "  \"\"\"\n",
        "\n",
        "  for col in impute_cols:\n",
        "      \n",
        "    # Group the data and calculate the method (E.g. Median) for each group\n",
        "    if method == 'median':\n",
        "      imputation_values = df.groupby(groupby_cols)[col].median()\n",
        "    elif method == 'mean':\n",
        "      imputation_values = df.groupby(groupby_cols)[col].mean()\n",
        "    elif method == 'mode':\n",
        "      imputation_values = df.groupby(groupby_cols)[col].agg(pd.Series.mode)\n",
        "    elif method == 'model':\n",
        "      # If the variable is categorical, convert to numeric:\n",
        "      if df[col].dtype == 'object':\n",
        "        encoder = LabelEncoder()\n",
        "        df[col] = encoder.fit_transform(df[col])\n",
        "\n",
        "      # Create a linear regression model to impute missing values\n",
        "      model = LinearRegression()\n",
        "\n",
        "      # Get the data with complete column\n",
        "      complete_data = df.dropna(subset=[col])\n",
        "\n",
        "      # Encode categorical columns if needed in x data\n",
        "      for col_group in groupby_cols:\n",
        "        if df[col_group].dtype == 'object':\n",
        "          le = LabelEncoder()\n",
        "          complete_data[col_group] = le.fit_transform(complete_data[col_group])\n",
        "\n",
        "      # Fit the model on the complete data\n",
        "      X = complete_data[groupby_cols]\n",
        "      # Replace any remaining NaNs with the column mean\n",
        "      X = X.fillna(X.mean())\n",
        "      y = complete_data[col]\n",
        "      model.fit(X, y)\n",
        "\n",
        "    if method == 'model':\n",
        "      # Impute column using the model to predict the value:\n",
        "      missing_data = df[df[col].isna()]\n",
        "\n",
        "      # Encode categorical columns if needed in x data\n",
        "      for col_group in groupby_cols:\n",
        "        if missing_data[col_group].dtype == 'object':\n",
        "          missing_data[col_group] = le.transform(missing_data[col_group])\n",
        "\n",
        "      for index, row in missing_data.iterrows():\n",
        "          values = row[groupby_cols].values.reshape(1, -1)\n",
        "          imputed_value = model.predict(values)\n",
        "          df.at[index, col] = imputed_value[0]\n",
        "          \n",
        "    else:\n",
        "      # Fill missing values with the method of the corresponding group\n",
        "      df[col] = df.apply(lambda x: imputation_values[tuple(x[groupby_cols])] if pd.isna(x[col]) else x[col], axis=1)\n",
        "\n",
        "  return df\n"
      ],
      "metadata": {
        "colab": {
          "base_uri": "https://localhost:8080/"
        },
        "id": "dqZXomYXPa3G",
        "outputId": "20e8ea50-e71c-49e4-9a2a-92419c8ee6bb"
      },
      "execution_count": 38,
      "outputs": [
        {
          "output_type": "stream",
          "name": "stderr",
          "text": [
            "/usr/local/lib/python3.10/dist-packages/ipykernel/ipkernel.py:283: DeprecationWarning: `should_run_async` will not call `transform_cell` automatically in the future. Please pass the result to `transformed_cell` argument and any exception that happen during thetransform in `preprocessing_exc_tuple` in IPython 7.17 and above.\n",
            "  and should_run_async(code)\n"
          ]
        }
      ]
    },
    {
      "cell_type": "markdown",
      "source": [
        "#### 1. Categorical columns with missing"
      ],
      "metadata": {
        "id": "nTFDHd8RKbqI"
      }
    },
    {
      "cell_type": "code",
      "source": [
        "# Get from columns with missing data the categorical columns\n",
        "categorical_cols_missing = [column for column in categorical_cols if column in columns_missing]\n",
        "categorical_cols_missing"
      ],
      "metadata": {
        "colab": {
          "base_uri": "https://localhost:8080/"
        },
        "id": "NCNfYwpNKXRv",
        "outputId": "a660239c-2a55-4694-d9b2-9f3b35d3bf76"
      },
      "execution_count": 39,
      "outputs": [
        {
          "output_type": "stream",
          "name": "stderr",
          "text": [
            "/usr/local/lib/python3.10/dist-packages/ipykernel/ipkernel.py:283: DeprecationWarning: `should_run_async` will not call `transform_cell` automatically in the future. Please pass the result to `transformed_cell` argument and any exception that happen during thetransform in `preprocessing_exc_tuple` in IPython 7.17 and above.\n",
            "  and should_run_async(code)\n"
          ]
        },
        {
          "output_type": "execute_result",
          "data": {
            "text/plain": [
              "['ventilation_status', 'sofa_resp']"
            ]
          },
          "metadata": {},
          "execution_count": 39
        }
      ]
    },
    {
      "cell_type": "code",
      "source": [
        "groupby_cols = ['race_group', 'gender']\n",
        "\n",
        "df = apply_data_imputation(df, groupby_cols, impute_cols=categorical_cols_missing, method='mode')"
      ],
      "metadata": {
        "colab": {
          "base_uri": "https://localhost:8080/"
        },
        "id": "KSws7IRAScbC",
        "outputId": "ab9658de-2780-43fc-bbcb-7477beb5cc1c"
      },
      "execution_count": 40,
      "outputs": [
        {
          "output_type": "stream",
          "name": "stderr",
          "text": [
            "/usr/local/lib/python3.10/dist-packages/ipykernel/ipkernel.py:283: DeprecationWarning: `should_run_async` will not call `transform_cell` automatically in the future. Please pass the result to `transformed_cell` argument and any exception that happen during thetransform in `preprocessing_exc_tuple` in IPython 7.17 and above.\n",
            "  and should_run_async(code)\n"
          ]
        }
      ]
    },
    {
      "cell_type": "markdown",
      "source": [
        "#### 2. Numerical columns with missing"
      ],
      "metadata": {
        "id": "OHwYtppJLNfd"
      }
    },
    {
      "cell_type": "code",
      "source": [
        "# Get from columns with missing data the numerical columns\n",
        "numerical_cols_missing = [column for column in numerical_cols if column in columns_missing]\n",
        "numerical_cols_missing"
      ],
      "metadata": {
        "colab": {
          "base_uri": "https://localhost:8080/"
        },
        "id": "7TavY8buLUIP",
        "outputId": "84200d18-ed23-48ac-a225-81fdfea65bbc"
      },
      "execution_count": 41,
      "outputs": [
        {
          "output_type": "stream",
          "name": "stderr",
          "text": [
            "/usr/local/lib/python3.10/dist-packages/ipykernel/ipkernel.py:283: DeprecationWarning: `should_run_async` will not call `transform_cell` automatically in the future. Please pass the result to `transformed_cell` argument and any exception that happen during thetransform in `preprocessing_exc_tuple` in IPython 7.17 and above.\n",
            "  and should_run_async(code)\n"
          ]
        },
        {
          "output_type": "execute_result",
          "data": {
            "text/plain": [
              "['ph',\n",
              " 'inr',\n",
              " 'chloride',\n",
              " 'norepinephrine_equivalent_dose',\n",
              " 'mchc',\n",
              " 'delta_ld_ldh',\n",
              " 'lactate',\n",
              " 'delta_vent_start',\n",
              " 'SpO2',\n",
              " 'SaO2',\n",
              " 'albumin',\n",
              " 'delta_sofa_resp',\n",
              " 'delta_albumin',\n",
              " 'FiO2',\n",
              " 'pt',\n",
              " 'BMI',\n",
              " 'aniongap',\n",
              " 'bicarbonate']"
            ]
          },
          "metadata": {},
          "execution_count": 41
        }
      ]
    },
    {
      "cell_type": "code",
      "source": [
        "groupby_cols = ['race_group', 'gender']\n",
        "\n",
        "df = apply_data_imputation(df, groupby_cols, impute_cols=numerical_cols_missing, method='median')"
      ],
      "metadata": {
        "colab": {
          "base_uri": "https://localhost:8080/"
        },
        "id": "tuTNR8qtLV48",
        "outputId": "c7e2b2c9-779a-461e-a13a-44c618c1326b"
      },
      "execution_count": 42,
      "outputs": [
        {
          "output_type": "stream",
          "name": "stderr",
          "text": [
            "/usr/local/lib/python3.10/dist-packages/ipykernel/ipkernel.py:283: DeprecationWarning: `should_run_async` will not call `transform_cell` automatically in the future. Please pass the result to `transformed_cell` argument and any exception that happen during thetransform in `preprocessing_exc_tuple` in IPython 7.17 and above.\n",
            "  and should_run_async(code)\n"
          ]
        }
      ]
    },
    {
      "cell_type": "code",
      "source": [
        "### List of columns with mussing values ###\n",
        "null_values(df)"
      ],
      "metadata": {
        "colab": {
          "base_uri": "https://localhost:8080/"
        },
        "id": "z9j3QnH6QPp-",
        "outputId": "093b47e5-6e04-48bc-c682-fd360161a189"
      },
      "execution_count": 43,
      "outputs": [
        {
          "output_type": "stream",
          "name": "stdout",
          "text": [
            "There aren't null values in the dataframe\n"
          ]
        },
        {
          "output_type": "stream",
          "name": "stderr",
          "text": [
            "/usr/local/lib/python3.10/dist-packages/ipykernel/ipkernel.py:283: DeprecationWarning: `should_run_async` will not call `transform_cell` automatically in the future. Please pass the result to `transformed_cell` argument and any exception that happen during thetransform in `preprocessing_exc_tuple` in IPython 7.17 and above.\n",
            "  and should_run_async(code)\n"
          ]
        }
      ]
    },
    {
      "cell_type": "markdown",
      "source": [
        "### Encoding\n",
        "\n",
        "Since the machine learning model in the background models and finds patterns in our data. It only supports numeric values. For this reason, categorical variables must be coded to numeric values."
      ],
      "metadata": {
        "id": "ojBX1nM1nE3W"
      }
    },
    {
      "cell_type": "code",
      "source": [
        "print(f'Categorical: {categorical_cols}')"
      ],
      "metadata": {
        "colab": {
          "base_uri": "https://localhost:8080/"
        },
        "id": "oJ3BioApnFMK",
        "outputId": "085e6b21-3161-4513-b6ef-9a7e5b584244"
      },
      "execution_count": 44,
      "outputs": [
        {
          "output_type": "stream",
          "name": "stdout",
          "text": [
            "Categorical: ['hidden_hypoxemia', 'insurance', 'gender', 'ventilation_status', 'mortality_in', 'language', 'invasive_vent', 'rrt', 'sofa_resp']\n"
          ]
        },
        {
          "output_type": "stream",
          "name": "stderr",
          "text": [
            "/usr/local/lib/python3.10/dist-packages/ipykernel/ipkernel.py:283: DeprecationWarning: `should_run_async` will not call `transform_cell` automatically in the future. Please pass the result to `transformed_cell` argument and any exception that happen during thetransform in `preprocessing_exc_tuple` in IPython 7.17 and above.\n",
            "  and should_run_async(code)\n"
          ]
        }
      ]
    },
    {
      "cell_type": "code",
      "source": [
        "for column in categorical_cols:\n",
        "  print(f\"Column '{column}' has values: {pd.unique(df[column])}\")"
      ],
      "metadata": {
        "id": "4AVAghb6nQmK",
        "colab": {
          "base_uri": "https://localhost:8080/"
        },
        "outputId": "c9a211f4-200b-4945-b30c-7d748f156c8f"
      },
      "execution_count": 45,
      "outputs": [
        {
          "output_type": "stream",
          "name": "stdout",
          "text": [
            "Column 'hidden_hypoxemia' has values: [0 1]\n",
            "Column 'insurance' has values: ['Medicare' 'Other' 'Medicaid']\n",
            "Column 'gender' has values: ['F' 'M']\n",
            "Column 'ventilation_status' has values: ['NonInvasiveVent' 'InvasiveVent' 'SupplementalOxygen' 'HFNC'\n",
            " 'Tracheostomy' 'None']\n",
            "Column 'mortality_in' has values: [1 0]\n",
            "Column 'language' has values: ['Proficient' 'Limited Proficiency']\n",
            "Column 'invasive_vent' has values: [0 1]\n",
            "Column 'rrt' has values: [0 1]\n",
            "Column 'sofa_resp' has values: [2. 1. 3. 0. 4.]\n"
          ]
        },
        {
          "output_type": "stream",
          "name": "stderr",
          "text": [
            "/usr/local/lib/python3.10/dist-packages/ipykernel/ipkernel.py:283: DeprecationWarning: `should_run_async` will not call `transform_cell` automatically in the future. Please pass the result to `transformed_cell` argument and any exception that happen during thetransform in `preprocessing_exc_tuple` in IPython 7.17 and above.\n",
            "  and should_run_async(code)\n"
          ]
        }
      ]
    },
    {
      "cell_type": "code",
      "source": [
        "df['gender'] = df['gender'].replace({'F':1, 'M':0})\n",
        "df['language'] = df['language'].replace({'Proficient':1, 'Limited Proficiency':0})"
      ],
      "metadata": {
        "id": "pbUYvdTtrAAj",
        "colab": {
          "base_uri": "https://localhost:8080/"
        },
        "outputId": "aa42aab0-eb15-4833-d665-866c9f6a021b"
      },
      "execution_count": 46,
      "outputs": [
        {
          "output_type": "stream",
          "name": "stderr",
          "text": [
            "/usr/local/lib/python3.10/dist-packages/ipykernel/ipkernel.py:283: DeprecationWarning: `should_run_async` will not call `transform_cell` automatically in the future. Please pass the result to `transformed_cell` argument and any exception that happen during thetransform in `preprocessing_exc_tuple` in IPython 7.17 and above.\n",
            "  and should_run_async(code)\n"
          ]
        }
      ]
    },
    {
      "cell_type": "code",
      "source": [
        "# convert 'insurance' column into one-hot encoding\n",
        "one_hot = pd.get_dummies(df['insurance'])\n",
        "# add the one-hot encoded columns to the DataFrame\n",
        "df = pd.concat([df, one_hot], axis=1)\n",
        "# drop the original 'insurance' column\n",
        "df = df.drop('insurance', axis=1)"
      ],
      "metadata": {
        "colab": {
          "base_uri": "https://localhost:8080/"
        },
        "id": "FWyFl8v8ovSu",
        "outputId": "9424a0db-3a39-42b9-f37b-f4d0f30637f3"
      },
      "execution_count": 47,
      "outputs": [
        {
          "output_type": "stream",
          "name": "stderr",
          "text": [
            "/usr/local/lib/python3.10/dist-packages/ipykernel/ipkernel.py:283: DeprecationWarning: `should_run_async` will not call `transform_cell` automatically in the future. Please pass the result to `transformed_cell` argument and any exception that happen during thetransform in `preprocessing_exc_tuple` in IPython 7.17 and above.\n",
            "  and should_run_async(code)\n"
          ]
        }
      ]
    },
    {
      "cell_type": "code",
      "source": [
        "# convert 'ventilation_status' column into one-hot encoding\n",
        "one_hot = pd.get_dummies(df['ventilation_status'])\n",
        "# add the one-hot encoded columns to the DataFrame\n",
        "df = pd.concat([df, one_hot], axis=1)\n",
        "# drop the original 'ventilation_status' column\n",
        "df = df.drop('ventilation_status', axis=1)"
      ],
      "metadata": {
        "colab": {
          "base_uri": "https://localhost:8080/"
        },
        "id": "n7GVTZ-iot6d",
        "outputId": "26ef130d-077e-4ba0-d198-2ca617571489"
      },
      "execution_count": 48,
      "outputs": [
        {
          "output_type": "stream",
          "name": "stderr",
          "text": [
            "/usr/local/lib/python3.10/dist-packages/ipykernel/ipkernel.py:283: DeprecationWarning: `should_run_async` will not call `transform_cell` automatically in the future. Please pass the result to `transformed_cell` argument and any exception that happen during thetransform in `preprocessing_exc_tuple` in IPython 7.17 and above.\n",
            "  and should_run_async(code)\n"
          ]
        }
      ]
    },
    {
      "cell_type": "markdown",
      "source": [
        "### Feature Engineering\n",
        "\n",
        "Once we have cleaned the dataset we can engineer the features that can provide more information to the model to generate the predictions.\n",
        "\n",
        "We'll print the correlation to SpO2 as a reference to see the most correlated variables before and after generating the new features."
      ],
      "metadata": {
        "id": "2lt2Bd_Keu1U"
      }
    },
    {
      "cell_type": "code",
      "source": [
        "# Get variables correlated to SpO2\n",
        "columns_sao2 = get_most_correlated(df, variable='SpO2', n=5)\n"
      ],
      "metadata": {
        "colab": {
          "base_uri": "https://localhost:8080/"
        },
        "id": "XohbidtbS6qe",
        "outputId": "17fe9851-cf2b-4c04-ce6e-1c295172cf54"
      },
      "execution_count": 49,
      "outputs": [
        {
          "output_type": "stream",
          "name": "stderr",
          "text": [
            "/usr/local/lib/python3.10/dist-packages/ipykernel/ipkernel.py:283: DeprecationWarning: `should_run_async` will not call `transform_cell` automatically in the future. Please pass the result to `transformed_cell` argument and any exception that happen during thetransform in `preprocessing_exc_tuple` in IPython 7.17 and above.\n",
            "  and should_run_async(code)\n"
          ]
        },
        {
          "output_type": "stream",
          "name": "stdout",
          "text": [
            "########################################  SpO2  ########################################\n",
            "The 5 most correlated variables to variable SpO2 are: \n",
            "SpO2        1.000000\n",
            "SaO2        0.361075\n",
            "ph          0.185822\n",
            "chloride    0.095239\n",
            "albumin     0.092855\n",
            "Name: SpO2, dtype: float64\n",
            "The 5 most inversely correlated variables to variable SpO2 are: \n",
            "mortality_in   -0.138552\n",
            "aniongap       -0.172396\n",
            "FiO2           -0.201536\n",
            "lactate        -0.215781\n",
            "sofa_resp      -0.303707\n",
            "Name: SpO2, dtype: float64\n"
          ]
        }
      ]
    },
    {
      "cell_type": "code",
      "source": [
        "# Length of ICU stay in days for dead\n",
        "df['los_icu_dead'] = df[df.mortality_in == 1].los_icu\n",
        "# Length of ICU stay in days for survivors\n",
        "df['los_icu_surv'] = df[df.mortality_in == 0].los_icu"
      ],
      "metadata": {
        "id": "y7gi7_6Kes54",
        "colab": {
          "base_uri": "https://localhost:8080/"
        },
        "outputId": "2b4a0bed-f617-4259-856c-7c12028374a1"
      },
      "execution_count": 50,
      "outputs": [
        {
          "output_type": "stream",
          "name": "stderr",
          "text": [
            "/usr/local/lib/python3.10/dist-packages/ipykernel/ipkernel.py:283: DeprecationWarning: `should_run_async` will not call `transform_cell` automatically in the future. Please pass the result to `transformed_cell` argument and any exception that happen during thetransform in `preprocessing_exc_tuple` in IPython 7.17 and above.\n",
            "  and should_run_async(code)\n"
          ]
        }
      ]
    },
    {
      "cell_type": "code",
      "source": [
        "# Get variables correlated to SpO2\n",
        "columns_sao2 = get_most_correlated(df, variable='SpO2', n=5)"
      ],
      "metadata": {
        "id": "ZmrafVfees8d",
        "colab": {
          "base_uri": "https://localhost:8080/"
        },
        "outputId": "169ebbb2-9d1b-41f8-a6a1-5975539e2ba8"
      },
      "execution_count": 51,
      "outputs": [
        {
          "output_type": "stream",
          "name": "stderr",
          "text": [
            "/usr/local/lib/python3.10/dist-packages/ipykernel/ipkernel.py:283: DeprecationWarning: `should_run_async` will not call `transform_cell` automatically in the future. Please pass the result to `transformed_cell` argument and any exception that happen during thetransform in `preprocessing_exc_tuple` in IPython 7.17 and above.\n",
            "  and should_run_async(code)\n"
          ]
        },
        {
          "output_type": "stream",
          "name": "stdout",
          "text": [
            "########################################  SpO2  ########################################\n",
            "The 5 most correlated variables to variable SpO2 are: \n",
            "SpO2            1.000000\n",
            "SaO2            0.361075\n",
            "ph              0.185822\n",
            "los_icu_dead    0.129044\n",
            "chloride        0.095239\n",
            "Name: SpO2, dtype: float64\n",
            "The 5 most inversely correlated variables to variable SpO2 are: \n",
            "mortality_in   -0.138552\n",
            "aniongap       -0.172396\n",
            "FiO2           -0.201536\n",
            "lactate        -0.215781\n",
            "sofa_resp      -0.303707\n",
            "Name: SpO2, dtype: float64\n"
          ]
        }
      ]
    },
    {
      "cell_type": "markdown",
      "source": [
        "Surprise! we can see how before the correlation `los_icu` and `mortality_in` were not there, but after the feature engineering the new feature `los_icu_dead` is there! \n",
        "\n",
        "That shows the importance of being able to do good feature engineering."
      ],
      "metadata": {
        "id": "Gd5hOGIVTtTy"
      }
    },
    {
      "cell_type": "markdown",
      "source": [
        "Finally let's save the dataset as a csv file! 😀"
      ],
      "metadata": {
        "id": "hKqDpYhNpLcC"
      }
    },
    {
      "cell_type": "code",
      "source": [
        "df"
      ],
      "metadata": {
        "colab": {
          "base_uri": "https://localhost:8080/",
          "height": 697
        },
        "id": "WY9spVmopc1T",
        "outputId": "f950d948-0735-48c7-a457-52d725d5444f"
      },
      "execution_count": 53,
      "outputs": [
        {
          "output_type": "stream",
          "name": "stderr",
          "text": [
            "/usr/local/lib/python3.10/dist-packages/ipykernel/ipkernel.py:283: DeprecationWarning: `should_run_async` will not call `transform_cell` automatically in the future. Please pass the result to `transformed_cell` argument and any exception that happen during thetransform in `preprocessing_exc_tuple` in IPython 7.17 and above.\n",
            "  and should_run_async(code)\n"
          ]
        },
        {
          "output_type": "execute_result",
          "data": {
            "text/plain": [
              "       subject_id    ph  inr  hidden_hypoxemia       SaO2_timestamp  \\\n",
              "0        10001884  7.38  1.1                 0  2131-01-12 21:04:00   \n",
              "1        10001884  7.42  1.1                 0  2131-01-13 02:28:00   \n",
              "2        10002013  7.33  1.0                 0  2160-05-18 16:03:00   \n",
              "3        10002013  7.33  1.0                 0  2160-05-18 17:42:00   \n",
              "4        10002013  7.35  1.0                 0  2160-05-18 21:32:00   \n",
              "...           ...   ...  ...               ...                  ...   \n",
              "81792    19999287  7.38  1.1                 0  2197-08-07 02:12:00   \n",
              "81793    19999840  7.46  1.2                 0  2164-09-13 20:51:00   \n",
              "81794    19999840  7.40  1.2                 0  2164-09-15 16:30:00   \n",
              "81795    19999840  7.42  1.2                 0  2164-09-17 08:11:00   \n",
              "81796    19999840  7.27  1.2                 1  2164-09-17 13:34:00   \n",
              "\n",
              "       anchor_age  chloride  norepinephrine_equivalent_dose  delta_SpO2  CCI  \\\n",
              "0              68      95.0                          0.1294          -4    5   \n",
              "1              68      95.0                          0.1294         -28    5   \n",
              "2              53     109.0                          0.3102           0    7   \n",
              "3              53     108.0                          0.3102         -42    7   \n",
              "4              53     108.0                          0.3102         -32    7   \n",
              "...           ...       ...                             ...         ...  ...   \n",
              "81792          71     104.0                          0.1294         -12    7   \n",
              "81793          58     108.0                          0.1202         -51    2   \n",
              "81794          58     113.0                          0.0700         -30    2   \n",
              "81795          58     106.0                          0.1704         -11    2   \n",
              "81796          58     106.0                          0.1607         -23    2   \n",
              "\n",
              "       ...  Medicare  Other  HFNC  InvasiveVent NonInvasiveVent  None  \\\n",
              "0      ...         1      0     0             0               1     0   \n",
              "1      ...         1      0     0             0               1     0   \n",
              "2      ...         1      0     0             1               0     0   \n",
              "3      ...         1      0     0             1               0     0   \n",
              "4      ...         1      0     0             0               0     0   \n",
              "...    ...       ...    ...   ...           ...             ...   ...   \n",
              "81792  ...         1      0     0             1               0     0   \n",
              "81793  ...         0      1     0             1               0     0   \n",
              "81794  ...         0      1     0             1               0     0   \n",
              "81795  ...         0      1     0             1               0     0   \n",
              "81796  ...         0      1     0             1               0     0   \n",
              "\n",
              "       SupplementalOxygen  Tracheostomy  los_icu_dead  los_icu_surv  \n",
              "0                       0             0          9.17           NaN  \n",
              "1                       0             0          9.17           NaN  \n",
              "2                       0             0           NaN          1.29  \n",
              "3                       0             0           NaN          1.29  \n",
              "4                       1             0           NaN          1.29  \n",
              "...                   ...           ...           ...           ...  \n",
              "81792                   0             0          4.67           NaN  \n",
              "81793                   0             0          5.29           NaN  \n",
              "81794                   0             0          5.29           NaN  \n",
              "81795                   0             0          5.29           NaN  \n",
              "81796                   0             0          5.29           NaN  \n",
              "\n",
              "[81797 rows x 46 columns]"
            ],
            "text/html": [
              "\n",
              "  <div id=\"df-bb18655d-2e81-4c9b-a705-233ed6c485b1\">\n",
              "    <div class=\"colab-df-container\">\n",
              "      <div>\n",
              "<style scoped>\n",
              "    .dataframe tbody tr th:only-of-type {\n",
              "        vertical-align: middle;\n",
              "    }\n",
              "\n",
              "    .dataframe tbody tr th {\n",
              "        vertical-align: top;\n",
              "    }\n",
              "\n",
              "    .dataframe thead th {\n",
              "        text-align: right;\n",
              "    }\n",
              "</style>\n",
              "<table border=\"1\" class=\"dataframe\">\n",
              "  <thead>\n",
              "    <tr style=\"text-align: right;\">\n",
              "      <th></th>\n",
              "      <th>subject_id</th>\n",
              "      <th>ph</th>\n",
              "      <th>inr</th>\n",
              "      <th>hidden_hypoxemia</th>\n",
              "      <th>SaO2_timestamp</th>\n",
              "      <th>anchor_age</th>\n",
              "      <th>chloride</th>\n",
              "      <th>norepinephrine_equivalent_dose</th>\n",
              "      <th>delta_SpO2</th>\n",
              "      <th>CCI</th>\n",
              "      <th>...</th>\n",
              "      <th>Medicare</th>\n",
              "      <th>Other</th>\n",
              "      <th>HFNC</th>\n",
              "      <th>InvasiveVent</th>\n",
              "      <th>NonInvasiveVent</th>\n",
              "      <th>None</th>\n",
              "      <th>SupplementalOxygen</th>\n",
              "      <th>Tracheostomy</th>\n",
              "      <th>los_icu_dead</th>\n",
              "      <th>los_icu_surv</th>\n",
              "    </tr>\n",
              "  </thead>\n",
              "  <tbody>\n",
              "    <tr>\n",
              "      <th>0</th>\n",
              "      <td>10001884</td>\n",
              "      <td>7.38</td>\n",
              "      <td>1.1</td>\n",
              "      <td>0</td>\n",
              "      <td>2131-01-12 21:04:00</td>\n",
              "      <td>68</td>\n",
              "      <td>95.0</td>\n",
              "      <td>0.1294</td>\n",
              "      <td>-4</td>\n",
              "      <td>5</td>\n",
              "      <td>...</td>\n",
              "      <td>1</td>\n",
              "      <td>0</td>\n",
              "      <td>0</td>\n",
              "      <td>0</td>\n",
              "      <td>1</td>\n",
              "      <td>0</td>\n",
              "      <td>0</td>\n",
              "      <td>0</td>\n",
              "      <td>9.17</td>\n",
              "      <td>NaN</td>\n",
              "    </tr>\n",
              "    <tr>\n",
              "      <th>1</th>\n",
              "      <td>10001884</td>\n",
              "      <td>7.42</td>\n",
              "      <td>1.1</td>\n",
              "      <td>0</td>\n",
              "      <td>2131-01-13 02:28:00</td>\n",
              "      <td>68</td>\n",
              "      <td>95.0</td>\n",
              "      <td>0.1294</td>\n",
              "      <td>-28</td>\n",
              "      <td>5</td>\n",
              "      <td>...</td>\n",
              "      <td>1</td>\n",
              "      <td>0</td>\n",
              "      <td>0</td>\n",
              "      <td>0</td>\n",
              "      <td>1</td>\n",
              "      <td>0</td>\n",
              "      <td>0</td>\n",
              "      <td>0</td>\n",
              "      <td>9.17</td>\n",
              "      <td>NaN</td>\n",
              "    </tr>\n",
              "    <tr>\n",
              "      <th>2</th>\n",
              "      <td>10002013</td>\n",
              "      <td>7.33</td>\n",
              "      <td>1.0</td>\n",
              "      <td>0</td>\n",
              "      <td>2160-05-18 16:03:00</td>\n",
              "      <td>53</td>\n",
              "      <td>109.0</td>\n",
              "      <td>0.3102</td>\n",
              "      <td>0</td>\n",
              "      <td>7</td>\n",
              "      <td>...</td>\n",
              "      <td>1</td>\n",
              "      <td>0</td>\n",
              "      <td>0</td>\n",
              "      <td>1</td>\n",
              "      <td>0</td>\n",
              "      <td>0</td>\n",
              "      <td>0</td>\n",
              "      <td>0</td>\n",
              "      <td>NaN</td>\n",
              "      <td>1.29</td>\n",
              "    </tr>\n",
              "    <tr>\n",
              "      <th>3</th>\n",
              "      <td>10002013</td>\n",
              "      <td>7.33</td>\n",
              "      <td>1.0</td>\n",
              "      <td>0</td>\n",
              "      <td>2160-05-18 17:42:00</td>\n",
              "      <td>53</td>\n",
              "      <td>108.0</td>\n",
              "      <td>0.3102</td>\n",
              "      <td>-42</td>\n",
              "      <td>7</td>\n",
              "      <td>...</td>\n",
              "      <td>1</td>\n",
              "      <td>0</td>\n",
              "      <td>0</td>\n",
              "      <td>1</td>\n",
              "      <td>0</td>\n",
              "      <td>0</td>\n",
              "      <td>0</td>\n",
              "      <td>0</td>\n",
              "      <td>NaN</td>\n",
              "      <td>1.29</td>\n",
              "    </tr>\n",
              "    <tr>\n",
              "      <th>4</th>\n",
              "      <td>10002013</td>\n",
              "      <td>7.35</td>\n",
              "      <td>1.0</td>\n",
              "      <td>0</td>\n",
              "      <td>2160-05-18 21:32:00</td>\n",
              "      <td>53</td>\n",
              "      <td>108.0</td>\n",
              "      <td>0.3102</td>\n",
              "      <td>-32</td>\n",
              "      <td>7</td>\n",
              "      <td>...</td>\n",
              "      <td>1</td>\n",
              "      <td>0</td>\n",
              "      <td>0</td>\n",
              "      <td>0</td>\n",
              "      <td>0</td>\n",
              "      <td>0</td>\n",
              "      <td>1</td>\n",
              "      <td>0</td>\n",
              "      <td>NaN</td>\n",
              "      <td>1.29</td>\n",
              "    </tr>\n",
              "    <tr>\n",
              "      <th>...</th>\n",
              "      <td>...</td>\n",
              "      <td>...</td>\n",
              "      <td>...</td>\n",
              "      <td>...</td>\n",
              "      <td>...</td>\n",
              "      <td>...</td>\n",
              "      <td>...</td>\n",
              "      <td>...</td>\n",
              "      <td>...</td>\n",
              "      <td>...</td>\n",
              "      <td>...</td>\n",
              "      <td>...</td>\n",
              "      <td>...</td>\n",
              "      <td>...</td>\n",
              "      <td>...</td>\n",
              "      <td>...</td>\n",
              "      <td>...</td>\n",
              "      <td>...</td>\n",
              "      <td>...</td>\n",
              "      <td>...</td>\n",
              "      <td>...</td>\n",
              "    </tr>\n",
              "    <tr>\n",
              "      <th>81792</th>\n",
              "      <td>19999287</td>\n",
              "      <td>7.38</td>\n",
              "      <td>1.1</td>\n",
              "      <td>0</td>\n",
              "      <td>2197-08-07 02:12:00</td>\n",
              "      <td>71</td>\n",
              "      <td>104.0</td>\n",
              "      <td>0.1294</td>\n",
              "      <td>-12</td>\n",
              "      <td>7</td>\n",
              "      <td>...</td>\n",
              "      <td>1</td>\n",
              "      <td>0</td>\n",
              "      <td>0</td>\n",
              "      <td>1</td>\n",
              "      <td>0</td>\n",
              "      <td>0</td>\n",
              "      <td>0</td>\n",
              "      <td>0</td>\n",
              "      <td>4.67</td>\n",
              "      <td>NaN</td>\n",
              "    </tr>\n",
              "    <tr>\n",
              "      <th>81793</th>\n",
              "      <td>19999840</td>\n",
              "      <td>7.46</td>\n",
              "      <td>1.2</td>\n",
              "      <td>0</td>\n",
              "      <td>2164-09-13 20:51:00</td>\n",
              "      <td>58</td>\n",
              "      <td>108.0</td>\n",
              "      <td>0.1202</td>\n",
              "      <td>-51</td>\n",
              "      <td>2</td>\n",
              "      <td>...</td>\n",
              "      <td>0</td>\n",
              "      <td>1</td>\n",
              "      <td>0</td>\n",
              "      <td>1</td>\n",
              "      <td>0</td>\n",
              "      <td>0</td>\n",
              "      <td>0</td>\n",
              "      <td>0</td>\n",
              "      <td>5.29</td>\n",
              "      <td>NaN</td>\n",
              "    </tr>\n",
              "    <tr>\n",
              "      <th>81794</th>\n",
              "      <td>19999840</td>\n",
              "      <td>7.40</td>\n",
              "      <td>1.2</td>\n",
              "      <td>0</td>\n",
              "      <td>2164-09-15 16:30:00</td>\n",
              "      <td>58</td>\n",
              "      <td>113.0</td>\n",
              "      <td>0.0700</td>\n",
              "      <td>-30</td>\n",
              "      <td>2</td>\n",
              "      <td>...</td>\n",
              "      <td>0</td>\n",
              "      <td>1</td>\n",
              "      <td>0</td>\n",
              "      <td>1</td>\n",
              "      <td>0</td>\n",
              "      <td>0</td>\n",
              "      <td>0</td>\n",
              "      <td>0</td>\n",
              "      <td>5.29</td>\n",
              "      <td>NaN</td>\n",
              "    </tr>\n",
              "    <tr>\n",
              "      <th>81795</th>\n",
              "      <td>19999840</td>\n",
              "      <td>7.42</td>\n",
              "      <td>1.2</td>\n",
              "      <td>0</td>\n",
              "      <td>2164-09-17 08:11:00</td>\n",
              "      <td>58</td>\n",
              "      <td>106.0</td>\n",
              "      <td>0.1704</td>\n",
              "      <td>-11</td>\n",
              "      <td>2</td>\n",
              "      <td>...</td>\n",
              "      <td>0</td>\n",
              "      <td>1</td>\n",
              "      <td>0</td>\n",
              "      <td>1</td>\n",
              "      <td>0</td>\n",
              "      <td>0</td>\n",
              "      <td>0</td>\n",
              "      <td>0</td>\n",
              "      <td>5.29</td>\n",
              "      <td>NaN</td>\n",
              "    </tr>\n",
              "    <tr>\n",
              "      <th>81796</th>\n",
              "      <td>19999840</td>\n",
              "      <td>7.27</td>\n",
              "      <td>1.2</td>\n",
              "      <td>1</td>\n",
              "      <td>2164-09-17 13:34:00</td>\n",
              "      <td>58</td>\n",
              "      <td>106.0</td>\n",
              "      <td>0.1607</td>\n",
              "      <td>-23</td>\n",
              "      <td>2</td>\n",
              "      <td>...</td>\n",
              "      <td>0</td>\n",
              "      <td>1</td>\n",
              "      <td>0</td>\n",
              "      <td>1</td>\n",
              "      <td>0</td>\n",
              "      <td>0</td>\n",
              "      <td>0</td>\n",
              "      <td>0</td>\n",
              "      <td>5.29</td>\n",
              "      <td>NaN</td>\n",
              "    </tr>\n",
              "  </tbody>\n",
              "</table>\n",
              "<p>81797 rows × 46 columns</p>\n",
              "</div>\n",
              "      <button class=\"colab-df-convert\" onclick=\"convertToInteractive('df-bb18655d-2e81-4c9b-a705-233ed6c485b1')\"\n",
              "              title=\"Convert this dataframe to an interactive table.\"\n",
              "              style=\"display:none;\">\n",
              "        \n",
              "  <svg xmlns=\"http://www.w3.org/2000/svg\" height=\"24px\"viewBox=\"0 0 24 24\"\n",
              "       width=\"24px\">\n",
              "    <path d=\"M0 0h24v24H0V0z\" fill=\"none\"/>\n",
              "    <path d=\"M18.56 5.44l.94 2.06.94-2.06 2.06-.94-2.06-.94-.94-2.06-.94 2.06-2.06.94zm-11 1L8.5 8.5l.94-2.06 2.06-.94-2.06-.94L8.5 2.5l-.94 2.06-2.06.94zm10 10l.94 2.06.94-2.06 2.06-.94-2.06-.94-.94-2.06-.94 2.06-2.06.94z\"/><path d=\"M17.41 7.96l-1.37-1.37c-.4-.4-.92-.59-1.43-.59-.52 0-1.04.2-1.43.59L10.3 9.45l-7.72 7.72c-.78.78-.78 2.05 0 2.83L4 21.41c.39.39.9.59 1.41.59.51 0 1.02-.2 1.41-.59l7.78-7.78 2.81-2.81c.8-.78.8-2.07 0-2.86zM5.41 20L4 18.59l7.72-7.72 1.47 1.35L5.41 20z\"/>\n",
              "  </svg>\n",
              "      </button>\n",
              "      \n",
              "  <style>\n",
              "    .colab-df-container {\n",
              "      display:flex;\n",
              "      flex-wrap:wrap;\n",
              "      gap: 12px;\n",
              "    }\n",
              "\n",
              "    .colab-df-convert {\n",
              "      background-color: #E8F0FE;\n",
              "      border: none;\n",
              "      border-radius: 50%;\n",
              "      cursor: pointer;\n",
              "      display: none;\n",
              "      fill: #1967D2;\n",
              "      height: 32px;\n",
              "      padding: 0 0 0 0;\n",
              "      width: 32px;\n",
              "    }\n",
              "\n",
              "    .colab-df-convert:hover {\n",
              "      background-color: #E2EBFA;\n",
              "      box-shadow: 0px 1px 2px rgba(60, 64, 67, 0.3), 0px 1px 3px 1px rgba(60, 64, 67, 0.15);\n",
              "      fill: #174EA6;\n",
              "    }\n",
              "\n",
              "    [theme=dark] .colab-df-convert {\n",
              "      background-color: #3B4455;\n",
              "      fill: #D2E3FC;\n",
              "    }\n",
              "\n",
              "    [theme=dark] .colab-df-convert:hover {\n",
              "      background-color: #434B5C;\n",
              "      box-shadow: 0px 1px 3px 1px rgba(0, 0, 0, 0.15);\n",
              "      filter: drop-shadow(0px 1px 2px rgba(0, 0, 0, 0.3));\n",
              "      fill: #FFFFFF;\n",
              "    }\n",
              "  </style>\n",
              "\n",
              "      <script>\n",
              "        const buttonEl =\n",
              "          document.querySelector('#df-bb18655d-2e81-4c9b-a705-233ed6c485b1 button.colab-df-convert');\n",
              "        buttonEl.style.display =\n",
              "          google.colab.kernel.accessAllowed ? 'block' : 'none';\n",
              "\n",
              "        async function convertToInteractive(key) {\n",
              "          const element = document.querySelector('#df-bb18655d-2e81-4c9b-a705-233ed6c485b1');\n",
              "          const dataTable =\n",
              "            await google.colab.kernel.invokeFunction('convertToInteractive',\n",
              "                                                     [key], {});\n",
              "          if (!dataTable) return;\n",
              "\n",
              "          const docLinkHtml = 'Like what you see? Visit the ' +\n",
              "            '<a target=\"_blank\" href=https://colab.research.google.com/notebooks/data_table.ipynb>data table notebook</a>'\n",
              "            + ' to learn more about interactive tables.';\n",
              "          element.innerHTML = '';\n",
              "          dataTable['output_type'] = 'display_data';\n",
              "          await google.colab.output.renderOutput(dataTable, element);\n",
              "          const docLink = document.createElement('div');\n",
              "          docLink.innerHTML = docLinkHtml;\n",
              "          element.appendChild(docLink);\n",
              "        }\n",
              "      </script>\n",
              "    </div>\n",
              "  </div>\n",
              "  "
            ]
          },
          "metadata": {},
          "execution_count": 53
        }
      ]
    },
    {
      "cell_type": "code",
      "source": [
        "df.to_csv('oxygen_dataset/preprocessed_MIMIC_IV.csv', index=False)"
      ],
      "metadata": {
        "colab": {
          "base_uri": "https://localhost:8080/"
        },
        "id": "zXD403Pto7WX",
        "outputId": "c5d8f514-32e9-4e1c-c7f2-341e2e258cd5"
      },
      "execution_count": 52,
      "outputs": [
        {
          "output_type": "stream",
          "name": "stderr",
          "text": [
            "/usr/local/lib/python3.10/dist-packages/ipykernel/ipkernel.py:283: DeprecationWarning: `should_run_async` will not call `transform_cell` automatically in the future. Please pass the result to `transformed_cell` argument and any exception that happen during thetransform in `preprocessing_exc_tuple` in IPython 7.17 and above.\n",
            "  and should_run_async(code)\n"
          ]
        }
      ]
    },
    {
      "cell_type": "markdown",
      "source": [
        "# Thank you very much and good luck!!"
      ],
      "metadata": {
        "id": "L2Lov1eLUtrw"
      }
    }
  ]
}