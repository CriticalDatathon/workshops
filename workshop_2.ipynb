{
  "nbformat": 4,
  "nbformat_minor": 0,
  "metadata": {
    "colab": {
      "provenance": [],
      "toc_visible": true,
      "include_colab_link": true
    },
    "kernelspec": {
      "name": "python3",
      "display_name": "Python 3"
    },
    "language_info": {
      "name": "python"
    }
  },
  "cells": [
    {
      "cell_type": "markdown",
      "metadata": {
        "id": "view-in-github",
        "colab_type": "text"
      },
      "source": [
        "<a href=\"https://colab.research.google.com/github/sebasmos/workshops/blob/main/workshop_2.ipynb\" target=\"_parent\"><img src=\"https://colab.research.google.com/assets/colab-badge.svg\" alt=\"Open In Colab\"/></a>"
      ]
    },
    {
      "cell_type": "markdown",
      "source": [
        "# Workshop 2: Clinical Variables Selection & Feature Engineering"
      ],
      "metadata": {
        "id": "M65WOuF6u62h"
      }
    },
    {
      "cell_type": "markdown",
      "source": [
        "# 🎯 Workshop Goals\n",
        "The goal of this workshop is to provide participants with a deep understanding of data preprocessing in the data science workflow. Specifically, by the end of this workshop, participants should be able to:\n",
        "\n",
        "1. **Understand the importance of Data Preprocessing Techniques**: Understanding thes significance of data preprocessing in the data science workflow. This includes to be able to apply common techniques such as cleaning, normalization, transformation, and reduction of data. This also includes handling missing data, outliers, skewed data, and data with different scales.\n",
        "\n",
        "3. **Familiarize with Data Pre-processing Techniques**: such as feature scaling, dimensionality reduction, and feature engineering.\n",
        "\n",
        "4. **Apply data pre-processing techniques**: This involved the practical application of data preprocessing techniques to real-world datasets and to be able to evaluate the impact of different preprocessing techniques on machine learning model performance.\n",
        "\n",
        "Be aware of the potential biases that can be introduced in data preprocessing, and how to identify and mitigate them.\n",
        "Throughout the workshop, participants will engage in hands-on activities, case studies, and real-world examples. They will work in groups to apply the concepts learned to real datasets, and engage in discussions to share their experiences and insights. By the end of the workshop, participants should have gained a solid understanding of data preprocessing techniques and their importance in the data science workflow, and be able to apply these techniques to improve the performance of machine learning models."
      ],
      "metadata": {
        "id": "p-DviQlnd7vT"
      }
    },
    {
      "cell_type": "markdown",
      "source": [
        "# ✏️ Expected Deliverables\n",
        "\n",
        "1. A report or dashboard summarizing the results of EDA, including visualizations and statistical summaries of the data distribution and correlations.\n",
        "\n",
        "2. A set of code scripts or pipelines that automate the data preprocessing process, making it easier and more efficient to apply these techniques to future datasets.\n",
        "\n",
        "3. A cleaned dataset that has undergone preprocessing techniques such as removal of duplicates, handling missing data, and dealing with outliers. The cleaned dataset should be ready to be fed into machine learning models.\n"
      ],
      "metadata": {
        "id": "lHt_KgdnGilV"
      }
    },
    {
      "cell_type": "markdown",
      "source": [
        "# ❗ Highlighted Pitfall(s)\n",
        "1. Make sure to apply preprocessing steps only to the training data and avoid using information from the validation set to prevent data leakage.\n",
        "\n",
        "2. Check for potential biases that could be introduced or amplified by preprocessing techniques, and evaluate the impact of these techniques on different subgroups of the data.\n",
        "\n",
        "3. Carefully evaluate the appropriateness of different preprocessing techniques for a given dataset and ensure that the techniques are applied correctly to avoid incorrect preprocessing that could lead to poor model performance or incorrect conclusions about the data."
      ],
      "metadata": {
        "id": "EnR2K_EKGrEV"
      }
    },
    {
      "cell_type": "markdown",
      "source": [
        "## **1.  Setup environment**\n",
        "---"
      ],
      "metadata": {
        "id": "EffSajZhq7lo"
      }
    },
    {
      "cell_type": "code",
      "source": [
        "#@markdown ## Import dependencies\n",
        "!pip install --upgrade ipykernel\n",
        "# Data reading in Dataframe format and data preprocessing\n",
        "import pandas as pd\n",
        "\n",
        "# Data Visualization\n",
        "import matplotlib.pyplot as plt\n",
        "import seaborn as sns\n",
        "\n",
        "# For missing values\n",
        "import missingno as msno\n",
        "\n",
        "# Linear algebra operations\n",
        "import numpy as np\n",
        "\n",
        "# Preprocessing\n",
        "from sklearn.preprocessing import MinMaxScaler\n",
        "from sklearn.preprocessing import StandardScaler\n",
        "from sklearn import preprocessing\n",
        "\n",
        "from sklearn.preprocessing import LabelEncoder\n",
        "from sklearn.linear_model import LinearRegression\n",
        "\n",
        "from sklearn.feature_selection import SelectKBest\n",
        "from sklearn.feature_selection import f_classif, chi2, mutual_info_classif, mutual_info_regression\n",
        "\n",
        "from sklearn.model_selection import train_test_split"
      ],
      "metadata": {
        "id": "rvJ-sEJLmYPJ",
        "cellView": "form",
        "colab": {
          "base_uri": "https://localhost:8080/"
        },
        "outputId": "fb70f62d-d089-4edd-e701-a6085900ba78"
      },
      "execution_count": null,
      "outputs": [
        {
          "output_type": "stream",
          "name": "stdout",
          "text": [
            "Looking in indexes: https://pypi.org/simple, https://us-python.pkg.dev/colab-wheels/public/simple/\n",
            "Requirement already satisfied: ipykernel in /usr/local/lib/python3.10/dist-packages (5.5.6)\n",
            "Collecting ipykernel\n",
            "  Downloading ipykernel-6.23.0-py3-none-any.whl (150 kB)\n",
            "\u001b[2K     \u001b[90m━━━━━━━━━━━━━━━━━━━━━━━━━━━━━━━━━━━━━━━\u001b[0m \u001b[32m150.6/150.6 kB\u001b[0m \u001b[31m1.6 MB/s\u001b[0m eta \u001b[36m0:00:00\u001b[0m\n",
            "\u001b[?25hCollecting comm>=0.1.1 (from ipykernel)\n",
            "  Downloading comm-0.1.3-py3-none-any.whl (6.6 kB)\n",
            "Requirement already satisfied: debugpy>=1.6.5 in /usr/local/lib/python3.10/dist-packages (from ipykernel) (1.6.6)\n",
            "Requirement already satisfied: ipython>=7.23.1 in /usr/local/lib/python3.10/dist-packages (from ipykernel) (7.34.0)\n",
            "Requirement already satisfied: jupyter-client>=6.1.12 in /usr/local/lib/python3.10/dist-packages (from ipykernel) (6.1.12)\n",
            "Requirement already satisfied: jupyter-core!=5.0.*,>=4.12 in /usr/local/lib/python3.10/dist-packages (from ipykernel) (5.3.0)\n",
            "Requirement already satisfied: matplotlib-inline>=0.1 in /usr/local/lib/python3.10/dist-packages (from ipykernel) (0.1.6)\n",
            "Requirement already satisfied: nest-asyncio in /usr/local/lib/python3.10/dist-packages (from ipykernel) (1.5.6)\n",
            "Requirement already satisfied: packaging in /usr/local/lib/python3.10/dist-packages (from ipykernel) (23.1)\n",
            "Requirement already satisfied: psutil in /usr/local/lib/python3.10/dist-packages (from ipykernel) (5.9.5)\n",
            "Requirement already satisfied: pyzmq>=20 in /usr/local/lib/python3.10/dist-packages (from ipykernel) (23.2.1)\n",
            "Requirement already satisfied: tornado>=6.1 in /usr/local/lib/python3.10/dist-packages (from ipykernel) (6.3.1)\n",
            "Requirement already satisfied: traitlets>=5.4.0 in /usr/local/lib/python3.10/dist-packages (from ipykernel) (5.7.1)\n",
            "Requirement already satisfied: setuptools>=18.5 in /usr/local/lib/python3.10/dist-packages (from ipython>=7.23.1->ipykernel) (67.7.2)\n",
            "Collecting jedi>=0.16 (from ipython>=7.23.1->ipykernel)\n",
            "  Downloading jedi-0.18.2-py2.py3-none-any.whl (1.6 MB)\n",
            "\u001b[2K     \u001b[90m━━━━━━━━━━━━━━━━━━━━━━━━━━━━━━━━━━━━━━━━\u001b[0m \u001b[32m1.6/1.6 MB\u001b[0m \u001b[31m12.7 MB/s\u001b[0m eta \u001b[36m0:00:00\u001b[0m\n",
            "\u001b[?25hRequirement already satisfied: decorator in /usr/local/lib/python3.10/dist-packages (from ipython>=7.23.1->ipykernel) (4.4.2)\n",
            "Requirement already satisfied: pickleshare in /usr/local/lib/python3.10/dist-packages (from ipython>=7.23.1->ipykernel) (0.7.5)\n",
            "Requirement already satisfied: prompt-toolkit!=3.0.0,!=3.0.1,<3.1.0,>=2.0.0 in /usr/local/lib/python3.10/dist-packages (from ipython>=7.23.1->ipykernel) (3.0.38)\n",
            "Requirement already satisfied: pygments in /usr/local/lib/python3.10/dist-packages (from ipython>=7.23.1->ipykernel) (2.14.0)\n",
            "Requirement already satisfied: backcall in /usr/local/lib/python3.10/dist-packages (from ipython>=7.23.1->ipykernel) (0.2.0)\n",
            "Requirement already satisfied: pexpect>4.3 in /usr/local/lib/python3.10/dist-packages (from ipython>=7.23.1->ipykernel) (4.8.0)\n",
            "Requirement already satisfied: python-dateutil>=2.1 in /usr/local/lib/python3.10/dist-packages (from jupyter-client>=6.1.12->ipykernel) (2.8.2)\n",
            "Requirement already satisfied: platformdirs>=2.5 in /usr/local/lib/python3.10/dist-packages (from jupyter-core!=5.0.*,>=4.12->ipykernel) (3.3.0)\n",
            "Requirement already satisfied: parso<0.9.0,>=0.8.0 in /usr/local/lib/python3.10/dist-packages (from jedi>=0.16->ipython>=7.23.1->ipykernel) (0.8.3)\n",
            "Requirement already satisfied: ptyprocess>=0.5 in /usr/local/lib/python3.10/dist-packages (from pexpect>4.3->ipython>=7.23.1->ipykernel) (0.7.0)\n",
            "Requirement already satisfied: wcwidth in /usr/local/lib/python3.10/dist-packages (from prompt-toolkit!=3.0.0,!=3.0.1,<3.1.0,>=2.0.0->ipython>=7.23.1->ipykernel) (0.2.6)\n",
            "Requirement already satisfied: six>=1.5 in /usr/local/lib/python3.10/dist-packages (from python-dateutil>=2.1->jupyter-client>=6.1.12->ipykernel) (1.16.0)\n",
            "Installing collected packages: jedi, comm, ipykernel\n",
            "  Attempting uninstall: ipykernel\n",
            "    Found existing installation: ipykernel 5.5.6\n",
            "    Uninstalling ipykernel-5.5.6:\n",
            "      Successfully uninstalled ipykernel-5.5.6\n",
            "\u001b[31mERROR: pip's dependency resolver does not currently take into account all the packages that are installed. This behaviour is the source of the following dependency conflicts.\n",
            "google-colab 1.0.0 requires ipykernel~=5.5.6, but you have ipykernel 6.23.0 which is incompatible.\u001b[0m\u001b[31m\n",
            "\u001b[0mSuccessfully installed comm-0.1.3 ipykernel-6.23.0 jedi-0.18.2\n"
          ]
        }
      ]
    },
    {
      "cell_type": "code",
      "source": [
        "#@markdown ##Play the cell to connect your Google Drive to Colab\n",
        "\n",
        "\n",
        "# mount user's Google Drive to Google Colab.\n",
        "from google.colab import drive\n",
        "drive.mount('/content/drive')"
      ],
      "metadata": {
        "colab": {
          "base_uri": "https://localhost:8080/"
        },
        "id": "Frc9RcmKR3Ea",
        "outputId": "2e254b14-0201-4827-e064-8fb7a746c6e3",
        "cellView": "form"
      },
      "execution_count": null,
      "outputs": [
        {
          "output_type": "stream",
          "name": "stdout",
          "text": [
            "Mounted at /content/drive\n"
          ]
        }
      ]
    },
    {
      "cell_type": "markdown",
      "source": [
        " ## **2. Data Analysis**\n",
        "---\n",
        "\n",
        "\n",
        "Once we understand the problem, we have formed a multidisciplinary team, formulated the research question,  hypothesis, we have to start working with the data. What data do we have? How do they look? What distributions do they have?\n",
        "\n",
        "Let's remember that in data science, data is the most important thing, and whether or not we can solve a problem depends on the data quality. At the same time, understanding the data also helps us to have a clearer vision of what we are facing and in case the data is not very good, we can at least fix it.\n",
        "\n",
        "Specifically, understanding the problem and the data are the essential phases in a data science project. An error in this phase is much more critical than an error in the modeling and evaluation phases. We must bear in mind that machine learning is not a magical tool that solves any type of problem, but rather a mathematical/statistical tool that learns from what we teach it, therefore if the data has biases, the model will also have them."
      ],
      "metadata": {
        "id": "wsZkeFBG08pU"
      }
    },
    {
      "cell_type": "markdown",
      "source": [
        "#### Read the dataset\n",
        "\n",
        "Let's asume that you already have the dataset of [workshop 1](https://github.com/CriticalDatathon/workshops/blob/main/solutions/workshop_1.py):"
      ],
      "metadata": {
        "id": "Hzzgjobkzz1u"
      }
    },
    {
      "cell_type": "code",
      "source": [
        "#@markdown ### ✏️ Read the dataset and use the function null_values to see which columns has missing data.\n",
        "\n",
        "PATH = \"/content/drive/MyDrive/MIMIC_IV/oxygen_dataset/workshop_1.csv\" #@param {type:\"string\"}\n"
      ],
      "metadata": {
        "cellView": "form",
        "id": "mCdgloy9j0KO"
      },
      "execution_count": null,
      "outputs": []
    },
    {
      "cell_type": "code",
      "source": [
        "def null_values(df):\n",
        "  \"\"\" \n",
        "  This function checks if there are null values in the dataframe:\n",
        "  In case of not having null values, print: 'There aren't null values in the dataframe'\n",
        "  In case of having null values, print the columns with these values\n",
        "  \"\"\"\n",
        "  \n",
        "  nulos = df.isnull().sum().any()\n",
        "  if nulos == False:\n",
        "    print(\"There aren't null values in the dataframe\")\n",
        "  else:\n",
        "    print('Null values: ')\n",
        "    print(df.isnull().sum()[df.isnull().sum()  > 0])"
      ],
      "metadata": {
        "id": "T5NLdL3K1cib"
      },
      "execution_count": null,
      "outputs": []
    },
    {
      "cell_type": "code",
      "source": [
        "# Read file\n",
        "df = pd.read_csv(PATH)\n",
        "print(f'The dataset has {df.shape[0]} rows and {df.shape[1]} columns')\n",
        "\n",
        "# Check if there are null values\n",
        "null_values(df)\n",
        "\n",
        "# Print first 5 rows\n",
        "df.head()"
      ],
      "metadata": {
        "colab": {
          "base_uri": "https://localhost:8080/",
          "height": 635
        },
        "id": "vwAy1XAHR3Gq",
        "outputId": "2f26fc93-da31-470e-81fa-0c087a1b184e"
      },
      "execution_count": null,
      "outputs": [
        {
          "output_type": "stream",
          "name": "stdout",
          "text": [
            "The dataset has 20041 rows and 138 columns\n",
            "Null values: \n",
            "weight                1602\n",
            "height                3783\n",
            "BMI                   3853\n",
            "delta_vent_start      2342\n",
            "ventilation_status    2342\n",
            "                      ... \n",
            "temperature            244\n",
            "delta_glucose            3\n",
            "glucose                  3\n",
            "delta_heart_rhythm       5\n",
            "heart_rhythm             5\n",
            "Length: 100, dtype: int64\n"
          ]
        },
        {
          "output_type": "execute_result",
          "data": {
            "text/plain": [
              "   subject_id   stay_id       SaO2_timestamp  SaO2  delta_SpO2  SpO2  \\\n",
              "0    10001884  37510196  2131-01-12 21:04:00  90.0          -4    89   \n",
              "1    10002013  39060235  2160-05-18 16:03:00  99.0           0    99   \n",
              "2    10002428  38875437  2156-04-20 00:46:00  97.0           0   100   \n",
              "3    10002428  38875437  2156-04-21 02:20:00  98.0          -3   100   \n",
              "4    10002760  31831386  2141-04-20 16:10:00  97.0         -10    99   \n",
              "\n",
              "   hidden_hypoxemia   hadm_id gender  sex_female  ...  delta_mbp   mbp  \\\n",
              "0                 0  26184834      F           1  ...         -3  96.0   \n",
              "1                 0  23581541      F           1  ...         -3  86.5   \n",
              "2                 0  28662225      F           1  ...         -1  68.0   \n",
              "3                 0  28662225      F           1  ...         -5  70.0   \n",
              "4                 0  28094813      M           0  ...        -10  70.0   \n",
              "\n",
              "  delta_resp_rate resp_rate delta_temperature  temperature  delta_glucose  \\\n",
              "0            -4.0      19.5             -64.0        36.72          445.0   \n",
              "1            -2.0      14.0              -3.0        36.90            0.0   \n",
              "2            -1.0      18.0              14.0        36.94          164.0   \n",
              "3            -5.0      23.0             100.0        37.33          -10.0   \n",
              "4           -10.0      16.0            1190.0        36.39            0.0   \n",
              "\n",
              "   glucose delta_heart_rhythm             heart_rhythm  \n",
              "0    199.0               -4.0        SR (Sinus Rhythm)  \n",
              "1    155.0               -3.0        SR (Sinus Rhythm)  \n",
              "2    163.0               14.0        SR (Sinus Rhythm)  \n",
              "3    135.0              -20.0  ST (Sinus Tachycardia)   \n",
              "4    107.0              -10.0        SR (Sinus Rhythm)  \n",
              "\n",
              "[5 rows x 138 columns]"
            ],
            "text/html": [
              "\n",
              "  <div id=\"df-f3e5237a-463a-47c1-91ed-0ca1942890eb\">\n",
              "    <div class=\"colab-df-container\">\n",
              "      <div>\n",
              "<style scoped>\n",
              "    .dataframe tbody tr th:only-of-type {\n",
              "        vertical-align: middle;\n",
              "    }\n",
              "\n",
              "    .dataframe tbody tr th {\n",
              "        vertical-align: top;\n",
              "    }\n",
              "\n",
              "    .dataframe thead th {\n",
              "        text-align: right;\n",
              "    }\n",
              "</style>\n",
              "<table border=\"1\" class=\"dataframe\">\n",
              "  <thead>\n",
              "    <tr style=\"text-align: right;\">\n",
              "      <th></th>\n",
              "      <th>subject_id</th>\n",
              "      <th>stay_id</th>\n",
              "      <th>SaO2_timestamp</th>\n",
              "      <th>SaO2</th>\n",
              "      <th>delta_SpO2</th>\n",
              "      <th>SpO2</th>\n",
              "      <th>hidden_hypoxemia</th>\n",
              "      <th>hadm_id</th>\n",
              "      <th>gender</th>\n",
              "      <th>sex_female</th>\n",
              "      <th>...</th>\n",
              "      <th>delta_mbp</th>\n",
              "      <th>mbp</th>\n",
              "      <th>delta_resp_rate</th>\n",
              "      <th>resp_rate</th>\n",
              "      <th>delta_temperature</th>\n",
              "      <th>temperature</th>\n",
              "      <th>delta_glucose</th>\n",
              "      <th>glucose</th>\n",
              "      <th>delta_heart_rhythm</th>\n",
              "      <th>heart_rhythm</th>\n",
              "    </tr>\n",
              "  </thead>\n",
              "  <tbody>\n",
              "    <tr>\n",
              "      <th>0</th>\n",
              "      <td>10001884</td>\n",
              "      <td>37510196</td>\n",
              "      <td>2131-01-12 21:04:00</td>\n",
              "      <td>90.0</td>\n",
              "      <td>-4</td>\n",
              "      <td>89</td>\n",
              "      <td>0</td>\n",
              "      <td>26184834</td>\n",
              "      <td>F</td>\n",
              "      <td>1</td>\n",
              "      <td>...</td>\n",
              "      <td>-3</td>\n",
              "      <td>96.0</td>\n",
              "      <td>-4.0</td>\n",
              "      <td>19.5</td>\n",
              "      <td>-64.0</td>\n",
              "      <td>36.72</td>\n",
              "      <td>445.0</td>\n",
              "      <td>199.0</td>\n",
              "      <td>-4.0</td>\n",
              "      <td>SR (Sinus Rhythm)</td>\n",
              "    </tr>\n",
              "    <tr>\n",
              "      <th>1</th>\n",
              "      <td>10002013</td>\n",
              "      <td>39060235</td>\n",
              "      <td>2160-05-18 16:03:00</td>\n",
              "      <td>99.0</td>\n",
              "      <td>0</td>\n",
              "      <td>99</td>\n",
              "      <td>0</td>\n",
              "      <td>23581541</td>\n",
              "      <td>F</td>\n",
              "      <td>1</td>\n",
              "      <td>...</td>\n",
              "      <td>-3</td>\n",
              "      <td>86.5</td>\n",
              "      <td>-2.0</td>\n",
              "      <td>14.0</td>\n",
              "      <td>-3.0</td>\n",
              "      <td>36.90</td>\n",
              "      <td>0.0</td>\n",
              "      <td>155.0</td>\n",
              "      <td>-3.0</td>\n",
              "      <td>SR (Sinus Rhythm)</td>\n",
              "    </tr>\n",
              "    <tr>\n",
              "      <th>2</th>\n",
              "      <td>10002428</td>\n",
              "      <td>38875437</td>\n",
              "      <td>2156-04-20 00:46:00</td>\n",
              "      <td>97.0</td>\n",
              "      <td>0</td>\n",
              "      <td>100</td>\n",
              "      <td>0</td>\n",
              "      <td>28662225</td>\n",
              "      <td>F</td>\n",
              "      <td>1</td>\n",
              "      <td>...</td>\n",
              "      <td>-1</td>\n",
              "      <td>68.0</td>\n",
              "      <td>-1.0</td>\n",
              "      <td>18.0</td>\n",
              "      <td>14.0</td>\n",
              "      <td>36.94</td>\n",
              "      <td>164.0</td>\n",
              "      <td>163.0</td>\n",
              "      <td>14.0</td>\n",
              "      <td>SR (Sinus Rhythm)</td>\n",
              "    </tr>\n",
              "    <tr>\n",
              "      <th>3</th>\n",
              "      <td>10002428</td>\n",
              "      <td>38875437</td>\n",
              "      <td>2156-04-21 02:20:00</td>\n",
              "      <td>98.0</td>\n",
              "      <td>-3</td>\n",
              "      <td>100</td>\n",
              "      <td>0</td>\n",
              "      <td>28662225</td>\n",
              "      <td>F</td>\n",
              "      <td>1</td>\n",
              "      <td>...</td>\n",
              "      <td>-5</td>\n",
              "      <td>70.0</td>\n",
              "      <td>-5.0</td>\n",
              "      <td>23.0</td>\n",
              "      <td>100.0</td>\n",
              "      <td>37.33</td>\n",
              "      <td>-10.0</td>\n",
              "      <td>135.0</td>\n",
              "      <td>-20.0</td>\n",
              "      <td>ST (Sinus Tachycardia)</td>\n",
              "    </tr>\n",
              "    <tr>\n",
              "      <th>4</th>\n",
              "      <td>10002760</td>\n",
              "      <td>31831386</td>\n",
              "      <td>2141-04-20 16:10:00</td>\n",
              "      <td>97.0</td>\n",
              "      <td>-10</td>\n",
              "      <td>99</td>\n",
              "      <td>0</td>\n",
              "      <td>28094813</td>\n",
              "      <td>M</td>\n",
              "      <td>0</td>\n",
              "      <td>...</td>\n",
              "      <td>-10</td>\n",
              "      <td>70.0</td>\n",
              "      <td>-10.0</td>\n",
              "      <td>16.0</td>\n",
              "      <td>1190.0</td>\n",
              "      <td>36.39</td>\n",
              "      <td>0.0</td>\n",
              "      <td>107.0</td>\n",
              "      <td>-10.0</td>\n",
              "      <td>SR (Sinus Rhythm)</td>\n",
              "    </tr>\n",
              "  </tbody>\n",
              "</table>\n",
              "<p>5 rows × 138 columns</p>\n",
              "</div>\n",
              "      <button class=\"colab-df-convert\" onclick=\"convertToInteractive('df-f3e5237a-463a-47c1-91ed-0ca1942890eb')\"\n",
              "              title=\"Convert this dataframe to an interactive table.\"\n",
              "              style=\"display:none;\">\n",
              "        \n",
              "  <svg xmlns=\"http://www.w3.org/2000/svg\" height=\"24px\"viewBox=\"0 0 24 24\"\n",
              "       width=\"24px\">\n",
              "    <path d=\"M0 0h24v24H0V0z\" fill=\"none\"/>\n",
              "    <path d=\"M18.56 5.44l.94 2.06.94-2.06 2.06-.94-2.06-.94-.94-2.06-.94 2.06-2.06.94zm-11 1L8.5 8.5l.94-2.06 2.06-.94-2.06-.94L8.5 2.5l-.94 2.06-2.06.94zm10 10l.94 2.06.94-2.06 2.06-.94-2.06-.94-.94-2.06-.94 2.06-2.06.94z\"/><path d=\"M17.41 7.96l-1.37-1.37c-.4-.4-.92-.59-1.43-.59-.52 0-1.04.2-1.43.59L10.3 9.45l-7.72 7.72c-.78.78-.78 2.05 0 2.83L4 21.41c.39.39.9.59 1.41.59.51 0 1.02-.2 1.41-.59l7.78-7.78 2.81-2.81c.8-.78.8-2.07 0-2.86zM5.41 20L4 18.59l7.72-7.72 1.47 1.35L5.41 20z\"/>\n",
              "  </svg>\n",
              "      </button>\n",
              "      \n",
              "  <style>\n",
              "    .colab-df-container {\n",
              "      display:flex;\n",
              "      flex-wrap:wrap;\n",
              "      gap: 12px;\n",
              "    }\n",
              "\n",
              "    .colab-df-convert {\n",
              "      background-color: #E8F0FE;\n",
              "      border: none;\n",
              "      border-radius: 50%;\n",
              "      cursor: pointer;\n",
              "      display: none;\n",
              "      fill: #1967D2;\n",
              "      height: 32px;\n",
              "      padding: 0 0 0 0;\n",
              "      width: 32px;\n",
              "    }\n",
              "\n",
              "    .colab-df-convert:hover {\n",
              "      background-color: #E2EBFA;\n",
              "      box-shadow: 0px 1px 2px rgba(60, 64, 67, 0.3), 0px 1px 3px 1px rgba(60, 64, 67, 0.15);\n",
              "      fill: #174EA6;\n",
              "    }\n",
              "\n",
              "    [theme=dark] .colab-df-convert {\n",
              "      background-color: #3B4455;\n",
              "      fill: #D2E3FC;\n",
              "    }\n",
              "\n",
              "    [theme=dark] .colab-df-convert:hover {\n",
              "      background-color: #434B5C;\n",
              "      box-shadow: 0px 1px 3px 1px rgba(0, 0, 0, 0.15);\n",
              "      filter: drop-shadow(0px 1px 2px rgba(0, 0, 0, 0.3));\n",
              "      fill: #FFFFFF;\n",
              "    }\n",
              "  </style>\n",
              "\n",
              "      <script>\n",
              "        const buttonEl =\n",
              "          document.querySelector('#df-f3e5237a-463a-47c1-91ed-0ca1942890eb button.colab-df-convert');\n",
              "        buttonEl.style.display =\n",
              "          google.colab.kernel.accessAllowed ? 'block' : 'none';\n",
              "\n",
              "        async function convertToInteractive(key) {\n",
              "          const element = document.querySelector('#df-f3e5237a-463a-47c1-91ed-0ca1942890eb');\n",
              "          const dataTable =\n",
              "            await google.colab.kernel.invokeFunction('convertToInteractive',\n",
              "                                                     [key], {});\n",
              "          if (!dataTable) return;\n",
              "\n",
              "          const docLinkHtml = 'Like what you see? Visit the ' +\n",
              "            '<a target=\"_blank\" href=https://colab.research.google.com/notebooks/data_table.ipynb>data table notebook</a>'\n",
              "            + ' to learn more about interactive tables.';\n",
              "          element.innerHTML = '';\n",
              "          dataTable['output_type'] = 'display_data';\n",
              "          await google.colab.output.renderOutput(dataTable, element);\n",
              "          const docLink = document.createElement('div');\n",
              "          docLink.innerHTML = docLinkHtml;\n",
              "          element.appendChild(docLink);\n",
              "        }\n",
              "      </script>\n",
              "    </div>\n",
              "  </div>\n",
              "  "
            ]
          },
          "metadata": {},
          "execution_count": 14
        }
      ]
    },
    {
      "cell_type": "markdown",
      "source": [
        " ## **3. Understand your Data**\n",
        "---\n"
      ],
      "metadata": {
        "id": "sKiLCcTe_1s2"
      }
    },
    {
      "cell_type": "markdown",
      "source": [
        "### Understand the variables:\n",
        "\n",
        "The first step is to understand what variables your dataset has and how these variables are distributed. The columns and data types are:\n",
        "\n",
        "Discuss with your team about the problem and what variables are needed \n",
        "\n",
        "\n",
        "| name                           | type    | description                                                                                                |\n",
        "|:-------------------------------|:--------|:-----------------------------------------------------------------------------------------------------------|\n",
        "| subject_id                     | int64   | Unique identifier for each patient                                                                         |\n",
        "| stay_id                        | int64   | Unique identifier for each hospital stay                                                                   |\n",
        "| SaO2_timestamp                 | object  | Timestamp for SaO2 measurement                                                                             |\n",
        "| SaO2                           | float64 | Arterial oxygen saturation                                                                                 |\n",
        "| delta_SpO2                     | int64   | Time offset (in minutes) in the measurement of peripheral oxygen saturation                                |\n",
        "| SpO2                           | int64   | Peripheral oxygen saturation                                                                               |\n",
        "| hidden_hypoxemia               | int64   | Indicates if the patient had hypoxemia without clinical signs                                              |\n",
        "| hadm_id                        | int64   | Unique identifier for each hospital admission                                                              |\n",
        "| gender                         | object  | Gender of the patient                                                                                      |\n",
        "| sex_female                     | int64   | Indicates if the patient is female                                                                         |\n",
        "| anchor_age                     | int64   | Age of the patient at the time of admission                                                                |\n",
        "| race                           | object  | Race of the patient                                                                                        |\n",
        "| race_group                     | object  | Grouping of race into broader categories                                                                   |\n",
        "| language                       | object  | Primary language spoken by the patient                                                                     |\n",
        "| insurance                      | object  | Type of insurance of the patient                                                                           |\n",
        "| weight                         | float64 | Weight of the patient in kilograms                                                                         |\n",
        "| height                         | float64 | Height of the patient in centimeters                                                                       |\n",
        "| BMI                            | float64 | Body Mass Index of the patient                                                                             |\n",
        "| anchor_year_group              | object  | Grouping of admission year into broader categories                                                         |\n",
        "| first_hosp_stay                | bool    | Indicates if this is the first hospital stay for the patient                                               |\n",
        "| first_icu_stay                 | bool    | Indicates if this is the first ICU stay for the patient                                                    |\n",
        "| icustay_seq                    | int64   | Sequence number of ICU stay for the patient                                                                |\n",
        "| admittime                      | object  | Timestamp for hospital admission                                                                           |\n",
        "| dischtime                      | object  | Timestamp for hospital discharge                                                                           |\n",
        "| icu_intime                     | object  | Timestamp for ICU admission                                                                                |\n",
        "| icu_outtime                    | object  | Timestamp for ICU discharge                                                                                |\n",
        "| los_hospital                   | int64   | Length of hospital stay in days                                                                            |\n",
        "| los_icu                        | float64 | Length of ICU stay in days                                                                                 |\n",
        "| CCI                            | int64   | Charlson Comorbidity Index                                                                                 |\n",
        "| SOFA_admission                 | int64   | Sequential Organ Failure Assessment (SOFA) score at admission                                              |\n",
        "| mortality_in                   | int64   | Indicates if the patient died during the hospital stay                                                     |\n",
        "| delta_vent_start               | float64 | Time since ventilation started (in minutes) at the time of the measurement                                 |\n",
        "| ventilation_status             | object  | Indicates if the patient was on mechanical ventilation                                                     |\n",
        "| invasive_vent                  | int64   | Indicates if the patient was on invasive mechanical ventilation                                            |\n",
        "| delta_FiO2                     | float64 | Time offset (in minutes) in the measurement of inspired oxygen (FiO2)                                      |\n",
        "| FiO2                           | float64 | Fraction of inspired oxygen                                                                                |\n",
        "| delta_rrt                      | float64 | Time since renal replacement therapy (in minutes) at the time of the measurement                           |\n",
        "| rrt                            | int64   | Indicates if the patient was on renal replacement therapy                                                  |\n",
        "| delta_vp_start                 | float64 | Time since vasopressor therapy started (in minutes) at the time of the measurement                         |\n",
        "| norepinephrine_equivalent_dose | float64 | Dose of norepinephrine equivalent to other vasopressors (in mcg/kg/min)                                    |\n",
        "| delta_sofa_coag                | float64 | Time offset (in minutes) in the measurement of SOFA score for coagulation from the previous measurement    |\n",
        "| sofa_coag                      | float64 | SOFA score for coagulation                                                                                 |\n",
        "| delta_sofa_liver               | float64 | Time offset (in minutes) in the measurement of SOFA score for liver from the previous measurement          |\n",
        "| sofa_liver                     | float64 | SOFA score for liver                                                                                       |\n",
        "| delta_sofa_cv                  | int64   | Time offset (in minutes) in the measurement of SOFA score for cardiovascular from the previous measurement |\n",
        "| sofa_cv                        | int64   | Cardiovascular component of Sequential Organ Failure Assessment (SOFA) score                               |\n",
        "| delta_sofa_cns                 | float64 | Time offset (in minutes) in the measurement of central nervous system component of SOFA                    |\n",
        "| sofa_cns                       | float64 | Central nervous system component of SOFA score                                                             |\n",
        "| delta_sofa_renal               | float64 | Time difference between the SaO2 measurement and the timestamp of the SaO2 measurement                     |\n",
        "| sofa_renal                     | float64 | Renal component of SOFA score                                                                              |\n",
        "| delta_sofa_resp                | float64 | Time offset (in minutes) in the measurement of respiratory component of SOFA                               |\n",
        "| sofa_resp                      | float64 | Respiratory component of SOFA score                                                                        |\n",
        "| delta_hemoglobin               | float64 | Time offset (in minutes) in the measurement of hemoglobin level                                            |\n",
        "| hemoglobin                     | float64 | Hemoglobin level                                                                                           |\n",
        "| delta_hematocrit               | float64 | Time offset (in minutes) in the measurement of Change in hematocrit level                                  |\n",
        "| hematocrit                     | float64 | Hematocrit level                                                                                           |\n",
        "| delta_mch                      | float64 | Time offset (in minutes) in the measurement of mean corpuscular hemoglobin                                 |\n",
        "| mch                            | float64 | Mean corpuscular hemoglobin                                                                                |\n",
        "| delta_mchc                     | float64 | Time offset (in minutes) in the measurement of mean corpuscular hemoglobin concentration                   |\n",
        "| mchc                           | float64 | Mean corpuscular hemoglobin concentration                                                                  |\n",
        "| delta_mcv                      | float64 | Time offset (in minutes) in the measurement of mean corpuscular volume                                     |\n",
        "| mcv                            | float64 | Mean corpuscular volume                                                                                    |\n",
        "| delta_platelet                 | float64 | Time offset (in minutes) in the measurement of platelet count                                              |\n",
        "| platelet                       | float64 | Platelet count                                                                                             |\n",
        "| delta_rbc                      | float64 | Time offset (in minutes) in the measurement of red blood cell count                                        |\n",
        "| rbc                            | float64 | Red blood cell count                                                                                       |\n",
        "| delta_rdw                      | float64 | Time offset (in minutes) in the measurement of Change in red cell distribution width                       |\n",
        "| rdw                            | float64 | Red cell distribution width                                                                                |\n",
        "| delta_wbc                      | float64 | Time offset (in minutes) in the measurement of white blood cell count                                      |\n",
        "| wbc                            | float64 | White blood cell count                                                                                     |\n",
        "| delta_d_dimer                  | float64 | Time offset (in minutes) in the measurement of Change in D-dimer                                           |\n",
        "| d_dimer                        | float64 | D-dimer level                                                                                              |\n",
        "| delta_fibrinogen               | float64 | Time offset (in minutes) in the measurement of fibrinogen level                                            |\n",
        "| fibrinogen                     | float64 | Fibrinogen level                                                                                           |\n",
        "| delta_thrombin                 | float64 | Time offset (in minutes) in the measurement of thrombin time                                               |\n",
        "| thrombin                       | float64 | Thrombin time                                                                                              |\n",
        "| delta_inr                      | float64 | Time offset (in minutes) in the measurement of Change in international normalized ratio (INR)              |\n",
        "| inr                            | float64 | International normalized ratio (INR)                                                                       |\n",
        "| delta_pt                       | float64 | Time offset (in minutes) in the measurement of prothrombin time (PT)                                       |\n",
        "| pt                             | float64 | Prothrombin time (PT)                                                                                      |\n",
        "| delta_ptt                      | float64 | Time offset (in minutes) in the measurement of partial thromboplastin time (PTT)                           |\n",
        "| ptt                            | float64 | Partial thromboplastin time (PTT)                                                                          |\n",
        "| delta_alt                      | float64 | Time offset (in minutes) in the measurement of alanine transaminase (ALT) level                            |\n",
        "| alt                            | float64 | Alanine transaminase (ALT) level                                                                           |\n",
        "| delta_alp                      | float64 | Time offset (in minutes) in the measurement of hhange in alkaline phosphatase (ALP) level                  |\n",
        "| alp                            | float64 | Alkaline phosphatase (ALP) level                                                                           |\n",
        "| delta_ast                      | float64 | Time offset (in minutes) in the measurement of aspartate transaminase (AST) level                          |\n",
        "| ast                            | float64 | Aspartate transaminase (AST) level                                                                         |\n",
        "| delta_bilirubin_total          | float64 | Time offset (in minutes) in the measurement of total bilirubin level                                       |\n",
        "| bilirubin_total                | float64 | Total bilirubin level                                                                                      |\n",
        "| delta_bilirubin_direct         | float64 | Time offset (in minutes) in the measurement of  direct bilirubin level                                     |\n",
        "| bilirubin_direct               | float64 | Direct bilirubin level                                                                                     |\n",
        "| delta_bilirubin_indirect       | float64 | Time offset (in minutes) in the measurement of indirect bilirubin level                                    |\n",
        "| bilirubin_indirect             | float64 | Indirect bilirubin level                                                                                   |\n",
        "| delta_ck_cpk                   | float64 | Time offset (in minutes) in the measurement of  creatine kinase (CPK) level                                |\n",
        "| ck_cpk                         | float64 | Creatine kinase (CPK) level                                                                                |\n",
        "| delta_ck_mb                    | float64 | Time offset (in minutes) in the measurement of  creatine kinase MB (CK-MB) level                           |\n",
        "| ck_mb                          | float64 | Creatine kinase MB (CK-MB) level                                                                           |\n",
        "| delta_ggt                      | float64 | Time offset (in minutes) in the measurement of  gamma-glutamyl transferase (GGT) level                     |\n",
        "| ggt                            | float64 | Gamma-glutamyl transferase (GGT) level                                                                     |\n",
        "| delta_ld_ldh                   | float64 | Time offset (in minutes) in the measurement of  lactate dehydrogenase (LDH) level                          |\n",
        "| ld_ldh                         | float64 | Lactate dehydrogenase (LDH) level                                                                          |\n",
        "| delta_albumin                  | float64 | Time offset (in minutes) in the measurement of albumin level                                               |\n",
        "| albumin                        | float64 | Albumin level                                                                                              |\n",
        "| delta_aniongap                 | float64 | Time offset (in minutes) in the measurement of anion gap                                                   |\n",
        "| aniongap                       | float64 | Anion gap                                                                                                  |\n",
        "| delta_bicarbonate              | float64 | Time offset (in minutes) in the measurement of bicarbonate level                                           |\n",
        "| bicarbonate                    | float64 | Bicarbonate level                                                                                          |\n",
        "| delta_bun                      | float64 | Time offset (in minutes) in the measurement of blood urea nitrogen (BUN) level                             |\n",
        "| bun                            | float64 | Blood urea nitrogen (BUN) level                                                                            |\n",
        "| delta_calcium                  | float64 | Time offset (in minutes) in the measurement of calcium level                                               |\n",
        "| calcium                        | float64 | Calcium level                                                                                              |\n",
        "| delta_chloride                 | float64 | Time offset (in minutes) in the measurement of chloride level                                              |\n",
        "| chloride                       | float64 | Chloride level                                                                                             |\n",
        "| delta_creatinine               | float64 | Time offset (in minutes) in the measurement of creatinine level                                            |\n",
        "| creatinine                     | float64 | Creatinine level                                                                                           |\n",
        "| delta_glucose_lab              | float64 | Time offset (in minutes) in the measurement of glucose level from laboratory                               |\n",
        "| glucose_lab                    | float64 | Glucose level from laboratory measurement                                                                  |\n",
        "| delta_sodium                   | float64 | Time offset (in minutes) in the measurement of sodium level                                                |\n",
        "| sodium                         | float64 | Sodium level                                                                                               |\n",
        "| delta_potassium                | float64 | Time offset (in minutes) in the measurement of potassium level                                             |\n",
        "| potassium                      | float64 | Potassium level                                                                                            |\n",
        "| delta_ph                       | float64 | Time offset (in minutes) in the measurement of pH level                                                    |\n",
        "| ph                             | float64 | pH level                                                                                                   |\n",
        "| delta_lactate                  | float64 | Time offset (in minutes) in the measurement of lactate level                                               |\n",
        "| lactate                        | float64 | Lactate level                                                                                              |\n",
        "| delta_heart_rate               | int64   | Time offset (in minutes) in the measurement of  heart rate                                                 |\n",
        "| heart_rate                     | float64 | Heart rate                                                                                                 |\n",
        "| delta_mbp                      | int64   | Time offset (in minutes) in the measurement of mean blood pressure (MBP)                                   |\n",
        "| mbp                            | float64 | Mean blood pressure (MBP)                                                                                  |\n",
        "| delta_resp_rate                | float64 | Time offset (in minutes) in the measurement of respiratory rate                                            |\n",
        "| resp_rate                      | float64 | Respiratory rate                                                                                           |\n",
        "| delta_temperature              | float64 | Time offset (in minutes) in the measurement of body temperature                                            |\n",
        "| temperature                    | float64 | Body temperature                                                                                           |\n",
        "| delta_glucose                  | float64 | Time offset (in minutes) in the measurement of glucose level                                               |\n",
        "| glucose                        | float64 | Glucose level                                                                                              |\n",
        "| delta_heart_rhythm             | float64 | Time offset (in minutes) in the measurement of heart rhythm                                                |\n",
        "| heart_rhythm                   | object  | Heart rhythm                                                                                               |"
      ],
      "metadata": {
        "id": "zqwtcefTVxdh"
      }
    },
    {
      "cell_type": "markdown",
      "source": [
        "### Select you variables\n",
        "**Task:** To simplify the task we will use a reduced group of variables for the following analysis. Ideally you should decide with your groups which variables you consider to be really important.\n",
        "\n",
        "The variables should be selected:\n",
        "1. Always thinking about the question to solve and the hypothesis.\n",
        "2. Using the clinical experience of the members of the group and if possible supported by literature.\n",
        "3. Using mathematical and statistical methods."
      ],
      "metadata": {
        "id": "ZEzfCAqiVRx8"
      }
    },
    {
      "cell_type": "markdown",
      "source": [
        "###### ✏️ Select demographic variables:\n",
        "Due to the challenge we need some demographic information select the relevant columns:"
      ],
      "metadata": {
        "id": "npybroq6Ju2a"
      }
    },
    {
      "cell_type": "code",
      "source": [
        "# Patient main information\n",
        "patient_info = ['subject_id', 'stay_id', 'SaO2_timestamp', 'SaO2', 'delta_SpO2', 'SpO2', 'hidden_hypoxemia', 'ventilation_status']\n",
        "\n",
        "# Demographic variables\n",
        "demographic_variables = ['gender', 'anchor_age', 'race_group', 'language', 'insurance']"
      ],
      "metadata": {
        "id": "ZIUc7QwLJuDT"
      },
      "execution_count": null,
      "outputs": []
    },
    {
      "cell_type": "markdown",
      "source": [
        "The clinical variables selected were selected based on the variables that are most related with SaO2 and Spo2 and a correlation method was used to filter those variables. \n",
        "You can use other methods and criteria!"
      ],
      "metadata": {
        "id": "gZxXW_09KCOC"
      }
    },
    {
      "cell_type": "markdown",
      "source": [
        "###### ✏️ Select clinical variables\n",
        "1. Manual variable selection: Manually select with you team the variables that are clinically important. Don't worry if there are many, later we will use other methods to filter the variables"
      ],
      "metadata": {
        "id": "Ucr8SD4lW0Eh"
      }
    },
    {
      "cell_type": "code",
      "source": [
        "# Static clinical variables\n",
        "static_clinical_variables = ['CCI', 'BMI', 'SOFA_admission']\n",
        "\n",
        "# Temporal clinical variables\n",
        "sofa_variables = [column for column in df.columns if 'sofa' in column]\n",
        "temporal_clinical_variables = ['SpO2', 'SaO2', 'FiO2', 'ventilation_status', 'delta_vent_start', 'delta_rrt', 'delta_vp_start',\n",
        "                               'mch', 'mchc', 'mcv', 'platelet', 'rbc', 'rdw', 'wbc', 'inr', 'pt', 'ptt', 'alt', 'alp', 'ast',\n",
        "                               'bilirubin_total', 'delta_albumin', 'albumin', 'aniongap', 'bicarbonate', 'bun', 'calcium', 'chloride',\n",
        "                               'creatinine', 'glucose_lab', 'sodium', 'potassium', 'ph', 'lactate', 'norepinephrine_equivalent_dose',\n",
        "                               'hemoglobin', 'hematocrit', 'delta_ld_ldh', 'ld_ldh'] + sofa_variables\n",
        "\n",
        "outcomes = ['los_hospital', 'los_icu', 'mortality_in']\n",
        "\n",
        "treatment = ['invasive_vent', 'rrt']"
      ],
      "metadata": {
        "id": "GLYKUYWtKjNh"
      },
      "execution_count": null,
      "outputs": []
    },
    {
      "cell_type": "markdown",
      "source": [
        "###### ✏️ Variable filtering\n",
        "Let's now employ a few techniques to filter the variables. You should choose a technique to do it. \n",
        "\n",
        "Hint: To choose the variables most connected with the columns SpO2 and SaO2, we utilised the correlation as an example. You are not required to employ the identical column(s). Select the columns in accordance with your hypothesis."
      ],
      "metadata": {
        "id": "lhKfPsmRW8TA"
      }
    },
    {
      "cell_type": "code",
      "source": [
        "def get_most_correlated(df, variable, n):\n",
        "  \"\"\"\n",
        "  Function to get the most direct and inverse correlated variables to a specific variable\n",
        "  Inputs:\n",
        "  df: A pandas dataframe with all the variables to calculate correlation\n",
        "  variable: S string with the name of the variable with respect to which we want to calculate the correlation (Eg. 'SaO2')\n",
        "  n: A integer with the number of variables that we want to get as most directly and inverse correlated\n",
        "  Output:\n",
        "  A list with top n most correlated words (inversely and directly)\n",
        "  \"\"\"\n",
        "\n",
        "  # Calculate the correlation matrix\n",
        "  corr_matrix = df.corr()\n",
        "\n",
        "  # Print the correlation matrix\n",
        "  correlation = corr_matrix[variable].sort_values(ascending=False)\n",
        "  positive_correlated = correlation[:n]\n",
        "  inversely_correlated = correlation[-n:]\n",
        "  print('#'*40, f' {variable} ' , '#'*40)\n",
        "  print(f'The {n} most correlated variables to variable {variable} are: ')\n",
        "  print(positive_correlated)\n",
        "  print(f'The {n} most inversely correlated variables to variable {variable} are: ')\n",
        "  print(inversely_correlated)\n",
        "\n",
        "  return list(positive_correlated.index) + list(inversely_correlated.index)"
      ],
      "metadata": {
        "id": "bqsjG9cFIVTS"
      },
      "execution_count": null,
      "outputs": []
    },
    {
      "cell_type": "code",
      "source": [
        "print(f'The number of initial variables is {len(temporal_clinical_variables)}')\n",
        "\n",
        "# Get variables correlated to SpO2\n",
        "columns_sao2 = get_most_correlated(df[temporal_clinical_variables], variable='SpO2', n=8)\n",
        "\n",
        "# Get variables correlated to SaO2\n",
        "columns_spo2 = get_most_correlated(df[temporal_clinical_variables], variable='SaO2', n=8)\n",
        "\n",
        "resulting_temporal_clinical_variables = list(set(columns_sao2 + columns_spo2))\n",
        "\n",
        "print(f'The number of resulting variables is {len(resulting_temporal_clinical_variables)}')"
      ],
      "metadata": {
        "colab": {
          "base_uri": "https://localhost:8080/"
        },
        "id": "rxZJnP7bIVWT",
        "outputId": "211511a4-f9cb-4d10-811b-d6b04ff3b032"
      },
      "execution_count": null,
      "outputs": [
        {
          "output_type": "stream",
          "name": "stdout",
          "text": [
            "The number of initial variables is 51\n"
          ]
        },
        {
          "output_type": "stream",
          "name": "stderr",
          "text": [
            "<ipython-input-17-4adb24b69ce4>:13: FutureWarning: The default value of numeric_only in DataFrame.corr is deprecated. In a future version, it will default to False. Select only valid columns or specify the value of numeric_only to silence this warning.\n",
            "  corr_matrix = df.corr()\n"
          ]
        },
        {
          "output_type": "stream",
          "name": "stdout",
          "text": [
            "########################################  SpO2  ########################################\n",
            "The 8 most correlated variables to variable SpO2 are: \n",
            "SpO2                1.000000\n",
            "SaO2                0.572191\n",
            "ph                  0.170464\n",
            "chloride            0.117525\n",
            "albumin             0.116854\n",
            "mchc                0.076890\n",
            "delta_ld_ldh        0.026782\n",
            "delta_sofa_liver    0.023784\n",
            "Name: SpO2, dtype: float64\n",
            "The 8 most inversely correlated variables to variable SpO2 are: \n",
            "pt                               -0.098480\n",
            "ld_ldh                           -0.106295\n",
            "bun                              -0.110613\n",
            "lactate                          -0.148216\n",
            "aniongap                         -0.159267\n",
            "norepinephrine_equivalent_dose   -0.195114\n",
            "FiO2                             -0.225793\n",
            "sofa_resp                        -0.384314\n",
            "Name: SpO2, dtype: float64\n"
          ]
        },
        {
          "output_type": "stream",
          "name": "stderr",
          "text": [
            "<ipython-input-17-4adb24b69ce4>:13: FutureWarning: The default value of numeric_only in DataFrame.corr is deprecated. In a future version, it will default to False. Select only valid columns or specify the value of numeric_only to silence this warning.\n",
            "  corr_matrix = df.corr()\n"
          ]
        },
        {
          "output_type": "stream",
          "name": "stdout",
          "text": [
            "########################################  SaO2  ########################################\n",
            "The 8 most correlated variables to variable SaO2 are: \n",
            "SaO2                1.000000\n",
            "SpO2                0.572191\n",
            "ph                  0.185734\n",
            "mchc                0.106330\n",
            "albumin             0.105901\n",
            "chloride            0.093484\n",
            "delta_ld_ldh        0.027393\n",
            "delta_vent_start    0.020618\n",
            "Name: SaO2, dtype: float64\n",
            "The 8 most inversely correlated variables to variable SaO2 are: \n",
            "glucose_lab                      -0.071885\n",
            "rdw                              -0.076428\n",
            "lactate                          -0.076932\n",
            "aniongap                         -0.088087\n",
            "mcv                              -0.090899\n",
            "norepinephrine_equivalent_dose   -0.149008\n",
            "FiO2                             -0.205246\n",
            "sofa_resp                        -0.465726\n",
            "Name: SaO2, dtype: float64\n",
            "The number of resulting variables is 20\n"
          ]
        }
      ]
    },
    {
      "cell_type": "code",
      "source": [
        "# Optional: add another feature selection process to improve the model at a later stage\n",
        "from typing import Any, List, Union\n",
        "\n",
        "array_like = Union[pd.DataFrame, np.ndarray, List, Any]\n",
        "\n",
        "outcome_var = \"mortality_in\"\n",
        "K = 7\n",
        "method = f_classif  # f_classif, chi2, mutual_info_classif, mutual_info_regression, etc\n",
        "\n",
        "def feat_select(features: List[str], df: pd.DataFrame, outcome_var: str, K: int, method: Any) -> array_like:  \n",
        "  X = df[features]\n",
        "  y = df[outcome_var]\n",
        "  return SelectKBest(method, k=K).fit(X, y).get_feature_names_out()\n",
        "\n",
        "# resulting_temporal_clinical_variables = feat_select(resulting_temporal_clinical_variables, df, outcome_var, K, method)"
      ],
      "metadata": {
        "id": "Nlys9bNkJb2h"
      },
      "execution_count": null,
      "outputs": []
    },
    {
      "cell_type": "code",
      "source": [
        "# Get the resulting dataframe\n",
        "variables = list(set(patient_info + demographic_variables + static_clinical_variables + resulting_temporal_clinical_variables + outcomes + treatment))\n",
        "\n",
        "df = df [variables]\n",
        "df.head()"
      ],
      "metadata": {
        "colab": {
          "base_uri": "https://localhost:8080/",
          "height": 299
        },
        "id": "NMQJzYj-DPk6",
        "outputId": "55ed1b49-7488-47fd-99f8-5b5ae28bdded"
      },
      "execution_count": null,
      "outputs": [
        {
          "output_type": "execute_result",
          "data": {
            "text/plain": [
              "   lactate  SpO2  delta_ld_ldh  albumin race_group  hidden_hypoxemia  \\\n",
              "0      1.1    89     -388239.0      3.5      Black                 0   \n",
              "1      2.6    99     2901677.0      3.6      Other                 0   \n",
              "2      2.0   100         164.0      2.1      White                 0   \n",
              "3      1.6   100       -1370.0      2.1      White                 0   \n",
              "4      1.7    99      -10300.0      4.2      Other                 0   \n",
              "\n",
              "  insurance  rrt    pt  aniongap  ... delta_SpO2   stay_id  ld_ldh   bun  \\\n",
              "0  Medicare    0  12.4      15.0  ...         -4  37510196   260.0  32.0   \n",
              "1  Medicare    0  11.3      12.0  ...          0  39060235   170.0  16.0   \n",
              "2  Medicare    0  10.5      10.0  ...          0  38875437   329.0  31.0   \n",
              "3  Medicare    0  11.8      11.0  ...         -3  38875437   329.0  25.0   \n",
              "4     Other    0  13.7       8.0  ...        -10  31831386   256.0  18.0   \n",
              "\n",
              "         BMI   mcv  mortality_in  FiO2 glucose_lab delta_sofa_liver  \n",
              "0  26.370238  93.0             1  40.0       199.0          -1024.0  \n",
              "1  38.946813  97.0             0  50.0        98.0              NaN  \n",
              "2        NaN  97.0             0  40.0       163.0            194.0  \n",
              "3        NaN  98.0             0  40.0       135.0             40.0  \n",
              "4  26.588751  94.0             0  80.0        99.0              NaN  \n",
              "\n",
              "[5 rows x 39 columns]"
            ],
            "text/html": [
              "\n",
              "  <div id=\"df-9f5a8756-6b92-4752-914d-375a4b8b6364\">\n",
              "    <div class=\"colab-df-container\">\n",
              "      <div>\n",
              "<style scoped>\n",
              "    .dataframe tbody tr th:only-of-type {\n",
              "        vertical-align: middle;\n",
              "    }\n",
              "\n",
              "    .dataframe tbody tr th {\n",
              "        vertical-align: top;\n",
              "    }\n",
              "\n",
              "    .dataframe thead th {\n",
              "        text-align: right;\n",
              "    }\n",
              "</style>\n",
              "<table border=\"1\" class=\"dataframe\">\n",
              "  <thead>\n",
              "    <tr style=\"text-align: right;\">\n",
              "      <th></th>\n",
              "      <th>lactate</th>\n",
              "      <th>SpO2</th>\n",
              "      <th>delta_ld_ldh</th>\n",
              "      <th>albumin</th>\n",
              "      <th>race_group</th>\n",
              "      <th>hidden_hypoxemia</th>\n",
              "      <th>insurance</th>\n",
              "      <th>rrt</th>\n",
              "      <th>pt</th>\n",
              "      <th>aniongap</th>\n",
              "      <th>...</th>\n",
              "      <th>delta_SpO2</th>\n",
              "      <th>stay_id</th>\n",
              "      <th>ld_ldh</th>\n",
              "      <th>bun</th>\n",
              "      <th>BMI</th>\n",
              "      <th>mcv</th>\n",
              "      <th>mortality_in</th>\n",
              "      <th>FiO2</th>\n",
              "      <th>glucose_lab</th>\n",
              "      <th>delta_sofa_liver</th>\n",
              "    </tr>\n",
              "  </thead>\n",
              "  <tbody>\n",
              "    <tr>\n",
              "      <th>0</th>\n",
              "      <td>1.1</td>\n",
              "      <td>89</td>\n",
              "      <td>-388239.0</td>\n",
              "      <td>3.5</td>\n",
              "      <td>Black</td>\n",
              "      <td>0</td>\n",
              "      <td>Medicare</td>\n",
              "      <td>0</td>\n",
              "      <td>12.4</td>\n",
              "      <td>15.0</td>\n",
              "      <td>...</td>\n",
              "      <td>-4</td>\n",
              "      <td>37510196</td>\n",
              "      <td>260.0</td>\n",
              "      <td>32.0</td>\n",
              "      <td>26.370238</td>\n",
              "      <td>93.0</td>\n",
              "      <td>1</td>\n",
              "      <td>40.0</td>\n",
              "      <td>199.0</td>\n",
              "      <td>-1024.0</td>\n",
              "    </tr>\n",
              "    <tr>\n",
              "      <th>1</th>\n",
              "      <td>2.6</td>\n",
              "      <td>99</td>\n",
              "      <td>2901677.0</td>\n",
              "      <td>3.6</td>\n",
              "      <td>Other</td>\n",
              "      <td>0</td>\n",
              "      <td>Medicare</td>\n",
              "      <td>0</td>\n",
              "      <td>11.3</td>\n",
              "      <td>12.0</td>\n",
              "      <td>...</td>\n",
              "      <td>0</td>\n",
              "      <td>39060235</td>\n",
              "      <td>170.0</td>\n",
              "      <td>16.0</td>\n",
              "      <td>38.946813</td>\n",
              "      <td>97.0</td>\n",
              "      <td>0</td>\n",
              "      <td>50.0</td>\n",
              "      <td>98.0</td>\n",
              "      <td>NaN</td>\n",
              "    </tr>\n",
              "    <tr>\n",
              "      <th>2</th>\n",
              "      <td>2.0</td>\n",
              "      <td>100</td>\n",
              "      <td>164.0</td>\n",
              "      <td>2.1</td>\n",
              "      <td>White</td>\n",
              "      <td>0</td>\n",
              "      <td>Medicare</td>\n",
              "      <td>0</td>\n",
              "      <td>10.5</td>\n",
              "      <td>10.0</td>\n",
              "      <td>...</td>\n",
              "      <td>0</td>\n",
              "      <td>38875437</td>\n",
              "      <td>329.0</td>\n",
              "      <td>31.0</td>\n",
              "      <td>NaN</td>\n",
              "      <td>97.0</td>\n",
              "      <td>0</td>\n",
              "      <td>40.0</td>\n",
              "      <td>163.0</td>\n",
              "      <td>194.0</td>\n",
              "    </tr>\n",
              "    <tr>\n",
              "      <th>3</th>\n",
              "      <td>1.6</td>\n",
              "      <td>100</td>\n",
              "      <td>-1370.0</td>\n",
              "      <td>2.1</td>\n",
              "      <td>White</td>\n",
              "      <td>0</td>\n",
              "      <td>Medicare</td>\n",
              "      <td>0</td>\n",
              "      <td>11.8</td>\n",
              "      <td>11.0</td>\n",
              "      <td>...</td>\n",
              "      <td>-3</td>\n",
              "      <td>38875437</td>\n",
              "      <td>329.0</td>\n",
              "      <td>25.0</td>\n",
              "      <td>NaN</td>\n",
              "      <td>98.0</td>\n",
              "      <td>0</td>\n",
              "      <td>40.0</td>\n",
              "      <td>135.0</td>\n",
              "      <td>40.0</td>\n",
              "    </tr>\n",
              "    <tr>\n",
              "      <th>4</th>\n",
              "      <td>1.7</td>\n",
              "      <td>99</td>\n",
              "      <td>-10300.0</td>\n",
              "      <td>4.2</td>\n",
              "      <td>Other</td>\n",
              "      <td>0</td>\n",
              "      <td>Other</td>\n",
              "      <td>0</td>\n",
              "      <td>13.7</td>\n",
              "      <td>8.0</td>\n",
              "      <td>...</td>\n",
              "      <td>-10</td>\n",
              "      <td>31831386</td>\n",
              "      <td>256.0</td>\n",
              "      <td>18.0</td>\n",
              "      <td>26.588751</td>\n",
              "      <td>94.0</td>\n",
              "      <td>0</td>\n",
              "      <td>80.0</td>\n",
              "      <td>99.0</td>\n",
              "      <td>NaN</td>\n",
              "    </tr>\n",
              "  </tbody>\n",
              "</table>\n",
              "<p>5 rows × 39 columns</p>\n",
              "</div>\n",
              "      <button class=\"colab-df-convert\" onclick=\"convertToInteractive('df-9f5a8756-6b92-4752-914d-375a4b8b6364')\"\n",
              "              title=\"Convert this dataframe to an interactive table.\"\n",
              "              style=\"display:none;\">\n",
              "        \n",
              "  <svg xmlns=\"http://www.w3.org/2000/svg\" height=\"24px\"viewBox=\"0 0 24 24\"\n",
              "       width=\"24px\">\n",
              "    <path d=\"M0 0h24v24H0V0z\" fill=\"none\"/>\n",
              "    <path d=\"M18.56 5.44l.94 2.06.94-2.06 2.06-.94-2.06-.94-.94-2.06-.94 2.06-2.06.94zm-11 1L8.5 8.5l.94-2.06 2.06-.94-2.06-.94L8.5 2.5l-.94 2.06-2.06.94zm10 10l.94 2.06.94-2.06 2.06-.94-2.06-.94-.94-2.06-.94 2.06-2.06.94z\"/><path d=\"M17.41 7.96l-1.37-1.37c-.4-.4-.92-.59-1.43-.59-.52 0-1.04.2-1.43.59L10.3 9.45l-7.72 7.72c-.78.78-.78 2.05 0 2.83L4 21.41c.39.39.9.59 1.41.59.51 0 1.02-.2 1.41-.59l7.78-7.78 2.81-2.81c.8-.78.8-2.07 0-2.86zM5.41 20L4 18.59l7.72-7.72 1.47 1.35L5.41 20z\"/>\n",
              "  </svg>\n",
              "      </button>\n",
              "      \n",
              "  <style>\n",
              "    .colab-df-container {\n",
              "      display:flex;\n",
              "      flex-wrap:wrap;\n",
              "      gap: 12px;\n",
              "    }\n",
              "\n",
              "    .colab-df-convert {\n",
              "      background-color: #E8F0FE;\n",
              "      border: none;\n",
              "      border-radius: 50%;\n",
              "      cursor: pointer;\n",
              "      display: none;\n",
              "      fill: #1967D2;\n",
              "      height: 32px;\n",
              "      padding: 0 0 0 0;\n",
              "      width: 32px;\n",
              "    }\n",
              "\n",
              "    .colab-df-convert:hover {\n",
              "      background-color: #E2EBFA;\n",
              "      box-shadow: 0px 1px 2px rgba(60, 64, 67, 0.3), 0px 1px 3px 1px rgba(60, 64, 67, 0.15);\n",
              "      fill: #174EA6;\n",
              "    }\n",
              "\n",
              "    [theme=dark] .colab-df-convert {\n",
              "      background-color: #3B4455;\n",
              "      fill: #D2E3FC;\n",
              "    }\n",
              "\n",
              "    [theme=dark] .colab-df-convert:hover {\n",
              "      background-color: #434B5C;\n",
              "      box-shadow: 0px 1px 3px 1px rgba(0, 0, 0, 0.15);\n",
              "      filter: drop-shadow(0px 1px 2px rgba(0, 0, 0, 0.3));\n",
              "      fill: #FFFFFF;\n",
              "    }\n",
              "  </style>\n",
              "\n",
              "      <script>\n",
              "        const buttonEl =\n",
              "          document.querySelector('#df-9f5a8756-6b92-4752-914d-375a4b8b6364 button.colab-df-convert');\n",
              "        buttonEl.style.display =\n",
              "          google.colab.kernel.accessAllowed ? 'block' : 'none';\n",
              "\n",
              "        async function convertToInteractive(key) {\n",
              "          const element = document.querySelector('#df-9f5a8756-6b92-4752-914d-375a4b8b6364');\n",
              "          const dataTable =\n",
              "            await google.colab.kernel.invokeFunction('convertToInteractive',\n",
              "                                                     [key], {});\n",
              "          if (!dataTable) return;\n",
              "\n",
              "          const docLinkHtml = 'Like what you see? Visit the ' +\n",
              "            '<a target=\"_blank\" href=https://colab.research.google.com/notebooks/data_table.ipynb>data table notebook</a>'\n",
              "            + ' to learn more about interactive tables.';\n",
              "          element.innerHTML = '';\n",
              "          dataTable['output_type'] = 'display_data';\n",
              "          await google.colab.output.renderOutput(dataTable, element);\n",
              "          const docLink = document.createElement('div');\n",
              "          docLink.innerHTML = docLinkHtml;\n",
              "          element.appendChild(docLink);\n",
              "        }\n",
              "      </script>\n",
              "    </div>\n",
              "  </div>\n",
              "  "
            ]
          },
          "metadata": {},
          "execution_count": 20
        }
      ]
    },
    {
      "cell_type": "markdown",
      "source": [
        "### Understand how variables are distributed:"
      ],
      "metadata": {
        "id": "-MHV8nXH_pZ7"
      }
    },
    {
      "cell_type": "markdown",
      "source": [
        "To see a description of some statistics of each numeric variable, you can use `df.describe()`:\n"
      ],
      "metadata": {
        "id": "36D4dSeJK2zU"
      }
    },
    {
      "cell_type": "code",
      "source": [
        "df.describe()"
      ],
      "metadata": {
        "colab": {
          "base_uri": "https://localhost:8080/",
          "height": 393
        },
        "id": "gyYJzvip-4-2",
        "outputId": "18930336-db4e-4b6b-fcc9-2eb40ca5b0d0"
      },
      "execution_count": null,
      "outputs": [
        {
          "output_type": "execute_result",
          "data": {
            "text/plain": [
              "            lactate          SpO2  delta_ld_ldh       albumin  \\\n",
              "count  19963.000000  20041.000000  1.778500e+04  19365.000000   \n",
              "mean       2.244847     96.930443  9.600101e+03      3.199112   \n",
              "std        2.113114      3.804275  3.234942e+05      0.777945   \n",
              "min        0.300000     65.000000 -5.182985e+06      0.400000   \n",
              "25%        1.200000     95.000000 -2.589000e+03      2.600000   \n",
              "50%        1.600000     98.000000 -2.340000e+02      3.200000   \n",
              "75%        2.400000    100.000000  7.980000e+02      3.800000   \n",
              "max       24.000000    100.000000  5.028526e+06      5.900000   \n",
              "\n",
              "       hidden_hypoxemia           rrt            pt      aniongap  \\\n",
              "count      20041.000000  20041.000000  20027.000000  20027.000000   \n",
              "mean           0.016716      0.217804     16.253897     14.416538   \n",
              "std            0.128207      0.412763      7.464579      4.708518   \n",
              "min            0.000000      0.000000      8.100000      3.000000   \n",
              "25%            0.000000      0.000000     13.000000     11.000000   \n",
              "50%            0.000000      0.000000     14.300000     14.000000   \n",
              "75%            0.000000      0.000000     16.600000     17.000000   \n",
              "max            1.000000      1.000000    150.000000     50.000000   \n",
              "\n",
              "          sofa_resp       los_icu  ...    delta_SpO2       stay_id  \\\n",
              "count  19522.000000  20041.000000  ...  20041.000000  2.004100e+04   \n",
              "mean       2.040057     13.424771  ...     -4.800210  3.490949e+07   \n",
              "std        0.996913     14.817929  ...      3.326585  2.895984e+06   \n",
              "min        0.000000      0.130000  ...    -10.000000  3.000065e+07   \n",
              "25%        1.000000      3.170000  ...     -8.000000  3.238523e+07   \n",
              "50%        2.000000      8.000000  ...     -5.000000  3.478635e+07   \n",
              "75%        3.000000     18.330000  ...     -2.000000  3.742226e+07   \n",
              "max        4.000000    103.500000  ...      0.000000  3.999923e+07   \n",
              "\n",
              "             ld_ldh           bun           BMI           mcv  mortality_in  \\\n",
              "count  17785.000000  20027.000000  16188.000000  20029.000000  20041.000000   \n",
              "mean     572.331290     30.864832     29.686966     90.764047      0.241655   \n",
              "std     1150.733316     22.824666      7.378200      5.992451      0.428097   \n",
              "min       44.000000      2.000000      7.431629     58.000000      0.000000   \n",
              "25%      224.000000     15.000000     24.728067     87.000000      0.000000   \n",
              "50%      323.000000     23.000000     28.405504     90.000000      0.000000   \n",
              "75%      506.000000     39.000000     33.057851     94.000000      0.000000   \n",
              "max    43920.000000    231.000000    100.897959    130.000000      1.000000   \n",
              "\n",
              "               FiO2   glucose_lab  delta_sofa_liver  \n",
              "count  17321.000000  20027.000000      14387.000000  \n",
              "mean      54.824086    137.721776         82.115173  \n",
              "std       19.128363     55.069905       3025.098622  \n",
              "min       21.000000     30.000000     -29581.000000  \n",
              "25%       40.000000    107.000000       -540.000000  \n",
              "50%       50.000000    126.000000         -4.000000  \n",
              "75%       60.000000    153.000000        556.000000  \n",
              "max      100.000000   2202.000000      57530.000000  \n",
              "\n",
              "[8 rows x 33 columns]"
            ],
            "text/html": [
              "\n",
              "  <div id=\"df-dc4f1b20-0256-4811-9859-964fe9280898\">\n",
              "    <div class=\"colab-df-container\">\n",
              "      <div>\n",
              "<style scoped>\n",
              "    .dataframe tbody tr th:only-of-type {\n",
              "        vertical-align: middle;\n",
              "    }\n",
              "\n",
              "    .dataframe tbody tr th {\n",
              "        vertical-align: top;\n",
              "    }\n",
              "\n",
              "    .dataframe thead th {\n",
              "        text-align: right;\n",
              "    }\n",
              "</style>\n",
              "<table border=\"1\" class=\"dataframe\">\n",
              "  <thead>\n",
              "    <tr style=\"text-align: right;\">\n",
              "      <th></th>\n",
              "      <th>lactate</th>\n",
              "      <th>SpO2</th>\n",
              "      <th>delta_ld_ldh</th>\n",
              "      <th>albumin</th>\n",
              "      <th>hidden_hypoxemia</th>\n",
              "      <th>rrt</th>\n",
              "      <th>pt</th>\n",
              "      <th>aniongap</th>\n",
              "      <th>sofa_resp</th>\n",
              "      <th>los_icu</th>\n",
              "      <th>...</th>\n",
              "      <th>delta_SpO2</th>\n",
              "      <th>stay_id</th>\n",
              "      <th>ld_ldh</th>\n",
              "      <th>bun</th>\n",
              "      <th>BMI</th>\n",
              "      <th>mcv</th>\n",
              "      <th>mortality_in</th>\n",
              "      <th>FiO2</th>\n",
              "      <th>glucose_lab</th>\n",
              "      <th>delta_sofa_liver</th>\n",
              "    </tr>\n",
              "  </thead>\n",
              "  <tbody>\n",
              "    <tr>\n",
              "      <th>count</th>\n",
              "      <td>19963.000000</td>\n",
              "      <td>20041.000000</td>\n",
              "      <td>1.778500e+04</td>\n",
              "      <td>19365.000000</td>\n",
              "      <td>20041.000000</td>\n",
              "      <td>20041.000000</td>\n",
              "      <td>20027.000000</td>\n",
              "      <td>20027.000000</td>\n",
              "      <td>19522.000000</td>\n",
              "      <td>20041.000000</td>\n",
              "      <td>...</td>\n",
              "      <td>20041.000000</td>\n",
              "      <td>2.004100e+04</td>\n",
              "      <td>17785.000000</td>\n",
              "      <td>20027.000000</td>\n",
              "      <td>16188.000000</td>\n",
              "      <td>20029.000000</td>\n",
              "      <td>20041.000000</td>\n",
              "      <td>17321.000000</td>\n",
              "      <td>20027.000000</td>\n",
              "      <td>14387.000000</td>\n",
              "    </tr>\n",
              "    <tr>\n",
              "      <th>mean</th>\n",
              "      <td>2.244847</td>\n",
              "      <td>96.930443</td>\n",
              "      <td>9.600101e+03</td>\n",
              "      <td>3.199112</td>\n",
              "      <td>0.016716</td>\n",
              "      <td>0.217804</td>\n",
              "      <td>16.253897</td>\n",
              "      <td>14.416538</td>\n",
              "      <td>2.040057</td>\n",
              "      <td>13.424771</td>\n",
              "      <td>...</td>\n",
              "      <td>-4.800210</td>\n",
              "      <td>3.490949e+07</td>\n",
              "      <td>572.331290</td>\n",
              "      <td>30.864832</td>\n",
              "      <td>29.686966</td>\n",
              "      <td>90.764047</td>\n",
              "      <td>0.241655</td>\n",
              "      <td>54.824086</td>\n",
              "      <td>137.721776</td>\n",
              "      <td>82.115173</td>\n",
              "    </tr>\n",
              "    <tr>\n",
              "      <th>std</th>\n",
              "      <td>2.113114</td>\n",
              "      <td>3.804275</td>\n",
              "      <td>3.234942e+05</td>\n",
              "      <td>0.777945</td>\n",
              "      <td>0.128207</td>\n",
              "      <td>0.412763</td>\n",
              "      <td>7.464579</td>\n",
              "      <td>4.708518</td>\n",
              "      <td>0.996913</td>\n",
              "      <td>14.817929</td>\n",
              "      <td>...</td>\n",
              "      <td>3.326585</td>\n",
              "      <td>2.895984e+06</td>\n",
              "      <td>1150.733316</td>\n",
              "      <td>22.824666</td>\n",
              "      <td>7.378200</td>\n",
              "      <td>5.992451</td>\n",
              "      <td>0.428097</td>\n",
              "      <td>19.128363</td>\n",
              "      <td>55.069905</td>\n",
              "      <td>3025.098622</td>\n",
              "    </tr>\n",
              "    <tr>\n",
              "      <th>min</th>\n",
              "      <td>0.300000</td>\n",
              "      <td>65.000000</td>\n",
              "      <td>-5.182985e+06</td>\n",
              "      <td>0.400000</td>\n",
              "      <td>0.000000</td>\n",
              "      <td>0.000000</td>\n",
              "      <td>8.100000</td>\n",
              "      <td>3.000000</td>\n",
              "      <td>0.000000</td>\n",
              "      <td>0.130000</td>\n",
              "      <td>...</td>\n",
              "      <td>-10.000000</td>\n",
              "      <td>3.000065e+07</td>\n",
              "      <td>44.000000</td>\n",
              "      <td>2.000000</td>\n",
              "      <td>7.431629</td>\n",
              "      <td>58.000000</td>\n",
              "      <td>0.000000</td>\n",
              "      <td>21.000000</td>\n",
              "      <td>30.000000</td>\n",
              "      <td>-29581.000000</td>\n",
              "    </tr>\n",
              "    <tr>\n",
              "      <th>25%</th>\n",
              "      <td>1.200000</td>\n",
              "      <td>95.000000</td>\n",
              "      <td>-2.589000e+03</td>\n",
              "      <td>2.600000</td>\n",
              "      <td>0.000000</td>\n",
              "      <td>0.000000</td>\n",
              "      <td>13.000000</td>\n",
              "      <td>11.000000</td>\n",
              "      <td>1.000000</td>\n",
              "      <td>3.170000</td>\n",
              "      <td>...</td>\n",
              "      <td>-8.000000</td>\n",
              "      <td>3.238523e+07</td>\n",
              "      <td>224.000000</td>\n",
              "      <td>15.000000</td>\n",
              "      <td>24.728067</td>\n",
              "      <td>87.000000</td>\n",
              "      <td>0.000000</td>\n",
              "      <td>40.000000</td>\n",
              "      <td>107.000000</td>\n",
              "      <td>-540.000000</td>\n",
              "    </tr>\n",
              "    <tr>\n",
              "      <th>50%</th>\n",
              "      <td>1.600000</td>\n",
              "      <td>98.000000</td>\n",
              "      <td>-2.340000e+02</td>\n",
              "      <td>3.200000</td>\n",
              "      <td>0.000000</td>\n",
              "      <td>0.000000</td>\n",
              "      <td>14.300000</td>\n",
              "      <td>14.000000</td>\n",
              "      <td>2.000000</td>\n",
              "      <td>8.000000</td>\n",
              "      <td>...</td>\n",
              "      <td>-5.000000</td>\n",
              "      <td>3.478635e+07</td>\n",
              "      <td>323.000000</td>\n",
              "      <td>23.000000</td>\n",
              "      <td>28.405504</td>\n",
              "      <td>90.000000</td>\n",
              "      <td>0.000000</td>\n",
              "      <td>50.000000</td>\n",
              "      <td>126.000000</td>\n",
              "      <td>-4.000000</td>\n",
              "    </tr>\n",
              "    <tr>\n",
              "      <th>75%</th>\n",
              "      <td>2.400000</td>\n",
              "      <td>100.000000</td>\n",
              "      <td>7.980000e+02</td>\n",
              "      <td>3.800000</td>\n",
              "      <td>0.000000</td>\n",
              "      <td>0.000000</td>\n",
              "      <td>16.600000</td>\n",
              "      <td>17.000000</td>\n",
              "      <td>3.000000</td>\n",
              "      <td>18.330000</td>\n",
              "      <td>...</td>\n",
              "      <td>-2.000000</td>\n",
              "      <td>3.742226e+07</td>\n",
              "      <td>506.000000</td>\n",
              "      <td>39.000000</td>\n",
              "      <td>33.057851</td>\n",
              "      <td>94.000000</td>\n",
              "      <td>0.000000</td>\n",
              "      <td>60.000000</td>\n",
              "      <td>153.000000</td>\n",
              "      <td>556.000000</td>\n",
              "    </tr>\n",
              "    <tr>\n",
              "      <th>max</th>\n",
              "      <td>24.000000</td>\n",
              "      <td>100.000000</td>\n",
              "      <td>5.028526e+06</td>\n",
              "      <td>5.900000</td>\n",
              "      <td>1.000000</td>\n",
              "      <td>1.000000</td>\n",
              "      <td>150.000000</td>\n",
              "      <td>50.000000</td>\n",
              "      <td>4.000000</td>\n",
              "      <td>103.500000</td>\n",
              "      <td>...</td>\n",
              "      <td>0.000000</td>\n",
              "      <td>3.999923e+07</td>\n",
              "      <td>43920.000000</td>\n",
              "      <td>231.000000</td>\n",
              "      <td>100.897959</td>\n",
              "      <td>130.000000</td>\n",
              "      <td>1.000000</td>\n",
              "      <td>100.000000</td>\n",
              "      <td>2202.000000</td>\n",
              "      <td>57530.000000</td>\n",
              "    </tr>\n",
              "  </tbody>\n",
              "</table>\n",
              "<p>8 rows × 33 columns</p>\n",
              "</div>\n",
              "      <button class=\"colab-df-convert\" onclick=\"convertToInteractive('df-dc4f1b20-0256-4811-9859-964fe9280898')\"\n",
              "              title=\"Convert this dataframe to an interactive table.\"\n",
              "              style=\"display:none;\">\n",
              "        \n",
              "  <svg xmlns=\"http://www.w3.org/2000/svg\" height=\"24px\"viewBox=\"0 0 24 24\"\n",
              "       width=\"24px\">\n",
              "    <path d=\"M0 0h24v24H0V0z\" fill=\"none\"/>\n",
              "    <path d=\"M18.56 5.44l.94 2.06.94-2.06 2.06-.94-2.06-.94-.94-2.06-.94 2.06-2.06.94zm-11 1L8.5 8.5l.94-2.06 2.06-.94-2.06-.94L8.5 2.5l-.94 2.06-2.06.94zm10 10l.94 2.06.94-2.06 2.06-.94-2.06-.94-.94-2.06-.94 2.06-2.06.94z\"/><path d=\"M17.41 7.96l-1.37-1.37c-.4-.4-.92-.59-1.43-.59-.52 0-1.04.2-1.43.59L10.3 9.45l-7.72 7.72c-.78.78-.78 2.05 0 2.83L4 21.41c.39.39.9.59 1.41.59.51 0 1.02-.2 1.41-.59l7.78-7.78 2.81-2.81c.8-.78.8-2.07 0-2.86zM5.41 20L4 18.59l7.72-7.72 1.47 1.35L5.41 20z\"/>\n",
              "  </svg>\n",
              "      </button>\n",
              "      \n",
              "  <style>\n",
              "    .colab-df-container {\n",
              "      display:flex;\n",
              "      flex-wrap:wrap;\n",
              "      gap: 12px;\n",
              "    }\n",
              "\n",
              "    .colab-df-convert {\n",
              "      background-color: #E8F0FE;\n",
              "      border: none;\n",
              "      border-radius: 50%;\n",
              "      cursor: pointer;\n",
              "      display: none;\n",
              "      fill: #1967D2;\n",
              "      height: 32px;\n",
              "      padding: 0 0 0 0;\n",
              "      width: 32px;\n",
              "    }\n",
              "\n",
              "    .colab-df-convert:hover {\n",
              "      background-color: #E2EBFA;\n",
              "      box-shadow: 0px 1px 2px rgba(60, 64, 67, 0.3), 0px 1px 3px 1px rgba(60, 64, 67, 0.15);\n",
              "      fill: #174EA6;\n",
              "    }\n",
              "\n",
              "    [theme=dark] .colab-df-convert {\n",
              "      background-color: #3B4455;\n",
              "      fill: #D2E3FC;\n",
              "    }\n",
              "\n",
              "    [theme=dark] .colab-df-convert:hover {\n",
              "      background-color: #434B5C;\n",
              "      box-shadow: 0px 1px 3px 1px rgba(0, 0, 0, 0.15);\n",
              "      filter: drop-shadow(0px 1px 2px rgba(0, 0, 0, 0.3));\n",
              "      fill: #FFFFFF;\n",
              "    }\n",
              "  </style>\n",
              "\n",
              "      <script>\n",
              "        const buttonEl =\n",
              "          document.querySelector('#df-dc4f1b20-0256-4811-9859-964fe9280898 button.colab-df-convert');\n",
              "        buttonEl.style.display =\n",
              "          google.colab.kernel.accessAllowed ? 'block' : 'none';\n",
              "\n",
              "        async function convertToInteractive(key) {\n",
              "          const element = document.querySelector('#df-dc4f1b20-0256-4811-9859-964fe9280898');\n",
              "          const dataTable =\n",
              "            await google.colab.kernel.invokeFunction('convertToInteractive',\n",
              "                                                     [key], {});\n",
              "          if (!dataTable) return;\n",
              "\n",
              "          const docLinkHtml = 'Like what you see? Visit the ' +\n",
              "            '<a target=\"_blank\" href=https://colab.research.google.com/notebooks/data_table.ipynb>data table notebook</a>'\n",
              "            + ' to learn more about interactive tables.';\n",
              "          element.innerHTML = '';\n",
              "          dataTable['output_type'] = 'display_data';\n",
              "          await google.colab.output.renderOutput(dataTable, element);\n",
              "          const docLink = document.createElement('div');\n",
              "          docLink.innerHTML = docLinkHtml;\n",
              "          element.appendChild(docLink);\n",
              "        }\n",
              "      </script>\n",
              "    </div>\n",
              "  </div>\n",
              "  "
            ]
          },
          "metadata": {},
          "execution_count": 21
        }
      ]
    },
    {
      "cell_type": "markdown",
      "source": [
        "The problem with `data.describe()` is that it groups using all the data of each variable, this means that if in our group there are populations that are underestimated or overestimated, the description will not take that into account. An alternative to solve that problem is using the function `groupby()`. With group by we can generate groups of populations using variables. An exmple is:"
      ],
      "metadata": {
        "id": "q8hv2yMShisk"
      }
    },
    {
      "cell_type": "code",
      "source": [
        "# Group the mean of oxygen saturation of arterial blood (SaO2) by gender\n",
        "avg_sao2_by_gender = df.groupby('gender')['SaO2'].mean()\n",
        "avg_sao2_by_gender"
      ],
      "metadata": {
        "colab": {
          "base_uri": "https://localhost:8080/"
        },
        "id": "KmRNIklehdSj",
        "outputId": "9df372fb-a974-4bae-9879-f06edd7ad7fe"
      },
      "execution_count": null,
      "outputs": [
        {
          "output_type": "execute_result",
          "data": {
            "text/plain": [
              "gender\n",
              "F    95.927317\n",
              "M    95.813936\n",
              "Name: SaO2, dtype: float64"
            ]
          },
          "metadata": {},
          "execution_count": 22
        }
      ]
    },
    {
      "cell_type": "markdown",
      "source": [
        "You can also generate groups using more than one variable and more than one grouping methods"
      ],
      "metadata": {
        "id": "cUtoT_Z2yoN9"
      }
    },
    {
      "cell_type": "code",
      "source": [
        "# Obtain count, mean, standard deviation, min value and max value for (SaO2) and (SpO2) grouping by gender and race group:\n",
        "avg_sao2_by_ethnicity = df.groupby(['gender', 'race_group']).agg({\n",
        "    'SaO2': ['count', 'mean', 'std', 'min', 'max'], \n",
        "    'SpO2': ['count', 'mean', 'std', 'min', 'max']\n",
        "})\n",
        "avg_sao2_by_ethnicity"
      ],
      "metadata": {
        "colab": {
          "base_uri": "https://localhost:8080/",
          "height": 425
        },
        "id": "ZmqCwMY6hdVj",
        "outputId": "520def5a-b3f8-46ad-afca-60100566b35f"
      },
      "execution_count": null,
      "outputs": [
        {
          "output_type": "execute_result",
          "data": {
            "text/plain": [
              "                   SaO2                                    SpO2             \\\n",
              "                  count       mean       std   min    max count       mean   \n",
              "gender race_group                                                            \n",
              "F      Asian        115  95.739130  2.485350  88.0   99.0   115  97.417391   \n",
              "       Black        568  95.451937  3.641975  77.0  100.0   568  97.250000   \n",
              "       Hispanic     252  95.805556  3.591420  67.0  100.0   252  97.103175   \n",
              "       Other       1340  95.878134  3.449323  66.0  100.0  1340  96.802239   \n",
              "       White       4706  96.009817  3.424852  66.0  100.0  4706  96.973013   \n",
              "M      Asian        458  95.831878  3.242245  74.0  100.0   458  97.305677   \n",
              "       Black        797  95.524467  3.616818  69.0  100.0   797  97.224592   \n",
              "       Hispanic     387  96.198966  2.962494  77.0   99.0   387  97.387597   \n",
              "       Other       2417  95.474969  3.691359  65.0  100.0  2417  96.556475   \n",
              "       White       9001  95.913121  3.330400  65.0  100.0  9001  96.931674   \n",
              "\n",
              "                                      \n",
              "                        std min  max  \n",
              "gender race_group                     \n",
              "F      Asian       4.364897  65  100  \n",
              "       Black       3.696726  71  100  \n",
              "       Hispanic    4.491389  67  100  \n",
              "       Other       4.124699  68  100  \n",
              "       White       3.697820  65  100  \n",
              "M      Asian       3.422542  76  100  \n",
              "       Black       3.667527  67  100  \n",
              "       Hispanic    3.285965  79  100  \n",
              "       Other       4.241008  67  100  \n",
              "       White       3.705416  67  100  "
            ],
            "text/html": [
              "\n",
              "  <div id=\"df-8c93e971-a30e-4295-854d-403f1d5227f2\">\n",
              "    <div class=\"colab-df-container\">\n",
              "      <div>\n",
              "<style scoped>\n",
              "    .dataframe tbody tr th:only-of-type {\n",
              "        vertical-align: middle;\n",
              "    }\n",
              "\n",
              "    .dataframe tbody tr th {\n",
              "        vertical-align: top;\n",
              "    }\n",
              "\n",
              "    .dataframe thead tr th {\n",
              "        text-align: left;\n",
              "    }\n",
              "\n",
              "    .dataframe thead tr:last-of-type th {\n",
              "        text-align: right;\n",
              "    }\n",
              "</style>\n",
              "<table border=\"1\" class=\"dataframe\">\n",
              "  <thead>\n",
              "    <tr>\n",
              "      <th></th>\n",
              "      <th></th>\n",
              "      <th colspan=\"5\" halign=\"left\">SaO2</th>\n",
              "      <th colspan=\"5\" halign=\"left\">SpO2</th>\n",
              "    </tr>\n",
              "    <tr>\n",
              "      <th></th>\n",
              "      <th></th>\n",
              "      <th>count</th>\n",
              "      <th>mean</th>\n",
              "      <th>std</th>\n",
              "      <th>min</th>\n",
              "      <th>max</th>\n",
              "      <th>count</th>\n",
              "      <th>mean</th>\n",
              "      <th>std</th>\n",
              "      <th>min</th>\n",
              "      <th>max</th>\n",
              "    </tr>\n",
              "    <tr>\n",
              "      <th>gender</th>\n",
              "      <th>race_group</th>\n",
              "      <th></th>\n",
              "      <th></th>\n",
              "      <th></th>\n",
              "      <th></th>\n",
              "      <th></th>\n",
              "      <th></th>\n",
              "      <th></th>\n",
              "      <th></th>\n",
              "      <th></th>\n",
              "      <th></th>\n",
              "    </tr>\n",
              "  </thead>\n",
              "  <tbody>\n",
              "    <tr>\n",
              "      <th rowspan=\"5\" valign=\"top\">F</th>\n",
              "      <th>Asian</th>\n",
              "      <td>115</td>\n",
              "      <td>95.739130</td>\n",
              "      <td>2.485350</td>\n",
              "      <td>88.0</td>\n",
              "      <td>99.0</td>\n",
              "      <td>115</td>\n",
              "      <td>97.417391</td>\n",
              "      <td>4.364897</td>\n",
              "      <td>65</td>\n",
              "      <td>100</td>\n",
              "    </tr>\n",
              "    <tr>\n",
              "      <th>Black</th>\n",
              "      <td>568</td>\n",
              "      <td>95.451937</td>\n",
              "      <td>3.641975</td>\n",
              "      <td>77.0</td>\n",
              "      <td>100.0</td>\n",
              "      <td>568</td>\n",
              "      <td>97.250000</td>\n",
              "      <td>3.696726</td>\n",
              "      <td>71</td>\n",
              "      <td>100</td>\n",
              "    </tr>\n",
              "    <tr>\n",
              "      <th>Hispanic</th>\n",
              "      <td>252</td>\n",
              "      <td>95.805556</td>\n",
              "      <td>3.591420</td>\n",
              "      <td>67.0</td>\n",
              "      <td>100.0</td>\n",
              "      <td>252</td>\n",
              "      <td>97.103175</td>\n",
              "      <td>4.491389</td>\n",
              "      <td>67</td>\n",
              "      <td>100</td>\n",
              "    </tr>\n",
              "    <tr>\n",
              "      <th>Other</th>\n",
              "      <td>1340</td>\n",
              "      <td>95.878134</td>\n",
              "      <td>3.449323</td>\n",
              "      <td>66.0</td>\n",
              "      <td>100.0</td>\n",
              "      <td>1340</td>\n",
              "      <td>96.802239</td>\n",
              "      <td>4.124699</td>\n",
              "      <td>68</td>\n",
              "      <td>100</td>\n",
              "    </tr>\n",
              "    <tr>\n",
              "      <th>White</th>\n",
              "      <td>4706</td>\n",
              "      <td>96.009817</td>\n",
              "      <td>3.424852</td>\n",
              "      <td>66.0</td>\n",
              "      <td>100.0</td>\n",
              "      <td>4706</td>\n",
              "      <td>96.973013</td>\n",
              "      <td>3.697820</td>\n",
              "      <td>65</td>\n",
              "      <td>100</td>\n",
              "    </tr>\n",
              "    <tr>\n",
              "      <th rowspan=\"5\" valign=\"top\">M</th>\n",
              "      <th>Asian</th>\n",
              "      <td>458</td>\n",
              "      <td>95.831878</td>\n",
              "      <td>3.242245</td>\n",
              "      <td>74.0</td>\n",
              "      <td>100.0</td>\n",
              "      <td>458</td>\n",
              "      <td>97.305677</td>\n",
              "      <td>3.422542</td>\n",
              "      <td>76</td>\n",
              "      <td>100</td>\n",
              "    </tr>\n",
              "    <tr>\n",
              "      <th>Black</th>\n",
              "      <td>797</td>\n",
              "      <td>95.524467</td>\n",
              "      <td>3.616818</td>\n",
              "      <td>69.0</td>\n",
              "      <td>100.0</td>\n",
              "      <td>797</td>\n",
              "      <td>97.224592</td>\n",
              "      <td>3.667527</td>\n",
              "      <td>67</td>\n",
              "      <td>100</td>\n",
              "    </tr>\n",
              "    <tr>\n",
              "      <th>Hispanic</th>\n",
              "      <td>387</td>\n",
              "      <td>96.198966</td>\n",
              "      <td>2.962494</td>\n",
              "      <td>77.0</td>\n",
              "      <td>99.0</td>\n",
              "      <td>387</td>\n",
              "      <td>97.387597</td>\n",
              "      <td>3.285965</td>\n",
              "      <td>79</td>\n",
              "      <td>100</td>\n",
              "    </tr>\n",
              "    <tr>\n",
              "      <th>Other</th>\n",
              "      <td>2417</td>\n",
              "      <td>95.474969</td>\n",
              "      <td>3.691359</td>\n",
              "      <td>65.0</td>\n",
              "      <td>100.0</td>\n",
              "      <td>2417</td>\n",
              "      <td>96.556475</td>\n",
              "      <td>4.241008</td>\n",
              "      <td>67</td>\n",
              "      <td>100</td>\n",
              "    </tr>\n",
              "    <tr>\n",
              "      <th>White</th>\n",
              "      <td>9001</td>\n",
              "      <td>95.913121</td>\n",
              "      <td>3.330400</td>\n",
              "      <td>65.0</td>\n",
              "      <td>100.0</td>\n",
              "      <td>9001</td>\n",
              "      <td>96.931674</td>\n",
              "      <td>3.705416</td>\n",
              "      <td>67</td>\n",
              "      <td>100</td>\n",
              "    </tr>\n",
              "  </tbody>\n",
              "</table>\n",
              "</div>\n",
              "      <button class=\"colab-df-convert\" onclick=\"convertToInteractive('df-8c93e971-a30e-4295-854d-403f1d5227f2')\"\n",
              "              title=\"Convert this dataframe to an interactive table.\"\n",
              "              style=\"display:none;\">\n",
              "        \n",
              "  <svg xmlns=\"http://www.w3.org/2000/svg\" height=\"24px\"viewBox=\"0 0 24 24\"\n",
              "       width=\"24px\">\n",
              "    <path d=\"M0 0h24v24H0V0z\" fill=\"none\"/>\n",
              "    <path d=\"M18.56 5.44l.94 2.06.94-2.06 2.06-.94-2.06-.94-.94-2.06-.94 2.06-2.06.94zm-11 1L8.5 8.5l.94-2.06 2.06-.94-2.06-.94L8.5 2.5l-.94 2.06-2.06.94zm10 10l.94 2.06.94-2.06 2.06-.94-2.06-.94-.94-2.06-.94 2.06-2.06.94z\"/><path d=\"M17.41 7.96l-1.37-1.37c-.4-.4-.92-.59-1.43-.59-.52 0-1.04.2-1.43.59L10.3 9.45l-7.72 7.72c-.78.78-.78 2.05 0 2.83L4 21.41c.39.39.9.59 1.41.59.51 0 1.02-.2 1.41-.59l7.78-7.78 2.81-2.81c.8-.78.8-2.07 0-2.86zM5.41 20L4 18.59l7.72-7.72 1.47 1.35L5.41 20z\"/>\n",
              "  </svg>\n",
              "      </button>\n",
              "      \n",
              "  <style>\n",
              "    .colab-df-container {\n",
              "      display:flex;\n",
              "      flex-wrap:wrap;\n",
              "      gap: 12px;\n",
              "    }\n",
              "\n",
              "    .colab-df-convert {\n",
              "      background-color: #E8F0FE;\n",
              "      border: none;\n",
              "      border-radius: 50%;\n",
              "      cursor: pointer;\n",
              "      display: none;\n",
              "      fill: #1967D2;\n",
              "      height: 32px;\n",
              "      padding: 0 0 0 0;\n",
              "      width: 32px;\n",
              "    }\n",
              "\n",
              "    .colab-df-convert:hover {\n",
              "      background-color: #E2EBFA;\n",
              "      box-shadow: 0px 1px 2px rgba(60, 64, 67, 0.3), 0px 1px 3px 1px rgba(60, 64, 67, 0.15);\n",
              "      fill: #174EA6;\n",
              "    }\n",
              "\n",
              "    [theme=dark] .colab-df-convert {\n",
              "      background-color: #3B4455;\n",
              "      fill: #D2E3FC;\n",
              "    }\n",
              "\n",
              "    [theme=dark] .colab-df-convert:hover {\n",
              "      background-color: #434B5C;\n",
              "      box-shadow: 0px 1px 3px 1px rgba(0, 0, 0, 0.15);\n",
              "      filter: drop-shadow(0px 1px 2px rgba(0, 0, 0, 0.3));\n",
              "      fill: #FFFFFF;\n",
              "    }\n",
              "  </style>\n",
              "\n",
              "      <script>\n",
              "        const buttonEl =\n",
              "          document.querySelector('#df-8c93e971-a30e-4295-854d-403f1d5227f2 button.colab-df-convert');\n",
              "        buttonEl.style.display =\n",
              "          google.colab.kernel.accessAllowed ? 'block' : 'none';\n",
              "\n",
              "        async function convertToInteractive(key) {\n",
              "          const element = document.querySelector('#df-8c93e971-a30e-4295-854d-403f1d5227f2');\n",
              "          const dataTable =\n",
              "            await google.colab.kernel.invokeFunction('convertToInteractive',\n",
              "                                                     [key], {});\n",
              "          if (!dataTable) return;\n",
              "\n",
              "          const docLinkHtml = 'Like what you see? Visit the ' +\n",
              "            '<a target=\"_blank\" href=https://colab.research.google.com/notebooks/data_table.ipynb>data table notebook</a>'\n",
              "            + ' to learn more about interactive tables.';\n",
              "          element.innerHTML = '';\n",
              "          dataTable['output_type'] = 'display_data';\n",
              "          await google.colab.output.renderOutput(dataTable, element);\n",
              "          const docLink = document.createElement('div');\n",
              "          docLink.innerHTML = docLinkHtml;\n",
              "          element.appendChild(docLink);\n",
              "        }\n",
              "      </script>\n",
              "    </div>\n",
              "  </div>\n",
              "  "
            ]
          },
          "metadata": {},
          "execution_count": 23
        }
      ]
    },
    {
      "cell_type": "markdown",
      "source": [
        "Alternatively, there are also libraries that allow us to do this process automatically. Below is an example using tableone library. \n",
        "\n",
        "Install using the command `!pip install tableone`"
      ],
      "metadata": {
        "id": "O-tm_ARoz-8s"
      }
    },
    {
      "cell_type": "code",
      "source": [
        "# As a first step let's do a preprocessing to some variables like:\n",
        "df['language'] = df['language'].replace({'ENGLISH': 'Proficient', '?': 'Limited Proficiency'})"
      ],
      "metadata": {
        "id": "pPzYMKLP9LJa"
      },
      "execution_count": null,
      "outputs": []
    },
    {
      "cell_type": "code",
      "source": [
        "!pip install tableone\n",
        "from tableone import TableOne\n",
        "\n",
        "groupby = ['race_group']\n",
        "\n",
        "categorical_variables = ['mortality_in','gender', 'language', 'invasive_vent']\n",
        "numerical_variables = ['anchor_age', 'los_icu', 'los_hospital', 'CCI', 'SOFA_admission']\n",
        "columns = categorical_variables + numerical_variables\n",
        "\n",
        "labels ={'anchor_age': 'age',\n",
        "         'SOFA_admission': 'SOFA'} \n",
        "\n",
        "\n",
        "mytable = TableOne(df, columns=columns, categorical=categorical_variables, groupby=groupby, nonnormal=numerical_variables, rename=labels, pval=False)\n",
        "mytable"
      ],
      "metadata": {
        "colab": {
          "base_uri": "https://localhost:8080/",
          "height": 964
        },
        "id": "foYkDJqQocnL",
        "outputId": "cc24634e-0ca1-4f0c-aa1c-c8fada03115c"
      },
      "execution_count": null,
      "outputs": [
        {
          "output_type": "stream",
          "name": "stdout",
          "text": [
            "Looking in indexes: https://pypi.org/simple, https://us-python.pkg.dev/colab-wheels/public/simple/\n",
            "Collecting tableone\n",
            "  Downloading tableone-0.8.0-py3-none-any.whl (33 kB)\n",
            "Requirement already satisfied: jinja2 in /usr/local/lib/python3.10/dist-packages (from tableone) (3.1.2)\n",
            "Requirement already satisfied: numpy in /usr/local/lib/python3.10/dist-packages (from tableone) (1.22.4)\n",
            "Requirement already satisfied: openpyxl in /usr/local/lib/python3.10/dist-packages (from tableone) (3.0.10)\n",
            "Requirement already satisfied: pandas in /usr/local/lib/python3.10/dist-packages (from tableone) (1.5.3)\n",
            "Requirement already satisfied: scipy in /usr/local/lib/python3.10/dist-packages (from tableone) (1.10.1)\n",
            "Requirement already satisfied: statsmodels in /usr/local/lib/python3.10/dist-packages (from tableone) (0.13.5)\n",
            "Requirement already satisfied: tabulate in /usr/local/lib/python3.10/dist-packages (from tableone) (0.8.10)\n",
            "Requirement already satisfied: MarkupSafe>=2.0 in /usr/local/lib/python3.10/dist-packages (from jinja2->tableone) (2.1.2)\n",
            "Requirement already satisfied: et-xmlfile in /usr/local/lib/python3.10/dist-packages (from openpyxl->tableone) (1.1.0)\n",
            "Requirement already satisfied: python-dateutil>=2.8.1 in /usr/local/lib/python3.10/dist-packages (from pandas->tableone) (2.8.2)\n",
            "Requirement already satisfied: pytz>=2020.1 in /usr/local/lib/python3.10/dist-packages (from pandas->tableone) (2022.7.1)\n",
            "Requirement already satisfied: patsy>=0.5.2 in /usr/local/lib/python3.10/dist-packages (from statsmodels->tableone) (0.5.3)\n",
            "Requirement already satisfied: packaging>=21.3 in /usr/local/lib/python3.10/dist-packages (from statsmodels->tableone) (23.1)\n",
            "Requirement already satisfied: six in /usr/local/lib/python3.10/dist-packages (from patsy>=0.5.2->statsmodels->tableone) (1.16.0)\n",
            "Installing collected packages: tableone\n",
            "Successfully installed tableone-0.8.0\n"
          ]
        },
        {
          "output_type": "execute_result",
          "data": {
            "text/plain": [
              "                                                 Grouped by race_group                                                                                                            \n",
              "                                                               Missing           Overall             Asian             Black          Hispanic             Other             White\n",
              "n                                                                                  20041               573              1365               639              3757             13707\n",
              "mortality_in, n (%)          0                                       0      15198 (75.8)        465 (81.2)       1070 (78.4)        503 (78.7)       2444 (65.1)      10716 (78.2)\n",
              "                             1                                               4843 (24.2)        108 (18.8)        295 (21.6)        136 (21.3)       1313 (34.9)       2991 (21.8)\n",
              "gender, n (%)                F                                       0       6981 (34.8)        115 (20.1)        568 (41.6)        252 (39.4)       1340 (35.7)       4706 (34.3)\n",
              "                             M                                              13060 (65.2)        458 (79.9)        797 (58.4)        387 (60.6)       2417 (64.3)       9001 (65.7)\n",
              "language, n (%)              Limited Proficiency                     0       2237 (11.2)        334 (58.3)        197 (14.4)        473 (74.0)        584 (15.5)         649 (4.7)\n",
              "                             Proficient                                     17804 (88.8)        239 (41.7)       1168 (85.6)        166 (26.0)       3173 (84.5)      13058 (95.3)\n",
              "invasive_vent, n (%)         0                                       0       4730 (23.6)        102 (17.8)        341 (25.0)        174 (27.2)        810 (21.6)       3303 (24.1)\n",
              "                             1                                              15311 (76.4)        471 (82.2)       1024 (75.0)        465 (72.8)       2947 (78.4)      10404 (75.9)\n",
              "age, median [Q1,Q3]                                                  0  67.0 [57.0,75.0]  66.0 [52.0,72.0]  61.0 [52.0,70.0]  61.0 [48.0,71.0]  66.0 [52.0,75.0]  67.0 [59.0,76.0]\n",
              "los_icu, median [Q1,Q3]                                              0    8.0 [3.2,18.3]   13.8 [4.6,33.9]    9.0 [4.0,17.3]    7.6 [3.1,15.4]    8.9 [3.4,20.2]    7.3 [3.0,17.6]\n",
              "los_hospital, median [Q1,Q3]                                         0   15.0 [8.0,28.0]  22.0 [10.0,43.0]   16.0 [9.0,28.0]   17.0 [8.5,34.0]   15.0 [8.0,29.0]   14.0 [8.0,27.0]\n",
              "CCI, median [Q1,Q3]                                                  0     5.0 [3.0,7.0]     5.0 [3.0,6.0]     5.0 [3.0,7.0]     5.0 [3.0,7.0]     5.0 [3.0,7.0]     5.0 [3.0,7.0]\n",
              "SOFA, median [Q1,Q3]                                                 0    7.0 [5.0,10.0]    9.0 [6.0,11.0]    8.0 [5.0,11.0]    8.0 [5.0,11.5]    8.0 [5.0,12.0]    7.0 [5.0,10.0]"
            ],
            "text/html": [
              "<div>\n",
              "<style scoped>\n",
              "    .dataframe tbody tr th:only-of-type {\n",
              "        vertical-align: middle;\n",
              "    }\n",
              "\n",
              "    .dataframe tbody tr th {\n",
              "        vertical-align: top;\n",
              "    }\n",
              "\n",
              "    .dataframe thead tr th {\n",
              "        text-align: left;\n",
              "    }\n",
              "</style>\n",
              "<table border=\"1\" class=\"dataframe\">\n",
              "  <thead>\n",
              "    <tr>\n",
              "      <th></th>\n",
              "      <th></th>\n",
              "      <th colspan=\"7\" halign=\"left\">Grouped by race_group</th>\n",
              "    </tr>\n",
              "    <tr>\n",
              "      <th></th>\n",
              "      <th></th>\n",
              "      <th>Missing</th>\n",
              "      <th>Overall</th>\n",
              "      <th>Asian</th>\n",
              "      <th>Black</th>\n",
              "      <th>Hispanic</th>\n",
              "      <th>Other</th>\n",
              "      <th>White</th>\n",
              "    </tr>\n",
              "  </thead>\n",
              "  <tbody>\n",
              "    <tr>\n",
              "      <th>n</th>\n",
              "      <th></th>\n",
              "      <td></td>\n",
              "      <td>20041</td>\n",
              "      <td>573</td>\n",
              "      <td>1365</td>\n",
              "      <td>639</td>\n",
              "      <td>3757</td>\n",
              "      <td>13707</td>\n",
              "    </tr>\n",
              "    <tr>\n",
              "      <th rowspan=\"2\" valign=\"top\">mortality_in, n (%)</th>\n",
              "      <th>0</th>\n",
              "      <td>0</td>\n",
              "      <td>15198 (75.8)</td>\n",
              "      <td>465 (81.2)</td>\n",
              "      <td>1070 (78.4)</td>\n",
              "      <td>503 (78.7)</td>\n",
              "      <td>2444 (65.1)</td>\n",
              "      <td>10716 (78.2)</td>\n",
              "    </tr>\n",
              "    <tr>\n",
              "      <th>1</th>\n",
              "      <td></td>\n",
              "      <td>4843 (24.2)</td>\n",
              "      <td>108 (18.8)</td>\n",
              "      <td>295 (21.6)</td>\n",
              "      <td>136 (21.3)</td>\n",
              "      <td>1313 (34.9)</td>\n",
              "      <td>2991 (21.8)</td>\n",
              "    </tr>\n",
              "    <tr>\n",
              "      <th rowspan=\"2\" valign=\"top\">gender, n (%)</th>\n",
              "      <th>F</th>\n",
              "      <td>0</td>\n",
              "      <td>6981 (34.8)</td>\n",
              "      <td>115 (20.1)</td>\n",
              "      <td>568 (41.6)</td>\n",
              "      <td>252 (39.4)</td>\n",
              "      <td>1340 (35.7)</td>\n",
              "      <td>4706 (34.3)</td>\n",
              "    </tr>\n",
              "    <tr>\n",
              "      <th>M</th>\n",
              "      <td></td>\n",
              "      <td>13060 (65.2)</td>\n",
              "      <td>458 (79.9)</td>\n",
              "      <td>797 (58.4)</td>\n",
              "      <td>387 (60.6)</td>\n",
              "      <td>2417 (64.3)</td>\n",
              "      <td>9001 (65.7)</td>\n",
              "    </tr>\n",
              "    <tr>\n",
              "      <th rowspan=\"2\" valign=\"top\">language, n (%)</th>\n",
              "      <th>Limited Proficiency</th>\n",
              "      <td>0</td>\n",
              "      <td>2237 (11.2)</td>\n",
              "      <td>334 (58.3)</td>\n",
              "      <td>197 (14.4)</td>\n",
              "      <td>473 (74.0)</td>\n",
              "      <td>584 (15.5)</td>\n",
              "      <td>649 (4.7)</td>\n",
              "    </tr>\n",
              "    <tr>\n",
              "      <th>Proficient</th>\n",
              "      <td></td>\n",
              "      <td>17804 (88.8)</td>\n",
              "      <td>239 (41.7)</td>\n",
              "      <td>1168 (85.6)</td>\n",
              "      <td>166 (26.0)</td>\n",
              "      <td>3173 (84.5)</td>\n",
              "      <td>13058 (95.3)</td>\n",
              "    </tr>\n",
              "    <tr>\n",
              "      <th rowspan=\"2\" valign=\"top\">invasive_vent, n (%)</th>\n",
              "      <th>0</th>\n",
              "      <td>0</td>\n",
              "      <td>4730 (23.6)</td>\n",
              "      <td>102 (17.8)</td>\n",
              "      <td>341 (25.0)</td>\n",
              "      <td>174 (27.2)</td>\n",
              "      <td>810 (21.6)</td>\n",
              "      <td>3303 (24.1)</td>\n",
              "    </tr>\n",
              "    <tr>\n",
              "      <th>1</th>\n",
              "      <td></td>\n",
              "      <td>15311 (76.4)</td>\n",
              "      <td>471 (82.2)</td>\n",
              "      <td>1024 (75.0)</td>\n",
              "      <td>465 (72.8)</td>\n",
              "      <td>2947 (78.4)</td>\n",
              "      <td>10404 (75.9)</td>\n",
              "    </tr>\n",
              "    <tr>\n",
              "      <th>age, median [Q1,Q3]</th>\n",
              "      <th></th>\n",
              "      <td>0</td>\n",
              "      <td>67.0 [57.0,75.0]</td>\n",
              "      <td>66.0 [52.0,72.0]</td>\n",
              "      <td>61.0 [52.0,70.0]</td>\n",
              "      <td>61.0 [48.0,71.0]</td>\n",
              "      <td>66.0 [52.0,75.0]</td>\n",
              "      <td>67.0 [59.0,76.0]</td>\n",
              "    </tr>\n",
              "    <tr>\n",
              "      <th>los_icu, median [Q1,Q3]</th>\n",
              "      <th></th>\n",
              "      <td>0</td>\n",
              "      <td>8.0 [3.2,18.3]</td>\n",
              "      <td>13.8 [4.6,33.9]</td>\n",
              "      <td>9.0 [4.0,17.3]</td>\n",
              "      <td>7.6 [3.1,15.4]</td>\n",
              "      <td>8.9 [3.4,20.2]</td>\n",
              "      <td>7.3 [3.0,17.6]</td>\n",
              "    </tr>\n",
              "    <tr>\n",
              "      <th>los_hospital, median [Q1,Q3]</th>\n",
              "      <th></th>\n",
              "      <td>0</td>\n",
              "      <td>15.0 [8.0,28.0]</td>\n",
              "      <td>22.0 [10.0,43.0]</td>\n",
              "      <td>16.0 [9.0,28.0]</td>\n",
              "      <td>17.0 [8.5,34.0]</td>\n",
              "      <td>15.0 [8.0,29.0]</td>\n",
              "      <td>14.0 [8.0,27.0]</td>\n",
              "    </tr>\n",
              "    <tr>\n",
              "      <th>CCI, median [Q1,Q3]</th>\n",
              "      <th></th>\n",
              "      <td>0</td>\n",
              "      <td>5.0 [3.0,7.0]</td>\n",
              "      <td>5.0 [3.0,6.0]</td>\n",
              "      <td>5.0 [3.0,7.0]</td>\n",
              "      <td>5.0 [3.0,7.0]</td>\n",
              "      <td>5.0 [3.0,7.0]</td>\n",
              "      <td>5.0 [3.0,7.0]</td>\n",
              "    </tr>\n",
              "    <tr>\n",
              "      <th>SOFA, median [Q1,Q3]</th>\n",
              "      <th></th>\n",
              "      <td>0</td>\n",
              "      <td>7.0 [5.0,10.0]</td>\n",
              "      <td>9.0 [6.0,11.0]</td>\n",
              "      <td>8.0 [5.0,11.0]</td>\n",
              "      <td>8.0 [5.0,11.5]</td>\n",
              "      <td>8.0 [5.0,12.0]</td>\n",
              "      <td>7.0 [5.0,10.0]</td>\n",
              "    </tr>\n",
              "  </tbody>\n",
              "</table>\n",
              "</div><br />"
            ]
          },
          "metadata": {},
          "execution_count": 25
        }
      ]
    },
    {
      "cell_type": "markdown",
      "source": [
        "###### ✏️ Use tableone\n",
        "\n",
        "Now let's create a new tableone using all the variables to to measure differences between ethnic groups!\n",
        "\n",
        "Hint: Use the function `get_categorical_numerical_variables` to get all the numeric and categorical variables. Then use those variables to generate a tableone of the whole dataset\n"
      ],
      "metadata": {
        "id": "MWKI47ieLIIL"
      }
    },
    {
      "cell_type": "code",
      "source": [
        "def get_categorical_numerical_variables(df, limit, ignore, verbose=True):\n",
        "  \"\"\"\n",
        "  File to get numerical and categorical variables\n",
        "  Inputs:\n",
        "  df: A pandas dataframe with all the variables\n",
        "  limit: A integer with the maximum number of unique items in a variable to be categorical\n",
        "  ignore: Python list with columns to ignore\n",
        "\n",
        "  Outputs:\n",
        "  categorical_columns, numerical_columns: List with the names of categorical and numerical variables\n",
        "\n",
        "  \"\"\"\n",
        "  \n",
        "  categorical_columns = []\n",
        "  numerical_columns = []\n",
        "\n",
        "  for column in df.columns:\n",
        "    if ignore:\n",
        "      if column in ignore:\n",
        "        continue\n",
        "    unique_values = len(pd.unique(df[column]))\n",
        "    if unique_values <= limit:\n",
        "      if verbose:\n",
        "        print(f'The column {column} has {unique_values}, so is categorical')\n",
        "      categorical_columns.append(column)\n",
        "    else:\n",
        "      if verbose:\n",
        "        print(f'The column {column} has {unique_values}, so is numerical')\n",
        "      numerical_columns.append(column)\n",
        "\n",
        "  return categorical_columns, numerical_columns"
      ],
      "metadata": {
        "id": "ouIrWL4AiEM2",
        "colab": {
          "base_uri": "https://localhost:8080/"
        },
        "outputId": "887e9b40-7125-436d-d5ca-20f6a4d8b6cd"
      },
      "execution_count": null,
      "outputs": [
        {
          "output_type": "stream",
          "name": "stderr",
          "text": [
            "/usr/local/lib/python3.10/dist-packages/ipykernel/ipkernel.py:283: DeprecationWarning: `should_run_async` will not call `transform_cell` automatically in the future. Please pass the result to `transformed_cell` argument and any exception that happen during thetransform in `preprocessing_exc_tuple` in IPython 7.17 and above.\n",
            "  getpass.getpass = self._save_getpass\n"
          ]
        }
      ]
    },
    {
      "cell_type": "code",
      "source": [
        "groupby = ['race_group']\n",
        "ignore = ['SaO2_timestamp', 'stay_id', 'subject_id'] + groupby\n",
        "categorical_columns, numerical_columns = get_categorical_numerical_variables(df, limit=10, ignore=ignore)"
      ],
      "metadata": {
        "colab": {
          "base_uri": "https://localhost:8080/"
        },
        "id": "e4mKATylIfJW",
        "outputId": "ecf27663-8cab-424d-f21d-df98fe9847c9"
      },
      "execution_count": null,
      "outputs": [
        {
          "output_type": "stream",
          "name": "stdout",
          "text": [
            "The column lactate has 204, so is numerical\n",
            "The column SpO2 has 36, so is numerical\n",
            "The column delta_ld_ldh has 10267, so is numerical\n",
            "The column albumin has 49, so is numerical\n",
            "The column hidden_hypoxemia has 2, so is categorical\n",
            "The column insurance has 3, so is categorical\n",
            "The column rrt has 2, so is categorical\n",
            "The column pt has 481, so is numerical\n",
            "The column aniongap has 48, so is numerical\n",
            "The column sofa_resp has 6, so is categorical\n",
            "The column los_icu has 855, so is numerical\n",
            "The column anchor_age has 73, so is numerical\n",
            "The column invasive_vent has 2, so is categorical\n",
            "The column SOFA_admission has 22, so is numerical\n",
            "The column mchc has 131, so is numerical\n",
            "The column ph has 80, so is numerical\n",
            "The column language has 2, so is categorical\n",
            "The column ventilation_status has 7, so is categorical\n",
            "The column rdw has 199, so is numerical\n",
            "The column norepinephrine_equivalent_dose has 3711, so is numerical\n",
            "The column los_hospital has 123, so is numerical\n",
            "The column chloride has 62, so is numerical\n",
            "The column SaO2 has 41, so is numerical\n",
            "The column CCI has 18, so is numerical\n",
            "The column delta_vent_start has 5951, so is numerical\n",
            "The column gender has 2, so is categorical\n",
            "The column delta_SpO2 has 11, so is numerical\n",
            "The column ld_ldh has 1559, so is numerical\n",
            "The column bun has 173, so is numerical\n",
            "The column BMI has 3866, so is numerical\n",
            "The column mcv has 74, so is numerical\n",
            "The column mortality_in has 2, so is categorical\n",
            "The column FiO2 has 37, so is numerical\n",
            "The column glucose_lab has 421, so is numerical\n",
            "The column delta_sofa_liver has 3894, so is numerical\n"
          ]
        },
        {
          "output_type": "stream",
          "name": "stderr",
          "text": [
            "/usr/local/lib/python3.10/dist-packages/ipykernel/ipkernel.py:283: DeprecationWarning: `should_run_async` will not call `transform_cell` automatically in the future. Please pass the result to `transformed_cell` argument and any exception that happen during thetransform in `preprocessing_exc_tuple` in IPython 7.17 and above.\n",
            "  getpass.getpass = self._save_getpass\n"
          ]
        }
      ]
    },
    {
      "cell_type": "code",
      "source": [
        "TableOne(df, columns=categorical_columns+numerical_columns, categorical=categorical_columns, nonnormal=numerical_columns, groupby=groupby)"
      ],
      "metadata": {
        "colab": {
          "base_uri": "https://localhost:8080/",
          "height": 1000
        },
        "id": "eElIVQoVe3HX",
        "outputId": "d1285ec6-858d-44af-e6d5-b25a6e3648b5"
      },
      "execution_count": null,
      "outputs": [
        {
          "output_type": "stream",
          "name": "stderr",
          "text": [
            "/usr/local/lib/python3.10/dist-packages/ipykernel/ipkernel.py:283: DeprecationWarning: `should_run_async` will not call `transform_cell` automatically in the future. Please pass the result to `transformed_cell` argument and any exception that happen during thetransform in `preprocessing_exc_tuple` in IPython 7.17 and above.\n",
            "  getpass.getpass = self._save_getpass\n"
          ]
        },
        {
          "output_type": "execute_result",
          "data": {
            "text/plain": [
              "                                                                   Grouped by race_group                                                                                                                                                         \n",
              "                                                                                 Missing                  Overall                     Asian                     Black                 Hispanic                     Other                    White\n",
              "n                                                                                                           20041                       573                      1365                      639                      3757                    13707\n",
              "hidden_hypoxemia, n (%)                        0                                       0             19706 (98.3)                565 (98.6)               1334 (97.7)               630 (98.6)               3689 (98.2)             13488 (98.4)\n",
              "                                               1                                                        335 (1.7)                   8 (1.4)                  31 (2.3)                  9 (1.4)                  68 (1.8)                219 (1.6)\n",
              "insurance, n (%)                               Medicaid                                0               1145 (5.7)                 80 (14.0)                 127 (9.3)                96 (15.0)                 282 (7.5)                560 (4.1)\n",
              "                                               Medicare                                               9193 (45.9)                114 (19.9)                538 (39.4)               261 (40.8)               1509 (40.2)              6771 (49.4)\n",
              "                                               Other                                                  9703 (48.4)                379 (66.1)                700 (51.3)               282 (44.1)               1966 (52.3)              6376 (46.5)\n",
              "rrt, n (%)                                     0                                       0             15676 (78.2)                364 (63.5)               1026 (75.2)               491 (76.8)               2698 (71.8)             11097 (81.0)\n",
              "                                               1                                                      4365 (21.8)                209 (36.5)                339 (24.8)               148 (23.2)               1059 (28.2)              2610 (19.0)\n",
              "sofa_resp, n (%)                               0.0                                   519               1596 (8.2)                 57 (10.1)                142 (11.0)                 59 (9.5)                 326 (8.8)               1012 (7.6)\n",
              "                                               1.0                                                    3420 (17.5)                 93 (16.5)                235 (18.2)               117 (18.9)                588 (15.9)              2387 (17.9)\n",
              "                                               2.0                                                    8229 (42.2)                207 (36.8)                535 (41.5)               271 (43.9)               1463 (39.5)              5753 (43.1)\n",
              "                                               3.0                                                    5160 (26.4)                169 (30.1)                297 (23.0)               148 (23.9)               1053 (28.4)              3493 (26.2)\n",
              "                                               4.0                                                     1117 (5.7)                  36 (6.4)                  81 (6.3)                 23 (3.7)                 273 (7.4)                704 (5.3)\n",
              "invasive_vent, n (%)                           0                                       0              4730 (23.6)                102 (17.8)                341 (25.0)               174 (27.2)                810 (21.6)              3303 (24.1)\n",
              "                                               1                                                     15311 (76.4)                471 (82.2)               1024 (75.0)               465 (72.8)               2947 (78.4)             10404 (75.9)\n",
              "language, n (%)                                Limited Proficiency                     0              2237 (11.2)                334 (58.3)                197 (14.4)               473 (74.0)                584 (15.5)                649 (4.7)\n",
              "                                               Proficient                                            17804 (88.8)                239 (41.7)               1168 (85.6)               166 (26.0)               3173 (84.5)             13058 (95.3)\n",
              "ventilation_status, n (%)                      HFNC                                 2342                155 (0.9)                   2 (0.4)                  17 (1.4)                 13 (2.4)                  39 (1.2)                 84 (0.7)\n",
              "                                               InvasiveVent                                          15280 (86.3)                469 (91.1)               1021 (85.7)               462 (83.5)               2943 (90.2)             10385 (85.3)\n",
              "                                               NonInvasiveVent                                          109 (0.6)                   1 (0.2)                   9 (0.8)                  4 (0.7)                  20 (0.6)                 75 (0.6)\n",
              "                                               SupplementalOxygen                                     2119 (12.0)                  41 (8.0)                141 (11.8)                71 (12.8)                 257 (7.9)              1609 (13.2)\n",
              "                                               Tracheostomy                                              31 (0.2)                   2 (0.4)                   3 (0.3)                  3 (0.5)                   4 (0.1)                 19 (0.2)\n",
              "                                               None                                                       5 (0.0)                                                                                                                         5 (0.0)\n",
              "gender, n (%)                                  F                                       0              6981 (34.8)                115 (20.1)                568 (41.6)               252 (39.4)               1340 (35.7)              4706 (34.3)\n",
              "                                               M                                                     13060 (65.2)                458 (79.9)                797 (58.4)               387 (60.6)               2417 (64.3)              9001 (65.7)\n",
              "mortality_in, n (%)                            0                                       0             15198 (75.8)                465 (81.2)               1070 (78.4)               503 (78.7)               2444 (65.1)             10716 (78.2)\n",
              "                                               1                                                      4843 (24.2)                108 (18.8)                295 (21.6)               136 (21.3)               1313 (34.9)              2991 (21.8)\n",
              "lactate, median [Q1,Q3]                                                               78            1.6 [1.2,2.4]             1.7 [1.2,2.4]             1.6 [1.1,2.3]            1.8 [1.2,2.8]             1.7 [1.2,2.6]            1.6 [1.2,2.4]\n",
              "SpO2, median [Q1,Q3]                                                                   0        98.0 [95.0,100.0]         98.0 [96.0,100.0]         98.0 [96.0,100.0]        98.0 [96.0,100.0]         98.0 [95.0,100.0]        98.0 [95.0,100.0]\n",
              "delta_ld_ldh, median [Q1,Q3]                                                        2256   -234.0 [-2589.0,798.0]    -20.0 [-1469.5,1091.5]    -299.5 [-2892.0,905.2]   -302.0 [-2806.0,668.0]    -227.0 [-2088.0,523.0]   -239.0 [-2739.2,966.2]\n",
              "albumin, median [Q1,Q3]                                                              676            3.2 [2.6,3.8]             3.1 [2.5,3.6]             3.1 [2.6,3.6]            3.3 [2.8,4.0]             3.0 [2.5,3.7]            3.2 [2.6,3.9]\n",
              "pt, median [Q1,Q3]                                                                    14         14.3 [13.0,16.6]          14.1 [12.6,16.1]          14.4 [12.9,16.8]         14.4 [13.1,16.7]          14.2 [12.9,16.7]         14.3 [13.0,16.6]\n",
              "aniongap, median [Q1,Q3]                                                              14         14.0 [11.0,17.0]          14.0 [11.0,17.0]          14.0 [12.0,17.0]         14.0 [11.0,18.0]          14.0 [12.0,18.0]         13.0 [11.0,16.0]\n",
              "los_icu, median [Q1,Q3]                                                                0           8.0 [3.2,18.3]           13.8 [4.6,33.9]            9.0 [4.0,17.3]           7.6 [3.1,15.4]            8.9 [3.4,20.2]           7.3 [3.0,17.6]\n",
              "anchor_age, median [Q1,Q3]                                                             0         67.0 [57.0,75.0]          66.0 [52.0,72.0]          61.0 [52.0,70.0]         61.0 [48.0,71.0]          66.0 [52.0,75.0]         67.0 [59.0,76.0]\n",
              "SOFA_admission, median [Q1,Q3]                                                         0           7.0 [5.0,10.0]            9.0 [6.0,11.0]            8.0 [5.0,11.0]           8.0 [5.0,11.5]            8.0 [5.0,12.0]           7.0 [5.0,10.0]\n",
              "mchc, median [Q1,Q3]                                                                  12         33.3 [32.2,34.4]          33.2 [32.2,34.3]          32.6 [31.5,33.9]         33.2 [32.1,34.5]          33.3 [32.2,34.3]         33.4 [32.2,34.4]\n",
              "ph, median [Q1,Q3]                                                                    18            7.4 [7.3,7.4]             7.4 [7.3,7.4]             7.4 [7.3,7.4]            7.4 [7.3,7.4]             7.4 [7.3,7.4]            7.4 [7.3,7.4]\n",
              "rdw, median [Q1,Q3]                                                                   13         15.3 [14.1,16.9]          15.4 [13.8,18.5]          15.8 [14.5,17.4]         15.2 [14.1,16.9]          15.2 [14.0,16.9]         15.3 [14.1,16.8]\n",
              "norepinephrine_equivalent_dose, median [Q1,Q3]                                      9972            0.1 [0.1,6.0]             0.2 [0.1,6.1]             0.2 [0.1,6.1]            0.2 [0.1,6.1]             0.2 [0.1,6.1]            0.1 [0.1,5.1]\n",
              "los_hospital, median [Q1,Q3]                                                           0          15.0 [8.0,28.0]          22.0 [10.0,43.0]           16.0 [9.0,28.0]          17.0 [8.5,34.0]           15.0 [8.0,29.0]          14.0 [8.0,27.0]\n",
              "chloride, median [Q1,Q3]                                                              14      105.0 [100.0,108.0]        103.0 [99.0,108.0]        104.0 [99.0,108.0]       104.0 [99.0,107.0]       104.0 [100.0,108.0]      105.0 [100.0,109.0]\n",
              "SaO2, median [Q1,Q3]                                                                   0         97.0 [95.0,98.0]          97.0 [95.0,98.0]          97.0 [94.0,98.0]         97.0 [95.0,98.0]          97.0 [95.0,98.0]         97.0 [95.0,98.0]\n",
              "CCI, median [Q1,Q3]                                                                    0            5.0 [3.0,7.0]             5.0 [3.0,6.0]             5.0 [3.0,7.0]            5.0 [3.0,7.0]             5.0 [3.0,7.0]            5.0 [3.0,7.0]\n",
              "delta_vent_start, median [Q1,Q3]                                                    2342  -991.0 [-3904.5,-263.0]  -1681.0 [-8102.0,-425.0]  -1382.0 [-4905.5,-317.5]  -727.0 [-2651.0,-245.0]  -1170.0 [-4391.0,-305.5]  -909.0 [-3591.0,-248.0]\n",
              "delta_SpO2, median [Q1,Q3]                                                             0         -5.0 [-8.0,-2.0]          -4.0 [-8.0,-1.0]          -5.0 [-7.0,-2.0]         -5.0 [-8.0,-2.0]          -5.0 [-8.0,-2.0]         -5.0 [-8.0,-2.0]\n",
              "ld_ldh, median [Q1,Q3]                                                              2256      323.0 [224.0,506.0]       375.0 [255.0,607.0]       336.0 [232.0,522.0]      385.0 [226.0,576.0]       373.0 [247.0,630.0]      309.0 [217.0,465.2]\n",
              "bun, median [Q1,Q3]                                                                   14         23.0 [15.0,39.0]          24.0 [15.0,37.0]          24.0 [15.0,43.0]         21.0 [14.0,33.5]          23.0 [16.0,38.0]         23.0 [16.0,39.0]\n",
              "BMI, median [Q1,Q3]                                                                 3853         28.4 [24.7,33.1]          24.6 [23.0,28.7]          29.2 [25.7,35.2]         28.8 [25.2,32.6]          28.3 [24.6,33.6]         28.5 [24.8,33.0]\n",
              "mcv, median [Q1,Q3]                                                                   12         90.0 [87.0,94.0]          92.0 [88.0,96.0]          89.0 [86.0,93.0]         89.0 [86.0,93.0]          91.0 [87.0,95.0]         90.0 [87.0,94.0]\n",
              "FiO2, median [Q1,Q3]                                                                2720         50.0 [40.0,60.0]          50.0 [40.0,60.0]          50.0 [40.0,60.0]         50.0 [40.0,60.0]          50.0 [40.0,60.0]         50.0 [40.0,60.0]\n",
              "glucose_lab, median [Q1,Q3]                                                           14      126.0 [107.0,153.0]       131.0 [111.0,157.0]       124.0 [106.0,155.0]      126.0 [106.0,157.0]       129.0 [110.0,158.5]      125.0 [107.0,151.0]\n",
              "delta_sofa_liver, median [Q1,Q3]                                                    5654      -4.0 [-540.0,556.0]       -3.0 [-428.0,587.0]       -7.0 [-546.0,567.0]      -7.5 [-481.0,452.5]       -7.0 [-489.5,416.0]      -3.0 [-541.0,600.0]"
            ],
            "text/html": [
              "<div>\n",
              "<style scoped>\n",
              "    .dataframe tbody tr th:only-of-type {\n",
              "        vertical-align: middle;\n",
              "    }\n",
              "\n",
              "    .dataframe tbody tr th {\n",
              "        vertical-align: top;\n",
              "    }\n",
              "\n",
              "    .dataframe thead tr th {\n",
              "        text-align: left;\n",
              "    }\n",
              "</style>\n",
              "<table border=\"1\" class=\"dataframe\">\n",
              "  <thead>\n",
              "    <tr>\n",
              "      <th></th>\n",
              "      <th></th>\n",
              "      <th colspan=\"7\" halign=\"left\">Grouped by race_group</th>\n",
              "    </tr>\n",
              "    <tr>\n",
              "      <th></th>\n",
              "      <th></th>\n",
              "      <th>Missing</th>\n",
              "      <th>Overall</th>\n",
              "      <th>Asian</th>\n",
              "      <th>Black</th>\n",
              "      <th>Hispanic</th>\n",
              "      <th>Other</th>\n",
              "      <th>White</th>\n",
              "    </tr>\n",
              "  </thead>\n",
              "  <tbody>\n",
              "    <tr>\n",
              "      <th>n</th>\n",
              "      <th></th>\n",
              "      <td></td>\n",
              "      <td>20041</td>\n",
              "      <td>573</td>\n",
              "      <td>1365</td>\n",
              "      <td>639</td>\n",
              "      <td>3757</td>\n",
              "      <td>13707</td>\n",
              "    </tr>\n",
              "    <tr>\n",
              "      <th rowspan=\"2\" valign=\"top\">hidden_hypoxemia, n (%)</th>\n",
              "      <th>0</th>\n",
              "      <td>0</td>\n",
              "      <td>19706 (98.3)</td>\n",
              "      <td>565 (98.6)</td>\n",
              "      <td>1334 (97.7)</td>\n",
              "      <td>630 (98.6)</td>\n",
              "      <td>3689 (98.2)</td>\n",
              "      <td>13488 (98.4)</td>\n",
              "    </tr>\n",
              "    <tr>\n",
              "      <th>1</th>\n",
              "      <td></td>\n",
              "      <td>335 (1.7)</td>\n",
              "      <td>8 (1.4)</td>\n",
              "      <td>31 (2.3)</td>\n",
              "      <td>9 (1.4)</td>\n",
              "      <td>68 (1.8)</td>\n",
              "      <td>219 (1.6)</td>\n",
              "    </tr>\n",
              "    <tr>\n",
              "      <th rowspan=\"3\" valign=\"top\">insurance, n (%)</th>\n",
              "      <th>Medicaid</th>\n",
              "      <td>0</td>\n",
              "      <td>1145 (5.7)</td>\n",
              "      <td>80 (14.0)</td>\n",
              "      <td>127 (9.3)</td>\n",
              "      <td>96 (15.0)</td>\n",
              "      <td>282 (7.5)</td>\n",
              "      <td>560 (4.1)</td>\n",
              "    </tr>\n",
              "    <tr>\n",
              "      <th>Medicare</th>\n",
              "      <td></td>\n",
              "      <td>9193 (45.9)</td>\n",
              "      <td>114 (19.9)</td>\n",
              "      <td>538 (39.4)</td>\n",
              "      <td>261 (40.8)</td>\n",
              "      <td>1509 (40.2)</td>\n",
              "      <td>6771 (49.4)</td>\n",
              "    </tr>\n",
              "    <tr>\n",
              "      <th>Other</th>\n",
              "      <td></td>\n",
              "      <td>9703 (48.4)</td>\n",
              "      <td>379 (66.1)</td>\n",
              "      <td>700 (51.3)</td>\n",
              "      <td>282 (44.1)</td>\n",
              "      <td>1966 (52.3)</td>\n",
              "      <td>6376 (46.5)</td>\n",
              "    </tr>\n",
              "    <tr>\n",
              "      <th rowspan=\"2\" valign=\"top\">rrt, n (%)</th>\n",
              "      <th>0</th>\n",
              "      <td>0</td>\n",
              "      <td>15676 (78.2)</td>\n",
              "      <td>364 (63.5)</td>\n",
              "      <td>1026 (75.2)</td>\n",
              "      <td>491 (76.8)</td>\n",
              "      <td>2698 (71.8)</td>\n",
              "      <td>11097 (81.0)</td>\n",
              "    </tr>\n",
              "    <tr>\n",
              "      <th>1</th>\n",
              "      <td></td>\n",
              "      <td>4365 (21.8)</td>\n",
              "      <td>209 (36.5)</td>\n",
              "      <td>339 (24.8)</td>\n",
              "      <td>148 (23.2)</td>\n",
              "      <td>1059 (28.2)</td>\n",
              "      <td>2610 (19.0)</td>\n",
              "    </tr>\n",
              "    <tr>\n",
              "      <th rowspan=\"5\" valign=\"top\">sofa_resp, n (%)</th>\n",
              "      <th>0.0</th>\n",
              "      <td>519</td>\n",
              "      <td>1596 (8.2)</td>\n",
              "      <td>57 (10.1)</td>\n",
              "      <td>142 (11.0)</td>\n",
              "      <td>59 (9.5)</td>\n",
              "      <td>326 (8.8)</td>\n",
              "      <td>1012 (7.6)</td>\n",
              "    </tr>\n",
              "    <tr>\n",
              "      <th>1.0</th>\n",
              "      <td></td>\n",
              "      <td>3420 (17.5)</td>\n",
              "      <td>93 (16.5)</td>\n",
              "      <td>235 (18.2)</td>\n",
              "      <td>117 (18.9)</td>\n",
              "      <td>588 (15.9)</td>\n",
              "      <td>2387 (17.9)</td>\n",
              "    </tr>\n",
              "    <tr>\n",
              "      <th>2.0</th>\n",
              "      <td></td>\n",
              "      <td>8229 (42.2)</td>\n",
              "      <td>207 (36.8)</td>\n",
              "      <td>535 (41.5)</td>\n",
              "      <td>271 (43.9)</td>\n",
              "      <td>1463 (39.5)</td>\n",
              "      <td>5753 (43.1)</td>\n",
              "    </tr>\n",
              "    <tr>\n",
              "      <th>3.0</th>\n",
              "      <td></td>\n",
              "      <td>5160 (26.4)</td>\n",
              "      <td>169 (30.1)</td>\n",
              "      <td>297 (23.0)</td>\n",
              "      <td>148 (23.9)</td>\n",
              "      <td>1053 (28.4)</td>\n",
              "      <td>3493 (26.2)</td>\n",
              "    </tr>\n",
              "    <tr>\n",
              "      <th>4.0</th>\n",
              "      <td></td>\n",
              "      <td>1117 (5.7)</td>\n",
              "      <td>36 (6.4)</td>\n",
              "      <td>81 (6.3)</td>\n",
              "      <td>23 (3.7)</td>\n",
              "      <td>273 (7.4)</td>\n",
              "      <td>704 (5.3)</td>\n",
              "    </tr>\n",
              "    <tr>\n",
              "      <th rowspan=\"2\" valign=\"top\">invasive_vent, n (%)</th>\n",
              "      <th>0</th>\n",
              "      <td>0</td>\n",
              "      <td>4730 (23.6)</td>\n",
              "      <td>102 (17.8)</td>\n",
              "      <td>341 (25.0)</td>\n",
              "      <td>174 (27.2)</td>\n",
              "      <td>810 (21.6)</td>\n",
              "      <td>3303 (24.1)</td>\n",
              "    </tr>\n",
              "    <tr>\n",
              "      <th>1</th>\n",
              "      <td></td>\n",
              "      <td>15311 (76.4)</td>\n",
              "      <td>471 (82.2)</td>\n",
              "      <td>1024 (75.0)</td>\n",
              "      <td>465 (72.8)</td>\n",
              "      <td>2947 (78.4)</td>\n",
              "      <td>10404 (75.9)</td>\n",
              "    </tr>\n",
              "    <tr>\n",
              "      <th rowspan=\"2\" valign=\"top\">language, n (%)</th>\n",
              "      <th>Limited Proficiency</th>\n",
              "      <td>0</td>\n",
              "      <td>2237 (11.2)</td>\n",
              "      <td>334 (58.3)</td>\n",
              "      <td>197 (14.4)</td>\n",
              "      <td>473 (74.0)</td>\n",
              "      <td>584 (15.5)</td>\n",
              "      <td>649 (4.7)</td>\n",
              "    </tr>\n",
              "    <tr>\n",
              "      <th>Proficient</th>\n",
              "      <td></td>\n",
              "      <td>17804 (88.8)</td>\n",
              "      <td>239 (41.7)</td>\n",
              "      <td>1168 (85.6)</td>\n",
              "      <td>166 (26.0)</td>\n",
              "      <td>3173 (84.5)</td>\n",
              "      <td>13058 (95.3)</td>\n",
              "    </tr>\n",
              "    <tr>\n",
              "      <th rowspan=\"6\" valign=\"top\">ventilation_status, n (%)</th>\n",
              "      <th>HFNC</th>\n",
              "      <td>2342</td>\n",
              "      <td>155 (0.9)</td>\n",
              "      <td>2 (0.4)</td>\n",
              "      <td>17 (1.4)</td>\n",
              "      <td>13 (2.4)</td>\n",
              "      <td>39 (1.2)</td>\n",
              "      <td>84 (0.7)</td>\n",
              "    </tr>\n",
              "    <tr>\n",
              "      <th>InvasiveVent</th>\n",
              "      <td></td>\n",
              "      <td>15280 (86.3)</td>\n",
              "      <td>469 (91.1)</td>\n",
              "      <td>1021 (85.7)</td>\n",
              "      <td>462 (83.5)</td>\n",
              "      <td>2943 (90.2)</td>\n",
              "      <td>10385 (85.3)</td>\n",
              "    </tr>\n",
              "    <tr>\n",
              "      <th>NonInvasiveVent</th>\n",
              "      <td></td>\n",
              "      <td>109 (0.6)</td>\n",
              "      <td>1 (0.2)</td>\n",
              "      <td>9 (0.8)</td>\n",
              "      <td>4 (0.7)</td>\n",
              "      <td>20 (0.6)</td>\n",
              "      <td>75 (0.6)</td>\n",
              "    </tr>\n",
              "    <tr>\n",
              "      <th>SupplementalOxygen</th>\n",
              "      <td></td>\n",
              "      <td>2119 (12.0)</td>\n",
              "      <td>41 (8.0)</td>\n",
              "      <td>141 (11.8)</td>\n",
              "      <td>71 (12.8)</td>\n",
              "      <td>257 (7.9)</td>\n",
              "      <td>1609 (13.2)</td>\n",
              "    </tr>\n",
              "    <tr>\n",
              "      <th>Tracheostomy</th>\n",
              "      <td></td>\n",
              "      <td>31 (0.2)</td>\n",
              "      <td>2 (0.4)</td>\n",
              "      <td>3 (0.3)</td>\n",
              "      <td>3 (0.5)</td>\n",
              "      <td>4 (0.1)</td>\n",
              "      <td>19 (0.2)</td>\n",
              "    </tr>\n",
              "    <tr>\n",
              "      <th>None</th>\n",
              "      <td></td>\n",
              "      <td>5 (0.0)</td>\n",
              "      <td></td>\n",
              "      <td></td>\n",
              "      <td></td>\n",
              "      <td></td>\n",
              "      <td>5 (0.0)</td>\n",
              "    </tr>\n",
              "    <tr>\n",
              "      <th rowspan=\"2\" valign=\"top\">gender, n (%)</th>\n",
              "      <th>F</th>\n",
              "      <td>0</td>\n",
              "      <td>6981 (34.8)</td>\n",
              "      <td>115 (20.1)</td>\n",
              "      <td>568 (41.6)</td>\n",
              "      <td>252 (39.4)</td>\n",
              "      <td>1340 (35.7)</td>\n",
              "      <td>4706 (34.3)</td>\n",
              "    </tr>\n",
              "    <tr>\n",
              "      <th>M</th>\n",
              "      <td></td>\n",
              "      <td>13060 (65.2)</td>\n",
              "      <td>458 (79.9)</td>\n",
              "      <td>797 (58.4)</td>\n",
              "      <td>387 (60.6)</td>\n",
              "      <td>2417 (64.3)</td>\n",
              "      <td>9001 (65.7)</td>\n",
              "    </tr>\n",
              "    <tr>\n",
              "      <th rowspan=\"2\" valign=\"top\">mortality_in, n (%)</th>\n",
              "      <th>0</th>\n",
              "      <td>0</td>\n",
              "      <td>15198 (75.8)</td>\n",
              "      <td>465 (81.2)</td>\n",
              "      <td>1070 (78.4)</td>\n",
              "      <td>503 (78.7)</td>\n",
              "      <td>2444 (65.1)</td>\n",
              "      <td>10716 (78.2)</td>\n",
              "    </tr>\n",
              "    <tr>\n",
              "      <th>1</th>\n",
              "      <td></td>\n",
              "      <td>4843 (24.2)</td>\n",
              "      <td>108 (18.8)</td>\n",
              "      <td>295 (21.6)</td>\n",
              "      <td>136 (21.3)</td>\n",
              "      <td>1313 (34.9)</td>\n",
              "      <td>2991 (21.8)</td>\n",
              "    </tr>\n",
              "    <tr>\n",
              "      <th>lactate, median [Q1,Q3]</th>\n",
              "      <th></th>\n",
              "      <td>78</td>\n",
              "      <td>1.6 [1.2,2.4]</td>\n",
              "      <td>1.7 [1.2,2.4]</td>\n",
              "      <td>1.6 [1.1,2.3]</td>\n",
              "      <td>1.8 [1.2,2.8]</td>\n",
              "      <td>1.7 [1.2,2.6]</td>\n",
              "      <td>1.6 [1.2,2.4]</td>\n",
              "    </tr>\n",
              "    <tr>\n",
              "      <th>SpO2, median [Q1,Q3]</th>\n",
              "      <th></th>\n",
              "      <td>0</td>\n",
              "      <td>98.0 [95.0,100.0]</td>\n",
              "      <td>98.0 [96.0,100.0]</td>\n",
              "      <td>98.0 [96.0,100.0]</td>\n",
              "      <td>98.0 [96.0,100.0]</td>\n",
              "      <td>98.0 [95.0,100.0]</td>\n",
              "      <td>98.0 [95.0,100.0]</td>\n",
              "    </tr>\n",
              "    <tr>\n",
              "      <th>delta_ld_ldh, median [Q1,Q3]</th>\n",
              "      <th></th>\n",
              "      <td>2256</td>\n",
              "      <td>-234.0 [-2589.0,798.0]</td>\n",
              "      <td>-20.0 [-1469.5,1091.5]</td>\n",
              "      <td>-299.5 [-2892.0,905.2]</td>\n",
              "      <td>-302.0 [-2806.0,668.0]</td>\n",
              "      <td>-227.0 [-2088.0,523.0]</td>\n",
              "      <td>-239.0 [-2739.2,966.2]</td>\n",
              "    </tr>\n",
              "    <tr>\n",
              "      <th>albumin, median [Q1,Q3]</th>\n",
              "      <th></th>\n",
              "      <td>676</td>\n",
              "      <td>3.2 [2.6,3.8]</td>\n",
              "      <td>3.1 [2.5,3.6]</td>\n",
              "      <td>3.1 [2.6,3.6]</td>\n",
              "      <td>3.3 [2.8,4.0]</td>\n",
              "      <td>3.0 [2.5,3.7]</td>\n",
              "      <td>3.2 [2.6,3.9]</td>\n",
              "    </tr>\n",
              "    <tr>\n",
              "      <th>pt, median [Q1,Q3]</th>\n",
              "      <th></th>\n",
              "      <td>14</td>\n",
              "      <td>14.3 [13.0,16.6]</td>\n",
              "      <td>14.1 [12.6,16.1]</td>\n",
              "      <td>14.4 [12.9,16.8]</td>\n",
              "      <td>14.4 [13.1,16.7]</td>\n",
              "      <td>14.2 [12.9,16.7]</td>\n",
              "      <td>14.3 [13.0,16.6]</td>\n",
              "    </tr>\n",
              "    <tr>\n",
              "      <th>aniongap, median [Q1,Q3]</th>\n",
              "      <th></th>\n",
              "      <td>14</td>\n",
              "      <td>14.0 [11.0,17.0]</td>\n",
              "      <td>14.0 [11.0,17.0]</td>\n",
              "      <td>14.0 [12.0,17.0]</td>\n",
              "      <td>14.0 [11.0,18.0]</td>\n",
              "      <td>14.0 [12.0,18.0]</td>\n",
              "      <td>13.0 [11.0,16.0]</td>\n",
              "    </tr>\n",
              "    <tr>\n",
              "      <th>los_icu, median [Q1,Q3]</th>\n",
              "      <th></th>\n",
              "      <td>0</td>\n",
              "      <td>8.0 [3.2,18.3]</td>\n",
              "      <td>13.8 [4.6,33.9]</td>\n",
              "      <td>9.0 [4.0,17.3]</td>\n",
              "      <td>7.6 [3.1,15.4]</td>\n",
              "      <td>8.9 [3.4,20.2]</td>\n",
              "      <td>7.3 [3.0,17.6]</td>\n",
              "    </tr>\n",
              "    <tr>\n",
              "      <th>anchor_age, median [Q1,Q3]</th>\n",
              "      <th></th>\n",
              "      <td>0</td>\n",
              "      <td>67.0 [57.0,75.0]</td>\n",
              "      <td>66.0 [52.0,72.0]</td>\n",
              "      <td>61.0 [52.0,70.0]</td>\n",
              "      <td>61.0 [48.0,71.0]</td>\n",
              "      <td>66.0 [52.0,75.0]</td>\n",
              "      <td>67.0 [59.0,76.0]</td>\n",
              "    </tr>\n",
              "    <tr>\n",
              "      <th>SOFA_admission, median [Q1,Q3]</th>\n",
              "      <th></th>\n",
              "      <td>0</td>\n",
              "      <td>7.0 [5.0,10.0]</td>\n",
              "      <td>9.0 [6.0,11.0]</td>\n",
              "      <td>8.0 [5.0,11.0]</td>\n",
              "      <td>8.0 [5.0,11.5]</td>\n",
              "      <td>8.0 [5.0,12.0]</td>\n",
              "      <td>7.0 [5.0,10.0]</td>\n",
              "    </tr>\n",
              "    <tr>\n",
              "      <th>mchc, median [Q1,Q3]</th>\n",
              "      <th></th>\n",
              "      <td>12</td>\n",
              "      <td>33.3 [32.2,34.4]</td>\n",
              "      <td>33.2 [32.2,34.3]</td>\n",
              "      <td>32.6 [31.5,33.9]</td>\n",
              "      <td>33.2 [32.1,34.5]</td>\n",
              "      <td>33.3 [32.2,34.3]</td>\n",
              "      <td>33.4 [32.2,34.4]</td>\n",
              "    </tr>\n",
              "    <tr>\n",
              "      <th>ph, median [Q1,Q3]</th>\n",
              "      <th></th>\n",
              "      <td>18</td>\n",
              "      <td>7.4 [7.3,7.4]</td>\n",
              "      <td>7.4 [7.3,7.4]</td>\n",
              "      <td>7.4 [7.3,7.4]</td>\n",
              "      <td>7.4 [7.3,7.4]</td>\n",
              "      <td>7.4 [7.3,7.4]</td>\n",
              "      <td>7.4 [7.3,7.4]</td>\n",
              "    </tr>\n",
              "    <tr>\n",
              "      <th>rdw, median [Q1,Q3]</th>\n",
              "      <th></th>\n",
              "      <td>13</td>\n",
              "      <td>15.3 [14.1,16.9]</td>\n",
              "      <td>15.4 [13.8,18.5]</td>\n",
              "      <td>15.8 [14.5,17.4]</td>\n",
              "      <td>15.2 [14.1,16.9]</td>\n",
              "      <td>15.2 [14.0,16.9]</td>\n",
              "      <td>15.3 [14.1,16.8]</td>\n",
              "    </tr>\n",
              "    <tr>\n",
              "      <th>norepinephrine_equivalent_dose, median [Q1,Q3]</th>\n",
              "      <th></th>\n",
              "      <td>9972</td>\n",
              "      <td>0.1 [0.1,6.0]</td>\n",
              "      <td>0.2 [0.1,6.1]</td>\n",
              "      <td>0.2 [0.1,6.1]</td>\n",
              "      <td>0.2 [0.1,6.1]</td>\n",
              "      <td>0.2 [0.1,6.1]</td>\n",
              "      <td>0.1 [0.1,5.1]</td>\n",
              "    </tr>\n",
              "    <tr>\n",
              "      <th>los_hospital, median [Q1,Q3]</th>\n",
              "      <th></th>\n",
              "      <td>0</td>\n",
              "      <td>15.0 [8.0,28.0]</td>\n",
              "      <td>22.0 [10.0,43.0]</td>\n",
              "      <td>16.0 [9.0,28.0]</td>\n",
              "      <td>17.0 [8.5,34.0]</td>\n",
              "      <td>15.0 [8.0,29.0]</td>\n",
              "      <td>14.0 [8.0,27.0]</td>\n",
              "    </tr>\n",
              "    <tr>\n",
              "      <th>chloride, median [Q1,Q3]</th>\n",
              "      <th></th>\n",
              "      <td>14</td>\n",
              "      <td>105.0 [100.0,108.0]</td>\n",
              "      <td>103.0 [99.0,108.0]</td>\n",
              "      <td>104.0 [99.0,108.0]</td>\n",
              "      <td>104.0 [99.0,107.0]</td>\n",
              "      <td>104.0 [100.0,108.0]</td>\n",
              "      <td>105.0 [100.0,109.0]</td>\n",
              "    </tr>\n",
              "    <tr>\n",
              "      <th>SaO2, median [Q1,Q3]</th>\n",
              "      <th></th>\n",
              "      <td>0</td>\n",
              "      <td>97.0 [95.0,98.0]</td>\n",
              "      <td>97.0 [95.0,98.0]</td>\n",
              "      <td>97.0 [94.0,98.0]</td>\n",
              "      <td>97.0 [95.0,98.0]</td>\n",
              "      <td>97.0 [95.0,98.0]</td>\n",
              "      <td>97.0 [95.0,98.0]</td>\n",
              "    </tr>\n",
              "    <tr>\n",
              "      <th>CCI, median [Q1,Q3]</th>\n",
              "      <th></th>\n",
              "      <td>0</td>\n",
              "      <td>5.0 [3.0,7.0]</td>\n",
              "      <td>5.0 [3.0,6.0]</td>\n",
              "      <td>5.0 [3.0,7.0]</td>\n",
              "      <td>5.0 [3.0,7.0]</td>\n",
              "      <td>5.0 [3.0,7.0]</td>\n",
              "      <td>5.0 [3.0,7.0]</td>\n",
              "    </tr>\n",
              "    <tr>\n",
              "      <th>delta_vent_start, median [Q1,Q3]</th>\n",
              "      <th></th>\n",
              "      <td>2342</td>\n",
              "      <td>-991.0 [-3904.5,-263.0]</td>\n",
              "      <td>-1681.0 [-8102.0,-425.0]</td>\n",
              "      <td>-1382.0 [-4905.5,-317.5]</td>\n",
              "      <td>-727.0 [-2651.0,-245.0]</td>\n",
              "      <td>-1170.0 [-4391.0,-305.5]</td>\n",
              "      <td>-909.0 [-3591.0,-248.0]</td>\n",
              "    </tr>\n",
              "    <tr>\n",
              "      <th>delta_SpO2, median [Q1,Q3]</th>\n",
              "      <th></th>\n",
              "      <td>0</td>\n",
              "      <td>-5.0 [-8.0,-2.0]</td>\n",
              "      <td>-4.0 [-8.0,-1.0]</td>\n",
              "      <td>-5.0 [-7.0,-2.0]</td>\n",
              "      <td>-5.0 [-8.0,-2.0]</td>\n",
              "      <td>-5.0 [-8.0,-2.0]</td>\n",
              "      <td>-5.0 [-8.0,-2.0]</td>\n",
              "    </tr>\n",
              "    <tr>\n",
              "      <th>ld_ldh, median [Q1,Q3]</th>\n",
              "      <th></th>\n",
              "      <td>2256</td>\n",
              "      <td>323.0 [224.0,506.0]</td>\n",
              "      <td>375.0 [255.0,607.0]</td>\n",
              "      <td>336.0 [232.0,522.0]</td>\n",
              "      <td>385.0 [226.0,576.0]</td>\n",
              "      <td>373.0 [247.0,630.0]</td>\n",
              "      <td>309.0 [217.0,465.2]</td>\n",
              "    </tr>\n",
              "    <tr>\n",
              "      <th>bun, median [Q1,Q3]</th>\n",
              "      <th></th>\n",
              "      <td>14</td>\n",
              "      <td>23.0 [15.0,39.0]</td>\n",
              "      <td>24.0 [15.0,37.0]</td>\n",
              "      <td>24.0 [15.0,43.0]</td>\n",
              "      <td>21.0 [14.0,33.5]</td>\n",
              "      <td>23.0 [16.0,38.0]</td>\n",
              "      <td>23.0 [16.0,39.0]</td>\n",
              "    </tr>\n",
              "    <tr>\n",
              "      <th>BMI, median [Q1,Q3]</th>\n",
              "      <th></th>\n",
              "      <td>3853</td>\n",
              "      <td>28.4 [24.7,33.1]</td>\n",
              "      <td>24.6 [23.0,28.7]</td>\n",
              "      <td>29.2 [25.7,35.2]</td>\n",
              "      <td>28.8 [25.2,32.6]</td>\n",
              "      <td>28.3 [24.6,33.6]</td>\n",
              "      <td>28.5 [24.8,33.0]</td>\n",
              "    </tr>\n",
              "    <tr>\n",
              "      <th>mcv, median [Q1,Q3]</th>\n",
              "      <th></th>\n",
              "      <td>12</td>\n",
              "      <td>90.0 [87.0,94.0]</td>\n",
              "      <td>92.0 [88.0,96.0]</td>\n",
              "      <td>89.0 [86.0,93.0]</td>\n",
              "      <td>89.0 [86.0,93.0]</td>\n",
              "      <td>91.0 [87.0,95.0]</td>\n",
              "      <td>90.0 [87.0,94.0]</td>\n",
              "    </tr>\n",
              "    <tr>\n",
              "      <th>FiO2, median [Q1,Q3]</th>\n",
              "      <th></th>\n",
              "      <td>2720</td>\n",
              "      <td>50.0 [40.0,60.0]</td>\n",
              "      <td>50.0 [40.0,60.0]</td>\n",
              "      <td>50.0 [40.0,60.0]</td>\n",
              "      <td>50.0 [40.0,60.0]</td>\n",
              "      <td>50.0 [40.0,60.0]</td>\n",
              "      <td>50.0 [40.0,60.0]</td>\n",
              "    </tr>\n",
              "    <tr>\n",
              "      <th>glucose_lab, median [Q1,Q3]</th>\n",
              "      <th></th>\n",
              "      <td>14</td>\n",
              "      <td>126.0 [107.0,153.0]</td>\n",
              "      <td>131.0 [111.0,157.0]</td>\n",
              "      <td>124.0 [106.0,155.0]</td>\n",
              "      <td>126.0 [106.0,157.0]</td>\n",
              "      <td>129.0 [110.0,158.5]</td>\n",
              "      <td>125.0 [107.0,151.0]</td>\n",
              "    </tr>\n",
              "    <tr>\n",
              "      <th>delta_sofa_liver, median [Q1,Q3]</th>\n",
              "      <th></th>\n",
              "      <td>5654</td>\n",
              "      <td>-4.0 [-540.0,556.0]</td>\n",
              "      <td>-3.0 [-428.0,587.0]</td>\n",
              "      <td>-7.0 [-546.0,567.0]</td>\n",
              "      <td>-7.5 [-481.0,452.5]</td>\n",
              "      <td>-7.0 [-489.5,416.0]</td>\n",
              "      <td>-3.0 [-541.0,600.0]</td>\n",
              "    </tr>\n",
              "  </tbody>\n",
              "</table>\n",
              "</div><br />"
            ]
          },
          "metadata": {},
          "execution_count": 28
        }
      ]
    },
    {
      "cell_type": "markdown",
      "source": [
        "### visualize your data\n",
        "\n",
        "While statistics are important, it is also very important and key to visualize the data. This will help to share the information and results in a visual and intuitive way, and identify anomalous and data patterns that could be useful when choosing the model."
      ],
      "metadata": {
        "id": "y-8mdEVQLSKZ"
      }
    },
    {
      "cell_type": "markdown",
      "source": [
        "#### Bar charts and histograms\n",
        "Bar charts and histograms can be used to see how our data is distributed and how many instances there are of each class, this way we can identify imbalances in the classes and avoid overfitting in the models\n",
        "\n",
        "To create a histogram with seaborn, you can use the code:\n",
        "\n",
        "\n",
        "```\n",
        "sns.histplot(data=df, x=\"column_name\", kde=False) #optional kwarg: hue=\"column_2\"\n",
        "plt.title('Title')\n",
        "plt.show()\n",
        "```\n",
        "\n",
        "\n"
      ],
      "metadata": {
        "id": "0L5teBSObmED"
      }
    },
    {
      "cell_type": "markdown",
      "source": [
        "###### ✏️ Plot the distribution by race group"
      ],
      "metadata": {
        "id": "Op0QYpYxMvp-"
      }
    },
    {
      "cell_type": "code",
      "source": [
        "sns.histplot(data=df, x=\"race_group\", kde=False)\n",
        "plt.title('Race group distribution')\n",
        "plt.show()"
      ],
      "metadata": {
        "colab": {
          "base_uri": "https://localhost:8080/",
          "height": 528
        },
        "id": "nIarH7T8bmbP",
        "outputId": "69e14d07-6058-4626-9507-bfefe5808f20"
      },
      "execution_count": null,
      "outputs": [
        {
          "output_type": "stream",
          "name": "stderr",
          "text": [
            "/usr/local/lib/python3.10/dist-packages/ipykernel/ipkernel.py:283: DeprecationWarning: `should_run_async` will not call `transform_cell` automatically in the future. Please pass the result to `transformed_cell` argument and any exception that happen during thetransform in `preprocessing_exc_tuple` in IPython 7.17 and above.\n",
            "  getpass.getpass = self._save_getpass\n"
          ]
        },
        {
          "output_type": "display_data",
          "data": {
            "text/plain": [
              "<Figure size 640x480 with 1 Axes>"
            ],
            "image/png": "[encoded data removed]"
          },
          "metadata": {}
        }
      ]
    },
    {
      "cell_type": "markdown",
      "source": [
        "###### ✏️ Plot the distribution by gender"
      ],
      "metadata": {
        "id": "WP4GUREQM_0g"
      }
    },
    {
      "cell_type": "code",
      "source": [
        "sns.histplot(data=df, x=\"gender\", kde=False)\n",
        "plt.title('Gender distribution')\n",
        "plt.show()"
      ],
      "metadata": {
        "colab": {
          "base_uri": "https://localhost:8080/",
          "height": 528
        },
        "id": "21beiKNxcJGf",
        "outputId": "f0b0f321-8297-489a-ade3-73b1bc195b2b"
      },
      "execution_count": null,
      "outputs": [
        {
          "output_type": "stream",
          "name": "stderr",
          "text": [
            "/usr/local/lib/python3.10/dist-packages/ipykernel/ipkernel.py:283: DeprecationWarning: `should_run_async` will not call `transform_cell` automatically in the future. Please pass the result to `transformed_cell` argument and any exception that happen during thetransform in `preprocessing_exc_tuple` in IPython 7.17 and above.\n",
            "  getpass.getpass = self._save_getpass\n"
          ]
        },
        {
          "output_type": "display_data",
          "data": {
            "text/plain": [
              "<Figure size 640x480 with 1 Axes>"
            ],
            "image/png": "[encoded data removed]"
          },
          "metadata": {}
        }
      ]
    },
    {
      "cell_type": "markdown",
      "source": [
        "###### ✏️ Plot the distribution by age and race group"
      ],
      "metadata": {
        "id": "47abe3cjNCiu"
      }
    },
    {
      "cell_type": "code",
      "source": [
        "sns.histplot(data=df, x=\"anchor_age\", hue=\"race_group\", multiple=\"dodge\")\n",
        "plt.title('Age distribution by race group')\n",
        "plt.show()"
      ],
      "metadata": {
        "colab": {
          "base_uri": "https://localhost:8080/",
          "height": 528
        },
        "id": "gKDp62Uldi6l",
        "outputId": "b2b2c259-1e0e-4873-f48b-e849ffee6d4a"
      },
      "execution_count": null,
      "outputs": [
        {
          "output_type": "stream",
          "name": "stderr",
          "text": [
            "/usr/local/lib/python3.10/dist-packages/ipykernel/ipkernel.py:283: DeprecationWarning: `should_run_async` will not call `transform_cell` automatically in the future. Please pass the result to `transformed_cell` argument and any exception that happen during thetransform in `preprocessing_exc_tuple` in IPython 7.17 and above.\n",
            "  getpass.getpass = self._save_getpass\n"
          ]
        },
        {
          "output_type": "display_data",
          "data": {
            "text/plain": [
              "<Figure size 640x480 with 1 Axes>"
            ],
            "image/png": "[encoded data removed]"
          },
          "metadata": {}
        }
      ]
    },
    {
      "cell_type": "markdown",
      "source": [
        "#### Box plots and violin plots\n",
        "**Outilers ❗❗❗**: While in some cases there are no null values, could be outliers values. These outliers are sometimes indicators of biases in data collection, or social/cultural biases. However, in some cases the outliers are erroneous values during data collection and storage. Identifying values such as very high SaO2 (99999) or negative is an indicator in many cases of missing values and should be taken as such.\n",
        "\n",
        "Bar and violin charts are one of the best ways to identify outliers, because they show us around which values most of our data is clustered."
      ],
      "metadata": {
        "id": "oRt_xYq87hLi"
      }
    },
    {
      "cell_type": "code",
      "source": [
        "def plot_groupby(df, group1, group2, variable, barplot=True, boxplot=True, violinplot=False):\n",
        "\n",
        "  \"\"\"\n",
        "  This function creates two plots that compare the average values of a variable for two groups in a pandas dataframe.\n",
        "  The function allows the user to choose between a bar plot, box plot, and violin plot for each group.\n",
        "  The first plot compares the averages for the first group, and the second plot compares the averages for the second group.\n",
        "  \n",
        "  Inputs:\n",
        "  df: pandas dataframe\n",
        "  group1: string, name of the first categorical variable to group by\n",
        "  group2: string, name of the second categorical variable to group by\n",
        "  variable: string, name of the numerical variable to plot\n",
        "  barplot: boolean, optional, default True. Whether to plot bar plots or not\n",
        "  boxplot: boolean, optional, default True. Whether to plot box plots or not\n",
        "  violinplot: boolean, optional, default False. Whether to plot violin plots or not\n",
        "  \n",
        "  Outputs: \n",
        "  None\n",
        "  \"\"\"\n",
        "\n",
        "  avg_by_group1 = df.groupby(group1)[variable].mean()\n",
        "  avg_by_group2 = df.groupby(group2)[variable].mean()\n",
        "\n",
        "  fig, (ax1, ax2) = plt.subplots(1, 2, figsize=(12, 6))\n",
        "  \n",
        "  if barplot:\n",
        "    # Bar plot\n",
        "    print('Bar Plot: ')\n",
        "    ax1.bar(avg_by_group1.index, avg_by_group1.values)\n",
        "    ax1.set_xlabel(group1)\n",
        "    ax1.set_ylabel(f'Average {variable}')\n",
        "    ax2.bar(avg_by_group2.index, avg_by_group2.values)\n",
        "    ax2.set_xlabel(group2)\n",
        "    ax2.set_ylabel(f'Average {variable}')\n",
        "    plt.show()\n",
        "\n",
        "  if boxplot:\n",
        "    # Create box plots to visualize the distribution of SaO2 values by gender and ethnicity\n",
        "    print('Box Plot: ')\n",
        "    sns.boxplot(x=group1, y=variable, hue=group2, data=df)\n",
        "    plt.show()\n",
        "\n",
        "  if violinplot:\n",
        "    print('Violin Plot: ')\n",
        "    sns.violinplot(x=group1, y=variable, hue=group2, data=df)\n",
        "    plt.show()\n"
      ],
      "metadata": {
        "id": "IOWP5b6IZSyW",
        "colab": {
          "base_uri": "https://localhost:8080/"
        },
        "outputId": "d0ad2e0e-a5c4-450f-d861-3a171691901f"
      },
      "execution_count": null,
      "outputs": [
        {
          "output_type": "stream",
          "name": "stderr",
          "text": [
            "/usr/local/lib/python3.10/dist-packages/ipykernel/ipkernel.py:283: DeprecationWarning: `should_run_async` will not call `transform_cell` automatically in the future. Please pass the result to `transformed_cell` argument and any exception that happen during thetransform in `preprocessing_exc_tuple` in IPython 7.17 and above.\n",
            "  getpass.getpass = self._save_getpass\n"
          ]
        }
      ]
    },
    {
      "cell_type": "markdown",
      "source": [
        "###### ✏️ Plot the distribution of SaO2 by gender and race group"
      ],
      "metadata": {
        "id": "Mhi4eVrrhzJ3"
      }
    },
    {
      "cell_type": "code",
      "source": [
        "plot_groupby(df, group1='gender', group2='race_group', variable='SaO2')"
      ],
      "metadata": {
        "id": "kd8Y6R_P9qag",
        "colab": {
          "base_uri": "https://localhost:8080/",
          "height": 1000
        },
        "outputId": "b520ce66-2ae1-4b58-f8b0-768e44e83ed1"
      },
      "execution_count": null,
      "outputs": [
        {
          "output_type": "stream",
          "name": "stderr",
          "text": [
            "/usr/local/lib/python3.10/dist-packages/ipykernel/ipkernel.py:283: DeprecationWarning: `should_run_async` will not call `transform_cell` automatically in the future. Please pass the result to `transformed_cell` argument and any exception that happen during thetransform in `preprocessing_exc_tuple` in IPython 7.17 and above.\n",
            "  getpass.getpass = self._save_getpass\n"
          ]
        },
        {
          "output_type": "stream",
          "name": "stdout",
          "text": [
            "Bar Plot: \n"
          ]
        },
        {
          "output_type": "display_data",
          "data": {
            "text/plain": [
              "<Figure size 1200x600 with 2 Axes>"
            ],
            "image/png": "[encoded data removed]"
          },
          "metadata": {}
        },
        {
          "output_type": "stream",
          "name": "stdout",
          "text": [
            "Box Plot: \n"
          ]
        },
        {
          "output_type": "display_data",
          "data": {
            "text/plain": [
              "<Figure size 640x480 with 1 Axes>"
            ],
            "image/png": "[encoded data removed]"
          },
          "metadata": {}
        }
      ]
    },
    {
      "cell_type": "markdown",
      "source": [
        "###### ✏️ Plot the distribution of SpO2 by gender and race group"
      ],
      "metadata": {
        "id": "5VbxyRjYh6UN"
      }
    },
    {
      "cell_type": "code",
      "source": [
        "plot_groupby(df, group1='gender', group2='race_group', variable='SpO2')"
      ],
      "metadata": {
        "id": "mcbHq8-0jIMB",
        "colab": {
          "base_uri": "https://localhost:8080/",
          "height": 1000
        },
        "outputId": "d9792ad4-529c-46e7-95fc-3250f35aa8cf"
      },
      "execution_count": null,
      "outputs": [
        {
          "output_type": "stream",
          "name": "stderr",
          "text": [
            "/usr/local/lib/python3.10/dist-packages/ipykernel/ipkernel.py:283: DeprecationWarning: `should_run_async` will not call `transform_cell` automatically in the future. Please pass the result to `transformed_cell` argument and any exception that happen during thetransform in `preprocessing_exc_tuple` in IPython 7.17 and above.\n",
            "  getpass.getpass = self._save_getpass\n"
          ]
        },
        {
          "output_type": "stream",
          "name": "stdout",
          "text": [
            "Bar Plot: \n"
          ]
        },
        {
          "output_type": "display_data",
          "data": {
            "text/plain": [
              "<Figure size 1200x600 with 2 Axes>"
            ],
            "image/png": "[encoded data removed]"
          },
          "metadata": {}
        },
        {
          "output_type": "stream",
          "name": "stdout",
          "text": [
            "Box Plot: \n"
          ]
        },
        {
          "output_type": "display_data",
          "data": {
            "text/plain": [
              "<Figure size 640x480 with 1 Axes>"
            ],
            "image/png": "[encoded data removed]"
          },
          "metadata": {}
        }
      ]
    },
    {
      "cell_type": "markdown",
      "source": [
        "###### ✏️ Plot the distribution of any Time Offset by gender and race group (Use violin plot)\n",
        "\n",
        "Hint: You can use the next line of code to get all the variables related to a time offset"
      ],
      "metadata": {
        "id": "_IApC0RKfjcO"
      }
    },
    {
      "cell_type": "code",
      "source": [
        "for column in df.columns:\n",
        "  if 'delta' in column:\n",
        "    print(column)"
      ],
      "metadata": {
        "colab": {
          "base_uri": "https://localhost:8080/"
        },
        "id": "OSwa5fEdhQT_",
        "outputId": "4982105d-9dc5-42b0-bb88-7d8cd259b51b"
      },
      "execution_count": null,
      "outputs": [
        {
          "output_type": "stream",
          "name": "stdout",
          "text": [
            "delta_ld_ldh\n",
            "delta_vent_start\n",
            "delta_SpO2\n",
            "delta_sofa_liver\n"
          ]
        },
        {
          "output_type": "stream",
          "name": "stderr",
          "text": [
            "/usr/local/lib/python3.10/dist-packages/ipykernel/ipkernel.py:283: DeprecationWarning: `should_run_async` will not call `transform_cell` automatically in the future. Please pass the result to `transformed_cell` argument and any exception that happen during thetransform in `preprocessing_exc_tuple` in IPython 7.17 and above.\n",
            "  getpass.getpass = self._save_getpass\n"
          ]
        }
      ]
    },
    {
      "cell_type": "code",
      "source": [
        "plot_groupby(df, group1='gender', group2='race_group', variable='delta_vent_start', barplot=True, boxplot=False, violinplot=True)"
      ],
      "metadata": {
        "id": "QCGZGTHfeuiC",
        "colab": {
          "base_uri": "https://localhost:8080/",
          "height": 1000
        },
        "outputId": "6e317a45-6955-438c-fffd-19ffea46910f"
      },
      "execution_count": null,
      "outputs": [
        {
          "output_type": "stream",
          "name": "stderr",
          "text": [
            "/usr/local/lib/python3.10/dist-packages/ipykernel/ipkernel.py:283: DeprecationWarning: `should_run_async` will not call `transform_cell` automatically in the future. Please pass the result to `transformed_cell` argument and any exception that happen during thetransform in `preprocessing_exc_tuple` in IPython 7.17 and above.\n",
            "  getpass.getpass = self._save_getpass\n"
          ]
        },
        {
          "output_type": "stream",
          "name": "stdout",
          "text": [
            "Bar Plot: \n"
          ]
        },
        {
          "output_type": "display_data",
          "data": {
            "text/plain": [
              "<Figure size 1200x600 with 2 Axes>"
            ],
            "image/png": "[encoded data removed]"
          },
          "metadata": {}
        },
        {
          "output_type": "stream",
          "name": "stdout",
          "text": [
            "Violin Plot: \n"
          ]
        },
        {
          "output_type": "display_data",
          "data": {
            "text/plain": [
              "<Figure size 640x480 with 1 Axes>"
            ],
            "image/png": "[encoded data removed]"
          },
          "metadata": {}
        }
      ]
    },
    {
      "cell_type": "markdown",
      "source": [
        "## 4. Preprocessing\n",
        "---\n",
        "We know that there are some outliers so let's assume that those values al missing values and then analyze the amount of missing values for preprocessing\n",
        "\n"
      ],
      "metadata": {
        "id": "OQxBAUV7SCcV"
      }
    },
    {
      "cell_type": "markdown",
      "source": [
        "### Missing values\n",
        "\n",
        "Let's see which columns have variables with missing data"
      ],
      "metadata": {
        "id": "Th51UTXwSRYk"
      }
    },
    {
      "cell_type": "code",
      "source": [
        "msno.matrix(df)"
      ],
      "metadata": {
        "id": "cW7ysOZGeunN",
        "colab": {
          "base_uri": "https://localhost:8080/",
          "height": 592
        },
        "outputId": "d4e012dc-9df4-4447-c5dd-ca1ca1e07353"
      },
      "execution_count": null,
      "outputs": [
        {
          "output_type": "stream",
          "name": "stderr",
          "text": [
            "/usr/local/lib/python3.10/dist-packages/ipykernel/ipkernel.py:283: DeprecationWarning: `should_run_async` will not call `transform_cell` automatically in the future. Please pass the result to `transformed_cell` argument and any exception that happen during thetransform in `preprocessing_exc_tuple` in IPython 7.17 and above.\n",
            "  getpass.getpass = self._save_getpass\n"
          ]
        },
        {
          "output_type": "execute_result",
          "data": {
            "text/plain": [
              "<Axes: >"
            ]
          },
          "metadata": {},
          "execution_count": 37
        },
        {
          "output_type": "display_data",
          "data": {
            "text/plain": [
              "<Figure size 2500x1000 with 2 Axes>"
            ],
            "image/png": "[encoded data removed]"
          },
          "metadata": {}
        }
      ]
    },
    {
      "cell_type": "markdown",
      "source": [
        "###### ✏️ detect columns with null values\n",
        "Use the function `null_values` to see the columns with missing data and the number of rows missing.\n",
        "\n",
        "if the number of values with missing data is very high compared to the size of the dataset (E.g. 85%), in some cases it is better just to remove them"
      ],
      "metadata": {
        "id": "OcfF2HSqOM3f"
      }
    },
    {
      "cell_type": "code",
      "source": [
        "### List of columns with mussing values ###\n",
        "null_values(df)"
      ],
      "metadata": {
        "colab": {
          "base_uri": "https://localhost:8080/"
        },
        "id": "DNVsJ8FRSJ7N",
        "outputId": "d49a2fd5-8492-4f9e-d36f-a20ab3fb8b46"
      },
      "execution_count": null,
      "outputs": [
        {
          "output_type": "stream",
          "name": "stdout",
          "text": [
            "Null values: \n",
            "lactate                             78\n",
            "delta_ld_ldh                      2256\n",
            "albumin                            676\n",
            "pt                                  14\n",
            "aniongap                            14\n",
            "sofa_resp                          519\n",
            "mchc                                12\n",
            "ph                                  18\n",
            "ventilation_status                2342\n",
            "rdw                                 13\n",
            "norepinephrine_equivalent_dose    9972\n",
            "chloride                            14\n",
            "delta_vent_start                  2342\n",
            "ld_ldh                            2256\n",
            "bun                                 14\n",
            "BMI                               3853\n",
            "mcv                                 12\n",
            "FiO2                              2720\n",
            "glucose_lab                         14\n",
            "delta_sofa_liver                  5654\n",
            "dtype: int64\n"
          ]
        },
        {
          "output_type": "stream",
          "name": "stderr",
          "text": [
            "/usr/local/lib/python3.10/dist-packages/ipykernel/ipkernel.py:283: DeprecationWarning: `should_run_async` will not call `transform_cell` automatically in the future. Please pass the result to `transformed_cell` argument and any exception that happen during thetransform in `preprocessing_exc_tuple` in IPython 7.17 and above.\n",
            "  getpass.getpass = self._save_getpass\n"
          ]
        }
      ]
    },
    {
      "cell_type": "markdown",
      "source": [
        "### Train-Test Split\n",
        "Dividing your dataset into training and test is important, since what we want is for the model to learn, not memorize.\n",
        "We want to test the behavior of the model on unknown data. For that reason, the dataset should always be divided into training and test. \n",
        "\n",
        "The way to divide it may vary... You can use 60% (training) / 40% (testing), or 70% (training) / 30% (testing), or even 50/50. The most important part is that you **make sure that in the test set you have a well-distributed data set that covers all the possibilities.**"
      ],
      "metadata": {
        "id": "LwRUZnXdsMB2"
      }
    },
    {
      "cell_type": "code",
      "source": [
        "def train_test_split_with_id(df, test_size, id_column, stratify=None, random_state=None):\n",
        "  \"\"\"\n",
        "  Splits a dataset into train and test sets while ensuring that no rows with the same ID value appear in both sets.\n",
        "\n",
        "  Parameters:\n",
        "  df (pandas.DataFrame): The dataset to be split.\n",
        "  test_size (float): The proportion of the data to be used for the test set.\n",
        "  id_column (str): The name of the column containing the IDs used to identify patients. (A patient in train should not be also in test)\n",
        "  stratify (array-like): The values used for stratification. If None, stratification is not performed (optional).\n",
        "  random_state (int): The random seed used for the split (optional).\n",
        "\n",
        "  Returns:\n",
        "  tuple: A tuple of two pandas.DataFrames representing the train and test sets.\n",
        "  \"\"\"\n",
        "  if stratify:\n",
        "    id_groups = df.groupby(id_column)\n",
        "    ids = []\n",
        "    ys = []\n",
        "    for _, group in id_groups:\n",
        "        ids.append(group[id_column].iloc[0])\n",
        "        ys.append(group[stratify].iloc[0])\n",
        "    ids = np.array(ids)\n",
        "    ys = np.array(ys)\n",
        "    \n",
        "    train_ids, test_ids, train_ys, test_ys = train_test_split(ids, ys, test_size=test_size, stratify=ys, random_state=random_state)\n",
        "\n",
        "  else:\n",
        "    unique_ids = df[id_column].unique()\n",
        "    train_ids, test_ids = train_test_split(unique_ids, test_size=test_size, random_state=random_state)\n",
        "  \n",
        "  train = df[df[id_column].isin(train_ids)]\n",
        "  test = df[df[id_column].isin(test_ids)]\n",
        "\n",
        "  print(f'The train shape is {train.shape}')\n",
        "  print(f'The test shape is {test.shape}')\n",
        "  \n",
        "  return train, test\n",
        "  "
      ],
      "metadata": {
        "id": "BVzkNkfFsOhZ",
        "colab": {
          "base_uri": "https://localhost:8080/"
        },
        "outputId": "cbd02340-d321-4c9f-8f8e-eed0676e2fc1"
      },
      "execution_count": null,
      "outputs": [
        {
          "output_type": "stream",
          "name": "stderr",
          "text": [
            "/usr/local/lib/python3.10/dist-packages/ipykernel/ipkernel.py:283: DeprecationWarning: `should_run_async` will not call `transform_cell` automatically in the future. Please pass the result to `transformed_cell` argument and any exception that happen during thetransform in `preprocessing_exc_tuple` in IPython 7.17 and above.\n",
            "  getpass.getpass = self._save_getpass\n"
          ]
        }
      ]
    },
    {
      "cell_type": "markdown",
      "source": [
        "###### ✏️ Split your data\n",
        "Use the provided function to split your data into train and test. We have to split the dataset now so we can avoid data leakage during data imputation and data normalization"
      ],
      "metadata": {
        "id": "RcbYiAi0PFP0"
      }
    },
    {
      "cell_type": "code",
      "source": [
        "test_size = 0.3\n",
        "id_column = 'subject_id'\n",
        "stratify = 'race_group'\n",
        "\n",
        "train, test = train_test_split_with_id(df, test_size, id_column, stratify=stratify, random_state=None)"
      ],
      "metadata": {
        "colab": {
          "base_uri": "https://localhost:8080/"
        },
        "id": "L60Ly3JNxAZP",
        "outputId": "de69e25d-f64d-4d79-c50b-68e681631e77"
      },
      "execution_count": null,
      "outputs": [
        {
          "output_type": "stream",
          "name": "stderr",
          "text": [
            "/usr/local/lib/python3.10/dist-packages/ipykernel/ipkernel.py:283: DeprecationWarning: `should_run_async` will not call `transform_cell` automatically in the future. Please pass the result to `transformed_cell` argument and any exception that happen during thetransform in `preprocessing_exc_tuple` in IPython 7.17 and above.\n",
            "  getpass.getpass = self._save_getpass\n"
          ]
        },
        {
          "output_type": "stream",
          "name": "stdout",
          "text": [
            "The train shape is (13858, 39)\n",
            "The test shape is (6183, 39)\n"
          ]
        }
      ]
    },
    {
      "cell_type": "markdown",
      "source": [
        "### Data Imputation\n",
        "\n",
        "There are various imputation methods of different complexity, ranging from imputing using the most common value (mode) (usually used for categorical variables) or the average or median value depending on the distribution of the data (usually used for numerical variables), to imputation methods using machine learning algorithms to predict the missing value using the other variables as a reference. While any method of data imputation can be valid, you have to take care to avoid data leakage or adding bias when doing this process."
      ],
      "metadata": {
        "id": "TGfy5tf4SndZ"
      }
    },
    {
      "cell_type": "markdown",
      "source": [
        "As we have the columns with missing data, let's divide the columns into two sub groups:\n",
        "1. Categorical columns with missing\n",
        "2. Numerical columns with missing"
      ],
      "metadata": {
        "id": "Vsi0qe3cQzmV"
      }
    },
    {
      "cell_type": "markdown",
      "source": [
        "###### ✏️ Get numerical, categorical columns and columns with missing data\n",
        "\n",
        "Hint: You can use the function `get_categorical_numerical_variables` to get the list of categorical and mumerical columns. \n",
        "\n",
        "Hint 2: You can use the function `null_values` as part of the logic to get the columns with missing data"
      ],
      "metadata": {
        "id": "CPJYmaBJQUIN"
      }
    },
    {
      "cell_type": "code",
      "source": [
        "# Get numerical and categorical columns:\n",
        "categorical_cols, numerical_cols = get_categorical_numerical_variables(train, limit=10, ignore=None, verbose=False)"
      ],
      "metadata": {
        "id": "qExWrf1JxPoU",
        "colab": {
          "base_uri": "https://localhost:8080/"
        },
        "outputId": "3c76ceb5-b556-42ca-fca5-6c2f24aca854"
      },
      "execution_count": null,
      "outputs": [
        {
          "output_type": "stream",
          "name": "stderr",
          "text": [
            "/usr/local/lib/python3.10/dist-packages/ipykernel/ipkernel.py:283: DeprecationWarning: `should_run_async` will not call `transform_cell` automatically in the future. Please pass the result to `transformed_cell` argument and any exception that happen during thetransform in `preprocessing_exc_tuple` in IPython 7.17 and above.\n",
            "  getpass.getpass = self._save_getpass\n"
          ]
        }
      ]
    },
    {
      "cell_type": "code",
      "source": [
        "# Get the columns with missing data\n",
        "columns_missing = train.isnull().sum()[train.isnull().sum() > 0].index\n",
        "columns_missing"
      ],
      "metadata": {
        "colab": {
          "base_uri": "https://localhost:8080/"
        },
        "id": "0RLwYEoKynP_",
        "outputId": "6ff05731-4f8d-458b-9a3f-9131be18314a"
      },
      "execution_count": null,
      "outputs": [
        {
          "output_type": "stream",
          "name": "stderr",
          "text": [
            "/usr/local/lib/python3.10/dist-packages/ipykernel/ipkernel.py:283: DeprecationWarning: `should_run_async` will not call `transform_cell` automatically in the future. Please pass the result to `transformed_cell` argument and any exception that happen during thetransform in `preprocessing_exc_tuple` in IPython 7.17 and above.\n",
            "  getpass.getpass = self._save_getpass\n"
          ]
        },
        {
          "output_type": "execute_result",
          "data": {
            "text/plain": [
              "Index(['lactate', 'delta_ld_ldh', 'albumin', 'pt', 'aniongap', 'sofa_resp',\n",
              "       'mchc', 'ph', 'ventilation_status', 'rdw',\n",
              "       'norepinephrine_equivalent_dose', 'chloride', 'delta_vent_start',\n",
              "       'ld_ldh', 'bun', 'BMI', 'mcv', 'FiO2', 'glucose_lab',\n",
              "       'delta_sofa_liver'],\n",
              "      dtype='object')"
            ]
          },
          "metadata": {},
          "execution_count": 42
        }
      ]
    },
    {
      "cell_type": "code",
      "source": [
        "def apply_data_imputation(df, impute_cols, test_df=None, groupby_cols=[], method='new_category_numeric', model=LinearRegression()):\n",
        "\n",
        "  \"\"\"\n",
        "  Apply data imputation on missing values of columns by groupby the given columns.\n",
        "\n",
        "  Important!!! \n",
        "  If you apply other technique than `new_category` on categorical variables\n",
        "  or `new_category_numeric` on numerical variables. You should do it \n",
        "  ONLY AFTER train-test split otherwise you could be introducing a data leakage in the test set.\n",
        "\n",
        "  Inputs:\n",
        "  df: Pandas DataFrame with the input data to apply data imputation.\n",
        "  impute_cols: list with the column names to apply data imputation.\n",
        "  test_df (Optional): Pandas DataFrame with the test set to apply data imputation using train as reference.\n",
        "  groupby_cols: list with the column names to groupby the data if method='median', 'mean' or 'mode' or features of the model if method='model' (E.g.: groupby_cols=['race_group', 'gender']).\n",
        "  method: str with the method to apply data imputation. Available options are 'median', 'mean', 'mode', 'new_category', 'new_category_numeric' and 'model'.\n",
        "  model: sklearn model used to predict the missing value if method == 'model'\n",
        "\n",
        "  Output:\n",
        "  Pandas DataFrame with the data after applying data imputation on missing values of columns.\n",
        "  \"\"\"\n",
        "  imputer = {}\n",
        "\n",
        "  for col in impute_cols:\n",
        "      \n",
        "    # Group the data and calculate the method (E.g. Median) for each group\n",
        "    if method == 'median':\n",
        "      # Impute using median (for numerical values)\n",
        "      imputation_values = df.groupby(groupby_cols)[col].median()\n",
        "\n",
        "    elif method == 'mean':\n",
        "      # Impute using mean (for numerical values)\n",
        "      imputation_values = df.groupby(groupby_cols)[col].mean()\n",
        "\n",
        "    elif method == 'mode':\n",
        "      # Impute using mode (for categorical values)\n",
        "      imputation_values = df.groupby(groupby_cols)[col].agg(pd.Series.mode)\n",
        "\n",
        "    elif method == 'new_category':\n",
        "      # Add a new category 'None' in the dataset (for categorical values)\n",
        "      new_category_val = 'None'\n",
        "      imputer[col] = new_category_val\n",
        "      df[col] = df[col].fillna(new_category_val)\n",
        "      if test_df is not None:\n",
        "        test_df[col] = test_df[col].fillna(new_category_val)\n",
        "      \n",
        "\n",
        "    elif method == 'new_category_numeric':\n",
        "      # Add an anomalous data in the dataset (for numerical values)\n",
        "      new_category_val = 0\n",
        "      # If there's not 0, replace nan with 0\n",
        "      if not((df[col] == 0).any()):\n",
        "        new_category_val = 0\n",
        "      # If there's not positive numbers, replace nan with 1\n",
        "      elif not((df[col] >= 0).any()):\n",
        "        new_category_val = 1\n",
        "      # If there's not negative numbers, replace nan with 1\n",
        "      elif not((df[col] <= 0).any()):\n",
        "        new_category_val = -1\n",
        "      else:      \n",
        "        # Replace with min value - 100\n",
        "        new_category_val = df[col].min() - 100\n",
        "      \n",
        "      imputer[col] = new_category_val\n",
        "      df[col] = df[col].fillna(new_category_val)\n",
        "      if test_df is not None:\n",
        "        test_df[col] = test_df[col].fillna(new_category_val)\n",
        "\n",
        "\n",
        "    elif method == 'model':\n",
        "      # If the variable is categorical, convert to numeric:\n",
        "      if df[col].dtype == 'object':\n",
        "        encoder = LabelEncoder()\n",
        "        df[col] = encoder.fit_transform(df[col])\n",
        "        if test_df is not None:\n",
        "          test_df[col] = encoder.fit_transform(test_df[col])\n",
        "\n",
        "      # Create a linear regression model to impute missing values\n",
        "      model = model\n",
        "\n",
        "      # Get the data with complete column\n",
        "      complete_data = df.dropna(subset=[col])\n",
        "\n",
        "      # Encode categorical columns if needed in x data\n",
        "      le = {}\n",
        "      for col_group in groupby_cols:\n",
        "        if df[col_group].dtype == 'object':\n",
        "          le[col_group] = LabelEncoder()\n",
        "          complete_data[col_group] = le[col_group].fit_transform(complete_data[col_group])\n",
        "\n",
        "      # Fit the model on the complete data\n",
        "      X = complete_data[groupby_cols]\n",
        "      # Replace any remaining NaNs with the column mean\n",
        "      X = X.fillna(X.mean())\n",
        "      y = complete_data[col]\n",
        "      model.fit(X, y)\n",
        "\n",
        "      if df[col].dtype == 'object':\n",
        "        imputer[col] = (model, encoder, le)\n",
        "      else:\n",
        "        imputer[col] = (model, le)\n",
        "\n",
        "      ### Impute column using the model to predict the value:\n",
        "      missing_data = df[df[col].isna()]\n",
        "      if test_df is not None:\n",
        "          missing_data_test = test_df[test_df[col].isna()]\n",
        "\n",
        "      # Encode categorical columns if needed in x data\n",
        "      for col_group in groupby_cols:\n",
        "        if missing_data[col_group].dtype == 'object':\n",
        "          missing_data[col_group] = le[col_group].transform(missing_data[col_group])\n",
        "          if test_df is not None:\n",
        "            missing_data_test[col_group] = le[col_group].transform(missing_data_test[col_group])\n",
        "\n",
        "      for index, row in missing_data.iterrows():\n",
        "          values = row[groupby_cols].values.reshape(1, -1)\n",
        "          imputed_value = model.predict(values)\n",
        "          df.at[index, col] = imputed_value[0]\n",
        "\n",
        "      if test_df is not None:\n",
        "          for index, row in missing_data_test.iterrows():\n",
        "            values = row[groupby_cols].values.reshape(1, -1)\n",
        "            imputed_value = model.predict(values)\n",
        "            test_df.at[index, col] = imputed_value[0]\n",
        "          \n",
        "    if method in ['median', 'mean', 'mode']:\n",
        "      imputer[col] = imputation_values\n",
        "      # Fill missing values with the method of the corresponding group\n",
        "      df[col] = df.apply(lambda x: imputation_values[tuple(x[groupby_cols])] if pd.isna(x[col]) else x[col], axis=1)\n",
        "      if test_df is not None:\n",
        "        test_df[col] = test_df.apply(lambda x: imputation_values[tuple(x[groupby_cols])] if pd.isna(x[col]) else x[col], axis=1)\n",
        "  \n",
        "  if test_df is not None:\n",
        "    return df, test_df, imputer\n",
        "  else:\n",
        "    return df, imputer\n"
      ],
      "metadata": {
        "id": "dqZXomYXPa3G",
        "colab": {
          "base_uri": "https://localhost:8080/"
        },
        "outputId": "8c31a372-a5f0-46f6-aa6e-e87a454216c0"
      },
      "execution_count": null,
      "outputs": [
        {
          "output_type": "stream",
          "name": "stderr",
          "text": [
            "/usr/local/lib/python3.10/dist-packages/ipykernel/ipkernel.py:283: DeprecationWarning: `should_run_async` will not call `transform_cell` automatically in the future. Please pass the result to `transformed_cell` argument and any exception that happen during thetransform in `preprocessing_exc_tuple` in IPython 7.17 and above.\n",
            "  getpass.getpass = self._save_getpass\n"
          ]
        }
      ]
    },
    {
      "cell_type": "markdown",
      "source": [
        "###### ✏️ Apply data imputation to categorical variables\n",
        "\n",
        "1. Get from the categorical variables the list of categorical columns with missing data\n",
        "2. Use the function `apply_data_imputation` to impute the variables of train and test data. You can also use other methods of pandas or sklearn. But think about the possible bias that those methods could be adding to the dataset."
      ],
      "metadata": {
        "id": "nTFDHd8RKbqI"
      }
    },
    {
      "cell_type": "code",
      "source": [
        "# Get from columns with missing data the categorical columns\n",
        "categorical_cols_missing = [column for column in categorical_cols if column in columns_missing]\n",
        "categorical_cols_missing"
      ],
      "metadata": {
        "colab": {
          "base_uri": "https://localhost:8080/"
        },
        "id": "NCNfYwpNKXRv",
        "outputId": "91e5705d-942b-4779-befe-2b300e548278"
      },
      "execution_count": null,
      "outputs": [
        {
          "output_type": "stream",
          "name": "stderr",
          "text": [
            "/usr/local/lib/python3.10/dist-packages/ipykernel/ipkernel.py:283: DeprecationWarning: `should_run_async` will not call `transform_cell` automatically in the future. Please pass the result to `transformed_cell` argument and any exception that happen during thetransform in `preprocessing_exc_tuple` in IPython 7.17 and above.\n",
            "  getpass.getpass = self._save_getpass\n"
          ]
        },
        {
          "output_type": "execute_result",
          "data": {
            "text/plain": [
              "['sofa_resp', 'ventilation_status']"
            ]
          },
          "metadata": {},
          "execution_count": 44
        }
      ]
    },
    {
      "cell_type": "markdown",
      "source": [
        "**Important❗❗❗** If you apply other technique than `new_category` on categorical variables. You should do it after train-test split otherwise you could be introducing a data leakage in the test set"
      ],
      "metadata": {
        "id": "90vB5xhDzJvC"
      }
    },
    {
      "cell_type": "code",
      "source": [
        "method = 'new_category' # 'mode', 'new_category'\n",
        "groupby_cols = None # E.g. ['race_group', 'gender']\n",
        "\n",
        "train, test, imputer = apply_data_imputation(train, impute_cols=categorical_cols_missing, method=method, groupby_cols=groupby_cols, test_df=test)"
      ],
      "metadata": {
        "id": "KSws7IRAScbC",
        "colab": {
          "base_uri": "https://localhost:8080/"
        },
        "outputId": "b27bdc63-fc1e-409e-ce01-76f3465577c4"
      },
      "execution_count": null,
      "outputs": [
        {
          "output_type": "stream",
          "name": "stderr",
          "text": [
            "/usr/local/lib/python3.10/dist-packages/ipykernel/ipkernel.py:283: DeprecationWarning: `should_run_async` will not call `transform_cell` automatically in the future. Please pass the result to `transformed_cell` argument and any exception that happen during thetransform in `preprocessing_exc_tuple` in IPython 7.17 and above.\n",
            "  getpass.getpass = self._save_getpass\n",
            "<ipython-input-43-5f285de3ee5d>:43: SettingWithCopyWarning: \n",
            "A value is trying to be set on a copy of a slice from a DataFrame.\n",
            "Try using .loc[row_indexer,col_indexer] = value instead\n",
            "\n",
            "See the caveats in the documentation: https://pandas.pydata.org/pandas-docs/stable/user_guide/indexing.html#returning-a-view-versus-a-copy\n",
            "  df[col] = df[col].fillna(new_category_val)\n",
            "<ipython-input-43-5f285de3ee5d>:45: SettingWithCopyWarning: \n",
            "A value is trying to be set on a copy of a slice from a DataFrame.\n",
            "Try using .loc[row_indexer,col_indexer] = value instead\n",
            "\n",
            "See the caveats in the documentation: https://pandas.pydata.org/pandas-docs/stable/user_guide/indexing.html#returning-a-view-versus-a-copy\n",
            "  test_df[col] = test_df[col].fillna(new_category_val)\n"
          ]
        }
      ]
    },
    {
      "cell_type": "markdown",
      "source": [
        "###### ✏️ Apply data imputation to Numerical variables\n",
        "\n",
        "1. Get from the numerical variables the list of numerical columns with missing data\n",
        "2. Use the function `apply_data_imputation` to impute the variables of train and test data. You can also use other methods of pandas or sklearn. But think about the possible bias that those methods could be adding to the dataset."
      ],
      "metadata": {
        "id": "OHwYtppJLNfd"
      }
    },
    {
      "cell_type": "code",
      "source": [
        "# Get from columns with missing data the numerical columns\n",
        "numerical_cols_missing = [column for column in numerical_cols if column in columns_missing]\n",
        "numerical_cols_missing"
      ],
      "metadata": {
        "colab": {
          "base_uri": "https://localhost:8080/"
        },
        "id": "7TavY8buLUIP",
        "outputId": "9dcbd93e-0f38-4efb-862b-6f5965c8424f"
      },
      "execution_count": null,
      "outputs": [
        {
          "output_type": "stream",
          "name": "stderr",
          "text": [
            "/usr/local/lib/python3.10/dist-packages/ipykernel/ipkernel.py:283: DeprecationWarning: `should_run_async` will not call `transform_cell` automatically in the future. Please pass the result to `transformed_cell` argument and any exception that happen during thetransform in `preprocessing_exc_tuple` in IPython 7.17 and above.\n",
            "  getpass.getpass = self._save_getpass\n"
          ]
        },
        {
          "output_type": "execute_result",
          "data": {
            "text/plain": [
              "['lactate',\n",
              " 'delta_ld_ldh',\n",
              " 'albumin',\n",
              " 'pt',\n",
              " 'aniongap',\n",
              " 'mchc',\n",
              " 'ph',\n",
              " 'rdw',\n",
              " 'norepinephrine_equivalent_dose',\n",
              " 'chloride',\n",
              " 'delta_vent_start',\n",
              " 'ld_ldh',\n",
              " 'bun',\n",
              " 'BMI',\n",
              " 'mcv',\n",
              " 'FiO2',\n",
              " 'glucose_lab',\n",
              " 'delta_sofa_liver']"
            ]
          },
          "metadata": {},
          "execution_count": 46
        }
      ]
    },
    {
      "cell_type": "markdown",
      "source": [
        "**Important ❗❗❗** If you apply other technique than `new_category_numeric` on numerical variables. You should do it after train-test split otherwise you could be introducing a data leakage in the test set"
      ],
      "metadata": {
        "id": "ZQHc5wKdzsb1"
      }
    },
    {
      "cell_type": "code",
      "source": [
        "method = 'new_category_numeric' # 'median', 'mean', 'new_category_numeric', 'model'\n",
        "groupby_cols = None # E.g. ['race_group', 'gender']\n",
        "\n",
        "train, test, imputer = apply_data_imputation(train, impute_cols=numerical_cols_missing, method=method, groupby_cols=groupby_cols, test_df=test)"
      ],
      "metadata": {
        "id": "tuTNR8qtLV48",
        "colab": {
          "base_uri": "https://localhost:8080/"
        },
        "outputId": "5bfbb436-9bcb-4c02-c3a0-05d89e143b1c"
      },
      "execution_count": null,
      "outputs": [
        {
          "output_type": "stream",
          "name": "stderr",
          "text": [
            "/usr/local/lib/python3.10/dist-packages/ipykernel/ipkernel.py:283: DeprecationWarning: `should_run_async` will not call `transform_cell` automatically in the future. Please pass the result to `transformed_cell` argument and any exception that happen during thetransform in `preprocessing_exc_tuple` in IPython 7.17 and above.\n",
            "  getpass.getpass = self._save_getpass\n",
            "<ipython-input-43-5f285de3ee5d>:65: SettingWithCopyWarning: \n",
            "A value is trying to be set on a copy of a slice from a DataFrame.\n",
            "Try using .loc[row_indexer,col_indexer] = value instead\n",
            "\n",
            "See the caveats in the documentation: https://pandas.pydata.org/pandas-docs/stable/user_guide/indexing.html#returning-a-view-versus-a-copy\n",
            "  df[col] = df[col].fillna(new_category_val)\n",
            "<ipython-input-43-5f285de3ee5d>:67: SettingWithCopyWarning: \n",
            "A value is trying to be set on a copy of a slice from a DataFrame.\n",
            "Try using .loc[row_indexer,col_indexer] = value instead\n",
            "\n",
            "See the caveats in the documentation: https://pandas.pydata.org/pandas-docs/stable/user_guide/indexing.html#returning-a-view-versus-a-copy\n",
            "  test_df[col] = test_df[col].fillna(new_category_val)\n"
          ]
        }
      ]
    },
    {
      "cell_type": "markdown",
      "source": [
        "###### ✏️ Let's check null values again\n",
        "\n",
        "Print the coluns with missing values (if any) in train and test set. \n",
        "\n",
        "There should be no columns with missing data, if so check the previous tasks"
      ],
      "metadata": {
        "id": "Xtkuor2lfY-H"
      }
    },
    {
      "cell_type": "code",
      "source": [
        "### List of columns with mussing values ###\n",
        "print('#'*20, ' Null train: ', '#'*20)\n",
        "null_values(train)\n",
        "### List of columns with mussing values ###\n",
        "print('#'*20, ' Null test: ', '#'*20)\n",
        "null_values(test)"
      ],
      "metadata": {
        "colab": {
          "base_uri": "https://localhost:8080/"
        },
        "id": "J1C2rHdzDVIO",
        "outputId": "169606c2-6ad0-4b93-f139-87ce9f631a46"
      },
      "execution_count": null,
      "outputs": [
        {
          "output_type": "stream",
          "name": "stderr",
          "text": [
            "/usr/local/lib/python3.10/dist-packages/ipykernel/ipkernel.py:283: DeprecationWarning: `should_run_async` will not call `transform_cell` automatically in the future. Please pass the result to `transformed_cell` argument and any exception that happen during thetransform in `preprocessing_exc_tuple` in IPython 7.17 and above.\n",
            "  getpass.getpass = self._save_getpass\n"
          ]
        },
        {
          "output_type": "stream",
          "name": "stdout",
          "text": [
            "####################  Null train:  ####################\n",
            "There aren't null values in the dataframe\n",
            "####################  Null test:  ####################\n",
            "There aren't null values in the dataframe\n"
          ]
        }
      ]
    },
    {
      "cell_type": "markdown",
      "source": [
        "### Encoding\n",
        "\n",
        "Since the machine learning model in the background models and finds patterns in our data. It only supports numeric values. For this reason, categorical variables must be coded to numeric values.\n",
        "\n",
        "Categorical variables can be of 3 types:\n",
        "- Binary variables: Binary variables can be represented with two values, 1 and 0. Examples are whether or not the variable belongs to a group.\n",
        "- Ordinal variables: Ordinal variables are a type of variables that have a specific order and can be represented with numeric variables through a label encoder. An example is High, Medium, and Low which can be represented as 3, 2, 1.\n",
        "- Nominal variables: Nominal variables are categorical variables that do not have a defined order, for these variables it is not recommended to use a label encoder, it is better to use one hot encoder in these cases."
      ],
      "metadata": {
        "id": "ojBX1nM1nE3W"
      }
    },
    {
      "cell_type": "markdown",
      "source": [
        "###### ✏️ Which type of categorical variables we have?\n",
        "\n",
        "From the list of categorical variables, provide:\n",
        "\n",
        "* List of binary variables\n",
        "* List of ordinal variables\n",
        "* List of Nominal variables\n",
        "\n",
        "Not necessarily must have variables of each type.\n",
        "\n",
        "Hint: you can use `pd.unique(df[column])` to see the unique values in a specific column. You can use this information to make your decisions"
      ],
      "metadata": {
        "id": "Uqlk_-k_TRr8"
      }
    },
    {
      "cell_type": "code",
      "source": [
        "print(f'Categorical: ')\n",
        "print(categorical_cols)"
      ],
      "metadata": {
        "colab": {
          "base_uri": "https://localhost:8080/"
        },
        "id": "oJ3BioApnFMK",
        "outputId": "8209e814-3a1b-44dd-b223-1df70693756a"
      },
      "execution_count": null,
      "outputs": [
        {
          "output_type": "stream",
          "name": "stdout",
          "text": [
            "Categorical: \n",
            "['race_group', 'hidden_hypoxemia', 'insurance', 'rrt', 'sofa_resp', 'invasive_vent', 'language', 'ventilation_status', 'gender', 'mortality_in']\n"
          ]
        },
        {
          "output_type": "stream",
          "name": "stderr",
          "text": [
            "/usr/local/lib/python3.10/dist-packages/ipykernel/ipkernel.py:283: DeprecationWarning: `should_run_async` will not call `transform_cell` automatically in the future. Please pass the result to `transformed_cell` argument and any exception that happen during thetransform in `preprocessing_exc_tuple` in IPython 7.17 and above.\n",
            "  getpass.getpass = self._save_getpass\n"
          ]
        }
      ]
    },
    {
      "cell_type": "code",
      "source": [
        "for column in categorical_cols:\n",
        "  print(f\"Column '{column}' has values: {pd.unique(train[column])}\")"
      ],
      "metadata": {
        "id": "4AVAghb6nQmK",
        "colab": {
          "base_uri": "https://localhost:8080/"
        },
        "outputId": "4e7583ae-acd4-4306-9749-9a46f1044eec"
      },
      "execution_count": null,
      "outputs": [
        {
          "output_type": "stream",
          "name": "stdout",
          "text": [
            "Column 'race_group' has values: ['Other' 'White' 'Black' 'Hispanic' 'Asian']\n",
            "Column 'hidden_hypoxemia' has values: [0 1]\n",
            "Column 'insurance' has values: ['Medicare' 'Other' 'Medicaid']\n",
            "Column 'rrt' has values: [0 1]\n",
            "Column 'sofa_resp' has values: [1.0 2.0 3.0 0.0 4.0 'None']\n",
            "Column 'invasive_vent' has values: [1 0]\n",
            "Column 'language' has values: ['Proficient' 'Limited Proficiency']\n",
            "Column 'ventilation_status' has values: ['InvasiveVent' 'None' 'SupplementalOxygen' 'NonInvasiveVent' 'HFNC'\n",
            " 'Tracheostomy']\n",
            "Column 'gender' has values: ['F' 'M']\n",
            "Column 'mortality_in' has values: [0 1]\n"
          ]
        },
        {
          "output_type": "stream",
          "name": "stderr",
          "text": [
            "/usr/local/lib/python3.10/dist-packages/ipykernel/ipkernel.py:283: DeprecationWarning: `should_run_async` will not call `transform_cell` automatically in the future. Please pass the result to `transformed_cell` argument and any exception that happen during thetransform in `preprocessing_exc_tuple` in IPython 7.17 and above.\n",
            "  getpass.getpass = self._save_getpass\n"
          ]
        }
      ]
    },
    {
      "cell_type": "markdown",
      "source": [
        "###### ✏️ Encode binary variables\n",
        "\n",
        "Machine learning models only understand numbers, so binary variables must be encoded as 1s and 0s. Replace the values in those columns with 1s and 0s"
      ],
      "metadata": {
        "id": "TiGW44npS-Xv"
      }
    },
    {
      "cell_type": "code",
      "source": [
        "train['gender'] = train['gender'].replace({'F':1, 'M':0})\n",
        "test['gender'] = test['gender'].replace({'F':1, 'M':0})\n",
        "\n",
        "train['language'] = train['language'].replace({'Proficient':1, 'Limited Proficiency':0})\n",
        "test['language'] = test['language'].replace({'Proficient':1, 'Limited Proficiency':0})"
      ],
      "metadata": {
        "id": "pbUYvdTtrAAj",
        "colab": {
          "base_uri": "https://localhost:8080/"
        },
        "outputId": "497bc8eb-33f4-4e43-d7e5-99c510b06dcd"
      },
      "execution_count": null,
      "outputs": [
        {
          "output_type": "stream",
          "name": "stderr",
          "text": [
            "/usr/local/lib/python3.10/dist-packages/ipykernel/ipkernel.py:283: DeprecationWarning: `should_run_async` will not call `transform_cell` automatically in the future. Please pass the result to `transformed_cell` argument and any exception that happen during thetransform in `preprocessing_exc_tuple` in IPython 7.17 and above.\n",
            "  getpass.getpass = self._save_getpass\n",
            "<ipython-input-51-1ed91af5e7f8>:1: SettingWithCopyWarning: \n",
            "A value is trying to be set on a copy of a slice from a DataFrame.\n",
            "Try using .loc[row_indexer,col_indexer] = value instead\n",
            "\n",
            "See the caveats in the documentation: https://pandas.pydata.org/pandas-docs/stable/user_guide/indexing.html#returning-a-view-versus-a-copy\n",
            "  train['gender'] = train['gender'].replace({'F':1, 'M':0})\n",
            "<ipython-input-51-1ed91af5e7f8>:2: SettingWithCopyWarning: \n",
            "A value is trying to be set on a copy of a slice from a DataFrame.\n",
            "Try using .loc[row_indexer,col_indexer] = value instead\n",
            "\n",
            "See the caveats in the documentation: https://pandas.pydata.org/pandas-docs/stable/user_guide/indexing.html#returning-a-view-versus-a-copy\n",
            "  test['gender'] = test['gender'].replace({'F':1, 'M':0})\n",
            "<ipython-input-51-1ed91af5e7f8>:4: SettingWithCopyWarning: \n",
            "A value is trying to be set on a copy of a slice from a DataFrame.\n",
            "Try using .loc[row_indexer,col_indexer] = value instead\n",
            "\n",
            "See the caveats in the documentation: https://pandas.pydata.org/pandas-docs/stable/user_guide/indexing.html#returning-a-view-versus-a-copy\n",
            "  train['language'] = train['language'].replace({'Proficient':1, 'Limited Proficiency':0})\n",
            "<ipython-input-51-1ed91af5e7f8>:5: SettingWithCopyWarning: \n",
            "A value is trying to be set on a copy of a slice from a DataFrame.\n",
            "Try using .loc[row_indexer,col_indexer] = value instead\n",
            "\n",
            "See the caveats in the documentation: https://pandas.pydata.org/pandas-docs/stable/user_guide/indexing.html#returning-a-view-versus-a-copy\n",
            "  test['language'] = test['language'].replace({'Proficient':1, 'Limited Proficiency':0})\n"
          ]
        }
      ]
    },
    {
      "cell_type": "markdown",
      "source": [
        "###### ✏️ Encode ordinal variables\n",
        "\n",
        "You can use the function label_encoder to encode the ordinal variables as numeric variables."
      ],
      "metadata": {
        "id": "A271BKQxVWKc"
      }
    },
    {
      "cell_type": "code",
      "source": [
        "def label_encoder(df, cols, df_test=None):\n",
        "  \"\"\"\n",
        "  This function applies the LabelEncoder from Scikit-learn to encode categorical variables in a Pandas DataFrame.\n",
        "\n",
        "  Parameters:\n",
        "\n",
        "  df: Pandas DataFrame. The DataFrame to be encoded.\n",
        "  cols: list. List of column names to be encoded.\n",
        "  df_test: Pandas DataFrame (optional). The DataFrame to be encoded using the same encoders used on the training set.\n",
        "  Returns:\n",
        "\n",
        "  If df_test is None, the function returns a tuple containing the encoded DataFrame and a dictionary with the LabelEncoders used for each column. Otherwise, it returns a tuple with the encoded training DataFrame, the encoded test DataFrame and a dictionary with the LabelEncoders used for each column.\n",
        "  \"\"\"\n",
        "  encoders = {}\n",
        "  for col in cols:\n",
        "    encoders[col] = LabelEncoder()\n",
        "    df[col] = encoders[col].fit_transform(df[col])\n",
        "    if df_test is not None:\n",
        "      df_test[col] = encoders[col].transform(df_test[col])\n",
        "  \n",
        "  if df_test is not None:\n",
        "    return df, df_test, encoders\n",
        "  else:\n",
        "    return df, encoders\n",
        "\n",
        "def label_encoder_test(df, encoders):\n",
        "  \"\"\"\n",
        "  This function applies the LabelEncoder from Scikit-learn to encode categorical variables in a Pandas DataFrame.\n",
        "\n",
        "  Parameters:\n",
        "\n",
        "  df: Pandas DataFrame. The DataFrame to be encoded.\n",
        "  encoders: Python dictionary. Dictionary with the encoders trained on the train set.\n",
        "\n",
        "  \"\"\"\n",
        "  encoders = {}\n",
        "  for col in encoders.keys():\n",
        "    df[col] = encoders[col].transform(df[col])\n",
        "\n",
        "  return df\n"
      ],
      "metadata": {
        "id": "ZnENxfbLXGST",
        "colab": {
          "base_uri": "https://localhost:8080/"
        },
        "outputId": "8b81622a-44b5-4043-d44c-79cb10f8f64f"
      },
      "execution_count": null,
      "outputs": [
        {
          "output_type": "stream",
          "name": "stderr",
          "text": [
            "/usr/local/lib/python3.10/dist-packages/ipykernel/ipkernel.py:283: DeprecationWarning: `should_run_async` will not call `transform_cell` automatically in the future. Please pass the result to `transformed_cell` argument and any exception that happen during thetransform in `preprocessing_exc_tuple` in IPython 7.17 and above.\n",
            "  getpass.getpass = self._save_getpass\n"
          ]
        }
      ]
    },
    {
      "cell_type": "code",
      "source": [
        "train['sofa_resp'] = train['sofa_resp'].replace({'None': -1})\n",
        "test['sofa_resp'] = test['sofa_resp'].replace({'None': -1})\n",
        "### This is not the case, but just to show how to use the function:\n",
        "# train, test, encoders = label_encoder(train, ['insurance'], df_test=test)"
      ],
      "metadata": {
        "id": "Fa28bOmRZycF",
        "colab": {
          "base_uri": "https://localhost:8080/"
        },
        "outputId": "5c591852-3dc1-4f86-a594-d8b90d34d40c"
      },
      "execution_count": null,
      "outputs": [
        {
          "output_type": "stream",
          "name": "stderr",
          "text": [
            "/usr/local/lib/python3.10/dist-packages/ipykernel/ipkernel.py:283: DeprecationWarning: `should_run_async` will not call `transform_cell` automatically in the future. Please pass the result to `transformed_cell` argument and any exception that happen during thetransform in `preprocessing_exc_tuple` in IPython 7.17 and above.\n",
            "  getpass.getpass = self._save_getpass\n",
            "<ipython-input-53-908d03137bdb>:1: SettingWithCopyWarning: \n",
            "A value is trying to be set on a copy of a slice from a DataFrame.\n",
            "Try using .loc[row_indexer,col_indexer] = value instead\n",
            "\n",
            "See the caveats in the documentation: https://pandas.pydata.org/pandas-docs/stable/user_guide/indexing.html#returning-a-view-versus-a-copy\n",
            "  train['sofa_resp'] = train['sofa_resp'].replace({'None': -1})\n",
            "<ipython-input-53-908d03137bdb>:2: SettingWithCopyWarning: \n",
            "A value is trying to be set on a copy of a slice from a DataFrame.\n",
            "Try using .loc[row_indexer,col_indexer] = value instead\n",
            "\n",
            "See the caveats in the documentation: https://pandas.pydata.org/pandas-docs/stable/user_guide/indexing.html#returning-a-view-versus-a-copy\n",
            "  test['sofa_resp'] = test['sofa_resp'].replace({'None': -1})\n"
          ]
        }
      ]
    },
    {
      "cell_type": "markdown",
      "source": [
        "###### ✏️ Encode nominal variables\n",
        "\n",
        "You can use the function `column_to_one_hot` to encode the nominal variables to a [one-hot representation](https://machinelearningmastery.com/why-one-hot-encode-data-in-machine-learning/). "
      ],
      "metadata": {
        "id": "SQvRcqdRVXJV"
      }
    },
    {
      "cell_type": "code",
      "source": [
        "def column_to_one_hot(train_df, column, test_df=None):\n",
        "  # Generate a one-hot representation of the values in the column\n",
        "  train_one_hot = pd.get_dummies(train_df[column])\n",
        "  # add the one-hot encoded columns to the DataFrame\n",
        "  train_df = pd.concat([train_df, train_one_hot], axis=1)\n",
        "  # drop the original column\n",
        "  train_df = train_df.drop(column, axis=1)\n",
        "\n",
        "  if test_df is not None:\n",
        "    test_one_hot = pd.get_dummies(test_df[column])\n",
        "  \n",
        "    # Add missing columns in test data\n",
        "    missing_cols = set(train_one_hot.columns) - set(test_one_hot.columns)\n",
        "    for c in missing_cols:\n",
        "      test_one_hot[c] = 0\n",
        "    \n",
        "    # Ensure the order of column in the test set is in the same order than in train set\n",
        "    test_one_hot = test_one_hot[train_one_hot.columns]\n",
        "    test_df = pd.concat([test_df, test_one_hot], axis=1)\n",
        "    test_df = test_df.drop(column, axis=1)\n",
        "    return train_df, test_df\n",
        "  else:\n",
        "    return train_df"
      ],
      "metadata": {
        "id": "61UE_CRi-cfb",
        "colab": {
          "base_uri": "https://localhost:8080/"
        },
        "outputId": "091ec68a-ac66-437d-f12e-c45f4d246663"
      },
      "execution_count": null,
      "outputs": [
        {
          "output_type": "stream",
          "name": "stderr",
          "text": [
            "/usr/local/lib/python3.10/dist-packages/ipykernel/ipkernel.py:283: DeprecationWarning: `should_run_async` will not call `transform_cell` automatically in the future. Please pass the result to `transformed_cell` argument and any exception that happen during thetransform in `preprocessing_exc_tuple` in IPython 7.17 and above.\n",
            "  getpass.getpass = self._save_getpass\n"
          ]
        }
      ]
    },
    {
      "cell_type": "code",
      "source": [
        "# convert 'ventilation_status' column into one-hot encoding\n",
        "train['ventilation_status'] = train['ventilation_status'].replace({'None': 'None_ventilation'})\n",
        "test['ventilation_status'] = test['ventilation_status'].replace({'None': 'None_ventilation'})\n",
        "train, test = column_to_one_hot(train, 'ventilation_status', test)\n",
        "\n",
        "# convert 'race_group' column into one-hot encoding\n",
        "train['race_group'] = train['race_group'].replace({'Other': 'Other_race_group'})\n",
        "test['race_group'] = test['race_group'].replace({'Other': 'Other_race_group'})\n",
        "train, test = column_to_one_hot(train, 'race_group', test)\n",
        "\n",
        "# convert 'insurance' column into one-hot encoding\n",
        "train, test = column_to_one_hot(train, 'insurance', test)"
      ],
      "metadata": {
        "id": "j-Kl9LE_95Ve",
        "colab": {
          "base_uri": "https://localhost:8080/"
        },
        "outputId": "a42d57bb-4735-473d-9672-e77cf638fde9"
      },
      "execution_count": null,
      "outputs": [
        {
          "output_type": "stream",
          "name": "stderr",
          "text": [
            "/usr/local/lib/python3.10/dist-packages/ipykernel/ipkernel.py:283: DeprecationWarning: `should_run_async` will not call `transform_cell` automatically in the future. Please pass the result to `transformed_cell` argument and any exception that happen during thetransform in `preprocessing_exc_tuple` in IPython 7.17 and above.\n",
            "  getpass.getpass = self._save_getpass\n",
            "<ipython-input-55-0aa08768b414>:2: SettingWithCopyWarning: \n",
            "A value is trying to be set on a copy of a slice from a DataFrame.\n",
            "Try using .loc[row_indexer,col_indexer] = value instead\n",
            "\n",
            "See the caveats in the documentation: https://pandas.pydata.org/pandas-docs/stable/user_guide/indexing.html#returning-a-view-versus-a-copy\n",
            "  train['ventilation_status'] = train['ventilation_status'].replace({'None': 'None_ventilation'})\n",
            "<ipython-input-55-0aa08768b414>:3: SettingWithCopyWarning: \n",
            "A value is trying to be set on a copy of a slice from a DataFrame.\n",
            "Try using .loc[row_indexer,col_indexer] = value instead\n",
            "\n",
            "See the caveats in the documentation: https://pandas.pydata.org/pandas-docs/stable/user_guide/indexing.html#returning-a-view-versus-a-copy\n",
            "  test['ventilation_status'] = test['ventilation_status'].replace({'None': 'None_ventilation'})\n"
          ]
        }
      ]
    },
    {
      "cell_type": "markdown",
      "source": [
        "### Feature Engineering\n",
        "\n",
        "Once we have cleaned the dataset we can engineer the features that can provide more information to the model to generate the predictions.\n",
        "\n",
        "We'll print the correlation to SpO2 as a reference to see the most correlated variables before and after generating the new features."
      ],
      "metadata": {
        "id": "2lt2Bd_Keu1U"
      }
    },
    {
      "cell_type": "code",
      "source": [
        "# Get variables correlated to SpO2\n",
        "columns_sao2 = get_most_correlated(train, variable='SpO2', n=5)"
      ],
      "metadata": {
        "colab": {
          "base_uri": "https://localhost:8080/"
        },
        "id": "XohbidtbS6qe",
        "outputId": "533c9ddc-f025-4775-bbfd-766294ecf0e2"
      },
      "execution_count": null,
      "outputs": [
        {
          "output_type": "stream",
          "name": "stderr",
          "text": [
            "/usr/local/lib/python3.10/dist-packages/ipykernel/ipkernel.py:283: DeprecationWarning: `should_run_async` will not call `transform_cell` automatically in the future. Please pass the result to `transformed_cell` argument and any exception that happen during thetransform in `preprocessing_exc_tuple` in IPython 7.17 and above.\n",
            "  getpass.getpass = self._save_getpass\n",
            "<ipython-input-17-4adb24b69ce4>:13: FutureWarning: The default value of numeric_only in DataFrame.corr is deprecated. In a future version, it will default to False. Select only valid columns or specify the value of numeric_only to silence this warning.\n",
            "  corr_matrix = df.corr()\n"
          ]
        },
        {
          "output_type": "stream",
          "name": "stdout",
          "text": [
            "########################################  SpO2  ########################################\n",
            "The 5 most correlated variables to variable SpO2 are: \n",
            "SpO2        1.000000\n",
            "SaO2        0.554009\n",
            "albumin     0.105553\n",
            "chloride    0.102564\n",
            "mchc        0.066710\n",
            "Name: SpO2, dtype: float64\n",
            "The 5 most inversely correlated variables to variable SpO2 are: \n",
            "lactate        -0.135874\n",
            "FiO2           -0.136953\n",
            "mortality_in   -0.145320\n",
            "aniongap       -0.152471\n",
            "sofa_resp      -0.342605\n",
            "Name: SpO2, dtype: float64\n"
          ]
        }
      ]
    },
    {
      "cell_type": "code",
      "source": [
        "# Length of ICU stay in days for dead\n",
        "train['los_icu_dead'] = train[train.mortality_in == 1].los_icu\n",
        "test['los_icu_dead'] = test[test.mortality_in == 1].los_icu\n",
        "\n",
        "# Length of ICU stay in days for survivors\n",
        "train['los_icu_surv'] = train[train.mortality_in == 0].los_icu\n",
        "test['los_icu_surv'] = test[test.mortality_in == 1].los_icu"
      ],
      "metadata": {
        "id": "y7gi7_6Kes54",
        "colab": {
          "base_uri": "https://localhost:8080/"
        },
        "outputId": "749fbf63-48c5-40df-bc9a-176b82cb1a8d"
      },
      "execution_count": null,
      "outputs": [
        {
          "output_type": "stream",
          "name": "stderr",
          "text": [
            "/usr/local/lib/python3.10/dist-packages/ipykernel/ipkernel.py:283: DeprecationWarning: `should_run_async` will not call `transform_cell` automatically in the future. Please pass the result to `transformed_cell` argument and any exception that happen during thetransform in `preprocessing_exc_tuple` in IPython 7.17 and above.\n",
            "  getpass.getpass = self._save_getpass\n"
          ]
        }
      ]
    },
    {
      "cell_type": "code",
      "source": [
        "# Get variables correlated to SpO2\n",
        "columns_sao2 = get_most_correlated(train, variable='SpO2', n=5)"
      ],
      "metadata": {
        "id": "ZmrafVfees8d",
        "colab": {
          "base_uri": "https://localhost:8080/"
        },
        "outputId": "b86419a4-2a63-4961-defc-c6be1627a6c9"
      },
      "execution_count": null,
      "outputs": [
        {
          "output_type": "stream",
          "name": "stderr",
          "text": [
            "/usr/local/lib/python3.10/dist-packages/ipykernel/ipkernel.py:283: DeprecationWarning: `should_run_async` will not call `transform_cell` automatically in the future. Please pass the result to `transformed_cell` argument and any exception that happen during thetransform in `preprocessing_exc_tuple` in IPython 7.17 and above.\n",
            "  getpass.getpass = self._save_getpass\n",
            "<ipython-input-17-4adb24b69ce4>:13: FutureWarning: The default value of numeric_only in DataFrame.corr is deprecated. In a future version, it will default to False. Select only valid columns or specify the value of numeric_only to silence this warning.\n",
            "  corr_matrix = df.corr()\n"
          ]
        },
        {
          "output_type": "stream",
          "name": "stdout",
          "text": [
            "########################################  SpO2  ########################################\n",
            "The 5 most correlated variables to variable SpO2 are: \n",
            "SpO2            1.000000\n",
            "SaO2            0.554009\n",
            "los_icu_dead    0.119172\n",
            "albumin         0.105553\n",
            "chloride        0.102564\n",
            "Name: SpO2, dtype: float64\n",
            "The 5 most inversely correlated variables to variable SpO2 are: \n",
            "lactate        -0.135874\n",
            "FiO2           -0.136953\n",
            "mortality_in   -0.145320\n",
            "aniongap       -0.152471\n",
            "sofa_resp      -0.342605\n",
            "Name: SpO2, dtype: float64\n"
          ]
        }
      ]
    },
    {
      "cell_type": "markdown",
      "source": [
        "Surprise! we can see how before the correlation `los_icu` and `mortality_in` were not there, but after the feature engineering the new feature `los_icu_dead` is there! \n",
        "\n",
        "That shows the importance of being able to do good feature engineering."
      ],
      "metadata": {
        "id": "Gd5hOGIVTtTy"
      }
    },
    {
      "cell_type": "code",
      "source": [
        "# Clean the new added columns:\n",
        "method = 'new_category_numeric'\n",
        "impute_cols = ['los_icu_dead', 'los_icu_surv']\n",
        "train, test, _ = apply_data_imputation(train, impute_cols=impute_cols, method=method, test_df=test)"
      ],
      "metadata": {
        "id": "kN3sRd5TCiZ0",
        "colab": {
          "base_uri": "https://localhost:8080/"
        },
        "outputId": "e78114d6-ce7a-4448-faaf-b4ddfc37de69"
      },
      "execution_count": null,
      "outputs": [
        {
          "output_type": "stream",
          "name": "stderr",
          "text": [
            "/usr/local/lib/python3.10/dist-packages/ipykernel/ipkernel.py:283: DeprecationWarning: `should_run_async` will not call `transform_cell` automatically in the future. Please pass the result to `transformed_cell` argument and any exception that happen during thetransform in `preprocessing_exc_tuple` in IPython 7.17 and above.\n",
            "  getpass.getpass = self._save_getpass\n"
          ]
        }
      ]
    },
    {
      "cell_type": "markdown",
      "source": [
        "###### ✏️ Create your own features (Optional)\n",
        "\n",
        "Use the dataset to generate new features"
      ],
      "metadata": {
        "id": "XvY4nJDzW42S"
      }
    },
    {
      "cell_type": "markdown",
      "source": [
        "### Normalization:\n",
        "Data normalization is an important step in machine learning because it helps to ensure that features are on similar scales, which can improve the performance of many machine learning algorithms.\n",
        "\n",
        "When features are not on similar scales, some algorithms may be more heavily influenced by certain features than others, which can lead to suboptimal performance. Additionally, some algorithms (such as those based on distance calculations) can be sensitive to differences in scale between features, which can lead to incorrect results.\n",
        "\n",
        "By normalizing the data, we can ensure that each feature contributes equally to the model, regardless of its scale. This can lead to better accuracy and more robust models."
      ],
      "metadata": {
        "id": "1kXGwnxLjWJF"
      }
    },
    {
      "cell_type": "code",
      "source": [
        "def normalize_data(train_data, test_data=None, scaler=None, ignore_cols=[]):\n",
        "  # Filter out columns to ignore\n",
        "  train_data_filtered = train_data.drop(ignore_cols, axis=1)\n",
        "  if test_data is not None:\n",
        "    test_data_filtered = test_data.drop(ignore_cols, axis=1)\n",
        "  \n",
        "  if not scaler:\n",
        "    scaler = MinMaxScaler()\n",
        "    scaler.fit(train_data_filtered)\n",
        "  \n",
        "  normalized_train = scaler.transform(train_data_filtered)\n",
        "  \n",
        "  if test_data is not None:\n",
        "    normalized_test = scaler.transform(test_data_filtered)\n",
        "    normalized_train_df = pd.DataFrame(normalized_train, columns=train_data_filtered.columns)\n",
        "    normalized_test_df = pd.DataFrame(normalized_test, columns=test_data_filtered.columns)\n",
        "    return normalized_train_df, normalized_test_df, scaler\n",
        "  else:\n",
        "    normalized_train_df = pd.DataFrame(normalized_train, columns=train_data_filtered.columns)\n",
        "    return normalized_train_df, scaler\n"
      ],
      "metadata": {
        "id": "S2UttMiAjWU0",
        "colab": {
          "base_uri": "https://localhost:8080/"
        },
        "outputId": "4d1a10e3-f5d0-48f9-82d0-0519d7ac72c4"
      },
      "execution_count": null,
      "outputs": [
        {
          "output_type": "stream",
          "name": "stderr",
          "text": [
            "/usr/local/lib/python3.10/dist-packages/ipykernel/ipkernel.py:283: DeprecationWarning: `should_run_async` will not call `transform_cell` automatically in the future. Please pass the result to `transformed_cell` argument and any exception that happen during thetransform in `preprocessing_exc_tuple` in IPython 7.17 and above.\n",
            "  getpass.getpass = self._save_getpass\n"
          ]
        }
      ]
    },
    {
      "cell_type": "markdown",
      "source": [
        "###### ✏️ Normalize your data\n",
        "\n",
        "Use the function to normalize the data. Remember to exclude information that does not contribute to the final model, such as identifiers.\n",
        "\n",
        "Feel free to include other data [normalization methods](https://scikit-learn.org/stable/modules/preprocessing.html)."
      ],
      "metadata": {
        "id": "DMtjK8r-XDmp"
      }
    },
    {
      "cell_type": "code",
      "source": [
        "ignore_cols = ['stay_id', 'subject_id', 'SaO2_timestamp']\n",
        "normalized_train, normalized_test, scaler = normalize_data(train, test_data=test, scaler=None, ignore_cols=ignore_cols)"
      ],
      "metadata": {
        "id": "qA8jd0uqmhAt",
        "colab": {
          "base_uri": "https://localhost:8080/"
        },
        "outputId": "32bb20c8-e08e-4c64-96c9-5306fb865b0e"
      },
      "execution_count": null,
      "outputs": [
        {
          "output_type": "stream",
          "name": "stderr",
          "text": [
            "/usr/local/lib/python3.10/dist-packages/ipykernel/ipkernel.py:283: DeprecationWarning: `should_run_async` will not call `transform_cell` automatically in the future. Please pass the result to `transformed_cell` argument and any exception that happen during thetransform in `preprocessing_exc_tuple` in IPython 7.17 and above.\n",
            "  getpass.getpass = self._save_getpass\n"
          ]
        }
      ]
    },
    {
      "cell_type": "markdown",
      "source": [
        "### Class Imbalance\n",
        "In order to allow you to play with other methods for data balancing such as modifying the weights of the model. The dataset will be delivered unbalanced. However it is important that you play around with different methods such as undersampling or oversampling to balance the training data."
      ],
      "metadata": {
        "id": "qeAp94vzQ7_Y"
      }
    },
    {
      "cell_type": "markdown",
      "source": [
        "### Save the file!\n",
        "Finally let's save the dataset as a csv file! 😀"
      ],
      "metadata": {
        "id": "hKqDpYhNpLcC"
      }
    },
    {
      "cell_type": "code",
      "source": [
        "normalized_train"
      ],
      "metadata": {
        "colab": {
          "base_uri": "https://localhost:8080/",
          "height": 523
        },
        "id": "WY9spVmopc1T",
        "outputId": "e901fe93-6584-46a2-f438-2708dea42516"
      },
      "execution_count": null,
      "outputs": [
        {
          "output_type": "stream",
          "name": "stderr",
          "text": [
            "/usr/local/lib/python3.10/dist-packages/ipykernel/ipkernel.py:283: DeprecationWarning: `should_run_async` will not call `transform_cell` automatically in the future. Please pass the result to `transformed_cell` argument and any exception that happen during thetransform in `preprocessing_exc_tuple` in IPython 7.17 and above.\n",
            "  getpass.getpass = self._save_getpass\n"
          ]
        },
        {
          "output_type": "execute_result",
          "data": {
            "text/plain": [
              "        lactate      SpO2  delta_ld_ldh   albumin  hidden_hypoxemia  rrt  \\\n",
              "0      0.108333  0.971429      0.791722  0.610169               0.0  0.0   \n",
              "1      0.083333  1.000000      0.507584  0.355932               0.0  0.0   \n",
              "2      0.066667  1.000000      0.507434  0.355932               0.0  0.0   \n",
              "3      0.070833  0.971429      0.506559  0.711864               0.0  0.0   \n",
              "4      0.075000  1.000000      0.506501  0.711864               0.0  0.0   \n",
              "...         ...       ...           ...       ...               ...  ...   \n",
              "13853  0.275000  0.857143      0.507484  0.677966               0.0  0.0   \n",
              "13854  0.129167  0.971429      0.507404  0.677966               0.0  0.0   \n",
              "13855  0.075000  0.885714      0.000000  0.593220               0.0  0.0   \n",
              "13856  0.120833  1.000000      0.507512  0.491525               0.0  0.0   \n",
              "13857  0.120833  0.971429      0.507621  0.491525               0.0  0.0   \n",
              "\n",
              "             pt  aniongap  sofa_resp   los_icu  ...  Asian  Black  Hispanic  \\\n",
              "0      0.075333      0.24        0.4  0.011222  ...    0.0    0.0       0.0   \n",
              "1      0.070000      0.20        0.6  0.066460  ...    0.0    0.0       0.0   \n",
              "2      0.078667      0.22        0.6  0.066460  ...    0.0    0.0       0.0   \n",
              "3      0.091333      0.16        0.8  0.008803  ...    0.0    0.0       0.0   \n",
              "4      0.091333      0.16        0.4  0.008803  ...    0.0    0.0       0.0   \n",
              "...         ...       ...        ...       ...  ...    ...    ...       ...   \n",
              "13853  0.140000      0.46        0.6  0.243784  ...    0.0    0.0       0.0   \n",
              "13854  0.136000      0.40        0.6  0.243784  ...    0.0    0.0       0.0   \n",
              "13855  0.094000      0.36        0.6  0.020509  ...    0.0    0.0       0.0   \n",
              "13856  0.087333      0.22        0.4  0.047112  ...    0.0    0.0       0.0   \n",
              "13857  0.087333      0.22        0.6  0.047112  ...    0.0    0.0       0.0   \n",
              "\n",
              "       Other_race_group  White  Medicaid  Medicare  Other  los_icu_dead  \\\n",
              "0                   1.0    0.0       0.0       1.0    0.0           0.0   \n",
              "1                   0.0    1.0       0.0       1.0    0.0           0.0   \n",
              "2                   0.0    1.0       0.0       1.0    0.0           0.0   \n",
              "3                   1.0    0.0       0.0       0.0    1.0           0.0   \n",
              "4                   1.0    0.0       0.0       0.0    1.0           0.0   \n",
              "...                 ...    ...       ...       ...    ...           ...   \n",
              "13853               0.0    1.0       0.0       1.0    0.0           0.0   \n",
              "13854               0.0    1.0       0.0       1.0    0.0           0.0   \n",
              "13855               0.0    1.0       0.0       0.0    1.0           0.0   \n",
              "13856               0.0    1.0       0.0       0.0    1.0           0.0   \n",
              "13857               0.0    1.0       0.0       0.0    1.0           0.0   \n",
              "\n",
              "       los_icu_surv  \n",
              "0          0.014170  \n",
              "1          0.076889  \n",
              "2          0.076889  \n",
              "3          0.011424  \n",
              "4          0.011424  \n",
              "...             ...  \n",
              "13853      0.278229  \n",
              "13854      0.278229  \n",
              "13855      0.024714  \n",
              "13856      0.054921  \n",
              "13857      0.054921  \n",
              "\n",
              "[13858 rows x 49 columns]"
            ],
            "text/html": [
              "\n",
              "  <div id=\"df-7929ccf1-5bf8-45ed-87d7-62a9b5af3d28\">\n",
              "    <div class=\"colab-df-container\">\n",
              "      <div>\n",
              "<style scoped>\n",
              "    .dataframe tbody tr th:only-of-type {\n",
              "        vertical-align: middle;\n",
              "    }\n",
              "\n",
              "    .dataframe tbody tr th {\n",
              "        vertical-align: top;\n",
              "    }\n",
              "\n",
              "    .dataframe thead th {\n",
              "        text-align: right;\n",
              "    }\n",
              "</style>\n",
              "<table border=\"1\" class=\"dataframe\">\n",
              "  <thead>\n",
              "    <tr style=\"text-align: right;\">\n",
              "      <th></th>\n",
              "      <th>lactate</th>\n",
              "      <th>SpO2</th>\n",
              "      <th>delta_ld_ldh</th>\n",
              "      <th>albumin</th>\n",
              "      <th>hidden_hypoxemia</th>\n",
              "      <th>rrt</th>\n",
              "      <th>pt</th>\n",
              "      <th>aniongap</th>\n",
              "      <th>sofa_resp</th>\n",
              "      <th>los_icu</th>\n",
              "      <th>...</th>\n",
              "      <th>Asian</th>\n",
              "      <th>Black</th>\n",
              "      <th>Hispanic</th>\n",
              "      <th>Other_race_group</th>\n",
              "      <th>White</th>\n",
              "      <th>Medicaid</th>\n",
              "      <th>Medicare</th>\n",
              "      <th>Other</th>\n",
              "      <th>los_icu_dead</th>\n",
              "      <th>los_icu_surv</th>\n",
              "    </tr>\n",
              "  </thead>\n",
              "  <tbody>\n",
              "    <tr>\n",
              "      <th>0</th>\n",
              "      <td>0.108333</td>\n",
              "      <td>0.971429</td>\n",
              "      <td>0.791722</td>\n",
              "      <td>0.610169</td>\n",
              "      <td>0.0</td>\n",
              "      <td>0.0</td>\n",
              "      <td>0.075333</td>\n",
              "      <td>0.24</td>\n",
              "      <td>0.4</td>\n",
              "      <td>0.011222</td>\n",
              "      <td>...</td>\n",
              "      <td>0.0</td>\n",
              "      <td>0.0</td>\n",
              "      <td>0.0</td>\n",
              "      <td>1.0</td>\n",
              "      <td>0.0</td>\n",
              "      <td>0.0</td>\n",
              "      <td>1.0</td>\n",
              "      <td>0.0</td>\n",
              "      <td>0.0</td>\n",
              "      <td>0.014170</td>\n",
              "    </tr>\n",
              "    <tr>\n",
              "      <th>1</th>\n",
              "      <td>0.083333</td>\n",
              "      <td>1.000000</td>\n",
              "      <td>0.507584</td>\n",
              "      <td>0.355932</td>\n",
              "      <td>0.0</td>\n",
              "      <td>0.0</td>\n",
              "      <td>0.070000</td>\n",
              "      <td>0.20</td>\n",
              "      <td>0.6</td>\n",
              "      <td>0.066460</td>\n",
              "      <td>...</td>\n",
              "      <td>0.0</td>\n",
              "      <td>0.0</td>\n",
              "      <td>0.0</td>\n",
              "      <td>0.0</td>\n",
              "      <td>1.0</td>\n",
              "      <td>0.0</td>\n",
              "      <td>1.0</td>\n",
              "      <td>0.0</td>\n",
              "      <td>0.0</td>\n",
              "      <td>0.076889</td>\n",
              "    </tr>\n",
              "    <tr>\n",
              "      <th>2</th>\n",
              "      <td>0.066667</td>\n",
              "      <td>1.000000</td>\n",
              "      <td>0.507434</td>\n",
              "      <td>0.355932</td>\n",
              "      <td>0.0</td>\n",
              "      <td>0.0</td>\n",
              "      <td>0.078667</td>\n",
              "      <td>0.22</td>\n",
              "      <td>0.6</td>\n",
              "      <td>0.066460</td>\n",
              "      <td>...</td>\n",
              "      <td>0.0</td>\n",
              "      <td>0.0</td>\n",
              "      <td>0.0</td>\n",
              "      <td>0.0</td>\n",
              "      <td>1.0</td>\n",
              "      <td>0.0</td>\n",
              "      <td>1.0</td>\n",
              "      <td>0.0</td>\n",
              "      <td>0.0</td>\n",
              "      <td>0.076889</td>\n",
              "    </tr>\n",
              "    <tr>\n",
              "      <th>3</th>\n",
              "      <td>0.070833</td>\n",
              "      <td>0.971429</td>\n",
              "      <td>0.506559</td>\n",
              "      <td>0.711864</td>\n",
              "      <td>0.0</td>\n",
              "      <td>0.0</td>\n",
              "      <td>0.091333</td>\n",
              "      <td>0.16</td>\n",
              "      <td>0.8</td>\n",
              "      <td>0.008803</td>\n",
              "      <td>...</td>\n",
              "      <td>0.0</td>\n",
              "      <td>0.0</td>\n",
              "      <td>0.0</td>\n",
              "      <td>1.0</td>\n",
              "      <td>0.0</td>\n",
              "      <td>0.0</td>\n",
              "      <td>0.0</td>\n",
              "      <td>1.0</td>\n",
              "      <td>0.0</td>\n",
              "      <td>0.011424</td>\n",
              "    </tr>\n",
              "    <tr>\n",
              "      <th>4</th>\n",
              "      <td>0.075000</td>\n",
              "      <td>1.000000</td>\n",
              "      <td>0.506501</td>\n",
              "      <td>0.711864</td>\n",
              "      <td>0.0</td>\n",
              "      <td>0.0</td>\n",
              "      <td>0.091333</td>\n",
              "      <td>0.16</td>\n",
              "      <td>0.4</td>\n",
              "      <td>0.008803</td>\n",
              "      <td>...</td>\n",
              "      <td>0.0</td>\n",
              "      <td>0.0</td>\n",
              "      <td>0.0</td>\n",
              "      <td>1.0</td>\n",
              "      <td>0.0</td>\n",
              "      <td>0.0</td>\n",
              "      <td>0.0</td>\n",
              "      <td>1.0</td>\n",
              "      <td>0.0</td>\n",
              "      <td>0.011424</td>\n",
              "    </tr>\n",
              "    <tr>\n",
              "      <th>...</th>\n",
              "      <td>...</td>\n",
              "      <td>...</td>\n",
              "      <td>...</td>\n",
              "      <td>...</td>\n",
              "      <td>...</td>\n",
              "      <td>...</td>\n",
              "      <td>...</td>\n",
              "      <td>...</td>\n",
              "      <td>...</td>\n",
              "      <td>...</td>\n",
              "      <td>...</td>\n",
              "      <td>...</td>\n",
              "      <td>...</td>\n",
              "      <td>...</td>\n",
              "      <td>...</td>\n",
              "      <td>...</td>\n",
              "      <td>...</td>\n",
              "      <td>...</td>\n",
              "      <td>...</td>\n",
              "      <td>...</td>\n",
              "      <td>...</td>\n",
              "    </tr>\n",
              "    <tr>\n",
              "      <th>13853</th>\n",
              "      <td>0.275000</td>\n",
              "      <td>0.857143</td>\n",
              "      <td>0.507484</td>\n",
              "      <td>0.677966</td>\n",
              "      <td>0.0</td>\n",
              "      <td>0.0</td>\n",
              "      <td>0.140000</td>\n",
              "      <td>0.46</td>\n",
              "      <td>0.6</td>\n",
              "      <td>0.243784</td>\n",
              "      <td>...</td>\n",
              "      <td>0.0</td>\n",
              "      <td>0.0</td>\n",
              "      <td>0.0</td>\n",
              "      <td>0.0</td>\n",
              "      <td>1.0</td>\n",
              "      <td>0.0</td>\n",
              "      <td>1.0</td>\n",
              "      <td>0.0</td>\n",
              "      <td>0.0</td>\n",
              "      <td>0.278229</td>\n",
              "    </tr>\n",
              "    <tr>\n",
              "      <th>13854</th>\n",
              "      <td>0.129167</td>\n",
              "      <td>0.971429</td>\n",
              "      <td>0.507404</td>\n",
              "      <td>0.677966</td>\n",
              "      <td>0.0</td>\n",
              "      <td>0.0</td>\n",
              "      <td>0.136000</td>\n",
              "      <td>0.40</td>\n",
              "      <td>0.6</td>\n",
              "      <td>0.243784</td>\n",
              "      <td>...</td>\n",
              "      <td>0.0</td>\n",
              "      <td>0.0</td>\n",
              "      <td>0.0</td>\n",
              "      <td>0.0</td>\n",
              "      <td>1.0</td>\n",
              "      <td>0.0</td>\n",
              "      <td>1.0</td>\n",
              "      <td>0.0</td>\n",
              "      <td>0.0</td>\n",
              "      <td>0.278229</td>\n",
              "    </tr>\n",
              "    <tr>\n",
              "      <th>13855</th>\n",
              "      <td>0.075000</td>\n",
              "      <td>0.885714</td>\n",
              "      <td>0.000000</td>\n",
              "      <td>0.593220</td>\n",
              "      <td>0.0</td>\n",
              "      <td>0.0</td>\n",
              "      <td>0.094000</td>\n",
              "      <td>0.36</td>\n",
              "      <td>0.6</td>\n",
              "      <td>0.020509</td>\n",
              "      <td>...</td>\n",
              "      <td>0.0</td>\n",
              "      <td>0.0</td>\n",
              "      <td>0.0</td>\n",
              "      <td>0.0</td>\n",
              "      <td>1.0</td>\n",
              "      <td>0.0</td>\n",
              "      <td>0.0</td>\n",
              "      <td>1.0</td>\n",
              "      <td>0.0</td>\n",
              "      <td>0.024714</td>\n",
              "    </tr>\n",
              "    <tr>\n",
              "      <th>13856</th>\n",
              "      <td>0.120833</td>\n",
              "      <td>1.000000</td>\n",
              "      <td>0.507512</td>\n",
              "      <td>0.491525</td>\n",
              "      <td>0.0</td>\n",
              "      <td>0.0</td>\n",
              "      <td>0.087333</td>\n",
              "      <td>0.22</td>\n",
              "      <td>0.4</td>\n",
              "      <td>0.047112</td>\n",
              "      <td>...</td>\n",
              "      <td>0.0</td>\n",
              "      <td>0.0</td>\n",
              "      <td>0.0</td>\n",
              "      <td>0.0</td>\n",
              "      <td>1.0</td>\n",
              "      <td>0.0</td>\n",
              "      <td>0.0</td>\n",
              "      <td>1.0</td>\n",
              "      <td>0.0</td>\n",
              "      <td>0.054921</td>\n",
              "    </tr>\n",
              "    <tr>\n",
              "      <th>13857</th>\n",
              "      <td>0.120833</td>\n",
              "      <td>0.971429</td>\n",
              "      <td>0.507621</td>\n",
              "      <td>0.491525</td>\n",
              "      <td>0.0</td>\n",
              "      <td>0.0</td>\n",
              "      <td>0.087333</td>\n",
              "      <td>0.22</td>\n",
              "      <td>0.6</td>\n",
              "      <td>0.047112</td>\n",
              "      <td>...</td>\n",
              "      <td>0.0</td>\n",
              "      <td>0.0</td>\n",
              "      <td>0.0</td>\n",
              "      <td>0.0</td>\n",
              "      <td>1.0</td>\n",
              "      <td>0.0</td>\n",
              "      <td>0.0</td>\n",
              "      <td>1.0</td>\n",
              "      <td>0.0</td>\n",
              "      <td>0.054921</td>\n",
              "    </tr>\n",
              "  </tbody>\n",
              "</table>\n",
              "<p>13858 rows × 49 columns</p>\n",
              "</div>\n",
              "      <button class=\"colab-df-convert\" onclick=\"convertToInteractive('df-7929ccf1-5bf8-45ed-87d7-62a9b5af3d28')\"\n",
              "              title=\"Convert this dataframe to an interactive table.\"\n",
              "              style=\"display:none;\">\n",
              "        \n",
              "  <svg xmlns=\"http://www.w3.org/2000/svg\" height=\"24px\"viewBox=\"0 0 24 24\"\n",
              "       width=\"24px\">\n",
              "    <path d=\"M0 0h24v24H0V0z\" fill=\"none\"/>\n",
              "    <path d=\"M18.56 5.44l.94 2.06.94-2.06 2.06-.94-2.06-.94-.94-2.06-.94 2.06-2.06.94zm-11 1L8.5 8.5l.94-2.06 2.06-.94-2.06-.94L8.5 2.5l-.94 2.06-2.06.94zm10 10l.94 2.06.94-2.06 2.06-.94-2.06-.94-.94-2.06-.94 2.06-2.06.94z\"/><path d=\"M17.41 7.96l-1.37-1.37c-.4-.4-.92-.59-1.43-.59-.52 0-1.04.2-1.43.59L10.3 9.45l-7.72 7.72c-.78.78-.78 2.05 0 2.83L4 21.41c.39.39.9.59 1.41.59.51 0 1.02-.2 1.41-.59l7.78-7.78 2.81-2.81c.8-.78.8-2.07 0-2.86zM5.41 20L4 18.59l7.72-7.72 1.47 1.35L5.41 20z\"/>\n",
              "  </svg>\n",
              "      </button>\n",
              "      \n",
              "  <style>\n",
              "    .colab-df-container {\n",
              "      display:flex;\n",
              "      flex-wrap:wrap;\n",
              "      gap: 12px;\n",
              "    }\n",
              "\n",
              "    .colab-df-convert {\n",
              "      background-color: #E8F0FE;\n",
              "      border: none;\n",
              "      border-radius: 50%;\n",
              "      cursor: pointer;\n",
              "      display: none;\n",
              "      fill: #1967D2;\n",
              "      height: 32px;\n",
              "      padding: 0 0 0 0;\n",
              "      width: 32px;\n",
              "    }\n",
              "\n",
              "    .colab-df-convert:hover {\n",
              "      background-color: #E2EBFA;\n",
              "      box-shadow: 0px 1px 2px rgba(60, 64, 67, 0.3), 0px 1px 3px 1px rgba(60, 64, 67, 0.15);\n",
              "      fill: #174EA6;\n",
              "    }\n",
              "\n",
              "    [theme=dark] .colab-df-convert {\n",
              "      background-color: #3B4455;\n",
              "      fill: #D2E3FC;\n",
              "    }\n",
              "\n",
              "    [theme=dark] .colab-df-convert:hover {\n",
              "      background-color: #434B5C;\n",
              "      box-shadow: 0px 1px 3px 1px rgba(0, 0, 0, 0.15);\n",
              "      filter: drop-shadow(0px 1px 2px rgba(0, 0, 0, 0.3));\n",
              "      fill: #FFFFFF;\n",
              "    }\n",
              "  </style>\n",
              "\n",
              "      <script>\n",
              "        const buttonEl =\n",
              "          document.querySelector('#df-7929ccf1-5bf8-45ed-87d7-62a9b5af3d28 button.colab-df-convert');\n",
              "        buttonEl.style.display =\n",
              "          google.colab.kernel.accessAllowed ? 'block' : 'none';\n",
              "\n",
              "        async function convertToInteractive(key) {\n",
              "          const element = document.querySelector('#df-7929ccf1-5bf8-45ed-87d7-62a9b5af3d28');\n",
              "          const dataTable =\n",
              "            await google.colab.kernel.invokeFunction('convertToInteractive',\n",
              "                                                     [key], {});\n",
              "          if (!dataTable) return;\n",
              "\n",
              "          const docLinkHtml = 'Like what you see? Visit the ' +\n",
              "            '<a target=\"_blank\" href=https://colab.research.google.com/notebooks/data_table.ipynb>data table notebook</a>'\n",
              "            + ' to learn more about interactive tables.';\n",
              "          element.innerHTML = '';\n",
              "          dataTable['output_type'] = 'display_data';\n",
              "          await google.colab.output.renderOutput(dataTable, element);\n",
              "          const docLink = document.createElement('div');\n",
              "          docLink.innerHTML = docLinkHtml;\n",
              "          element.appendChild(docLink);\n",
              "        }\n",
              "      </script>\n",
              "    </div>\n",
              "  </div>\n",
              "  "
            ]
          },
          "metadata": {},
          "execution_count": 62
        }
      ]
    },
    {
      "cell_type": "code",
      "source": [
        "#@markdown ###  ✏️Save your train and test dataset as a csv file:\n",
        "path_to_save_train = \"/content/drive/MyDrive/MIMIC_IV/oxygen_dataset/train.csv\" #@param {type:\"string\"}\n",
        "path_to_save_test = \"/content/drive/MyDrive/MIMIC_IV/oxygen_dataset/test.csv\" #@param {type:\"string\"}\n",
        "\n",
        "\n",
        "import os\n",
        "import pandas as pd\n",
        "\n",
        "# Function to create the directory if it doesn't exist\n",
        "def create_directory_if_not_exists(path):\n",
        "    directory = os.path.dirname(path)\n",
        "    os.makedirs(directory, exist_ok=True)\n",
        "\n",
        "# Save function to be used for both train and test datasets\n",
        "def save_dataset(dataset, path_to_save):\n",
        "    create_directory_if_not_exists(path_to_save)\n",
        "    dataset.to_csv(path_to_save, index=False)\n",
        "\n",
        "# Save train dataset\n",
        "save_dataset(normalized_train, path_to_save_train)\n",
        "\n",
        "# Save test dataset\n",
        "save_dataset(normalized_test, path_to_save_test)\n"
      ],
      "metadata": {
        "colab": {
          "base_uri": "https://localhost:8080/"
        },
        "cellView": "form",
        "id": "YGU36rbxqJa4",
        "outputId": "1008704e-5dba-4301-bd46-0640e0381827"
      },
      "execution_count": null,
      "outputs": [
        {
          "output_type": "stream",
          "name": "stderr",
          "text": [
            "/usr/local/lib/python3.10/dist-packages/ipykernel/ipkernel.py:283: DeprecationWarning: `should_run_async` will not call `transform_cell` automatically in the future. Please pass the result to `transformed_cell` argument and any exception that happen during thetransform in `preprocessing_exc_tuple` in IPython 7.17 and above.\n",
            "  getpass.getpass = self._save_getpass\n"
          ]
        }
      ]
    },
    {
      "cell_type": "code",
      "source": [
        "normalized_train.to_csv(path_to_save_train, index=False)\n",
        "normalized_test.to_csv(path_to_save_test, index=False)"
      ],
      "metadata": {
        "id": "zXD403Pto7WX",
        "colab": {
          "base_uri": "https://localhost:8080/"
        },
        "outputId": "7ed9a30f-42d4-4401-9631-a4380369d49d"
      },
      "execution_count": null,
      "outputs": [
        {
          "output_type": "stream",
          "name": "stderr",
          "text": [
            "/usr/local/lib/python3.10/dist-packages/ipykernel/ipkernel.py:283: DeprecationWarning: `should_run_async` will not call `transform_cell` automatically in the future. Please pass the result to `transformed_cell` argument and any exception that happen during thetransform in `preprocessing_exc_tuple` in IPython 7.17 and above.\n",
            "  getpass.getpass = self._save_getpass\n"
          ]
        }
      ]
    },
    {
      "cell_type": "markdown",
      "source": [
        "# Thank you very much! \n",
        "\n",
        "From the MIT Critical Data team we wish you good luck 😀!!\n",
        "\n",
        "Your mentors:\n",
        "\n",
        "- David Restrepo: davidres@mit.edu\n",
        "- Adrien Carrel: a.carrel@hotmail.fr\n",
        "- Jack Gallifant: jack.gallifant@nhs.net"
      ],
      "metadata": {
        "id": "L2Lov1eLUtrw"
      }
    }
  ]
}