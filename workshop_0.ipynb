{
  "nbformat": 4,
  "nbformat_minor": 0,
  "metadata": {
    "colab": {
      "provenance": [],
      "include_colab_link": true
    },
    "kernelspec": {
      "name": "python3",
      "display_name": "Python 3"
    },
    "language_info": {
      "name": "python"
    }
  },
  "cells": [
    {
      "cell_type": "markdown",
      "metadata": {
        "id": "view-in-github",
        "colab_type": "text"
      },
      "source": [
        "<a href=\"https://colab.research.google.com/github/sebasmos/workshops/blob/main/workshop_0.ipynb\" target=\"_parent\"><img src=\"https://colab.research.google.com/assets/colab-badge.svg\" alt=\"Open In Colab\"/></a>"
      ]
    },
    {
      "cell_type": "markdown",
      "source": [
        "# MIT Critical Datathon 0️⃣ Preparatory Materials\n",
        "\n",
        "Please go through these materials before attending the Datathon.\n",
        "\n",
        "Your success in the Datathon will depend on this!\n",
        "\n"
      ],
      "metadata": {
        "id": "WHeL3UVYDhBg"
      }
    },
    {
      "cell_type": "markdown",
      "source": [
        "### Background\n",
        "\n"
      ],
      "metadata": {
        "id": "Gg8JaMlqzKG7"
      }
    },
    {
      "cell_type": "markdown",
      "source": [
        "​\n",
        "Pulse oximeters are medical devices used to assess peripheral arterial oxygen saturation ($SpO_2$) noninvasively. In contrast, the \"gold standard\" requires arterial blood to be drawn to measure the arterial oxygen saturation ($SaO_{2}$). Pulse oximeters currently on the market measure  in populations with darker skin tones with lower accuracy.\n",
        "\n",
        "Pulse oximetry inaccuracies can fail to detect episodes of hidden hypoxemia, i.e., low $SaO_{2}$ with high $SpO_2$. Hidden hypoxemias can result in less treatment and increased mortality. Yet flawed, pulse oximeters remain ubiquitously used because of their ease of use; debiasing the underlying algorithms could alleviate the downstream repercussions of hidden hypoxemia.\n",
        "\n",
        "​"
      ],
      "metadata": {
        "id": "m8s5Z1KCzOji"
      }
    },
    {
      "cell_type": "markdown",
      "source": [
        "### Structure"
      ],
      "metadata": {
        "id": "dcwJ4n05bDNh"
      }
    },
    {
      "cell_type": "markdown",
      "source": [
        "This is what the Datathon will look like in terms of covered topics and schedule:\n",
        "\n",
        "<br>\n",
        "\n",
        "\n",
        "| **Hours** | **Thursday (May 18th)** | **Hours** | **Friday (May 19th)** |\n",
        "|-------|------------------|-------|----------------|\n",
        "| 9:30 - 10:15  | ☕ Breakfast & Opening Session |  9:00 - 9:15 | ☕ Breakfast |\n",
        "| 10:15 - 11:45 | 🛠️ #1: EDA & Cohort Selection | 9:15 - 10:00 | 🚩 Checkpoint 3 |\n",
        "| 11:45 - 12:30 | 🚩 Checkpoint 1  | 10:00 - 12:30 | 🛠️ #4: Tackle the Biases! |\n",
        "| 12:30 - 13:00 | 🍔 Working Lunch | 12:30 - 13:00 | 🍕 Working Lunch |\n",
        "| 13:00 - 14:30 | 🛠️ #2: EDA & Feature Engineering | 13:00 - 14:00 | 🚩 Checkpoint 4 |\n",
        "| 14:30 - 15:00 | 🚩 Checkpoint 2 | 14:00 - 15:00 | 📝 Prep Slides |\n",
        "| 15:00 - 16:30 | 🛠️ #3: Modelling | 15:30 - 16:30 | 🎤 Presentations |\n",
        "| 17:30 - 20:00 | 🌐 Networking Event & Dinner | 16:30 - 17:00 | 👋 Closing Session |\n"
      ],
      "metadata": {
        "id": "0tQ7a5KsbEpK"
      }
    },
    {
      "cell_type": "markdown",
      "source": [
        "## 1. Literature Review\n",
        "\n"
      ],
      "metadata": {
        "id": "xAdeP8OgXUQR"
      }
    },
    {
      "cell_type": "markdown",
      "source": [
        "Here is some recent literature that motivates this Case Study.\n",
        "\n",
        "A comprehensive living literature compilation has been put together by [Open Oximetry](https://openoximetry.org/publications/). Explore it, if you are curious to learn more!\n",
        "\n",
        "However, these 5 papers below are our main recommendations.\n",
        "\n",
        "You have a summary below, but can access the full articles in the\n",
        "[Google Drive Folder](https://drive.google.com/drive/folders/1fey9LDUynWk2ZgVKeFc9B2tfnrlyiR7c?usp=share_link).\n",
        "\n",
        "If you are short on time, we recommend the first 2-3 papers as a must read, and the other ones are optional. "
      ],
      "metadata": {
        "id": "jVwBXCKAyrXA"
      }
    },
    {
      "cell_type": "markdown",
      "source": [
        "### 🗎 [Paper 1](https://drive.google.com/file/d/14IirFD9SnVvmiD4W3KMXYmc2eQVwcSlB/view?usp=share_link) (letter)\n",
        "**Racial Bias in Pulse Oximetry Measurement**\n",
        "\n",
        "\n",
        "\n",
        "*This study of 48,097 pair of measures from University of Michigan report nearly three times more occult hypoxemia in Black patients compared to White patients. However, not all Black patients with pulse oxymetry of 92-96% had occult hypoxemia, with the correction factor not straightforward.*\n",
        "\n",
        "Sjoding MW, Dickson RP, Iwashyna TJ, Gay SE, Valley TS. Racial Bias in Pulse Oximetry Measurement. N Engl J Med. 2020 Dec 17;383(25):2477-2478. doi: 10.1056/NEJMc2029240. Erratum in: N Engl J Med. 2021 Dec 23;385(26):2496. PMID: 33326721; PMCID: PMC7808260. https://www.nejm.org/doi/10.1056/NEJMc2029240"
      ],
      "metadata": {
        "id": "wtl2xfLTGBqY"
      }
    },
    {
      "cell_type": "markdown",
      "source": [
        "### 🗎 [Paper 2](https://drive.google.com/file/d/15H9rYmtFrHGE3BjqxpChZOQNgHLZsjs-/view?usp=share_link) (original research)\n",
        "**Analysis of Discrepancies Between Pulse Oximetry and Arterial Oxygen Saturation Measurements by Race and Ethnicity and Association With Organ Dysfunction and Mortality**\n",
        "\n",
        "*In this cross-sectional study of 5 databases with 87 971 patients,\n",
        "significant disparities in pulse oximetry accuracy across racial and ethnic subgroups (ie, Asian, Black, Hispanic, and White individuals) were found, with higher rates of hidden hypoxemia associated with mortality, future organ dysfunction, and abnormal laboratory test results.*\n",
        "\n",
        "Wong AI, Charpignon M, Kim H, et al. Analysis of Discrepancies Between Pulse Oximetry and Arterial Oxygen Saturation Measurements by Race and Ethnicity and Association With Organ Dysfunction and Mortality. JAMA Netw Open. 2021;4(11):e2131674. https://doi:10.1001/jamanetworkopen.2021.31674"
      ],
      "metadata": {
        "id": "XLEIDu6MtULj"
      }
    },
    {
      "cell_type": "markdown",
      "source": [
        "### 🗎 [Paper 3](https://drive.google.com/file/d/1JbfOuWENSHAzn5f6ztTZXwnZGkUfbiZZ/view?usp=share_link) (original research)\n",
        "**Assessment of Racial and Ethnic Differences in Oxygen Supplementation Among Patients in the Intensive Care Unit**\n",
        "\n",
        "*In this cohort study of 3069 patients in the intensive care unit, Asian, Black, and Hispanic patients had a higher adjusted time-weighted average pulse oximetry reading and were administered significantly less supplemental oxygen for a given average hemoglobin oxygen saturation compared with White patients.*\n",
        "\n",
        "Gottlieb ER, Ziegler J, Morley K, Rush B, Celi LA. Assessment of Racial and Ethnic Differences in Oxygen Supplementation Among Patients in the Intensive Care Unit. JAMA Intern Med. 2022;182(8):849–858. https://doi:10.1001/jamainternmed.2022.2587"
      ],
      "metadata": {
        "id": "863tUKmGYeTm"
      }
    },
    {
      "cell_type": "markdown",
      "source": [
        "### 🗎 [Paper 4](https://drive.google.com/file/d/1PUtDG5TWKvClljRHokx1fl60mzU7zCy5/view?usp=share_link) (review)\n",
        "\n",
        "**Racial Disparity in Oxygen Saturation Measurements by Pulse Oximetry**\n",
        "\n",
        "*In this article, we review available data regarding the accuracy of pulse oximeters for individuals with dark skin tones, as well as the clinical implications of device inaccuracy at both a patient and public health level. Moreover, we emphasize the urgent need to address the problem of pulse oximeter inaccuracy for individuals with dark skin tones and provide suggestions for the next steps to address the resulting racial health disparity.*\n",
        "\n",
        "Jamali, H., Castillo, L. T., Morgan, C. C., Coult, J., Muhammad, J. L., Osobamiro, O. O., Parsons, E. C., & Adamson, R. (2022). Racial Disparity in Oxygen Saturation Measurements by Pulse Oximetry: Evidence and Implications. Annals of the American Thoracic Society, 19(12), 1951–1964. https://doi.org/10.1513/AnnalsATS.202203-270CME\n",
        "\n"
      ],
      "metadata": {
        "id": "bd9sKUCDDv1I"
      }
    },
    {
      "cell_type": "markdown",
      "source": [
        "### 🗎 [Paper 5](https://drive.google.com/file/d/1EmAe4a1tQPnWifVOhST4jmCDeD9C1Hx6/view?usp=share_link) (letter)\n",
        "\n",
        "**Dynamic Errors in Pulse Oximetry Preclude Use of Correction Factor**\n",
        "\n",
        "*In “Racial Disparity in Oxygen Saturation Measurements by Pulse Oximetry: Evidence and Implications” [Paper 4 of this workshop] the authors raise the possibility of implementing a skin-tone correction factor to compensate for the overestimation of arterial oxygen saturation ($SaO_2$) by pulse oximeters ($SpO_2$) among individuals with darker skin. We wish to highlight more recent data that suggest this strategy would not rectify the error but rather cement the inequity imposed by current technology and worsen disparities by disproportionately harming patients of color.*\n",
        "\n",
        "(...) *More concerning, three-quarters of patients had bidirectional errors over time, such that pulse oximeters both under- and overestimated oxygen saturation for the same subject at different time points.*\n",
        "\n",
        "Fawzy, A., Valbuena, V. S. M., Chesley, C. F., Wu, T. D., & Iwashyna, T. J. (2023). Dynamic Errors in Pulse Oximetry Preclude Use of Correction Factor. Annals of the American Thoracic Society, 20(2), 338–339. https://doi.org/10.1513/AnnalsATS.202210-872LE"
      ],
      "metadata": {
        "id": "1ZHGFvOGFPsE"
      }
    },
    {
      "cell_type": "markdown",
      "source": [
        "## 2. Objective of the Datathon\n"
      ],
      "metadata": {
        "id": "X6Oy9OaWLQiE"
      }
    },
    {
      "cell_type": "markdown",
      "source": [
        "The worldwide utilization of Pulse Oximeters demands urgent action to prevent further downstream harm. While new devices are being designed, a new approach to recalibrate existing devices is necessary, with the goal of mitigating racial-ethnic based underperformance. To the best of our knowledge, this has not been done before.\n",
        "\n",
        "We aim to fill this gap by creating a correction model for $SpO_2$ using Machine Learning (ML) methods.\n",
        "\n",
        "**The hypothesis is that recalibration can be achieved by leveraging an ML model that is fed with $SpO_2$ measurements, alongside with patient demographics, physiological data, and specific\n",
        "treatment information.**"
      ],
      "metadata": {
        "id": "ADWDCj9OLY8A"
      }
    },
    {
      "cell_type": "markdown",
      "source": [
        "## 3. The Dataset"
      ],
      "metadata": {
        "id": "twZfU5mUXXzi"
      }
    },
    {
      "cell_type": "markdown",
      "source": [
        "## [MIT Critical Datathon 2023: a MIMIC-IV Derived Dataset for Pulse Oximetry Correction Models](https://drive.google.com/file/d/1lM1l_4CAY-RJtXA7Zolr0uIBaXqLsJ0e/view?usp=share_link)\n",
        "\n",
        "\n"
      ],
      "metadata": {
        "id": "T6fuNHaizAYo"
      }
    },
    {
      "cell_type": "markdown",
      "source": [
        "​\n",
        "This dataset supports the building of Pulse Oximetry Correction Models. Derived from MIMIC-IV v2.2, it includes 14,404 distinct patients admitted to the Intensive Care Unit (ICU) from 15,923 ICU stays. Paired  measurements are aligned with patient demographics, physiological data, and treatment information. There are 81,797  pairs in total, captured within 90 minutes, where each variable has a time delta relative to the  timestamp.\n",
        "\n",
        "​More info in the [PhysioNet Project Page](https://physionet.org) (not published yet!)"
      ],
      "metadata": {
        "id": "CT3HJ5ybNoQx"
      }
    },
    {
      "cell_type": "markdown",
      "source": [
        "*Johnson, A.E.W., Bulgarelli, L., Shen, L. et al. MIMIC-IV, a freely accessible electronic health record dataset. Sci Data 10, 1 (2023). https://doi.org/10.1038/s41597-022-01899-x*"
      ],
      "metadata": {
        "id": "ef7GzLb7RE_H"
      }
    },
    {
      "cell_type": "markdown",
      "source": [
        "## 4. Data Access"
      ],
      "metadata": {
        "id": "91gNJ-8l_8qD"
      }
    },
    {
      "cell_type": "markdown",
      "source": [
        "### Prerequisites\n",
        "\n",
        "The MIMIC datasets are access-controlled by [PhysioNet](https://physionet.org/).\n",
        "\n",
        "Follow the instructions in the bottom of the PhysioNet Dataset page to get access to the data. Overall, you must:\n",
        "- Be a credentialled PhysioNet user,\n",
        "- Complete the appropriate institutional research training (CITI training in human research subject protection and HIPAA regulations) and get it verified by PhysioNet,\n",
        "- Sign the Data Use Agreement\n"
      ],
      "metadata": {
        "id": "_aw39qp1RcRk"
      }
    },
    {
      "cell_type": "markdown",
      "source": [
        "**Useful Materials**\n",
        "- [MIMIC - Get Started Tutorial](https://mimic.mit.edu/docs/gettingstarted/)\n",
        "- [CITI Course Instructions](https://physionet.org/about/citi-course/#:~:text=In%20order%20to%20become%20a,subject%20protections%20and%20HIPAA%20regulations.)"
      ],
      "metadata": {
        "id": "i_iPttiVSKW3"
      }
    },
    {
      "cell_type": "markdown",
      "source": [
        "`You can load data through 3 options:`"
      ],
      "metadata": {
        "id": "_T8KMo8yOUDN"
      }
    },
    {
      "cell_type": "markdown",
      "source": [
        "### Option 1: Google Drive\n",
        "(if you are using Google Colab)"
      ],
      "metadata": {
        "id": "O_r1Jj2sObjX"
      }
    },
    {
      "cell_type": "markdown",
      "source": [
        "`Mount Google Drive to access your files:`"
      ],
      "metadata": {
        "id": "nUeaPhR2BDBT"
      }
    },
    {
      "cell_type": "code",
      "source": [
        "from google.colab import drive\n",
        "drive.mount('/content/drive')"
      ],
      "metadata": {
        "id": "46ZK9sl7Ujfm"
      },
      "execution_count": null,
      "outputs": []
    },
    {
      "cell_type": "markdown",
      "source": [
        "`After placing your CSV in your Google Drive, run:`"
      ],
      "metadata": {
        "id": "ktYlav6gVZan"
      }
    },
    {
      "cell_type": "code",
      "source": [
        "import pandas as pd\n",
        "data = pd.read_csv(\"your_drive_path_to_file.csv\")"
      ],
      "metadata": {
        "id": "cfhpO41OVfah"
      },
      "execution_count": null,
      "outputs": []
    },
    {
      "cell_type": "markdown",
      "source": [
        "`Did it work? Inspect the Data:`"
      ],
      "metadata": {
        "id": "MYsGkDeWXHIP"
      }
    },
    {
      "cell_type": "code",
      "source": [
        "# First 5 rows\n",
        "data.head()"
      ],
      "metadata": {
        "id": "ZW0l3LPnXHIP"
      },
      "execution_count": null,
      "outputs": []
    },
    {
      "cell_type": "markdown",
      "source": [
        "### Option 2: In your Local Machine\n",
        "(if you are not using Google Colab)"
      ],
      "metadata": {
        "id": "0zZqB9TQOOiV"
      }
    },
    {
      "cell_type": "markdown",
      "source": [
        "`Run:`"
      ],
      "metadata": {
        "id": "7g5kCe16BNMO"
      }
    },
    {
      "cell_type": "code",
      "source": [
        "import pandas as pd\n",
        "data = pd.read_csv(\"your_local_path_to_file.csv\")"
      ],
      "metadata": {
        "id": "ynQMEH2OVnHy"
      },
      "execution_count": null,
      "outputs": []
    },
    {
      "cell_type": "markdown",
      "source": [
        "`Did it work? Inspect the Data:`"
      ],
      "metadata": {
        "id": "ei8IyguXe9iz"
      }
    },
    {
      "cell_type": "code",
      "source": [
        "# First 5 rows\n",
        "data.head()"
      ],
      "metadata": {
        "id": "I_9Jr8jFerEg"
      },
      "execution_count": null,
      "outputs": []
    },
    {
      "cell_type": "markdown",
      "source": [
        "### Option 3: Via Google Colab & BigQuery (Bonus)\n",
        "(cloud only: trickier to make it work, but can make the pipeline easier in the long-run)"
      ],
      "metadata": {
        "id": "EN_1-rG2SdQA"
      }
    },
    {
      "cell_type": "markdown",
      "source": [
        "Prerequisites\n",
        "\n",
        "**On the PhysioNet side**\n",
        "\n",
        "1. Ensure the email you use to access Google Cloud is [selected](https://physionet.org/settings/cloud/) in your PhysioNet profile,\n",
        "2. Request access to the dataset's Google Cloud bucket"
      ],
      "metadata": {
        "id": "wFdhzLJ8VGQc"
      }
    },
    {
      "cell_type": "markdown",
      "source": [
        "**On the Google Cloud side**\n",
        "\n",
        "1.   Use the [Cloud Resource Manager](https://console.cloud.google.com/cloud-resource-manager) to Create a Cloud Platform project if you do not already have one.\n",
        "2.   [Enable billing](https://support.google.com/cloud/answer/6293499#enable-billing) for the project.\n",
        "3.   [Enable BigQuery](https://console.cloud.google.com/flows/enableapi?apiid=bigquery) APIs for the project.\n"
      ],
      "metadata": {
        "id": "lisvXch0VBOD"
      }
    },
    {
      "cell_type": "markdown",
      "source": [
        "`Get Authenticated in Google:`"
      ],
      "metadata": {
        "id": "dyEHCNLYeMf6"
      }
    },
    {
      "cell_type": "code",
      "source": [
        "import pandas as pd\n",
        "from google.colab import auth\n",
        "auth.authenticate_user()\n",
        "print('Authenticated!')"
      ],
      "metadata": {
        "id": "kk5oroBjUa5b"
      },
      "execution_count": null,
      "outputs": []
    },
    {
      "cell_type": "markdown",
      "source": [
        "\n",
        "\n",
        "`Place your PROJECT_ID below:`\n",
        "\n"
      ],
      "metadata": {
        "id": "JXOFPIXed8y_"
      }
    },
    {
      "cell_type": "code",
      "source": [
        "PROJECT_ID = 'your-project-id'"
      ],
      "metadata": {
        "id": "bf40T_QqXQyU"
      },
      "execution_count": null,
      "outputs": []
    },
    {
      "cell_type": "markdown",
      "source": [
        "`Run:`"
      ],
      "metadata": {
        "id": "-0r3bEJcA9vJ"
      }
    },
    {
      "cell_type": "code",
      "source": [
        "from google.cloud import bigquery\n",
        "\n",
        "# Construct a BigQuery client object\n",
        "client = bigquery.Client(project=PROJECT_ID)\n",
        "\n",
        "# Get the whole table with a SQL query\n",
        "# replace the \"dataset-name\" and \"table-name\" by the real ones\n",
        "sql_query = ('''SELECT * FROM physionet-data.dataset-name.table-name''')\n",
        "\n",
        "# Fetch the data, and put it in a Pandas DataFrame\n",
        "data = client.query(sql_query).to_dataframe()"
      ],
      "metadata": {
        "id": "w18oIDdsdXo5"
      },
      "execution_count": null,
      "outputs": []
    },
    {
      "cell_type": "markdown",
      "source": [
        "`Did it work? Inspect the Data:`"
      ],
      "metadata": {
        "id": "oyjOBZrkX4Ga"
      }
    },
    {
      "cell_type": "code",
      "source": [
        "# First 5 rows\n",
        "data.head()"
      ],
      "metadata": {
        "id": "FflXknCGX4Gh"
      },
      "execution_count": null,
      "outputs": []
    }
  ]
}
