{
  "cells": [
    {
      "cell_type": "markdown",
      "metadata": {
        "id": "2chWXcuEuQN6"
      },
      "source": [
        "<a target=\"_blank\" href=\"https://colab.research.google.com/github/CriticalDatathon/workshops/blob/main/workshop_3.ipynb\">\n",
        "  <img src=\"https://colab.research.google.com/assets/colab-badge.svg\" alt=\"Open In Colab\"/>\n",
        "</a>\n",
        "\n",
        "# Workshop 3: Let's get our model!"
      ]
    },
    {
      "cell_type": "markdown",
      "metadata": {
        "id": "0SjvtFIkMlAU"
      },
      "source": [
        "**🎨 Team __**\n",
        "\n",
        "`Add your team number above`"
      ]
    },
    {
      "cell_type": "markdown",
      "metadata": {
        "id": "0RRjXa8S105V"
      },
      "source": [
        "**👥 Authors**\n",
        "\n",
        "`Add your names here (alphabetically)`\n"
      ]
    },
    {
      "cell_type": "markdown",
      "metadata": {
        "id": "hfGt0Z9tVWTd"
      },
      "source": [
        "* \n",
        "*\n",
        "*"
      ]
    },
    {
      "cell_type": "markdown",
      "metadata": {
        "id": "ejkhuIfJDhBn"
      },
      "source": [
        "**🎯 Goals of this Workshop**\n",
        "1. Understand the best way to split the data into train and test\n",
        "2. Define the performance metrics that you are going to use in the evaluation of your model \n",
        "3. Develop a machine learning (ML) model to either:\n",
        "  - predict $SaO_2$ values -> regression\n",
        "  - predict the gap between $SaO_2$ and $SpO_2$ -> regression\n",
        "  - detect cases of Hidden Hypoxemia (HH) -> classification\n",
        "\n",
        "  The developed model can either be linear or non-linear.\n",
        "4. Implement grid-search to further optimize parameters.\n",
        "5. Assess what were the most relevant features for the regression/classification.\n"
      ]
    },
    {
      "cell_type": "markdown",
      "metadata": {
        "id": "ShMndyJ8DKac"
      },
      "source": [
        "**✏️ Expected Deliverables**\n",
        " - Developed models with the performance metrics and feature importance properly reported.\n",
        "\n"
      ]
    },
    {
      "cell_type": "markdown",
      "metadata": {
        "id": "4eZWuEIMDL5u"
      },
      "source": [
        "**❗ Highlighted Pitfall(s)**\n",
        "- Outcome leakage\n",
        "- Suboptimal metrics for model evaluation\n",
        "- No improvement compared to the presented baseline / Models not learning\n",
        "- Overly complex models"
      ]
    },
    {
      "cell_type": "markdown",
      "metadata": {
        "id": "9cWtq_mGxac7"
      },
      "source": [
        "## Table of Contents\n",
        "\n",
        "1. Library imports\n",
        "2. Implement an ML pipeline with grid-search parameter tunning\n",
        "3. Model Evaluation (using meaningful metrics and assessing feature importance)"
      ]
    },
    {
      "cell_type": "markdown",
      "metadata": {
        "id": "1_aONCYOxwTe"
      },
      "source": [
        "## 1. Setup Environment"
      ]
    },
    {
      "cell_type": "markdown",
      "metadata": {
        "id": "GFhwYryFOVVT"
      },
      "source": [
        "You can add more libraries if you are familiar with them for your own model. But use these packages for the first part only."
      ]
    },
    {
      "cell_type": "code",
      "execution_count": null,
      "metadata": {
        "colab": {
          "base_uri": "https://localhost:8080/"
        },
        "id": "pKnijQhgy-os",
        "outputId": "bd2a14e8-e9d3-4a11-aa7e-320321dd723a"
      },
      "outputs": [
        {
          "name": "stdout",
          "output_type": "stream",
          "text": [
            "Mounted at /content/drive\n"
          ]
        }
      ],
      "source": [
        "# Mount Google Drive to access files\n",
        "from google.colab import drive\n",
        "drive.mount('/content/drive')"
      ]
    },
    {
      "cell_type": "code",
      "execution_count": null,
      "metadata": {
        "colab": {
          "base_uri": "https://localhost:8080/"
        },
        "id": "HbnBPPKh7mnL",
        "outputId": "14b50b0e-e5ea-4fde-f7df-7aa32fa83dbd"
      },
      "outputs": [
        {
          "name": "stdout",
          "output_type": "stream",
          "text": [
            "Looking in indexes: https://pypi.org/simple, https://us-python.pkg.dev/colab-wheels/public/simple/\n",
            "Collecting shap\n",
            "  Downloading shap-0.41.0-cp310-cp310-manylinux_2_12_x86_64.manylinux2010_x86_64.whl (572 kB)\n",
            "\u001b[2K     \u001b[90m━━━━━━━━━━━━━━━━━━━━━━━━━━━━━━━━━━━━━━\u001b[0m \u001b[32m572.6/572.6 kB\u001b[0m \u001b[31m33.8 MB/s\u001b[0m eta \u001b[36m0:00:00\u001b[0m\n",
            "\u001b[?25hRequirement already satisfied: numpy in /usr/local/lib/python3.10/dist-packages (from shap) (1.22.4)\n",
            "Requirement already satisfied: scipy in /usr/local/lib/python3.10/dist-packages (from shap) (1.10.1)\n",
            "Requirement already satisfied: scikit-learn in /usr/local/lib/python3.10/dist-packages (from shap) (1.2.2)\n",
            "Requirement already satisfied: pandas in /usr/local/lib/python3.10/dist-packages (from shap) (1.5.3)\n",
            "Requirement already satisfied: tqdm>4.25.0 in /usr/local/lib/python3.10/dist-packages (from shap) (4.65.0)\n",
            "Requirement already satisfied: packaging>20.9 in /usr/local/lib/python3.10/dist-packages (from shap) (23.1)\n",
            "Collecting slicer==0.0.7 (from shap)\n",
            "  Downloading slicer-0.0.7-py3-none-any.whl (14 kB)\n",
            "Requirement already satisfied: numba in /usr/local/lib/python3.10/dist-packages (from shap) (0.56.4)\n",
            "Requirement already satisfied: cloudpickle in /usr/local/lib/python3.10/dist-packages (from shap) (2.2.1)\n",
            "Requirement already satisfied: llvmlite<0.40,>=0.39.0dev0 in /usr/local/lib/python3.10/dist-packages (from numba->shap) (0.39.1)\n",
            "Requirement already satisfied: setuptools in /usr/local/lib/python3.10/dist-packages (from numba->shap) (67.7.2)\n",
            "Requirement already satisfied: python-dateutil>=2.8.1 in /usr/local/lib/python3.10/dist-packages (from pandas->shap) (2.8.2)\n",
            "Requirement already satisfied: pytz>=2020.1 in /usr/local/lib/python3.10/dist-packages (from pandas->shap) (2022.7.1)\n",
            "Requirement already satisfied: joblib>=1.1.1 in /usr/local/lib/python3.10/dist-packages (from scikit-learn->shap) (1.2.0)\n",
            "Requirement already satisfied: threadpoolctl>=2.0.0 in /usr/local/lib/python3.10/dist-packages (from scikit-learn->shap) (3.1.0)\n",
            "Requirement already satisfied: six>=1.5 in /usr/local/lib/python3.10/dist-packages (from python-dateutil>=2.8.1->pandas->shap) (1.16.0)\n",
            "Installing collected packages: slicer, shap\n",
            "Successfully installed shap-0.41.0 slicer-0.0.7\n"
          ]
        }
      ],
      "source": [
        "!pip install shap"
      ]
    },
    {
      "cell_type": "code",
      "execution_count": null,
      "metadata": {
        "colab": {
          "base_uri": "https://localhost:8080/"
        },
        "id": "TXG-Ekog8m46",
        "outputId": "7419a1a7-cb8a-4380-cbcc-ff94822b1006"
      },
      "outputs": [
        {
          "name": "stdout",
          "output_type": "stream",
          "text": [
            "Looking in indexes: https://pypi.org/simple, https://us-python.pkg.dev/colab-wheels/public/simple/\n",
            "Requirement already satisfied: yellowbrick in /usr/local/lib/python3.10/dist-packages (1.5)\n",
            "Requirement already satisfied: matplotlib!=3.0.0,>=2.0.2 in /usr/local/lib/python3.10/dist-packages (from yellowbrick) (3.7.1)\n",
            "Requirement already satisfied: scipy>=1.0.0 in /usr/local/lib/python3.10/dist-packages (from yellowbrick) (1.10.1)\n",
            "Requirement already satisfied: scikit-learn>=1.0.0 in /usr/local/lib/python3.10/dist-packages (from yellowbrick) (1.2.2)\n",
            "Requirement already satisfied: numpy>=1.16.0 in /usr/local/lib/python3.10/dist-packages (from yellowbrick) (1.22.4)\n",
            "Requirement already satisfied: cycler>=0.10.0 in /usr/local/lib/python3.10/dist-packages (from yellowbrick) (0.11.0)\n",
            "Requirement already satisfied: contourpy>=1.0.1 in /usr/local/lib/python3.10/dist-packages (from matplotlib!=3.0.0,>=2.0.2->yellowbrick) (1.0.7)\n",
            "Requirement already satisfied: fonttools>=4.22.0 in /usr/local/lib/python3.10/dist-packages (from matplotlib!=3.0.0,>=2.0.2->yellowbrick) (4.39.3)\n",
            "Requirement already satisfied: kiwisolver>=1.0.1 in /usr/local/lib/python3.10/dist-packages (from matplotlib!=3.0.0,>=2.0.2->yellowbrick) (1.4.4)\n",
            "Requirement already satisfied: packaging>=20.0 in /usr/local/lib/python3.10/dist-packages (from matplotlib!=3.0.0,>=2.0.2->yellowbrick) (23.1)\n",
            "Requirement already satisfied: pillow>=6.2.0 in /usr/local/lib/python3.10/dist-packages (from matplotlib!=3.0.0,>=2.0.2->yellowbrick) (8.4.0)\n",
            "Requirement already satisfied: pyparsing>=2.3.1 in /usr/local/lib/python3.10/dist-packages (from matplotlib!=3.0.0,>=2.0.2->yellowbrick) (3.0.9)\n",
            "Requirement already satisfied: python-dateutil>=2.7 in /usr/local/lib/python3.10/dist-packages (from matplotlib!=3.0.0,>=2.0.2->yellowbrick) (2.8.2)\n",
            "Requirement already satisfied: joblib>=1.1.1 in /usr/local/lib/python3.10/dist-packages (from scikit-learn>=1.0.0->yellowbrick) (1.2.0)\n",
            "Requirement already satisfied: threadpoolctl>=2.0.0 in /usr/local/lib/python3.10/dist-packages (from scikit-learn>=1.0.0->yellowbrick) (3.1.0)\n",
            "Requirement already satisfied: six>=1.5 in /usr/local/lib/python3.10/dist-packages (from python-dateutil>=2.7->matplotlib!=3.0.0,>=2.0.2->yellowbrick) (1.16.0)\n"
          ]
        }
      ],
      "source": [
        "!pip install yellowbrick"
      ]
    },
    {
      "cell_type": "code",
      "execution_count": null,
      "metadata": {
        "id": "UvY3nMXkEAmc"
      },
      "outputs": [],
      "source": [
        "# Data reading in Dataframe format and data preprocessing\n",
        "import pandas as pd\n",
        "pd.set_option(\"display.max_columns\", 160)\n",
        "import numpy as np\n",
        "\n",
        "# Data Visualization\n",
        "import matplotlib.pyplot as plt\n",
        "import seaborn as sns\n",
        "\n",
        "# Dataset Creation\n",
        "from sklearn.model_selection import train_test_split, GroupShuffleSplit, GridSearchCV\n",
        "\n",
        "# Dataset Processing\n",
        "from sklearn import datasets, linear_model, metrics\n",
        "from sklearn.compose import ColumnTransformer\n",
        "from sklearn.impute import SimpleImputer\n",
        "from sklearn.preprocessing import StandardScaler, OneHotEncoder\n",
        "\n",
        "# Model Development\n",
        "from sklearn.pipeline import make_pipeline, Pipeline\n",
        "from sklearn.linear_model import Ridge \n",
        "from sklearn.svm import SVC\n",
        "\n",
        "# Model Evaluation\n",
        "from sklearn.metrics import r2_score, confusion_matrix, ConfusionMatrixDisplay\n",
        "from yellowbrick.classifier import ClassificationReport, ClassPredictionError\n",
        "from yellowbrick.regressor import ResidualsPlot, PredictionError\n",
        "\n",
        "# Feature Importance\n",
        "import shap\n"
      ]
    },
    {
      "cell_type": "markdown",
      "metadata": {
        "id": "4UmjoE6gx6cz"
      },
      "source": [
        "## 2. Split dataset into train and test\n",
        "\n",
        "Before any data standardization, it is crucial to split the data into two groups, training and testing (so that there is no data leakage). To start, we will put 70% of our data into our training set, and 30% of our data into the testing set. Feel free to try other train/test splits, such as 75%/25%, or 80%/20%.\n",
        "\n",
        "You might also want to ensure that minority groups are represented in both train and test sets. For that, you can use more specific train-test-split methods, read more about it [here](https://scikit-learn.org/stable/modules/generated/sklearn.model_selection.train_test_split.html#sklearn.model_selection.train_test_split). Or split according to the time someone entered the hospital (important if policies change)."
      ]
    },
    {
      "cell_type": "markdown",
      "metadata": {
        "id": "Lr3x1ZU-IoPW"
      },
      "source": [
        "###### ✏️ Set your path to the dataset "
      ]
    },
    {
      "cell_type": "code",
      "execution_count": null,
      "metadata": {
        "colab": {
          "base_uri": "https://localhost:8080/",
          "height": 175
        },
        "id": "JTJiwwROzFb8",
        "outputId": "6267548e-549c-4525-e782-305ef0821262"
      },
      "outputs": [
        {
          "data": {
            "text/html": [
              "\n",
              "  <div id=\"df-aa77142c-cc6b-4bec-be52-4574b6456fe6\">\n",
              "    <div class=\"colab-df-container\">\n",
              "      <div>\n",
              "<style scoped>\n",
              "    .dataframe tbody tr th:only-of-type {\n",
              "        vertical-align: middle;\n",
              "    }\n",
              "\n",
              "    .dataframe tbody tr th {\n",
              "        vertical-align: top;\n",
              "    }\n",
              "\n",
              "    .dataframe thead th {\n",
              "        text-align: right;\n",
              "    }\n",
              "</style>\n",
              "<table border=\"1\" class=\"dataframe\">\n",
              "  <thead>\n",
              "    <tr style=\"text-align: right;\">\n",
              "      <th></th>\n",
              "      <th>norepinephrine_equivalent_dose</th>\n",
              "      <th>invasive_vent</th>\n",
              "      <th>albumin</th>\n",
              "      <th>mchc</th>\n",
              "      <th>los_hospital</th>\n",
              "      <th>pt</th>\n",
              "      <th>rrt</th>\n",
              "      <th>ph</th>\n",
              "      <th>delta_ld_ldh</th>\n",
              "      <th>mortality_in</th>\n",
              "      <th>bun</th>\n",
              "      <th>SpO2</th>\n",
              "      <th>SOFA_admission</th>\n",
              "      <th>mcv</th>\n",
              "      <th>los_icu</th>\n",
              "      <th>delta_vent_start</th>\n",
              "      <th>delta_sofa_liver</th>\n",
              "      <th>FiO2</th>\n",
              "      <th>aniongap</th>\n",
              "      <th>glucose_lab</th>\n",
              "      <th>sofa_resp</th>\n",
              "      <th>anchor_age</th>\n",
              "      <th>CCI</th>\n",
              "      <th>chloride</th>\n",
              "      <th>ld_ldh</th>\n",
              "      <th>hidden_hypoxemia</th>\n",
              "      <th>language</th>\n",
              "      <th>SaO2</th>\n",
              "      <th>gender</th>\n",
              "      <th>lactate</th>\n",
              "      <th>delta_SpO2</th>\n",
              "      <th>rdw</th>\n",
              "      <th>BMI</th>\n",
              "      <th>HFNC</th>\n",
              "      <th>InvasiveVent</th>\n",
              "      <th>NonInvasiveVent</th>\n",
              "      <th>None_ventilation</th>\n",
              "      <th>SupplementalOxygen</th>\n",
              "      <th>Tracheostomy</th>\n",
              "      <th>Asian</th>\n",
              "      <th>Black</th>\n",
              "      <th>Hispanic</th>\n",
              "      <th>Other_race_group</th>\n",
              "      <th>White</th>\n",
              "      <th>Medicaid</th>\n",
              "      <th>Medicare</th>\n",
              "      <th>Other</th>\n",
              "      <th>los_icu_dead</th>\n",
              "      <th>los_icu_surv</th>\n",
              "    </tr>\n",
              "  </thead>\n",
              "  <tbody>\n",
              "    <tr>\n",
              "      <th>0</th>\n",
              "      <td>0.000000</td>\n",
              "      <td>1.0</td>\n",
              "      <td>0.610169</td>\n",
              "      <td>0.875312</td>\n",
              "      <td>0.022727</td>\n",
              "      <td>0.075333</td>\n",
              "      <td>0.0</td>\n",
              "      <td>0.960682</td>\n",
              "      <td>0.791722</td>\n",
              "      <td>0.0</td>\n",
              "      <td>0.069264</td>\n",
              "      <td>0.971429</td>\n",
              "      <td>0.190476</td>\n",
              "      <td>0.757812</td>\n",
              "      <td>0.011222</td>\n",
              "      <td>0.998385</td>\n",
              "      <td>0.000000</td>\n",
              "      <td>0.5</td>\n",
              "      <td>0.24</td>\n",
              "      <td>0.044505</td>\n",
              "      <td>0.4</td>\n",
              "      <td>0.479452</td>\n",
              "      <td>0.368421</td>\n",
              "      <td>0.801471</td>\n",
              "      <td>0.003871</td>\n",
              "      <td>0.0</td>\n",
              "      <td>1.0</td>\n",
              "      <td>0.971429</td>\n",
              "      <td>1.0</td>\n",
              "      <td>0.108333</td>\n",
              "      <td>1.0</td>\n",
              "      <td>0.366947</td>\n",
              "      <td>0.399722</td>\n",
              "      <td>0.0</td>\n",
              "      <td>1.0</td>\n",
              "      <td>0.0</td>\n",
              "      <td>0.0</td>\n",
              "      <td>0.0</td>\n",
              "      <td>0.0</td>\n",
              "      <td>0.0</td>\n",
              "      <td>0.0</td>\n",
              "      <td>0.0</td>\n",
              "      <td>1.0</td>\n",
              "      <td>0.0</td>\n",
              "      <td>0.0</td>\n",
              "      <td>1.0</td>\n",
              "      <td>0.0</td>\n",
              "      <td>0.0</td>\n",
              "      <td>0.014170</td>\n",
              "    </tr>\n",
              "    <tr>\n",
              "      <th>1</th>\n",
              "      <td>0.004503</td>\n",
              "      <td>1.0</td>\n",
              "      <td>0.355932</td>\n",
              "      <td>0.775561</td>\n",
              "      <td>0.077273</td>\n",
              "      <td>0.070000</td>\n",
              "      <td>0.0</td>\n",
              "      <td>0.967235</td>\n",
              "      <td>0.507584</td>\n",
              "      <td>0.0</td>\n",
              "      <td>0.134199</td>\n",
              "      <td>1.000000</td>\n",
              "      <td>0.476190</td>\n",
              "      <td>0.757812</td>\n",
              "      <td>0.066460</td>\n",
              "      <td>0.996245</td>\n",
              "      <td>0.353138</td>\n",
              "      <td>0.4</td>\n",
              "      <td>0.20</td>\n",
              "      <td>0.074024</td>\n",
              "      <td>0.6</td>\n",
              "      <td>0.849315</td>\n",
              "      <td>0.315789</td>\n",
              "      <td>0.816176</td>\n",
              "      <td>0.007491</td>\n",
              "      <td>0.0</td>\n",
              "      <td>1.0</td>\n",
              "      <td>0.914286</td>\n",
              "      <td>1.0</td>\n",
              "      <td>0.083333</td>\n",
              "      <td>1.0</td>\n",
              "      <td>0.400560</td>\n",
              "      <td>0.000000</td>\n",
              "      <td>0.0</td>\n",
              "      <td>1.0</td>\n",
              "      <td>0.0</td>\n",
              "      <td>0.0</td>\n",
              "      <td>0.0</td>\n",
              "      <td>0.0</td>\n",
              "      <td>0.0</td>\n",
              "      <td>0.0</td>\n",
              "      <td>0.0</td>\n",
              "      <td>0.0</td>\n",
              "      <td>1.0</td>\n",
              "      <td>0.0</td>\n",
              "      <td>1.0</td>\n",
              "      <td>0.0</td>\n",
              "      <td>0.0</td>\n",
              "      <td>0.076889</td>\n",
              "    </tr>\n",
              "  </tbody>\n",
              "</table>\n",
              "</div>\n",
              "      <button class=\"colab-df-convert\" onclick=\"convertToInteractive('df-aa77142c-cc6b-4bec-be52-4574b6456fe6')\"\n",
              "              title=\"Convert this dataframe to an interactive table.\"\n",
              "              style=\"display:none;\">\n",
              "        \n",
              "  <svg xmlns=\"http://www.w3.org/2000/svg\" height=\"24px\"viewBox=\"0 0 24 24\"\n",
              "       width=\"24px\">\n",
              "    <path d=\"M0 0h24v24H0V0z\" fill=\"none\"/>\n",
              "    <path d=\"M18.56 5.44l.94 2.06.94-2.06 2.06-.94-2.06-.94-.94-2.06-.94 2.06-2.06.94zm-11 1L8.5 8.5l.94-2.06 2.06-.94-2.06-.94L8.5 2.5l-.94 2.06-2.06.94zm10 10l.94 2.06.94-2.06 2.06-.94-2.06-.94-.94-2.06-.94 2.06-2.06.94z\"/><path d=\"M17.41 7.96l-1.37-1.37c-.4-.4-.92-.59-1.43-.59-.52 0-1.04.2-1.43.59L10.3 9.45l-7.72 7.72c-.78.78-.78 2.05 0 2.83L4 21.41c.39.39.9.59 1.41.59.51 0 1.02-.2 1.41-.59l7.78-7.78 2.81-2.81c.8-.78.8-2.07 0-2.86zM5.41 20L4 18.59l7.72-7.72 1.47 1.35L5.41 20z\"/>\n",
              "  </svg>\n",
              "      </button>\n",
              "      \n",
              "  <style>\n",
              "    .colab-df-container {\n",
              "      display:flex;\n",
              "      flex-wrap:wrap;\n",
              "      gap: 12px;\n",
              "    }\n",
              "\n",
              "    .colab-df-convert {\n",
              "      background-color: #E8F0FE;\n",
              "      border: none;\n",
              "      border-radius: 50%;\n",
              "      cursor: pointer;\n",
              "      display: none;\n",
              "      fill: #1967D2;\n",
              "      height: 32px;\n",
              "      padding: 0 0 0 0;\n",
              "      width: 32px;\n",
              "    }\n",
              "\n",
              "    .colab-df-convert:hover {\n",
              "      background-color: #E2EBFA;\n",
              "      box-shadow: 0px 1px 2px rgba(60, 64, 67, 0.3), 0px 1px 3px 1px rgba(60, 64, 67, 0.15);\n",
              "      fill: #174EA6;\n",
              "    }\n",
              "\n",
              "    [theme=dark] .colab-df-convert {\n",
              "      background-color: #3B4455;\n",
              "      fill: #D2E3FC;\n",
              "    }\n",
              "\n",
              "    [theme=dark] .colab-df-convert:hover {\n",
              "      background-color: #434B5C;\n",
              "      box-shadow: 0px 1px 3px 1px rgba(0, 0, 0, 0.15);\n",
              "      filter: drop-shadow(0px 1px 2px rgba(0, 0, 0, 0.3));\n",
              "      fill: #FFFFFF;\n",
              "    }\n",
              "  </style>\n",
              "\n",
              "      <script>\n",
              "        const buttonEl =\n",
              "          document.querySelector('#df-aa77142c-cc6b-4bec-be52-4574b6456fe6 button.colab-df-convert');\n",
              "        buttonEl.style.display =\n",
              "          google.colab.kernel.accessAllowed ? 'block' : 'none';\n",
              "\n",
              "        async function convertToInteractive(key) {\n",
              "          const element = document.querySelector('#df-aa77142c-cc6b-4bec-be52-4574b6456fe6');\n",
              "          const dataTable =\n",
              "            await google.colab.kernel.invokeFunction('convertToInteractive',\n",
              "                                                     [key], {});\n",
              "          if (!dataTable) return;\n",
              "\n",
              "          const docLinkHtml = 'Like what you see? Visit the ' +\n",
              "            '<a target=\"_blank\" href=https://colab.research.google.com/notebooks/data_table.ipynb>data table notebook</a>'\n",
              "            + ' to learn more about interactive tables.';\n",
              "          element.innerHTML = '';\n",
              "          dataTable['output_type'] = 'display_data';\n",
              "          await google.colab.output.renderOutput(dataTable, element);\n",
              "          const docLink = document.createElement('div');\n",
              "          docLink.innerHTML = docLinkHtml;\n",
              "          element.appendChild(docLink);\n",
              "        }\n",
              "      </script>\n",
              "    </div>\n",
              "  </div>\n",
              "  "
            ],
            "text/plain": [
              "   norepinephrine_equivalent_dose  invasive_vent   albumin      mchc  \\\n",
              "0                        0.000000            1.0  0.610169  0.875312   \n",
              "1                        0.004503            1.0  0.355932  0.775561   \n",
              "\n",
              "   los_hospital        pt  rrt        ph  delta_ld_ldh  mortality_in  \\\n",
              "0      0.022727  0.075333  0.0  0.960682      0.791722           0.0   \n",
              "1      0.077273  0.070000  0.0  0.967235      0.507584           0.0   \n",
              "\n",
              "        bun      SpO2  SOFA_admission       mcv   los_icu  delta_vent_start  \\\n",
              "0  0.069264  0.971429        0.190476  0.757812  0.011222          0.998385   \n",
              "1  0.134199  1.000000        0.476190  0.757812  0.066460          0.996245   \n",
              "\n",
              "   delta_sofa_liver  FiO2  aniongap  glucose_lab  sofa_resp  anchor_age  \\\n",
              "0          0.000000   0.5      0.24     0.044505        0.4    0.479452   \n",
              "1          0.353138   0.4      0.20     0.074024        0.6    0.849315   \n",
              "\n",
              "        CCI  chloride    ld_ldh  hidden_hypoxemia  language      SaO2  gender  \\\n",
              "0  0.368421  0.801471  0.003871               0.0       1.0  0.971429     1.0   \n",
              "1  0.315789  0.816176  0.007491               0.0       1.0  0.914286     1.0   \n",
              "\n",
              "    lactate  delta_SpO2       rdw       BMI  HFNC  InvasiveVent  \\\n",
              "0  0.108333         1.0  0.366947  0.399722   0.0           1.0   \n",
              "1  0.083333         1.0  0.400560  0.000000   0.0           1.0   \n",
              "\n",
              "   NonInvasiveVent  None_ventilation  SupplementalOxygen  Tracheostomy  Asian  \\\n",
              "0              0.0               0.0                 0.0           0.0    0.0   \n",
              "1              0.0               0.0                 0.0           0.0    0.0   \n",
              "\n",
              "   Black  Hispanic  Other_race_group  White  Medicaid  Medicare  Other  \\\n",
              "0    0.0       0.0               1.0    0.0       0.0       1.0    0.0   \n",
              "1    0.0       0.0               0.0    1.0       0.0       1.0    0.0   \n",
              "\n",
              "   los_icu_dead  los_icu_surv  \n",
              "0           0.0      0.014170  \n",
              "1           0.0      0.076889  "
            ]
          },
          "execution_count": 8,
          "metadata": {},
          "output_type": "execute_result"
        }
      ],
      "source": [
        "df_train = pd.read_csv('/content/drive/MyDrive/train.csv')\n",
        "df_test = pd.read_csv('/content/drive/MyDrive/test.csv')\n",
        "df_train.head(2)"
      ]
    },
    {
      "cell_type": "markdown",
      "metadata": {
        "id": "tpbCbDNtI0wy"
      },
      "source": [
        "###### ✏️ Split your labels from the remaining dataset"
      ]
    },
    {
      "cell_type": "code",
      "execution_count": null,
      "metadata": {
        "id": "8q5_Rc4dzncN"
      },
      "outputs": [],
      "source": [
        "label_cols=['hidden_hypoxemia', 'SaO2']\n",
        "\n",
        "y_train = df_train[label_cols]\n",
        "X_train = df_train.drop(columns=label_cols)\n",
        "\n",
        "y_test = df_test[label_cols]\n",
        "X_test = df_test.drop(columns=label_cols)"
      ]
    },
    {
      "cell_type": "markdown",
      "metadata": {
        "id": "vRA4tjY-3MQg"
      },
      "source": [
        "### Get label vectors for both possibilities: regression and classification\n",
        "\n",
        "If you want to use regression or classification, the labels used to train the model will be different. In the case of regression, you will have a numerical variables with SaO2 values, whereas in classification you need to define classes for hidden hypoxemia."
      ]
    },
    {
      "cell_type": "code",
      "execution_count": null,
      "metadata": {
        "id": "aUbgwdW11oXo"
      },
      "outputs": [],
      "source": [
        "y_train_c = y_train[['hidden_hypoxemia']].values\n",
        "y_test_c = y_test[['hidden_hypoxemia']].values\n",
        "y_train_r = y_train[['SaO2']].values\n",
        "y_test_r = y_test[['SaO2']].values"
      ]
    },
    {
      "cell_type": "markdown",
      "metadata": {
        "id": "bTv5vMZlJkET"
      },
      "source": [
        "###### ✏️ Define label vectors for chosen ML approaches"
      ]
    },
    {
      "cell_type": "code",
      "execution_count": null,
      "metadata": {
        "id": "jQ5J-VKFJc9a"
      },
      "outputs": [],
      "source": [
        "# Code here!"
      ]
    },
    {
      "cell_type": "markdown",
      "metadata": {
        "id": "3JSYCJ69x-6a"
      },
      "source": [
        "## 3. Implement ML Pipeline"
      ]
    },
    {
      "cell_type": "markdown",
      "metadata": {
        "id": "dDISqRa01ZSU"
      },
      "source": [
        "### 3.1 Naive Model Implementation\n",
        "\n",
        "What would our accuracy be if we predicted the most likely class? In this case, our prediction would simply be 1 or 0 for every patient. Using our training dataset we can create a naive model that predicts the most likely class for every patient.\n"
      ]
    },
    {
      "cell_type": "code",
      "execution_count": null,
      "metadata": {
        "colab": {
          "base_uri": "https://localhost:8080/"
        },
        "id": "52rodxtie_0q",
        "outputId": "6c6d1d85-5307-41e3-df94-ceb71c54396a"
      },
      "outputs": [
        {
          "name": "stdout",
          "output_type": "stream",
          "text": [
            "Accuracy: 0.0178\n"
          ]
        }
      ],
      "source": [
        "if np.sum(y_train_c == 0):\n",
        "    y_preds_cc = [1 for _ in range(len(y_test_c))]\n",
        "else:\n",
        "    y_preds_cc = [0 for _ in range(len(y_test_c))]\n",
        "\n",
        "# Check accuracy score\n",
        "accuracy_score = np.mean(y_preds_cc == y_test_c)\n",
        "print(\"Accuracy: {:.4f}\".format(accuracy_score))"
      ]
    },
    {
      "cell_type": "markdown",
      "metadata": {
        "id": "m1C7jEOoKDZ4"
      },
      "source": [
        "###### ✏️ Test a naive approach to have a performance baseline"
      ]
    },
    {
      "cell_type": "code",
      "execution_count": null,
      "metadata": {
        "id": "GBtxDigXKf5o"
      },
      "outputs": [],
      "source": [
        "# Code here!"
      ]
    },
    {
      "cell_type": "markdown",
      "metadata": {
        "id": "npQLlsHc4fSV"
      },
      "source": [
        "### 3.2 Data Normalization\n",
        "\n",
        "Many machine learning models are directly influenced by the scale of the features that you input to the model. Therefore, it is important to normalize the scale of values used in your pipeline.\n",
        "\n",
        "One of the most common methods used is data standardization, but the decision should be taken considering the specific use case or model that you are developing. If you are curious, you can further read about this topic [here](https://scikit-learn.org/stable/auto_examples/preprocessing/plot_all_scaling.html#sphx-glr-auto-examples-preprocessing-plot-all-scaling-py)."
      ]
    },
    {
      "cell_type": "markdown",
      "metadata": {
        "id": "FdNyzisyqVBU"
      },
      "source": [
        "It is important to consider that in a dataset one might have several types of variables: categorical, continuous, binary. For both categorical and binary variables, it is not a good practice to apply standardization methods. Therefore, it is important to distinguish the different type of variables that one might have and apply normalization methods only to those that make sense."
      ]
    },
    {
      "cell_type": "code",
      "execution_count": null,
      "metadata": {
        "colab": {
          "base_uri": "https://localhost:8080/"
        },
        "id": "QvmiYfpMW-t9",
        "outputId": "ef409b2c-4094-4607-f596-b27292f66943"
      },
      "outputs": [
        {
          "name": "stdout",
          "output_type": "stream",
          "text": [
            "norepinephrine_equivalent_dose\n",
            "0.000000    6789\n",
            "0.001501     415\n",
            "0.000901     366\n",
            "0.000600     326\n",
            "0.001201     205\n",
            "            ... \n",
            "0.000895       1\n",
            "0.091874       1\n",
            "0.007400       1\n",
            "0.189812       1\n",
            "0.093042       1\n",
            "Name: norepinephrine_equivalent_dose, Length: 2833, dtype: int64\n",
            "invasive_vent\n",
            "1.0    10587\n",
            "0.0     3271\n",
            "Name: invasive_vent, dtype: int64\n",
            "albumin\n",
            "0.457627    714\n",
            "0.474576    669\n",
            "0.525424    622\n",
            "0.491525    597\n",
            "0.508475    574\n",
            "0.440678    565\n",
            "0.593220    564\n",
            "0.542373    563\n",
            "0.576271    547\n",
            "0.423729    522\n",
            "0.406780    509\n",
            "0.559322    507\n",
            "0.677966    472\n",
            "0.000000    471\n",
            "0.644068    469\n",
            "0.610169    459\n",
            "0.661017    455\n",
            "0.627119    420\n",
            "0.694915    419\n",
            "0.389831    415\n",
            "0.372881    392\n",
            "0.711864    375\n",
            "0.355932    353\n",
            "0.728814    334\n",
            "0.338983    294\n",
            "0.745763    265\n",
            "0.762712    264\n",
            "0.779661    215\n",
            "0.322034    157\n",
            "0.796610    138\n",
            "0.288136    109\n",
            "0.305085     96\n",
            "0.813559     72\n",
            "0.271186     65\n",
            "0.847458     36\n",
            "0.830508     33\n",
            "0.254237     33\n",
            "0.237288     33\n",
            "0.220339     23\n",
            "0.864407     12\n",
            "0.203390      8\n",
            "0.881356      6\n",
            "0.067797      4\n",
            "0.186441      3\n",
            "1.000000      1\n",
            "0.101695      1\n",
            "0.915254      1\n",
            "0.898305      1\n",
            "0.169492      1\n",
            "Name: albumin, dtype: int64\n",
            "mchc\n",
            "0.830424    386\n",
            "0.827930    376\n",
            "0.837905    370\n",
            "0.847880    363\n",
            "0.845387    347\n",
            "           ... \n",
            "0.967581      1\n",
            "0.997506      1\n",
            "0.678304      1\n",
            "0.630923      1\n",
            "0.635910      1\n",
            "Name: mchc, Length: 124, dtype: int64\n",
            "los_hospital\n",
            "0.022727    742\n",
            "0.031818    681\n",
            "0.027273    658\n",
            "0.036364    625\n",
            "0.018182    601\n",
            "           ... \n",
            "0.695455      1\n",
            "0.890909      1\n",
            "0.531818      1\n",
            "0.454545      1\n",
            "0.513636      1\n",
            "Name: los_hospital, Length: 108, dtype: int64\n",
            "pt\n",
            "0.090667    289\n",
            "0.086667    288\n",
            "0.087333    286\n",
            "0.088667    285\n",
            "0.092667    283\n",
            "           ... \n",
            "0.286667      1\n",
            "0.450000      1\n",
            "0.063333      1\n",
            "0.365333      1\n",
            "0.357333      1\n",
            "Name: pt, Length: 436, dtype: int64\n",
            "rrt\n",
            "0.0    10868\n",
            "1.0     2990\n",
            "Name: rrt, dtype: int64\n",
            "ph\n",
            "0.965924    806\n",
            "0.969856    755\n",
            "0.968545    745\n",
            "0.967235    740\n",
            "0.972477    710\n",
            "           ... \n",
            "0.909567      1\n",
            "0.895151      1\n",
            "0.914810      1\n",
            "0.997379      1\n",
            "1.000000      1\n",
            "Name: ph, Length: 76, dtype: int64\n",
            "delta_ld_ldh\n",
            "0.000000    1612\n",
            "0.507567      46\n",
            "0.507567      44\n",
            "0.507566      36\n",
            "0.507566      34\n",
            "            ... \n",
            "0.167209       1\n",
            "0.508774       1\n",
            "0.508803       1\n",
            "0.508950       1\n",
            "0.507404       1\n",
            "Name: delta_ld_ldh, Length: 7800, dtype: int64\n",
            "mortality_in\n",
            "0.0    10651\n",
            "1.0     3207\n",
            "Name: mortality_in, dtype: int64\n",
            "bun\n",
            "0.064935    589\n",
            "0.077922    543\n",
            "0.056277    540\n",
            "0.069264    527\n",
            "0.060606    518\n",
            "           ... \n",
            "0.714286      1\n",
            "0.822511      1\n",
            "0.601732      1\n",
            "0.835498      1\n",
            "0.614719      1\n",
            "Name: bun, Length: 163, dtype: int64\n",
            "SpO2\n",
            "1.000000    4372\n",
            "0.971429    1649\n",
            "0.942857    1636\n",
            "0.914286    1393\n",
            "0.885714    1160\n",
            "0.857143    1018\n",
            "0.828571     734\n",
            "0.800000     530\n",
            "0.771429     385\n",
            "0.742857     259\n",
            "0.714286     153\n",
            "0.685714     106\n",
            "0.657143      92\n",
            "0.628571      66\n",
            "0.600000      57\n",
            "0.571429      47\n",
            "0.542857      29\n",
            "0.514286      25\n",
            "0.428571      20\n",
            "0.371429      19\n",
            "0.457143      18\n",
            "0.485714      17\n",
            "0.400000      13\n",
            "0.285714      11\n",
            "0.142857       6\n",
            "0.342857       5\n",
            "0.085714       5\n",
            "0.171429       5\n",
            "0.228571       4\n",
            "0.257143       4\n",
            "0.314286       4\n",
            "0.200000       4\n",
            "0.057143       4\n",
            "0.114286       3\n",
            "0.028571       3\n",
            "0.000000       2\n",
            "Name: SpO2, dtype: int64\n",
            "SOFA_admission\n",
            "0.285714    1469\n",
            "0.238095    1401\n",
            "0.333333    1291\n",
            "0.428571    1237\n",
            "0.380952    1062\n",
            "0.190476    1012\n",
            "0.476190     980\n",
            "0.523810     966\n",
            "0.142857     796\n",
            "0.571429     780\n",
            "0.095238     668\n",
            "0.619048     632\n",
            "0.666667     433\n",
            "0.047619     424\n",
            "0.714286     218\n",
            "0.761905     141\n",
            "0.809524     134\n",
            "0.857143      96\n",
            "0.000000      77\n",
            "0.904762      27\n",
            "0.952381      10\n",
            "1.000000       4\n",
            "Name: SOFA_admission, dtype: int64\n",
            "mcv\n",
            "0.703125    1123\n",
            "0.695312    1074\n",
            "0.710938    1054\n",
            "0.718750     994\n",
            "0.687500     965\n",
            "            ... \n",
            "0.476562       1\n",
            "0.754687       1\n",
            "0.453125       1\n",
            "0.906250       1\n",
            "0.914062       1\n",
            "Name: mcv, Length: 68, dtype: int64\n",
            "los_icu\n",
            "0.011609    161\n",
            "0.011222    157\n",
            "0.010835    131\n",
            "0.009190    129\n",
            "0.010448    125\n",
            "           ... \n",
            "0.208765      1\n",
            "0.121312      1\n",
            "0.232176      1\n",
            "0.193480      1\n",
            "0.515914      1\n",
            "Name: los_icu, Length: 766, dtype: int64\n",
            "delta_vent_start\n",
            "0.000000    1620\n",
            "0.997637      52\n",
            "0.998398      44\n",
            "0.996849      44\n",
            "0.995273      42\n",
            "            ... \n",
            "0.867933       1\n",
            "0.919584       1\n",
            "0.953628       1\n",
            "0.843933       1\n",
            "0.914450       1\n",
            "Name: delta_vent_start, Length: 4715, dtype: int64\n",
            "delta_sofa_liver\n",
            "0.000000    3924\n",
            "0.350294      91\n",
            "0.350308      90\n",
            "0.350407      90\n",
            "0.350266      89\n",
            "            ... \n",
            "0.296272       1\n",
            "0.345634       1\n",
            "0.356334       1\n",
            "0.343494       1\n",
            "0.339059       1\n",
            "Name: delta_sofa_liver, Length: 3093, dtype: int64\n",
            "FiO2\n",
            "0.50    4007\n",
            "0.40    3476\n",
            "0.00    1892\n",
            "0.60    1308\n",
            "1.00    1211\n",
            "0.70     595\n",
            "0.80     426\n",
            "0.30     392\n",
            "0.35     285\n",
            "0.90      83\n",
            "0.55      35\n",
            "0.95      31\n",
            "0.65      28\n",
            "0.45      21\n",
            "0.75      14\n",
            "0.21      12\n",
            "0.85       9\n",
            "0.28       8\n",
            "0.98       5\n",
            "0.99       3\n",
            "0.24       2\n",
            "0.47       2\n",
            "0.54       1\n",
            "0.23       1\n",
            "0.26       1\n",
            "0.31       1\n",
            "0.77       1\n",
            "0.92       1\n",
            "0.93       1\n",
            "0.56       1\n",
            "0.83       1\n",
            "0.41       1\n",
            "0.44       1\n",
            "0.96       1\n",
            "0.25       1\n",
            "Name: FiO2, dtype: int64\n",
            "aniongap\n",
            "0.26    1470\n",
            "0.24    1388\n",
            "0.28    1321\n",
            "0.22    1305\n",
            "0.30    1153\n",
            "0.20    1100\n",
            "0.32     986\n",
            "0.34     847\n",
            "0.18     731\n",
            "0.36     645\n",
            "0.38     511\n",
            "0.16     434\n",
            "0.40     385\n",
            "0.42     320\n",
            "0.14     194\n",
            "0.44     191\n",
            "0.46     166\n",
            "0.48     147\n",
            "0.50     118\n",
            "0.12      79\n",
            "0.52      71\n",
            "0.54      44\n",
            "0.56      37\n",
            "0.60      33\n",
            "0.58      29\n",
            "0.62      24\n",
            "0.70      20\n",
            "0.64      19\n",
            "0.78      14\n",
            "0.66      13\n",
            "0.10      12\n",
            "0.00      12\n",
            "0.68       7\n",
            "0.72       6\n",
            "0.74       5\n",
            "0.86       4\n",
            "0.76       4\n",
            "0.84       3\n",
            "1.00       3\n",
            "0.08       2\n",
            "0.82       2\n",
            "0.06       1\n",
            "0.94       1\n",
            "0.98       1\n",
            "Name: aniongap, dtype: int64\n",
            "glucose_lab\n",
            "0.052679    224\n",
            "0.054042    221\n",
            "0.051771    219\n",
            "0.056312    211\n",
            "0.054496    198\n",
            "           ... \n",
            "0.148047      1\n",
            "0.187557      1\n",
            "0.177566      1\n",
            "0.019528      1\n",
            "0.161671      1\n",
            "Name: glucose_lab, Length: 400, dtype: int64\n",
            "sofa_resp\n",
            "0.6    5721\n",
            "0.8    3588\n",
            "0.4    2305\n",
            "0.2    1111\n",
            "1.0     771\n",
            "0.0     362\n",
            "Name: sofa_resp, dtype: int64\n",
            "anchor_age\n",
            "0.671233    574\n",
            "0.739726    466\n",
            "0.753425    448\n",
            "0.602740    416\n",
            "0.726027    415\n",
            "           ... \n",
            "0.095890     13\n",
            "0.027397     12\n",
            "0.041096      9\n",
            "0.013699      9\n",
            "0.000000      4\n",
            "Name: anchor_age, Length: 73, dtype: int64\n",
            "CCI\n",
            "0.263158    2097\n",
            "0.210526    2008\n",
            "0.315789    1729\n",
            "0.157895    1706\n",
            "0.368421    1555\n",
            "0.421053    1165\n",
            "0.105263    1063\n",
            "0.473684     727\n",
            "0.052632     685\n",
            "0.526316     426\n",
            "0.000000     339\n",
            "0.578947     184\n",
            "0.631579      97\n",
            "0.684211      44\n",
            "0.736842      23\n",
            "0.789474       6\n",
            "1.000000       3\n",
            "0.894737       1\n",
            "Name: CCI, dtype: int64\n",
            "chloride\n",
            "0.779412    953\n",
            "0.772059    911\n",
            "0.786765    900\n",
            "0.794118    874\n",
            "0.764706    839\n",
            "0.757353    824\n",
            "0.801471    767\n",
            "0.750000    724\n",
            "0.735294    677\n",
            "0.742647    670\n",
            "0.808824    589\n",
            "0.727941    571\n",
            "0.816176    551\n",
            "0.720588    531\n",
            "0.713235    444\n",
            "0.823529    416\n",
            "0.698529    352\n",
            "0.705882    329\n",
            "0.830882    270\n",
            "0.691176    268\n",
            "0.838235    261\n",
            "0.683824    199\n",
            "0.845588    156\n",
            "0.676471    113\n",
            "0.669118    109\n",
            "0.661765     90\n",
            "0.852941     74\n",
            "0.860294     66\n",
            "0.647059     39\n",
            "0.654412     37\n",
            "0.867647     36\n",
            "0.875000     33\n",
            "0.882353     26\n",
            "0.639706     25\n",
            "0.625000     25\n",
            "0.632353     14\n",
            "0.889706     13\n",
            "0.000000     12\n",
            "0.904412     10\n",
            "0.610294     10\n",
            "0.617647     10\n",
            "0.897059     10\n",
            "0.602941      5\n",
            "0.926471      4\n",
            "0.948529      3\n",
            "0.963235      3\n",
            "0.595588      2\n",
            "0.911765      2\n",
            "0.933824      2\n",
            "0.588235      1\n",
            "0.558824      1\n",
            "0.573529      1\n",
            "0.941176      1\n",
            "0.580882      1\n",
            "1.000000      1\n",
            "0.919118      1\n",
            "0.544118      1\n",
            "0.492647      1\n",
            "Name: chloride, dtype: int64\n",
            "ld_ldh\n",
            "0.000000    1612\n",
            "0.004189      63\n",
            "0.004690      62\n",
            "0.004781      56\n",
            "0.007332      55\n",
            "            ... \n",
            "0.023725       1\n",
            "0.021175       1\n",
            "0.026025       1\n",
            "0.021653       1\n",
            "0.023702       1\n",
            "Name: ld_ldh, Length: 1355, dtype: int64\n",
            "hidden_hypoxemia\n",
            "0.0    13633\n",
            "1.0      225\n",
            "Name: hidden_hypoxemia, dtype: int64\n",
            "language\n",
            "1.0    12309\n",
            "0.0     1549\n",
            "Name: language, dtype: int64\n",
            "SaO2\n",
            "0.942857    3391\n",
            "0.914286    2863\n",
            "0.885714    1904\n",
            "0.857143    1245\n",
            "0.971429    1220\n",
            "0.828571     891\n",
            "0.800000     593\n",
            "0.771429     414\n",
            "0.742857     277\n",
            "1.000000     210\n",
            "0.714286     196\n",
            "0.685714     153\n",
            "0.657143     108\n",
            "0.628571      72\n",
            "0.600000      58\n",
            "0.571429      46\n",
            "0.542857      37\n",
            "0.514286      28\n",
            "0.485714      24\n",
            "0.457143      16\n",
            "0.371429      14\n",
            "0.428571      14\n",
            "0.142857      12\n",
            "0.400000      10\n",
            "0.342857       8\n",
            "0.228571       7\n",
            "0.257143       7\n",
            "0.314286       6\n",
            "0.057143       6\n",
            "0.285714       5\n",
            "0.085714       5\n",
            "0.028571       4\n",
            "0.171429       4\n",
            "0.200000       3\n",
            "0.000000       3\n",
            "0.677143       1\n",
            "0.774286       1\n",
            "0.720000       1\n",
            "0.114286       1\n",
            "Name: SaO2, dtype: int64\n",
            "gender\n",
            "0.0    8963\n",
            "1.0    4895\n",
            "Name: gender, dtype: int64\n",
            "lactate\n",
            "0.050000    912\n",
            "0.045833    881\n",
            "0.054167    858\n",
            "0.058333    775\n",
            "0.041667    747\n",
            "           ... \n",
            "0.587500      1\n",
            "0.591667      1\n",
            "0.750000      1\n",
            "0.791667      1\n",
            "0.845833      1\n",
            "Name: lactate, Length: 190, dtype: int64\n",
            "delta_SpO2\n",
            "1.0    1979\n",
            "0.1    1315\n",
            "0.0    1292\n",
            "0.2    1212\n",
            "0.5    1195\n",
            "0.9    1171\n",
            "0.6    1161\n",
            "0.3    1144\n",
            "0.4    1140\n",
            "0.7    1136\n",
            "0.8    1113\n",
            "Name: delta_SpO2, dtype: int64\n",
            "rdw\n",
            "0.408964    370\n",
            "0.392157    308\n",
            "0.417367    304\n",
            "0.414566    302\n",
            "0.445378    302\n",
            "           ... \n",
            "0.820728      1\n",
            "0.840336      1\n",
            "0.851541      1\n",
            "0.859944      1\n",
            "0.742297      1\n",
            "Name: rdw, Length: 190, dtype: int64\n",
            "BMI\n",
            "0.000000    2638\n",
            "0.309030      75\n",
            "0.291464      67\n",
            "0.288998      64\n",
            "0.403073      62\n",
            "            ... \n",
            "0.251514       1\n",
            "0.217111       1\n",
            "0.352671       1\n",
            "0.292380       1\n",
            "0.399722       1\n",
            "Name: BMI, Length: 2972, dtype: int64\n",
            "HFNC\n",
            "0.0    13732\n",
            "1.0      126\n",
            "Name: HFNC, dtype: int64\n",
            "InvasiveVent\n",
            "1.0    10563\n",
            "0.0     3295\n",
            "Name: InvasiveVent, dtype: int64\n",
            "NonInvasiveVent\n",
            "0.0    13789\n",
            "1.0       69\n",
            "Name: NonInvasiveVent, dtype: int64\n",
            "None_ventilation\n",
            "0.0    12238\n",
            "1.0     1620\n",
            "Name: None_ventilation, dtype: int64\n",
            "SupplementalOxygen\n",
            "0.0    12402\n",
            "1.0     1456\n",
            "Name: SupplementalOxygen, dtype: int64\n",
            "Tracheostomy\n",
            "0.0    13834\n",
            "1.0       24\n",
            "Name: Tracheostomy, dtype: int64\n",
            "Asian\n",
            "0.0    13471\n",
            "1.0      387\n",
            "Name: Asian, dtype: int64\n",
            "Black\n",
            "0.0    12892\n",
            "1.0      966\n",
            "Name: Black, dtype: int64\n",
            "Hispanic\n",
            "0.0    13408\n",
            "1.0      450\n",
            "Name: Hispanic, dtype: int64\n",
            "Other_race_group\n",
            "0.0    11227\n",
            "1.0     2631\n",
            "Name: Other_race_group, dtype: int64\n",
            "White\n",
            "1.0    9424\n",
            "0.0    4434\n",
            "Name: White, dtype: int64\n",
            "Medicaid\n",
            "0.0    13103\n",
            "1.0      755\n",
            "Name: Medicaid, dtype: int64\n",
            "Medicare\n",
            "0.0    7545\n",
            "1.0    6313\n",
            "Name: Medicare, dtype: int64\n",
            "Other\n",
            "0.0    7068\n",
            "1.0    6790\n",
            "Name: Other, dtype: int64\n",
            "los_icu_dead\n",
            "0.000000    10651\n",
            "0.313623       52\n",
            "0.107923       51\n",
            "0.170338       42\n",
            "0.210918       40\n",
            "            ...  \n",
            "0.031787        1\n",
            "0.064831        1\n",
            "0.231111        1\n",
            "0.033816        1\n",
            "0.117971        1\n",
            "Name: los_icu_dead, Length: 483, dtype: int64\n",
            "los_icu_surv\n",
            "0.000000    3207\n",
            "0.014609     156\n",
            "0.014170     153\n",
            "0.011863     127\n",
            "0.013730     123\n",
            "            ... \n",
            "0.221112       1\n",
            "0.247144       1\n",
            "0.189038       1\n",
            "0.139170       1\n",
            "0.238467       1\n",
            "Name: los_icu_surv, Length: 673, dtype: int64\n"
          ]
        }
      ],
      "source": [
        "feats = df_train.columns\n",
        "for feat in feats:\n",
        "  print(feat)\n",
        "  print(df_train[feat].value_counts())"
      ]
    },
    {
      "cell_type": "code",
      "execution_count": null,
      "metadata": {
        "id": "U8gXkTFDXoF1"
      },
      "outputs": [],
      "source": [
        "binary_variables=['invasive_vent', 'language', 'gender', 'rrt', 'mortality_in', 'HFNC', 'InvasiveVent', 'NonInvasiveVent', 'None_ventilation', 'SupplementalOxygen',  'Tracheostomy', 'Asian', 'Black', 'Hispanic', 'Other_race_group', 'White', 'Medicaid', 'Medicare', 'Other']"
      ]
    },
    {
      "cell_type": "code",
      "execution_count": null,
      "metadata": {
        "id": "0dTSSDqSrKha"
      },
      "outputs": [],
      "source": [
        "X_train_continuous = X_train.drop(columns=binary_variables)\n",
        "X_test_continuous = X_test.drop(columns=binary_variables)\n",
        "X_train_binary = X_train[binary_variables]\n",
        "X_test_binary = X_test[binary_variables]"
      ]
    },
    {
      "cell_type": "code",
      "execution_count": null,
      "metadata": {
        "colab": {
          "base_uri": "https://localhost:8080/",
          "height": 90
        },
        "id": "IY3nCVp5Ws1v",
        "outputId": "42f0c799-85ff-4b1c-e278-f0313540fa86"
      },
      "outputs": [
        {
          "data": {
            "text/html": [
              "<style>#sk-container-id-1 {color: black;background-color: white;}#sk-container-id-1 pre{padding: 0;}#sk-container-id-1 div.sk-toggleable {background-color: white;}#sk-container-id-1 label.sk-toggleable__label {cursor: pointer;display: block;width: 100%;margin-bottom: 0;padding: 0.3em;box-sizing: border-box;text-align: center;}#sk-container-id-1 label.sk-toggleable__label-arrow:before {content: \"▸\";float: left;margin-right: 0.25em;color: #696969;}#sk-container-id-1 label.sk-toggleable__label-arrow:hover:before {color: black;}#sk-container-id-1 div.sk-estimator:hover label.sk-toggleable__label-arrow:before {color: black;}#sk-container-id-1 div.sk-toggleable__content {max-height: 0;max-width: 0;overflow: hidden;text-align: left;background-color: #f0f8ff;}#sk-container-id-1 div.sk-toggleable__content pre {margin: 0.2em;color: black;border-radius: 0.25em;background-color: #f0f8ff;}#sk-container-id-1 input.sk-toggleable__control:checked~div.sk-toggleable__content {max-height: 200px;max-width: 100%;overflow: auto;}#sk-container-id-1 input.sk-toggleable__control:checked~label.sk-toggleable__label-arrow:before {content: \"▾\";}#sk-container-id-1 div.sk-estimator input.sk-toggleable__control:checked~label.sk-toggleable__label {background-color: #d4ebff;}#sk-container-id-1 div.sk-label input.sk-toggleable__control:checked~label.sk-toggleable__label {background-color: #d4ebff;}#sk-container-id-1 input.sk-hidden--visually {border: 0;clip: rect(1px 1px 1px 1px);clip: rect(1px, 1px, 1px, 1px);height: 1px;margin: -1px;overflow: hidden;padding: 0;position: absolute;width: 1px;}#sk-container-id-1 div.sk-estimator {font-family: monospace;background-color: #f0f8ff;border: 1px dotted black;border-radius: 0.25em;box-sizing: border-box;margin-bottom: 0.5em;}#sk-container-id-1 div.sk-estimator:hover {background-color: #d4ebff;}#sk-container-id-1 div.sk-parallel-item::after {content: \"\";width: 100%;border-bottom: 1px solid gray;flex-grow: 1;}#sk-container-id-1 div.sk-label:hover label.sk-toggleable__label {background-color: #d4ebff;}#sk-container-id-1 div.sk-serial::before {content: \"\";position: absolute;border-left: 1px solid gray;box-sizing: border-box;top: 0;bottom: 0;left: 50%;z-index: 0;}#sk-container-id-1 div.sk-serial {display: flex;flex-direction: column;align-items: center;background-color: white;padding-right: 0.2em;padding-left: 0.2em;position: relative;}#sk-container-id-1 div.sk-item {position: relative;z-index: 1;}#sk-container-id-1 div.sk-parallel {display: flex;align-items: stretch;justify-content: center;background-color: white;position: relative;}#sk-container-id-1 div.sk-item::before, #sk-container-id-1 div.sk-parallel-item::before {content: \"\";position: absolute;border-left: 1px solid gray;box-sizing: border-box;top: 0;bottom: 0;left: 50%;z-index: -1;}#sk-container-id-1 div.sk-parallel-item {display: flex;flex-direction: column;z-index: 1;position: relative;background-color: white;}#sk-container-id-1 div.sk-parallel-item:first-child::after {align-self: flex-end;width: 50%;}#sk-container-id-1 div.sk-parallel-item:last-child::after {align-self: flex-start;width: 50%;}#sk-container-id-1 div.sk-parallel-item:only-child::after {width: 0;}#sk-container-id-1 div.sk-dashed-wrapped {border: 1px dashed gray;margin: 0 0.4em 0.5em 0.4em;box-sizing: border-box;padding-bottom: 0.4em;background-color: white;}#sk-container-id-1 div.sk-label label {font-family: monospace;font-weight: bold;display: inline-block;line-height: 1.2em;}#sk-container-id-1 div.sk-label-container {text-align: center;}#sk-container-id-1 div.sk-container {/* jupyter's `normalize.less` sets `[hidden] { display: none; }` but bootstrap.min.css set `[hidden] { display: none !important; }` so we also need the `!important` here to be able to override the default hidden behavior on the sphinx rendered scikit-learn.org. See: https://github.com/scikit-learn/scikit-learn/issues/21755 */display: inline-block !important;position: relative;}#sk-container-id-1 div.sk-text-repr-fallback {display: none;}</style><div id=\"sk-container-id-1\" class=\"sk-top-container\"><div class=\"sk-text-repr-fallback\"><pre>Pipeline(steps=[(&#x27;standardscaler&#x27;, StandardScaler())])</pre><b>In a Jupyter environment, please rerun this cell to show the HTML representation or trust the notebook. <br />On GitHub, the HTML representation is unable to render, please try loading this page with nbviewer.org.</b></div><div class=\"sk-container\" hidden><div class=\"sk-item sk-dashed-wrapped\"><div class=\"sk-label-container\"><div class=\"sk-label sk-toggleable\"><input class=\"sk-toggleable__control sk-hidden--visually\" id=\"sk-estimator-id-1\" type=\"checkbox\" ><label for=\"sk-estimator-id-1\" class=\"sk-toggleable__label sk-toggleable__label-arrow\">Pipeline</label><div class=\"sk-toggleable__content\"><pre>Pipeline(steps=[(&#x27;standardscaler&#x27;, StandardScaler())])</pre></div></div></div><div class=\"sk-serial\"><div class=\"sk-item\"><div class=\"sk-estimator sk-toggleable\"><input class=\"sk-toggleable__control sk-hidden--visually\" id=\"sk-estimator-id-2\" type=\"checkbox\" ><label for=\"sk-estimator-id-2\" class=\"sk-toggleable__label sk-toggleable__label-arrow\">StandardScaler</label><div class=\"sk-toggleable__content\"><pre>StandardScaler()</pre></div></div></div></div></div></div></div>"
            ],
            "text/plain": [
              "Pipeline(steps=[('standardscaler', StandardScaler())])"
            ]
          },
          "execution_count": 15,
          "metadata": {},
          "output_type": "execute_result"
        }
      ],
      "source": [
        "preprocessor = make_pipeline(StandardScaler())\n",
        "\n",
        "preprocessor"
      ]
    },
    {
      "cell_type": "code",
      "execution_count": null,
      "metadata": {
        "colab": {
          "base_uri": "https://localhost:8080/",
          "height": 483
        },
        "id": "b6KZ7CHpX8Nt",
        "outputId": "14a1b63f-af4b-4860-aa38-6b86eb3d35bc"
      },
      "outputs": [
        {
          "data": {
            "text/html": [
              "\n",
              "  <div id=\"df-47ead5a7-095d-4e88-bd6d-748049f4184a\">\n",
              "    <div class=\"colab-df-container\">\n",
              "      <div>\n",
              "<style scoped>\n",
              "    .dataframe tbody tr th:only-of-type {\n",
              "        vertical-align: middle;\n",
              "    }\n",
              "\n",
              "    .dataframe tbody tr th {\n",
              "        vertical-align: top;\n",
              "    }\n",
              "\n",
              "    .dataframe thead th {\n",
              "        text-align: right;\n",
              "    }\n",
              "</style>\n",
              "<table border=\"1\" class=\"dataframe\">\n",
              "  <thead>\n",
              "    <tr style=\"text-align: right;\">\n",
              "      <th></th>\n",
              "      <th>norepinephrine_equivalent_dose</th>\n",
              "      <th>albumin</th>\n",
              "      <th>mchc</th>\n",
              "      <th>los_hospital</th>\n",
              "      <th>pt</th>\n",
              "      <th>ph</th>\n",
              "      <th>delta_ld_ldh</th>\n",
              "      <th>bun</th>\n",
              "      <th>SpO2</th>\n",
              "      <th>SOFA_admission</th>\n",
              "      <th>mcv</th>\n",
              "      <th>los_icu</th>\n",
              "      <th>delta_vent_start</th>\n",
              "      <th>delta_sofa_liver</th>\n",
              "      <th>FiO2</th>\n",
              "      <th>aniongap</th>\n",
              "      <th>glucose_lab</th>\n",
              "      <th>sofa_resp</th>\n",
              "      <th>anchor_age</th>\n",
              "      <th>CCI</th>\n",
              "      <th>chloride</th>\n",
              "      <th>ld_ldh</th>\n",
              "      <th>lactate</th>\n",
              "      <th>delta_SpO2</th>\n",
              "      <th>rdw</th>\n",
              "      <th>BMI</th>\n",
              "      <th>los_icu_dead</th>\n",
              "      <th>los_icu_surv</th>\n",
              "    </tr>\n",
              "  </thead>\n",
              "  <tbody>\n",
              "    <tr>\n",
              "      <th>0</th>\n",
              "      <td>-0.443811</td>\n",
              "      <td>0.541497</td>\n",
              "      <td>0.963515</td>\n",
              "      <td>-0.765133</td>\n",
              "      <td>-0.657118</td>\n",
              "      <td>-0.152184</td>\n",
              "      <td>2.068074</td>\n",
              "      <td>-0.647634</td>\n",
              "      <td>0.546800</td>\n",
              "      <td>-0.962238</td>\n",
              "      <td>0.973045</td>\n",
              "      <td>-0.821330</td>\n",
              "      <td>0.486579</td>\n",
              "      <td>-1.552505</td>\n",
              "      <td>0.104489</td>\n",
              "      <td>-0.512191</td>\n",
              "      <td>-0.702311</td>\n",
              "      <td>-0.880193</td>\n",
              "      <td>-0.806361</td>\n",
              "      <td>0.685774</td>\n",
              "      <td>0.728651</td>\n",
              "      <td>-0.301850</td>\n",
              "      <td>0.161792</td>\n",
              "      <td>1.447045</td>\n",
              "      <td>-1.022549</td>\n",
              "      <td>1.107750</td>\n",
              "      <td>-0.373313</td>\n",
              "      <td>-0.608693</td>\n",
              "    </tr>\n",
              "    <tr>\n",
              "      <th>1</th>\n",
              "      <td>-0.387381</td>\n",
              "      <td>-1.024940</td>\n",
              "      <td>-1.086543</td>\n",
              "      <td>-0.204062</td>\n",
              "      <td>-0.761668</td>\n",
              "      <td>0.032115</td>\n",
              "      <td>0.353147</td>\n",
              "      <td>0.019299</td>\n",
              "      <td>0.808294</td>\n",
              "      <td>0.587047</td>\n",
              "      <td>0.973045</td>\n",
              "      <td>-0.429173</td>\n",
              "      <td>0.479790</td>\n",
              "      <td>0.619939</td>\n",
              "      <td>-0.282689</td>\n",
              "      <td>-0.938175</td>\n",
              "      <td>0.428245</td>\n",
              "      <td>0.031786</td>\n",
              "      <td>1.079675</td>\n",
              "      <td>0.304599</td>\n",
              "      <td>1.017304</td>\n",
              "      <td>-0.166562</td>\n",
              "      <td>-0.118463</td>\n",
              "      <td>1.447045</td>\n",
              "      <td>-0.577776</td>\n",
              "      <td>-1.798207</td>\n",
              "      <td>-0.373313</td>\n",
              "      <td>-0.191960</td>\n",
              "    </tr>\n",
              "    <tr>\n",
              "      <th>2</th>\n",
              "      <td>-0.443811</td>\n",
              "      <td>-1.024940</td>\n",
              "      <td>-0.881538</td>\n",
              "      <td>-0.204062</td>\n",
              "      <td>-0.591774</td>\n",
              "      <td>0.326993</td>\n",
              "      <td>0.352241</td>\n",
              "      <td>-0.247474</td>\n",
              "      <td>0.808294</td>\n",
              "      <td>0.587047</td>\n",
              "      <td>1.124926</td>\n",
              "      <td>-0.429173</td>\n",
              "      <td>0.415901</td>\n",
              "      <td>0.606600</td>\n",
              "      <td>-0.282689</td>\n",
              "      <td>-0.725183</td>\n",
              "      <td>-0.058764</td>\n",
              "      <td>0.031786</td>\n",
              "      <td>1.079675</td>\n",
              "      <td>0.304599</td>\n",
              "      <td>0.872978</td>\n",
              "      <td>-0.166562</td>\n",
              "      <td>-0.305299</td>\n",
              "      <td>0.545415</td>\n",
              "      <td>-0.466583</td>\n",
              "      <td>-1.798207</td>\n",
              "      <td>-0.373313</td>\n",
              "      <td>-0.191960</td>\n",
              "    </tr>\n",
              "    <tr>\n",
              "      <th>3</th>\n",
              "      <td>-0.407997</td>\n",
              "      <td>1.168072</td>\n",
              "      <td>0.604755</td>\n",
              "      <td>-0.811889</td>\n",
              "      <td>-0.343467</td>\n",
              "      <td>-0.189044</td>\n",
              "      <td>0.346963</td>\n",
              "      <td>-0.558709</td>\n",
              "      <td>0.546800</td>\n",
              "      <td>-0.187596</td>\n",
              "      <td>0.517403</td>\n",
              "      <td>-0.838500</td>\n",
              "      <td>0.487787</td>\n",
              "      <td>-1.552505</td>\n",
              "      <td>1.266023</td>\n",
              "      <td>-1.364158</td>\n",
              "      <td>-0.684918</td>\n",
              "      <td>0.943764</td>\n",
              "      <td>-0.596802</td>\n",
              "      <td>-0.838926</td>\n",
              "      <td>1.738936</td>\n",
              "      <td>-0.228675</td>\n",
              "      <td>-0.258590</td>\n",
              "      <td>-1.558388</td>\n",
              "      <td>-0.837227</td>\n",
              "      <td>0.185672</td>\n",
              "      <td>-0.373313</td>\n",
              "      <td>-0.626939</td>\n",
              "    </tr>\n",
              "    <tr>\n",
              "      <th>4</th>\n",
              "      <td>-0.402279</td>\n",
              "      <td>1.168072</td>\n",
              "      <td>0.245994</td>\n",
              "      <td>-0.811889</td>\n",
              "      <td>-0.343467</td>\n",
              "      <td>-0.115324</td>\n",
              "      <td>0.346611</td>\n",
              "      <td>-0.558709</td>\n",
              "      <td>0.808294</td>\n",
              "      <td>-0.187596</td>\n",
              "      <td>0.517403</td>\n",
              "      <td>-0.838500</td>\n",
              "      <td>0.463047</td>\n",
              "      <td>-1.552505</td>\n",
              "      <td>0.104489</td>\n",
              "      <td>-1.364158</td>\n",
              "      <td>-0.684918</td>\n",
              "      <td>-0.880193</td>\n",
              "      <td>-0.596802</td>\n",
              "      <td>-0.838926</td>\n",
              "      <td>1.594610</td>\n",
              "      <td>-0.228675</td>\n",
              "      <td>-0.211881</td>\n",
              "      <td>0.244872</td>\n",
              "      <td>-0.614841</td>\n",
              "      <td>0.185672</td>\n",
              "      <td>-0.373313</td>\n",
              "      <td>-0.626939</td>\n",
              "    </tr>\n",
              "    <tr>\n",
              "      <th>...</th>\n",
              "      <td>...</td>\n",
              "      <td>...</td>\n",
              "      <td>...</td>\n",
              "      <td>...</td>\n",
              "      <td>...</td>\n",
              "      <td>...</td>\n",
              "      <td>...</td>\n",
              "      <td>...</td>\n",
              "      <td>...</td>\n",
              "      <td>...</td>\n",
              "      <td>...</td>\n",
              "      <td>...</td>\n",
              "      <td>...</td>\n",
              "      <td>...</td>\n",
              "      <td>...</td>\n",
              "      <td>...</td>\n",
              "      <td>...</td>\n",
              "      <td>...</td>\n",
              "      <td>...</td>\n",
              "      <td>...</td>\n",
              "      <td>...</td>\n",
              "      <td>...</td>\n",
              "      <td>...</td>\n",
              "      <td>...</td>\n",
              "      <td>...</td>\n",
              "      <td>...</td>\n",
              "      <td>...</td>\n",
              "      <td>...</td>\n",
              "    </tr>\n",
              "    <tr>\n",
              "      <th>13853</th>\n",
              "      <td>-0.406304</td>\n",
              "      <td>0.959214</td>\n",
              "      <td>0.707258</td>\n",
              "      <td>0.357009</td>\n",
              "      <td>0.610556</td>\n",
              "      <td>-0.299623</td>\n",
              "      <td>0.352547</td>\n",
              "      <td>0.508382</td>\n",
              "      <td>-0.499174</td>\n",
              "      <td>0.328833</td>\n",
              "      <td>-0.545761</td>\n",
              "      <td>0.829712</td>\n",
              "      <td>0.491327</td>\n",
              "      <td>0.533325</td>\n",
              "      <td>2.040379</td>\n",
              "      <td>1.830717</td>\n",
              "      <td>-0.563166</td>\n",
              "      <td>0.031786</td>\n",
              "      <td>-0.107829</td>\n",
              "      <td>0.685774</td>\n",
              "      <td>0.295672</td>\n",
              "      <td>-0.159755</td>\n",
              "      <td>2.030152</td>\n",
              "      <td>-0.957302</td>\n",
              "      <td>0.311768</td>\n",
              "      <td>0.238998</td>\n",
              "      <td>-0.373313</td>\n",
              "      <td>1.145817</td>\n",
              "    </tr>\n",
              "    <tr>\n",
              "      <th>13854</th>\n",
              "      <td>-0.443811</td>\n",
              "      <td>0.959214</td>\n",
              "      <td>1.168521</td>\n",
              "      <td>0.357009</td>\n",
              "      <td>0.532143</td>\n",
              "      <td>0.253273</td>\n",
              "      <td>0.352064</td>\n",
              "      <td>0.686231</td>\n",
              "      <td>0.546800</td>\n",
              "      <td>0.328833</td>\n",
              "      <td>-1.001402</td>\n",
              "      <td>0.829712</td>\n",
              "      <td>0.457300</td>\n",
              "      <td>0.691222</td>\n",
              "      <td>0.104489</td>\n",
              "      <td>1.191742</td>\n",
              "      <td>-0.232696</td>\n",
              "      <td>0.031786</td>\n",
              "      <td>-0.107829</td>\n",
              "      <td>0.685774</td>\n",
              "      <td>0.728651</td>\n",
              "      <td>-0.159755</td>\n",
              "      <td>0.395337</td>\n",
              "      <td>0.545415</td>\n",
              "      <td>0.645347</td>\n",
              "      <td>0.238998</td>\n",
              "      <td>-0.373313</td>\n",
              "      <td>1.145817</td>\n",
              "    </tr>\n",
              "    <tr>\n",
              "      <th>13855</th>\n",
              "      <td>-0.387457</td>\n",
              "      <td>0.437068</td>\n",
              "      <td>-0.727783</td>\n",
              "      <td>-0.624865</td>\n",
              "      <td>-0.291191</td>\n",
              "      <td>-0.262764</td>\n",
              "      <td>-2.710390</td>\n",
              "      <td>-0.647634</td>\n",
              "      <td>-0.237680</td>\n",
              "      <td>-0.704024</td>\n",
              "      <td>0.061762</td>\n",
              "      <td>-0.755399</td>\n",
              "      <td>0.458799</td>\n",
              "      <td>-1.552505</td>\n",
              "      <td>0.104489</td>\n",
              "      <td>0.765759</td>\n",
              "      <td>-0.006584</td>\n",
              "      <td>0.031786</td>\n",
              "      <td>-0.876214</td>\n",
              "      <td>-0.838926</td>\n",
              "      <td>-0.281633</td>\n",
              "      <td>-0.446497</td>\n",
              "      <td>-0.211881</td>\n",
              "      <td>-1.558388</td>\n",
              "      <td>-0.614841</td>\n",
              "      <td>0.679194</td>\n",
              "      <td>-0.373313</td>\n",
              "      <td>-0.538630</td>\n",
              "    </tr>\n",
              "    <tr>\n",
              "      <th>13856</th>\n",
              "      <td>-0.417477</td>\n",
              "      <td>-0.189507</td>\n",
              "      <td>-0.676532</td>\n",
              "      <td>-0.484598</td>\n",
              "      <td>-0.421879</td>\n",
              "      <td>-0.115324</td>\n",
              "      <td>0.352713</td>\n",
              "      <td>-0.736558</td>\n",
              "      <td>0.808294</td>\n",
              "      <td>-1.478666</td>\n",
              "      <td>-0.242000</td>\n",
              "      <td>-0.566531</td>\n",
              "      <td>0.486412</td>\n",
              "      <td>0.665411</td>\n",
              "      <td>0.104489</td>\n",
              "      <td>-0.725183</td>\n",
              "      <td>-0.789277</td>\n",
              "      <td>-0.880193</td>\n",
              "      <td>0.101730</td>\n",
              "      <td>-0.838926</td>\n",
              "      <td>1.450283</td>\n",
              "      <td>-0.201448</td>\n",
              "      <td>0.301919</td>\n",
              "      <td>1.146502</td>\n",
              "      <td>-0.911356</td>\n",
              "      <td>0.422125</td>\n",
              "      <td>-0.373313</td>\n",
              "      <td>-0.337926</td>\n",
              "    </tr>\n",
              "    <tr>\n",
              "      <th>13857</th>\n",
              "      <td>-0.443811</td>\n",
              "      <td>-0.189507</td>\n",
              "      <td>-0.676532</td>\n",
              "      <td>-0.484598</td>\n",
              "      <td>-0.421879</td>\n",
              "      <td>-0.262764</td>\n",
              "      <td>0.353374</td>\n",
              "      <td>-0.736558</td>\n",
              "      <td>0.546800</td>\n",
              "      <td>-1.478666</td>\n",
              "      <td>-0.242000</td>\n",
              "      <td>-0.566531</td>\n",
              "      <td>0.481706</td>\n",
              "      <td>0.655623</td>\n",
              "      <td>0.104489</td>\n",
              "      <td>-0.725183</td>\n",
              "      <td>-0.667525</td>\n",
              "      <td>0.031786</td>\n",
              "      <td>0.101730</td>\n",
              "      <td>-0.838926</td>\n",
              "      <td>1.450283</td>\n",
              "      <td>-0.159755</td>\n",
              "      <td>0.301919</td>\n",
              "      <td>-1.257845</td>\n",
              "      <td>-0.911356</td>\n",
              "      <td>0.422125</td>\n",
              "      <td>-0.373313</td>\n",
              "      <td>-0.337926</td>\n",
              "    </tr>\n",
              "  </tbody>\n",
              "</table>\n",
              "<p>13858 rows × 28 columns</p>\n",
              "</div>\n",
              "      <button class=\"colab-df-convert\" onclick=\"convertToInteractive('df-47ead5a7-095d-4e88-bd6d-748049f4184a')\"\n",
              "              title=\"Convert this dataframe to an interactive table.\"\n",
              "              style=\"display:none;\">\n",
              "        \n",
              "  <svg xmlns=\"http://www.w3.org/2000/svg\" height=\"24px\"viewBox=\"0 0 24 24\"\n",
              "       width=\"24px\">\n",
              "    <path d=\"M0 0h24v24H0V0z\" fill=\"none\"/>\n",
              "    <path d=\"M18.56 5.44l.94 2.06.94-2.06 2.06-.94-2.06-.94-.94-2.06-.94 2.06-2.06.94zm-11 1L8.5 8.5l.94-2.06 2.06-.94-2.06-.94L8.5 2.5l-.94 2.06-2.06.94zm10 10l.94 2.06.94-2.06 2.06-.94-2.06-.94-.94-2.06-.94 2.06-2.06.94z\"/><path d=\"M17.41 7.96l-1.37-1.37c-.4-.4-.92-.59-1.43-.59-.52 0-1.04.2-1.43.59L10.3 9.45l-7.72 7.72c-.78.78-.78 2.05 0 2.83L4 21.41c.39.39.9.59 1.41.59.51 0 1.02-.2 1.41-.59l7.78-7.78 2.81-2.81c.8-.78.8-2.07 0-2.86zM5.41 20L4 18.59l7.72-7.72 1.47 1.35L5.41 20z\"/>\n",
              "  </svg>\n",
              "      </button>\n",
              "      \n",
              "  <style>\n",
              "    .colab-df-container {\n",
              "      display:flex;\n",
              "      flex-wrap:wrap;\n",
              "      gap: 12px;\n",
              "    }\n",
              "\n",
              "    .colab-df-convert {\n",
              "      background-color: #E8F0FE;\n",
              "      border: none;\n",
              "      border-radius: 50%;\n",
              "      cursor: pointer;\n",
              "      display: none;\n",
              "      fill: #1967D2;\n",
              "      height: 32px;\n",
              "      padding: 0 0 0 0;\n",
              "      width: 32px;\n",
              "    }\n",
              "\n",
              "    .colab-df-convert:hover {\n",
              "      background-color: #E2EBFA;\n",
              "      box-shadow: 0px 1px 2px rgba(60, 64, 67, 0.3), 0px 1px 3px 1px rgba(60, 64, 67, 0.15);\n",
              "      fill: #174EA6;\n",
              "    }\n",
              "\n",
              "    [theme=dark] .colab-df-convert {\n",
              "      background-color: #3B4455;\n",
              "      fill: #D2E3FC;\n",
              "    }\n",
              "\n",
              "    [theme=dark] .colab-df-convert:hover {\n",
              "      background-color: #434B5C;\n",
              "      box-shadow: 0px 1px 3px 1px rgba(0, 0, 0, 0.15);\n",
              "      filter: drop-shadow(0px 1px 2px rgba(0, 0, 0, 0.3));\n",
              "      fill: #FFFFFF;\n",
              "    }\n",
              "  </style>\n",
              "\n",
              "      <script>\n",
              "        const buttonEl =\n",
              "          document.querySelector('#df-47ead5a7-095d-4e88-bd6d-748049f4184a button.colab-df-convert');\n",
              "        buttonEl.style.display =\n",
              "          google.colab.kernel.accessAllowed ? 'block' : 'none';\n",
              "\n",
              "        async function convertToInteractive(key) {\n",
              "          const element = document.querySelector('#df-47ead5a7-095d-4e88-bd6d-748049f4184a');\n",
              "          const dataTable =\n",
              "            await google.colab.kernel.invokeFunction('convertToInteractive',\n",
              "                                                     [key], {});\n",
              "          if (!dataTable) return;\n",
              "\n",
              "          const docLinkHtml = 'Like what you see? Visit the ' +\n",
              "            '<a target=\"_blank\" href=https://colab.research.google.com/notebooks/data_table.ipynb>data table notebook</a>'\n",
              "            + ' to learn more about interactive tables.';\n",
              "          element.innerHTML = '';\n",
              "          dataTable['output_type'] = 'display_data';\n",
              "          await google.colab.output.renderOutput(dataTable, element);\n",
              "          const docLink = document.createElement('div');\n",
              "          docLink.innerHTML = docLinkHtml;\n",
              "          element.appendChild(docLink);\n",
              "        }\n",
              "      </script>\n",
              "    </div>\n",
              "  </div>\n",
              "  "
            ],
            "text/plain": [
              "       norepinephrine_equivalent_dose   albumin      mchc  los_hospital  \\\n",
              "0                           -0.443811  0.541497  0.963515     -0.765133   \n",
              "1                           -0.387381 -1.024940 -1.086543     -0.204062   \n",
              "2                           -0.443811 -1.024940 -0.881538     -0.204062   \n",
              "3                           -0.407997  1.168072  0.604755     -0.811889   \n",
              "4                           -0.402279  1.168072  0.245994     -0.811889   \n",
              "...                               ...       ...       ...           ...   \n",
              "13853                       -0.406304  0.959214  0.707258      0.357009   \n",
              "13854                       -0.443811  0.959214  1.168521      0.357009   \n",
              "13855                       -0.387457  0.437068 -0.727783     -0.624865   \n",
              "13856                       -0.417477 -0.189507 -0.676532     -0.484598   \n",
              "13857                       -0.443811 -0.189507 -0.676532     -0.484598   \n",
              "\n",
              "             pt        ph  delta_ld_ldh       bun      SpO2  SOFA_admission  \\\n",
              "0     -0.657118 -0.152184      2.068074 -0.647634  0.546800       -0.962238   \n",
              "1     -0.761668  0.032115      0.353147  0.019299  0.808294        0.587047   \n",
              "2     -0.591774  0.326993      0.352241 -0.247474  0.808294        0.587047   \n",
              "3     -0.343467 -0.189044      0.346963 -0.558709  0.546800       -0.187596   \n",
              "4     -0.343467 -0.115324      0.346611 -0.558709  0.808294       -0.187596   \n",
              "...         ...       ...           ...       ...       ...             ...   \n",
              "13853  0.610556 -0.299623      0.352547  0.508382 -0.499174        0.328833   \n",
              "13854  0.532143  0.253273      0.352064  0.686231  0.546800        0.328833   \n",
              "13855 -0.291191 -0.262764     -2.710390 -0.647634 -0.237680       -0.704024   \n",
              "13856 -0.421879 -0.115324      0.352713 -0.736558  0.808294       -1.478666   \n",
              "13857 -0.421879 -0.262764      0.353374 -0.736558  0.546800       -1.478666   \n",
              "\n",
              "            mcv   los_icu  delta_vent_start  delta_sofa_liver      FiO2  \\\n",
              "0      0.973045 -0.821330          0.486579         -1.552505  0.104489   \n",
              "1      0.973045 -0.429173          0.479790          0.619939 -0.282689   \n",
              "2      1.124926 -0.429173          0.415901          0.606600 -0.282689   \n",
              "3      0.517403 -0.838500          0.487787         -1.552505  1.266023   \n",
              "4      0.517403 -0.838500          0.463047         -1.552505  0.104489   \n",
              "...         ...       ...               ...               ...       ...   \n",
              "13853 -0.545761  0.829712          0.491327          0.533325  2.040379   \n",
              "13854 -1.001402  0.829712          0.457300          0.691222  0.104489   \n",
              "13855  0.061762 -0.755399          0.458799         -1.552505  0.104489   \n",
              "13856 -0.242000 -0.566531          0.486412          0.665411  0.104489   \n",
              "13857 -0.242000 -0.566531          0.481706          0.655623  0.104489   \n",
              "\n",
              "       aniongap  glucose_lab  sofa_resp  anchor_age       CCI  chloride  \\\n",
              "0     -0.512191    -0.702311  -0.880193   -0.806361  0.685774  0.728651   \n",
              "1     -0.938175     0.428245   0.031786    1.079675  0.304599  1.017304   \n",
              "2     -0.725183    -0.058764   0.031786    1.079675  0.304599  0.872978   \n",
              "3     -1.364158    -0.684918   0.943764   -0.596802 -0.838926  1.738936   \n",
              "4     -1.364158    -0.684918  -0.880193   -0.596802 -0.838926  1.594610   \n",
              "...         ...          ...        ...         ...       ...       ...   \n",
              "13853  1.830717    -0.563166   0.031786   -0.107829  0.685774  0.295672   \n",
              "13854  1.191742    -0.232696   0.031786   -0.107829  0.685774  0.728651   \n",
              "13855  0.765759    -0.006584   0.031786   -0.876214 -0.838926 -0.281633   \n",
              "13856 -0.725183    -0.789277  -0.880193    0.101730 -0.838926  1.450283   \n",
              "13857 -0.725183    -0.667525   0.031786    0.101730 -0.838926  1.450283   \n",
              "\n",
              "         ld_ldh   lactate  delta_SpO2       rdw       BMI  los_icu_dead  \\\n",
              "0     -0.301850  0.161792    1.447045 -1.022549  1.107750     -0.373313   \n",
              "1     -0.166562 -0.118463    1.447045 -0.577776 -1.798207     -0.373313   \n",
              "2     -0.166562 -0.305299    0.545415 -0.466583 -1.798207     -0.373313   \n",
              "3     -0.228675 -0.258590   -1.558388 -0.837227  0.185672     -0.373313   \n",
              "4     -0.228675 -0.211881    0.244872 -0.614841  0.185672     -0.373313   \n",
              "...         ...       ...         ...       ...       ...           ...   \n",
              "13853 -0.159755  2.030152   -0.957302  0.311768  0.238998     -0.373313   \n",
              "13854 -0.159755  0.395337    0.545415  0.645347  0.238998     -0.373313   \n",
              "13855 -0.446497 -0.211881   -1.558388 -0.614841  0.679194     -0.373313   \n",
              "13856 -0.201448  0.301919    1.146502 -0.911356  0.422125     -0.373313   \n",
              "13857 -0.159755  0.301919   -1.257845 -0.911356  0.422125     -0.373313   \n",
              "\n",
              "       los_icu_surv  \n",
              "0         -0.608693  \n",
              "1         -0.191960  \n",
              "2         -0.191960  \n",
              "3         -0.626939  \n",
              "4         -0.626939  \n",
              "...             ...  \n",
              "13853      1.145817  \n",
              "13854      1.145817  \n",
              "13855     -0.538630  \n",
              "13856     -0.337926  \n",
              "13857     -0.337926  \n",
              "\n",
              "[13858 rows x 28 columns]"
            ]
          },
          "execution_count": 16,
          "metadata": {},
          "output_type": "execute_result"
        }
      ],
      "source": [
        "train_preprocessed = preprocessor.fit_transform(X_train_continuous)\n",
        "pd.DataFrame(train_preprocessed, columns=preprocessor.get_feature_names_out())"
      ]
    },
    {
      "cell_type": "code",
      "execution_count": null,
      "metadata": {
        "id": "Htfy8a9-tNo1"
      },
      "outputs": [],
      "source": [
        "test_preprocessed = preprocessor.transform(X_test_continuous)"
      ]
    },
    {
      "cell_type": "markdown",
      "metadata": {
        "id": "3NuWDRf1sPU2"
      },
      "source": [
        "Join the processed continuous variables with the binary ones to then feed to the model."
      ]
    },
    {
      "cell_type": "code",
      "execution_count": null,
      "metadata": {
        "id": "01xoc8ZZsO_9"
      },
      "outputs": [],
      "source": [
        "X_train_processed=pd.concat([X_train_binary, pd.DataFrame(train_preprocessed, columns=preprocessor.get_feature_names_out())], axis=1, join='inner')\n",
        "X_test_processed=pd.concat([X_test_binary, pd.DataFrame(test_preprocessed, columns=preprocessor.get_feature_names_out())], axis=1, join='inner')"
      ]
    },
    {
      "cell_type": "markdown",
      "metadata": {
        "id": "0c_7ZvUwl2ov"
      },
      "source": [
        "Note: After transforming your data, it is important to further explore it's distribution and ensure that the transformations applied make sense and resulted on what was expected."
      ]
    },
    {
      "cell_type": "markdown",
      "metadata": {
        "id": "3ySqpkQkKi13"
      },
      "source": [
        "###### ✏️ Implement your own data normalization strategy"
      ]
    },
    {
      "cell_type": "code",
      "execution_count": null,
      "metadata": {
        "id": "WQkSjCneKiJj"
      },
      "outputs": [],
      "source": [
        "# Code here!\n",
        "\n",
        "\n",
        "# Check your normalization, e.g. summary statistics, histograms, scatter plots, etc.\n",
        "\n"
      ]
    },
    {
      "cell_type": "markdown",
      "metadata": {
        "id": "x7e8WKX33Qfr"
      },
      "source": [
        "### 3.3 Linear Regression Baseline\n",
        "\n",
        "On of the easiest Machine Learning model is **linear regression**. It assumes that the target variable can be written as a linear combination of the features.\n",
        "\n",
        "In many problems, this solution can be a very strong baseline. Thanks to its simplicity, it can be fitted very quickly even when the number of features is high. \n",
        "\n",
        "In general, wrapping together the features, preprocessing and fitting the estimator in a single pipeline makes it easier to transform, fit and predict the data."
      ]
    },
    {
      "cell_type": "code",
      "execution_count": null,
      "metadata": {
        "colab": {
          "base_uri": "https://localhost:8080/",
          "height": 90
        },
        "id": "MFK_OGqZcGIC",
        "outputId": "107d1085-7c3c-4f34-ce4e-9493caafb37c"
      },
      "outputs": [
        {
          "data": {
            "text/html": [
              "<style>#sk-container-id-2 {color: black;background-color: white;}#sk-container-id-2 pre{padding: 0;}#sk-container-id-2 div.sk-toggleable {background-color: white;}#sk-container-id-2 label.sk-toggleable__label {cursor: pointer;display: block;width: 100%;margin-bottom: 0;padding: 0.3em;box-sizing: border-box;text-align: center;}#sk-container-id-2 label.sk-toggleable__label-arrow:before {content: \"▸\";float: left;margin-right: 0.25em;color: #696969;}#sk-container-id-2 label.sk-toggleable__label-arrow:hover:before {color: black;}#sk-container-id-2 div.sk-estimator:hover label.sk-toggleable__label-arrow:before {color: black;}#sk-container-id-2 div.sk-toggleable__content {max-height: 0;max-width: 0;overflow: hidden;text-align: left;background-color: #f0f8ff;}#sk-container-id-2 div.sk-toggleable__content pre {margin: 0.2em;color: black;border-radius: 0.25em;background-color: #f0f8ff;}#sk-container-id-2 input.sk-toggleable__control:checked~div.sk-toggleable__content {max-height: 200px;max-width: 100%;overflow: auto;}#sk-container-id-2 input.sk-toggleable__control:checked~label.sk-toggleable__label-arrow:before {content: \"▾\";}#sk-container-id-2 div.sk-estimator input.sk-toggleable__control:checked~label.sk-toggleable__label {background-color: #d4ebff;}#sk-container-id-2 div.sk-label input.sk-toggleable__control:checked~label.sk-toggleable__label {background-color: #d4ebff;}#sk-container-id-2 input.sk-hidden--visually {border: 0;clip: rect(1px 1px 1px 1px);clip: rect(1px, 1px, 1px, 1px);height: 1px;margin: -1px;overflow: hidden;padding: 0;position: absolute;width: 1px;}#sk-container-id-2 div.sk-estimator {font-family: monospace;background-color: #f0f8ff;border: 1px dotted black;border-radius: 0.25em;box-sizing: border-box;margin-bottom: 0.5em;}#sk-container-id-2 div.sk-estimator:hover {background-color: #d4ebff;}#sk-container-id-2 div.sk-parallel-item::after {content: \"\";width: 100%;border-bottom: 1px solid gray;flex-grow: 1;}#sk-container-id-2 div.sk-label:hover label.sk-toggleable__label {background-color: #d4ebff;}#sk-container-id-2 div.sk-serial::before {content: \"\";position: absolute;border-left: 1px solid gray;box-sizing: border-box;top: 0;bottom: 0;left: 50%;z-index: 0;}#sk-container-id-2 div.sk-serial {display: flex;flex-direction: column;align-items: center;background-color: white;padding-right: 0.2em;padding-left: 0.2em;position: relative;}#sk-container-id-2 div.sk-item {position: relative;z-index: 1;}#sk-container-id-2 div.sk-parallel {display: flex;align-items: stretch;justify-content: center;background-color: white;position: relative;}#sk-container-id-2 div.sk-item::before, #sk-container-id-2 div.sk-parallel-item::before {content: \"\";position: absolute;border-left: 1px solid gray;box-sizing: border-box;top: 0;bottom: 0;left: 50%;z-index: -1;}#sk-container-id-2 div.sk-parallel-item {display: flex;flex-direction: column;z-index: 1;position: relative;background-color: white;}#sk-container-id-2 div.sk-parallel-item:first-child::after {align-self: flex-end;width: 50%;}#sk-container-id-2 div.sk-parallel-item:last-child::after {align-self: flex-start;width: 50%;}#sk-container-id-2 div.sk-parallel-item:only-child::after {width: 0;}#sk-container-id-2 div.sk-dashed-wrapped {border: 1px dashed gray;margin: 0 0.4em 0.5em 0.4em;box-sizing: border-box;padding-bottom: 0.4em;background-color: white;}#sk-container-id-2 div.sk-label label {font-family: monospace;font-weight: bold;display: inline-block;line-height: 1.2em;}#sk-container-id-2 div.sk-label-container {text-align: center;}#sk-container-id-2 div.sk-container {/* jupyter's `normalize.less` sets `[hidden] { display: none; }` but bootstrap.min.css set `[hidden] { display: none !important; }` so we also need the `!important` here to be able to override the default hidden behavior on the sphinx rendered scikit-learn.org. See: https://github.com/scikit-learn/scikit-learn/issues/21755 */display: inline-block !important;position: relative;}#sk-container-id-2 div.sk-text-repr-fallback {display: none;}</style><div id=\"sk-container-id-2\" class=\"sk-top-container\"><div class=\"sk-text-repr-fallback\"><pre>Pipeline(steps=[(&#x27;linearregression&#x27;, LinearRegression())])</pre><b>In a Jupyter environment, please rerun this cell to show the HTML representation or trust the notebook. <br />On GitHub, the HTML representation is unable to render, please try loading this page with nbviewer.org.</b></div><div class=\"sk-container\" hidden><div class=\"sk-item sk-dashed-wrapped\"><div class=\"sk-label-container\"><div class=\"sk-label sk-toggleable\"><input class=\"sk-toggleable__control sk-hidden--visually\" id=\"sk-estimator-id-3\" type=\"checkbox\" ><label for=\"sk-estimator-id-3\" class=\"sk-toggleable__label sk-toggleable__label-arrow\">Pipeline</label><div class=\"sk-toggleable__content\"><pre>Pipeline(steps=[(&#x27;linearregression&#x27;, LinearRegression())])</pre></div></div></div><div class=\"sk-serial\"><div class=\"sk-item\"><div class=\"sk-estimator sk-toggleable\"><input class=\"sk-toggleable__control sk-hidden--visually\" id=\"sk-estimator-id-4\" type=\"checkbox\" ><label for=\"sk-estimator-id-4\" class=\"sk-toggleable__label sk-toggleable__label-arrow\">LinearRegression</label><div class=\"sk-toggleable__content\"><pre>LinearRegression()</pre></div></div></div></div></div></div></div>"
            ],
            "text/plain": [
              "Pipeline(steps=[('linearregression', LinearRegression())])"
            ]
          },
          "execution_count": 19,
          "metadata": {},
          "output_type": "execute_result"
        }
      ],
      "source": [
        "lmodel = linear_model.LinearRegression()\n",
        "\n",
        "lpipeline = make_pipeline(lmodel)\n",
        "lpipeline"
      ]
    },
    {
      "cell_type": "markdown",
      "metadata": {
        "id": "L2UCFEc91l1d"
      },
      "source": [
        "We train the model by calling the `fit` function on the train data."
      ]
    },
    {
      "cell_type": "code",
      "execution_count": null,
      "metadata": {
        "colab": {
          "base_uri": "https://localhost:8080/",
          "height": 90
        },
        "id": "8tgH9TnQe_3h",
        "outputId": "c8103bc8-515d-47af-f66a-38dfa048a0a6"
      },
      "outputs": [
        {
          "data": {
            "text/html": [
              "<style>#sk-container-id-3 {color: black;background-color: white;}#sk-container-id-3 pre{padding: 0;}#sk-container-id-3 div.sk-toggleable {background-color: white;}#sk-container-id-3 label.sk-toggleable__label {cursor: pointer;display: block;width: 100%;margin-bottom: 0;padding: 0.3em;box-sizing: border-box;text-align: center;}#sk-container-id-3 label.sk-toggleable__label-arrow:before {content: \"▸\";float: left;margin-right: 0.25em;color: #696969;}#sk-container-id-3 label.sk-toggleable__label-arrow:hover:before {color: black;}#sk-container-id-3 div.sk-estimator:hover label.sk-toggleable__label-arrow:before {color: black;}#sk-container-id-3 div.sk-toggleable__content {max-height: 0;max-width: 0;overflow: hidden;text-align: left;background-color: #f0f8ff;}#sk-container-id-3 div.sk-toggleable__content pre {margin: 0.2em;color: black;border-radius: 0.25em;background-color: #f0f8ff;}#sk-container-id-3 input.sk-toggleable__control:checked~div.sk-toggleable__content {max-height: 200px;max-width: 100%;overflow: auto;}#sk-container-id-3 input.sk-toggleable__control:checked~label.sk-toggleable__label-arrow:before {content: \"▾\";}#sk-container-id-3 div.sk-estimator input.sk-toggleable__control:checked~label.sk-toggleable__label {background-color: #d4ebff;}#sk-container-id-3 div.sk-label input.sk-toggleable__control:checked~label.sk-toggleable__label {background-color: #d4ebff;}#sk-container-id-3 input.sk-hidden--visually {border: 0;clip: rect(1px 1px 1px 1px);clip: rect(1px, 1px, 1px, 1px);height: 1px;margin: -1px;overflow: hidden;padding: 0;position: absolute;width: 1px;}#sk-container-id-3 div.sk-estimator {font-family: monospace;background-color: #f0f8ff;border: 1px dotted black;border-radius: 0.25em;box-sizing: border-box;margin-bottom: 0.5em;}#sk-container-id-3 div.sk-estimator:hover {background-color: #d4ebff;}#sk-container-id-3 div.sk-parallel-item::after {content: \"\";width: 100%;border-bottom: 1px solid gray;flex-grow: 1;}#sk-container-id-3 div.sk-label:hover label.sk-toggleable__label {background-color: #d4ebff;}#sk-container-id-3 div.sk-serial::before {content: \"\";position: absolute;border-left: 1px solid gray;box-sizing: border-box;top: 0;bottom: 0;left: 50%;z-index: 0;}#sk-container-id-3 div.sk-serial {display: flex;flex-direction: column;align-items: center;background-color: white;padding-right: 0.2em;padding-left: 0.2em;position: relative;}#sk-container-id-3 div.sk-item {position: relative;z-index: 1;}#sk-container-id-3 div.sk-parallel {display: flex;align-items: stretch;justify-content: center;background-color: white;position: relative;}#sk-container-id-3 div.sk-item::before, #sk-container-id-3 div.sk-parallel-item::before {content: \"\";position: absolute;border-left: 1px solid gray;box-sizing: border-box;top: 0;bottom: 0;left: 50%;z-index: -1;}#sk-container-id-3 div.sk-parallel-item {display: flex;flex-direction: column;z-index: 1;position: relative;background-color: white;}#sk-container-id-3 div.sk-parallel-item:first-child::after {align-self: flex-end;width: 50%;}#sk-container-id-3 div.sk-parallel-item:last-child::after {align-self: flex-start;width: 50%;}#sk-container-id-3 div.sk-parallel-item:only-child::after {width: 0;}#sk-container-id-3 div.sk-dashed-wrapped {border: 1px dashed gray;margin: 0 0.4em 0.5em 0.4em;box-sizing: border-box;padding-bottom: 0.4em;background-color: white;}#sk-container-id-3 div.sk-label label {font-family: monospace;font-weight: bold;display: inline-block;line-height: 1.2em;}#sk-container-id-3 div.sk-label-container {text-align: center;}#sk-container-id-3 div.sk-container {/* jupyter's `normalize.less` sets `[hidden] { display: none; }` but bootstrap.min.css set `[hidden] { display: none !important; }` so we also need the `!important` here to be able to override the default hidden behavior on the sphinx rendered scikit-learn.org. See: https://github.com/scikit-learn/scikit-learn/issues/21755 */display: inline-block !important;position: relative;}#sk-container-id-3 div.sk-text-repr-fallback {display: none;}</style><div id=\"sk-container-id-3\" class=\"sk-top-container\"><div class=\"sk-text-repr-fallback\"><pre>Pipeline(steps=[(&#x27;linearregression&#x27;, LinearRegression())])</pre><b>In a Jupyter environment, please rerun this cell to show the HTML representation or trust the notebook. <br />On GitHub, the HTML representation is unable to render, please try loading this page with nbviewer.org.</b></div><div class=\"sk-container\" hidden><div class=\"sk-item sk-dashed-wrapped\"><div class=\"sk-label-container\"><div class=\"sk-label sk-toggleable\"><input class=\"sk-toggleable__control sk-hidden--visually\" id=\"sk-estimator-id-5\" type=\"checkbox\" ><label for=\"sk-estimator-id-5\" class=\"sk-toggleable__label sk-toggleable__label-arrow\">Pipeline</label><div class=\"sk-toggleable__content\"><pre>Pipeline(steps=[(&#x27;linearregression&#x27;, LinearRegression())])</pre></div></div></div><div class=\"sk-serial\"><div class=\"sk-item\"><div class=\"sk-estimator sk-toggleable\"><input class=\"sk-toggleable__control sk-hidden--visually\" id=\"sk-estimator-id-6\" type=\"checkbox\" ><label for=\"sk-estimator-id-6\" class=\"sk-toggleable__label sk-toggleable__label-arrow\">LinearRegression</label><div class=\"sk-toggleable__content\"><pre>LinearRegression()</pre></div></div></div></div></div></div></div>"
            ],
            "text/plain": [
              "Pipeline(steps=[('linearregression', LinearRegression())])"
            ]
          },
          "execution_count": 20,
          "metadata": {},
          "output_type": "execute_result"
        }
      ],
      "source": [
        "# Train the model using the training set\n",
        "lpipeline.fit(X_train_processed.values, y_train_r)"
      ]
    },
    {
      "cell_type": "markdown",
      "metadata": {
        "id": "N0q0InmHetxk"
      },
      "source": [
        "**Interpretation**: Because the linear model gives one weight to each feature, we can easily explore how it modeled our target covariate by visualizing the coefficients.   \n"
      ]
    },
    {
      "cell_type": "code",
      "execution_count": null,
      "metadata": {
        "colab": {
          "base_uri": "https://localhost:8080/",
          "height": 161
        },
        "id": "pXAwleUVfjnl",
        "outputId": "a054771c-9829-4042-d478-deac11586986"
      },
      "outputs": [
        {
          "name": "stdout",
          "output_type": "stream",
          "text": [
            "Examine regression coefficients:\n"
          ]
        },
        {
          "data": {
            "text/html": [
              "\n",
              "  <div id=\"df-ca690b50-8602-49e8-aac8-02ab77b26f6a\">\n",
              "    <div class=\"colab-df-container\">\n",
              "      <div>\n",
              "<style scoped>\n",
              "    .dataframe tbody tr th:only-of-type {\n",
              "        vertical-align: middle;\n",
              "    }\n",
              "\n",
              "    .dataframe tbody tr th {\n",
              "        vertical-align: top;\n",
              "    }\n",
              "\n",
              "    .dataframe thead th {\n",
              "        text-align: right;\n",
              "    }\n",
              "</style>\n",
              "<table border=\"1\" class=\"dataframe\">\n",
              "  <thead>\n",
              "    <tr style=\"text-align: right;\">\n",
              "      <th></th>\n",
              "      <th>0</th>\n",
              "      <th>1</th>\n",
              "      <th>2</th>\n",
              "      <th>3</th>\n",
              "      <th>4</th>\n",
              "      <th>5</th>\n",
              "      <th>6</th>\n",
              "      <th>7</th>\n",
              "      <th>8</th>\n",
              "      <th>9</th>\n",
              "      <th>10</th>\n",
              "      <th>11</th>\n",
              "      <th>12</th>\n",
              "      <th>13</th>\n",
              "      <th>14</th>\n",
              "      <th>15</th>\n",
              "      <th>16</th>\n",
              "      <th>17</th>\n",
              "      <th>18</th>\n",
              "      <th>19</th>\n",
              "      <th>20</th>\n",
              "      <th>21</th>\n",
              "      <th>22</th>\n",
              "      <th>23</th>\n",
              "      <th>24</th>\n",
              "      <th>25</th>\n",
              "      <th>26</th>\n",
              "      <th>27</th>\n",
              "      <th>28</th>\n",
              "      <th>29</th>\n",
              "      <th>30</th>\n",
              "      <th>31</th>\n",
              "      <th>32</th>\n",
              "      <th>33</th>\n",
              "      <th>34</th>\n",
              "      <th>35</th>\n",
              "      <th>36</th>\n",
              "      <th>37</th>\n",
              "      <th>38</th>\n",
              "      <th>39</th>\n",
              "      <th>40</th>\n",
              "      <th>41</th>\n",
              "      <th>42</th>\n",
              "      <th>43</th>\n",
              "      <th>44</th>\n",
              "      <th>45</th>\n",
              "      <th>46</th>\n",
              "    </tr>\n",
              "  </thead>\n",
              "  <tbody>\n",
              "    <tr>\n",
              "      <th>0</th>\n",
              "      <td>1.813453e+11</td>\n",
              "      <td>0.005417</td>\n",
              "      <td>0.003889</td>\n",
              "      <td>-0.005642</td>\n",
              "      <td>-0.005836</td>\n",
              "      <td>1.705160e+11</td>\n",
              "      <td>-1.082930e+10</td>\n",
              "      <td>1.705160e+11</td>\n",
              "      <td>1.705160e+11</td>\n",
              "      <td>1.705160e+11</td>\n",
              "      <td>-1.082930e+10</td>\n",
              "      <td>-1.116052e+11</td>\n",
              "      <td>-1.116052e+11</td>\n",
              "      <td>-1.116052e+11</td>\n",
              "      <td>-1.116052e+11</td>\n",
              "      <td>-1.116052e+11</td>\n",
              "      <td>3.435718e+11</td>\n",
              "      <td>3.435718e+11</td>\n",
              "      <td>3.435718e+11</td>\n",
              "      <td>-0.000173</td>\n",
              "      <td>0.001566</td>\n",
              "      <td>0.00245</td>\n",
              "      <td>-0.001578</td>\n",
              "      <td>0.001975</td>\n",
              "      <td>0.002821</td>\n",
              "      <td>-0.000368</td>\n",
              "      <td>-0.001013</td>\n",
              "      <td>0.044242</td>\n",
              "      <td>0.002635</td>\n",
              "      <td>-0.003624</td>\n",
              "      <td>1.243508e+11</td>\n",
              "      <td>0.005115</td>\n",
              "      <td>0.000558</td>\n",
              "      <td>0.006836</td>\n",
              "      <td>0.004026</td>\n",
              "      <td>-0.00141</td>\n",
              "      <td>-0.029034</td>\n",
              "      <td>0.005464</td>\n",
              "      <td>-0.003052</td>\n",
              "      <td>0.000706</td>\n",
              "      <td>-0.000078</td>\n",
              "      <td>-0.00161</td>\n",
              "      <td>0.001136</td>\n",
              "      <td>-0.002898</td>\n",
              "      <td>0.001915</td>\n",
              "      <td>-8.278665e+10</td>\n",
              "      <td>-1.170176e+11</td>\n",
              "    </tr>\n",
              "  </tbody>\n",
              "</table>\n",
              "</div>\n",
              "      <button class=\"colab-df-convert\" onclick=\"convertToInteractive('df-ca690b50-8602-49e8-aac8-02ab77b26f6a')\"\n",
              "              title=\"Convert this dataframe to an interactive table.\"\n",
              "              style=\"display:none;\">\n",
              "        \n",
              "  <svg xmlns=\"http://www.w3.org/2000/svg\" height=\"24px\"viewBox=\"0 0 24 24\"\n",
              "       width=\"24px\">\n",
              "    <path d=\"M0 0h24v24H0V0z\" fill=\"none\"/>\n",
              "    <path d=\"M18.56 5.44l.94 2.06.94-2.06 2.06-.94-2.06-.94-.94-2.06-.94 2.06-2.06.94zm-11 1L8.5 8.5l.94-2.06 2.06-.94-2.06-.94L8.5 2.5l-.94 2.06-2.06.94zm10 10l.94 2.06.94-2.06 2.06-.94-2.06-.94-.94-2.06-.94 2.06-2.06.94z\"/><path d=\"M17.41 7.96l-1.37-1.37c-.4-.4-.92-.59-1.43-.59-.52 0-1.04.2-1.43.59L10.3 9.45l-7.72 7.72c-.78.78-.78 2.05 0 2.83L4 21.41c.39.39.9.59 1.41.59.51 0 1.02-.2 1.41-.59l7.78-7.78 2.81-2.81c.8-.78.8-2.07 0-2.86zM5.41 20L4 18.59l7.72-7.72 1.47 1.35L5.41 20z\"/>\n",
              "  </svg>\n",
              "      </button>\n",
              "      \n",
              "  <style>\n",
              "    .colab-df-container {\n",
              "      display:flex;\n",
              "      flex-wrap:wrap;\n",
              "      gap: 12px;\n",
              "    }\n",
              "\n",
              "    .colab-df-convert {\n",
              "      background-color: #E8F0FE;\n",
              "      border: none;\n",
              "      border-radius: 50%;\n",
              "      cursor: pointer;\n",
              "      display: none;\n",
              "      fill: #1967D2;\n",
              "      height: 32px;\n",
              "      padding: 0 0 0 0;\n",
              "      width: 32px;\n",
              "    }\n",
              "\n",
              "    .colab-df-convert:hover {\n",
              "      background-color: #E2EBFA;\n",
              "      box-shadow: 0px 1px 2px rgba(60, 64, 67, 0.3), 0px 1px 3px 1px rgba(60, 64, 67, 0.15);\n",
              "      fill: #174EA6;\n",
              "    }\n",
              "\n",
              "    [theme=dark] .colab-df-convert {\n",
              "      background-color: #3B4455;\n",
              "      fill: #D2E3FC;\n",
              "    }\n",
              "\n",
              "    [theme=dark] .colab-df-convert:hover {\n",
              "      background-color: #434B5C;\n",
              "      box-shadow: 0px 1px 3px 1px rgba(0, 0, 0, 0.15);\n",
              "      filter: drop-shadow(0px 1px 2px rgba(0, 0, 0, 0.3));\n",
              "      fill: #FFFFFF;\n",
              "    }\n",
              "  </style>\n",
              "\n",
              "      <script>\n",
              "        const buttonEl =\n",
              "          document.querySelector('#df-ca690b50-8602-49e8-aac8-02ab77b26f6a button.colab-df-convert');\n",
              "        buttonEl.style.display =\n",
              "          google.colab.kernel.accessAllowed ? 'block' : 'none';\n",
              "\n",
              "        async function convertToInteractive(key) {\n",
              "          const element = document.querySelector('#df-ca690b50-8602-49e8-aac8-02ab77b26f6a');\n",
              "          const dataTable =\n",
              "            await google.colab.kernel.invokeFunction('convertToInteractive',\n",
              "                                                     [key], {});\n",
              "          if (!dataTable) return;\n",
              "\n",
              "          const docLinkHtml = 'Like what you see? Visit the ' +\n",
              "            '<a target=\"_blank\" href=https://colab.research.google.com/notebooks/data_table.ipynb>data table notebook</a>'\n",
              "            + ' to learn more about interactive tables.';\n",
              "          element.innerHTML = '';\n",
              "          dataTable['output_type'] = 'display_data';\n",
              "          await google.colab.output.renderOutput(dataTable, element);\n",
              "          const docLink = document.createElement('div');\n",
              "          docLink.innerHTML = docLinkHtml;\n",
              "          element.appendChild(docLink);\n",
              "        }\n",
              "      </script>\n",
              "    </div>\n",
              "  </div>\n",
              "  "
            ],
            "text/plain": [
              "             0         1         2         3         4             5   \\\n",
              "0  1.813453e+11  0.005417  0.003889 -0.005642 -0.005836  1.705160e+11   \n",
              "\n",
              "             6             7             8             9             10  \\\n",
              "0 -1.082930e+10  1.705160e+11  1.705160e+11  1.705160e+11 -1.082930e+10   \n",
              "\n",
              "             11            12            13            14            15  \\\n",
              "0 -1.116052e+11 -1.116052e+11 -1.116052e+11 -1.116052e+11 -1.116052e+11   \n",
              "\n",
              "             16            17            18        19        20       21  \\\n",
              "0  3.435718e+11  3.435718e+11  3.435718e+11 -0.000173  0.001566  0.00245   \n",
              "\n",
              "         22        23        24        25        26        27        28  \\\n",
              "0 -0.001578  0.001975  0.002821 -0.000368 -0.001013  0.044242  0.002635   \n",
              "\n",
              "         29            30        31        32        33        34       35  \\\n",
              "0 -0.003624  1.243508e+11  0.005115  0.000558  0.006836  0.004026 -0.00141   \n",
              "\n",
              "         36        37        38        39        40       41        42  \\\n",
              "0 -0.029034  0.005464 -0.003052  0.000706 -0.000078 -0.00161  0.001136   \n",
              "\n",
              "         43        44            45            46  \n",
              "0 -0.002898  0.001915 -8.278665e+10 -1.170176e+11  "
            ]
          },
          "execution_count": 21,
          "metadata": {},
          "output_type": "execute_result"
        }
      ],
      "source": [
        "print('Examine regression coefficients:')\n",
        "linear_coefficients = pd.DataFrame(\n",
        "    lpipeline.named_steps.linearregression.coef_, columns=lpipeline[:-1].get_feature_names_out()\n",
        ")\n",
        "\n",
        "linear_coefficients"
      ]
    },
    {
      "cell_type": "markdown",
      "metadata": {
        "id": "G_jFEP2afiYG"
      },
      "source": [
        "✏️ Don't you see anything strange with some of these coefficients ? \n",
        "\n",
        "These weird coefficients are caused by multiple features measuring almost the same thing --a phenoma called multi-colinearity. Giving redundant information to a linear model, makes it predict unprecise and noisy coefficients.  \n",
        "You can learn more about [the limitations of the linear model here](https://inria.github.io/scikit-learn-mooc/python_scripts/linear_models_regularization.html).\n",
        "\n",
        "A simple solution is to force the model to avoid extreme coefficients, by adding a *regularization*. The subsequent model is called a Ridge regression."
      ]
    },
    {
      "cell_type": "code",
      "execution_count": null,
      "metadata": {
        "colab": {
          "base_uri": "https://localhost:8080/",
          "height": 90
        },
        "id": "ZX6cqnUxdvra",
        "outputId": "f6c309c2-b2c7-435d-ebc8-98abb0b568fe"
      },
      "outputs": [
        {
          "data": {
            "text/html": [
              "<style>#sk-container-id-4 {color: black;background-color: white;}#sk-container-id-4 pre{padding: 0;}#sk-container-id-4 div.sk-toggleable {background-color: white;}#sk-container-id-4 label.sk-toggleable__label {cursor: pointer;display: block;width: 100%;margin-bottom: 0;padding: 0.3em;box-sizing: border-box;text-align: center;}#sk-container-id-4 label.sk-toggleable__label-arrow:before {content: \"▸\";float: left;margin-right: 0.25em;color: #696969;}#sk-container-id-4 label.sk-toggleable__label-arrow:hover:before {color: black;}#sk-container-id-4 div.sk-estimator:hover label.sk-toggleable__label-arrow:before {color: black;}#sk-container-id-4 div.sk-toggleable__content {max-height: 0;max-width: 0;overflow: hidden;text-align: left;background-color: #f0f8ff;}#sk-container-id-4 div.sk-toggleable__content pre {margin: 0.2em;color: black;border-radius: 0.25em;background-color: #f0f8ff;}#sk-container-id-4 input.sk-toggleable__control:checked~div.sk-toggleable__content {max-height: 200px;max-width: 100%;overflow: auto;}#sk-container-id-4 input.sk-toggleable__control:checked~label.sk-toggleable__label-arrow:before {content: \"▾\";}#sk-container-id-4 div.sk-estimator input.sk-toggleable__control:checked~label.sk-toggleable__label {background-color: #d4ebff;}#sk-container-id-4 div.sk-label input.sk-toggleable__control:checked~label.sk-toggleable__label {background-color: #d4ebff;}#sk-container-id-4 input.sk-hidden--visually {border: 0;clip: rect(1px 1px 1px 1px);clip: rect(1px, 1px, 1px, 1px);height: 1px;margin: -1px;overflow: hidden;padding: 0;position: absolute;width: 1px;}#sk-container-id-4 div.sk-estimator {font-family: monospace;background-color: #f0f8ff;border: 1px dotted black;border-radius: 0.25em;box-sizing: border-box;margin-bottom: 0.5em;}#sk-container-id-4 div.sk-estimator:hover {background-color: #d4ebff;}#sk-container-id-4 div.sk-parallel-item::after {content: \"\";width: 100%;border-bottom: 1px solid gray;flex-grow: 1;}#sk-container-id-4 div.sk-label:hover label.sk-toggleable__label {background-color: #d4ebff;}#sk-container-id-4 div.sk-serial::before {content: \"\";position: absolute;border-left: 1px solid gray;box-sizing: border-box;top: 0;bottom: 0;left: 50%;z-index: 0;}#sk-container-id-4 div.sk-serial {display: flex;flex-direction: column;align-items: center;background-color: white;padding-right: 0.2em;padding-left: 0.2em;position: relative;}#sk-container-id-4 div.sk-item {position: relative;z-index: 1;}#sk-container-id-4 div.sk-parallel {display: flex;align-items: stretch;justify-content: center;background-color: white;position: relative;}#sk-container-id-4 div.sk-item::before, #sk-container-id-4 div.sk-parallel-item::before {content: \"\";position: absolute;border-left: 1px solid gray;box-sizing: border-box;top: 0;bottom: 0;left: 50%;z-index: -1;}#sk-container-id-4 div.sk-parallel-item {display: flex;flex-direction: column;z-index: 1;position: relative;background-color: white;}#sk-container-id-4 div.sk-parallel-item:first-child::after {align-self: flex-end;width: 50%;}#sk-container-id-4 div.sk-parallel-item:last-child::after {align-self: flex-start;width: 50%;}#sk-container-id-4 div.sk-parallel-item:only-child::after {width: 0;}#sk-container-id-4 div.sk-dashed-wrapped {border: 1px dashed gray;margin: 0 0.4em 0.5em 0.4em;box-sizing: border-box;padding-bottom: 0.4em;background-color: white;}#sk-container-id-4 div.sk-label label {font-family: monospace;font-weight: bold;display: inline-block;line-height: 1.2em;}#sk-container-id-4 div.sk-label-container {text-align: center;}#sk-container-id-4 div.sk-container {/* jupyter's `normalize.less` sets `[hidden] { display: none; }` but bootstrap.min.css set `[hidden] { display: none !important; }` so we also need the `!important` here to be able to override the default hidden behavior on the sphinx rendered scikit-learn.org. See: https://github.com/scikit-learn/scikit-learn/issues/21755 */display: inline-block !important;position: relative;}#sk-container-id-4 div.sk-text-repr-fallback {display: none;}</style><div id=\"sk-container-id-4\" class=\"sk-top-container\"><div class=\"sk-text-repr-fallback\"><pre>Pipeline(steps=[(&#x27;ridge&#x27;, Ridge(alpha=10))])</pre><b>In a Jupyter environment, please rerun this cell to show the HTML representation or trust the notebook. <br />On GitHub, the HTML representation is unable to render, please try loading this page with nbviewer.org.</b></div><div class=\"sk-container\" hidden><div class=\"sk-item sk-dashed-wrapped\"><div class=\"sk-label-container\"><div class=\"sk-label sk-toggleable\"><input class=\"sk-toggleable__control sk-hidden--visually\" id=\"sk-estimator-id-7\" type=\"checkbox\" ><label for=\"sk-estimator-id-7\" class=\"sk-toggleable__label sk-toggleable__label-arrow\">Pipeline</label><div class=\"sk-toggleable__content\"><pre>Pipeline(steps=[(&#x27;ridge&#x27;, Ridge(alpha=10))])</pre></div></div></div><div class=\"sk-serial\"><div class=\"sk-item\"><div class=\"sk-estimator sk-toggleable\"><input class=\"sk-toggleable__control sk-hidden--visually\" id=\"sk-estimator-id-8\" type=\"checkbox\" ><label for=\"sk-estimator-id-8\" class=\"sk-toggleable__label sk-toggleable__label-arrow\">Ridge</label><div class=\"sk-toggleable__content\"><pre>Ridge(alpha=10)</pre></div></div></div></div></div></div></div>"
            ],
            "text/plain": [
              "Pipeline(steps=[('ridge', Ridge(alpha=10))])"
            ]
          },
          "execution_count": 22,
          "metadata": {},
          "output_type": "execute_result"
        }
      ],
      "source": [
        "# Train the model using the training set\n",
        "ridge_pipeline = make_pipeline(Ridge(alpha=10))\n",
        "ridge_pipeline.fit(X_train_processed.values, y_train_r)"
      ]
    },
    {
      "cell_type": "markdown",
      "metadata": {
        "id": "_IHayT8i5kMP"
      },
      "source": [
        "Examine the regression coefficients for the Ridge estimator. It looks much more reasonable.\n"
      ]
    },
    {
      "cell_type": "code",
      "execution_count": null,
      "metadata": {
        "colab": {
          "base_uri": "https://localhost:8080/",
          "height": 161
        },
        "id": "MThyoERe5gyz",
        "outputId": "f9ab3583-e280-4385-f6e3-a20539caf1ad"
      },
      "outputs": [
        {
          "name": "stdout",
          "output_type": "stream",
          "text": [
            "Coefficients: \n"
          ]
        },
        {
          "data": {
            "text/html": [
              "\n",
              "  <div id=\"df-cafd1531-31ae-43ec-a003-45fd3966f1ec\">\n",
              "    <div class=\"colab-df-container\">\n",
              "      <div>\n",
              "<style scoped>\n",
              "    .dataframe tbody tr th:only-of-type {\n",
              "        vertical-align: middle;\n",
              "    }\n",
              "\n",
              "    .dataframe tbody tr th {\n",
              "        vertical-align: top;\n",
              "    }\n",
              "\n",
              "    .dataframe thead th {\n",
              "        text-align: right;\n",
              "    }\n",
              "</style>\n",
              "<table border=\"1\" class=\"dataframe\">\n",
              "  <thead>\n",
              "    <tr style=\"text-align: right;\">\n",
              "      <th>feature_names</th>\n",
              "      <th>None</th>\n",
              "      <th>None</th>\n",
              "      <th>None</th>\n",
              "      <th>None</th>\n",
              "      <th>None</th>\n",
              "      <th>None</th>\n",
              "      <th>None</th>\n",
              "      <th>None</th>\n",
              "      <th>None</th>\n",
              "      <th>None</th>\n",
              "      <th>None</th>\n",
              "      <th>None</th>\n",
              "      <th>None</th>\n",
              "      <th>None</th>\n",
              "      <th>None</th>\n",
              "      <th>None</th>\n",
              "      <th>None</th>\n",
              "      <th>None</th>\n",
              "      <th>None</th>\n",
              "      <th>None</th>\n",
              "      <th>None</th>\n",
              "      <th>None</th>\n",
              "      <th>None</th>\n",
              "      <th>None</th>\n",
              "      <th>None</th>\n",
              "      <th>None</th>\n",
              "      <th>None</th>\n",
              "      <th>None</th>\n",
              "      <th>None</th>\n",
              "      <th>None</th>\n",
              "      <th>None</th>\n",
              "      <th>None</th>\n",
              "      <th>None</th>\n",
              "      <th>None</th>\n",
              "      <th>None</th>\n",
              "      <th>None</th>\n",
              "      <th>None</th>\n",
              "      <th>None</th>\n",
              "      <th>None</th>\n",
              "      <th>None</th>\n",
              "      <th>None</th>\n",
              "      <th>None</th>\n",
              "      <th>None</th>\n",
              "      <th>None</th>\n",
              "      <th>None</th>\n",
              "      <th>None</th>\n",
              "      <th>None</th>\n",
              "    </tr>\n",
              "  </thead>\n",
              "  <tbody>\n",
              "    <tr>\n",
              "      <th>coefficients</th>\n",
              "      <td>0.044311</td>\n",
              "      <td>0.024338</td>\n",
              "      <td>0.014683</td>\n",
              "      <td>0.010652</td>\n",
              "      <td>0.00862</td>\n",
              "      <td>0.006622</td>\n",
              "      <td>0.00544</td>\n",
              "      <td>0.004775</td>\n",
              "      <td>0.004057</td>\n",
              "      <td>0.003862</td>\n",
              "      <td>0.003344</td>\n",
              "      <td>0.002901</td>\n",
              "      <td>0.002621</td>\n",
              "      <td>0.002383</td>\n",
              "      <td>0.002239</td>\n",
              "      <td>0.002054</td>\n",
              "      <td>0.001969</td>\n",
              "      <td>0.001935</td>\n",
              "      <td>0.001616</td>\n",
              "      <td>0.001298</td>\n",
              "      <td>0.001191</td>\n",
              "      <td>0.00113</td>\n",
              "      <td>0.001115</td>\n",
              "      <td>0.001079</td>\n",
              "      <td>0.001065</td>\n",
              "      <td>0.000646</td>\n",
              "      <td>0.000548</td>\n",
              "      <td>-0.000042</td>\n",
              "      <td>-0.000076</td>\n",
              "      <td>-0.00008</td>\n",
              "      <td>-0.000408</td>\n",
              "      <td>-0.001061</td>\n",
              "      <td>-0.001357</td>\n",
              "      <td>-0.001564</td>\n",
              "      <td>-0.001578</td>\n",
              "      <td>-0.002209</td>\n",
              "      <td>-0.002955</td>\n",
              "      <td>-0.002984</td>\n",
              "      <td>-0.00372</td>\n",
              "      <td>-0.004032</td>\n",
              "      <td>-0.005074</td>\n",
              "      <td>-0.005621</td>\n",
              "      <td>-0.006232</td>\n",
              "      <td>-0.008078</td>\n",
              "      <td>-0.012173</td>\n",
              "      <td>-0.021839</td>\n",
              "      <td>-0.02895</td>\n",
              "    </tr>\n",
              "  </tbody>\n",
              "</table>\n",
              "</div>\n",
              "      <button class=\"colab-df-convert\" onclick=\"convertToInteractive('df-cafd1531-31ae-43ec-a003-45fd3966f1ec')\"\n",
              "              title=\"Convert this dataframe to an interactive table.\"\n",
              "              style=\"display:none;\">\n",
              "        \n",
              "  <svg xmlns=\"http://www.w3.org/2000/svg\" height=\"24px\"viewBox=\"0 0 24 24\"\n",
              "       width=\"24px\">\n",
              "    <path d=\"M0 0h24v24H0V0z\" fill=\"none\"/>\n",
              "    <path d=\"M18.56 5.44l.94 2.06.94-2.06 2.06-.94-2.06-.94-.94-2.06-.94 2.06-2.06.94zm-11 1L8.5 8.5l.94-2.06 2.06-.94-2.06-.94L8.5 2.5l-.94 2.06-2.06.94zm10 10l.94 2.06.94-2.06 2.06-.94-2.06-.94-.94-2.06-.94 2.06-2.06.94z\"/><path d=\"M17.41 7.96l-1.37-1.37c-.4-.4-.92-.59-1.43-.59-.52 0-1.04.2-1.43.59L10.3 9.45l-7.72 7.72c-.78.78-.78 2.05 0 2.83L4 21.41c.39.39.9.59 1.41.59.51 0 1.02-.2 1.41-.59l7.78-7.78 2.81-2.81c.8-.78.8-2.07 0-2.86zM5.41 20L4 18.59l7.72-7.72 1.47 1.35L5.41 20z\"/>\n",
              "  </svg>\n",
              "      </button>\n",
              "      \n",
              "  <style>\n",
              "    .colab-df-container {\n",
              "      display:flex;\n",
              "      flex-wrap:wrap;\n",
              "      gap: 12px;\n",
              "    }\n",
              "\n",
              "    .colab-df-convert {\n",
              "      background-color: #E8F0FE;\n",
              "      border: none;\n",
              "      border-radius: 50%;\n",
              "      cursor: pointer;\n",
              "      display: none;\n",
              "      fill: #1967D2;\n",
              "      height: 32px;\n",
              "      padding: 0 0 0 0;\n",
              "      width: 32px;\n",
              "    }\n",
              "\n",
              "    .colab-df-convert:hover {\n",
              "      background-color: #E2EBFA;\n",
              "      box-shadow: 0px 1px 2px rgba(60, 64, 67, 0.3), 0px 1px 3px 1px rgba(60, 64, 67, 0.15);\n",
              "      fill: #174EA6;\n",
              "    }\n",
              "\n",
              "    [theme=dark] .colab-df-convert {\n",
              "      background-color: #3B4455;\n",
              "      fill: #D2E3FC;\n",
              "    }\n",
              "\n",
              "    [theme=dark] .colab-df-convert:hover {\n",
              "      background-color: #434B5C;\n",
              "      box-shadow: 0px 1px 3px 1px rgba(0, 0, 0, 0.15);\n",
              "      filter: drop-shadow(0px 1px 2px rgba(0, 0, 0, 0.3));\n",
              "      fill: #FFFFFF;\n",
              "    }\n",
              "  </style>\n",
              "\n",
              "      <script>\n",
              "        const buttonEl =\n",
              "          document.querySelector('#df-cafd1531-31ae-43ec-a003-45fd3966f1ec button.colab-df-convert');\n",
              "        buttonEl.style.display =\n",
              "          google.colab.kernel.accessAllowed ? 'block' : 'none';\n",
              "\n",
              "        async function convertToInteractive(key) {\n",
              "          const element = document.querySelector('#df-cafd1531-31ae-43ec-a003-45fd3966f1ec');\n",
              "          const dataTable =\n",
              "            await google.colab.kernel.invokeFunction('convertToInteractive',\n",
              "                                                     [key], {});\n",
              "          if (!dataTable) return;\n",
              "\n",
              "          const docLinkHtml = 'Like what you see? Visit the ' +\n",
              "            '<a target=\"_blank\" href=https://colab.research.google.com/notebooks/data_table.ipynb>data table notebook</a>'\n",
              "            + ' to learn more about interactive tables.';\n",
              "          element.innerHTML = '';\n",
              "          dataTable['output_type'] = 'display_data';\n",
              "          await google.colab.output.renderOutput(dataTable, element);\n",
              "          const docLink = document.createElement('div');\n",
              "          docLink.innerHTML = docLinkHtml;\n",
              "          element.appendChild(docLink);\n",
              "        }\n",
              "      </script>\n",
              "    </div>\n",
              "  </div>\n",
              "  "
            ],
            "text/plain": [
              "feature_names      None      None      None      None     None      None  \\\n",
              "coefficients   0.044311  0.024338  0.014683  0.010652  0.00862  0.006622   \n",
              "\n",
              "feature_names     None      None      None      None      None      None  \\\n",
              "coefficients   0.00544  0.004775  0.004057  0.003862  0.003344  0.002901   \n",
              "\n",
              "feature_names      None      None      None      None      None      None  \\\n",
              "coefficients   0.002621  0.002383  0.002239  0.002054  0.001969  0.001935   \n",
              "\n",
              "feature_names      None      None      None     None      None      None  \\\n",
              "coefficients   0.001616  0.001298  0.001191  0.00113  0.001115  0.001079   \n",
              "\n",
              "feature_names      None      None      None      None      None     None  \\\n",
              "coefficients   0.001065  0.000646  0.000548 -0.000042 -0.000076 -0.00008   \n",
              "\n",
              "feature_names      None      None      None      None      None      None  \\\n",
              "coefficients  -0.000408 -0.001061 -0.001357 -0.001564 -0.001578 -0.002209   \n",
              "\n",
              "feature_names      None      None     None      None      None      None  \\\n",
              "coefficients  -0.002955 -0.002984 -0.00372 -0.004032 -0.005074 -0.005621   \n",
              "\n",
              "feature_names      None      None      None      None     None  \n",
              "coefficients  -0.006232 -0.008078 -0.012173 -0.021839 -0.02895  "
            ]
          },
          "execution_count": 23,
          "metadata": {},
          "output_type": "execute_result"
        }
      ],
      "source": [
        "ridge_coefficients = pd.DataFrame(\n",
        "    {\"coefficients\": ridge_pipeline.named_steps.ridge.coef_[0], \"feature_names\": ridge_pipeline[:-1].get_feature_names_out()}\n",
        ").set_index(\"feature_names\").sort_values(\"coefficients\", ascending=False).transpose()\n",
        "\n",
        "print('Coefficients: ')\n",
        "ridge_coefficients"
      ]
    },
    {
      "cell_type": "markdown",
      "metadata": {
        "id": "j9kEanba58WS"
      },
      "source": [
        "We also can explore the errors of the model --called [residuals](https:/www.ncl.ac.uk/webtemplate/ask-assets/external/maths-resources/statistics/regression-and-correlation/residuals.html#:~:text=Definition,yi%E2%88%92%5Eyi). "
      ]
    },
    {
      "cell_type": "code",
      "execution_count": null,
      "metadata": {
        "colab": {
          "base_uri": "https://localhost:8080/",
          "height": 596
        },
        "id": "gXmzTK3k5iPp",
        "outputId": "e4f3016f-c324-4d68-91e0-ab0893e52a1c"
      },
      "outputs": [
        {
          "name": "stderr",
          "output_type": "stream",
          "text": [
            "X has feature names, but Ridge was fitted without feature names\n",
            "X has feature names, but Ridge was fitted without feature names\n",
            "X has feature names, but Ridge was fitted without feature names\n",
            "X has feature names, but Ridge was fitted without feature names\n"
          ]
        },
        {
          "data": {
            "image/png": "[encoded data removed]",
            "text/plain": [
              "<Figure size 800x550 with 1 Axes>"
            ]
          },
          "metadata": {},
          "output_type": "display_data"
        }
      ],
      "source": [
        "# create residual error plot\n",
        "plt.scatter(ridge_pipeline.predict(X_train_processed), ridge_pipeline.predict(X_train_processed) - y_train_r, color = \"green\", s = 10, label = 'Train data')\n",
        "plt.scatter(ridge_pipeline.predict(X_test_processed), ridge_pipeline.predict(X_test_processed) - y_test_r,color = \"navy\", s = 10, label = 'Test data')\n",
        "plt.hlines(y = 0, xmin = 0.4, xmax = 1, linewidth = 2, color=\"black\", linestyle=\"dotted\")\n",
        "plt.legend(loc = 'upper right')\n",
        "plt.title(\"Residual errors\")\n",
        "plt.xlabel(r\"True SaO2 value: $y$\")\n",
        "plt.ylabel(r\"Error on the prediction: $\\hat y  - y$\")\n",
        "plt.show()\n"
      ]
    },
    {
      "cell_type": "markdown",
      "metadata": {
        "id": "OrwiPKR26tLX"
      },
      "source": [
        "### 3.4 SVM Classification Baseline\n",
        "\n",
        "For the classification task, you might choose from a wide range of models that you think are most suitable. Here you have the example of the implementation of a Support Vector Machine (SVM).\n",
        "\n",
        "Before training the model, we need to set a given number of parameters - i.e. hyperparameters - which will be critical in building robust and accurate models. They help us find the balance between bias and variance and thus, prevent the model from overfitting or underfitting.Keep in mind that if you increase the range of hyperparameters to be tested, the training time will increase significantly. If you want more information read [here](https://towardsdatascience.com/hyperparameter-tuning-for-support-vector-machines-c-and-gamma-parameters-6a5097416167)."
      ]
    },
    {
      "cell_type": "code",
      "execution_count": null,
      "metadata": {
        "colab": {
          "base_uri": "https://localhost:8080/"
        },
        "id": "PeaTWpWzpOIR",
        "outputId": "c9251303-9f8e-466f-9ca2-6c2b0fbaad14"
      },
      "outputs": [
        {
          "name": "stdout",
          "output_type": "stream",
          "text": [
            "Fitting 5 folds for each of 4 candidates, totalling 20 fits\n",
            "[CV 1/5] END ........C=0.1, gamma=1, kernel=rbf;, score=0.984 total time=  16.9s\n",
            "[CV 2/5] END ........C=0.1, gamma=1, kernel=rbf;, score=0.984 total time=  18.1s\n",
            "[CV 3/5] END ........C=0.1, gamma=1, kernel=rbf;, score=0.984 total time=  21.5s\n",
            "[CV 4/5] END ........C=0.1, gamma=1, kernel=rbf;, score=0.984 total time=  16.5s\n",
            "[CV 5/5] END ........C=0.1, gamma=1, kernel=rbf;, score=0.984 total time=  16.7s\n",
            "[CV 1/5] END ...C=0.1, gamma=0.0001, kernel=rbf;, score=0.984 total time=   0.4s\n",
            "[CV 2/5] END ...C=0.1, gamma=0.0001, kernel=rbf;, score=0.984 total time=   0.4s\n",
            "[CV 3/5] END ...C=0.1, gamma=0.0001, kernel=rbf;, score=0.984 total time=   0.4s\n",
            "[CV 4/5] END ...C=0.1, gamma=0.0001, kernel=rbf;, score=0.984 total time=   0.4s\n",
            "[CV 5/5] END ...C=0.1, gamma=0.0001, kernel=rbf;, score=0.984 total time=   0.4s\n",
            "[CV 1/5] END ........C=100, gamma=1, kernel=rbf;, score=0.984 total time=  27.3s\n",
            "[CV 2/5] END ........C=100, gamma=1, kernel=rbf;, score=0.984 total time=  27.2s\n",
            "[CV 3/5] END ........C=100, gamma=1, kernel=rbf;, score=0.984 total time=  27.8s\n",
            "[CV 4/5] END ........C=100, gamma=1, kernel=rbf;, score=0.984 total time=  27.7s\n",
            "[CV 5/5] END ........C=100, gamma=1, kernel=rbf;, score=0.984 total time=  27.2s\n",
            "[CV 1/5] END ...C=100, gamma=0.0001, kernel=rbf;, score=0.984 total time=   3.7s\n",
            "[CV 2/5] END ...C=100, gamma=0.0001, kernel=rbf;, score=0.984 total time=   3.0s\n",
            "[CV 3/5] END ...C=100, gamma=0.0001, kernel=rbf;, score=0.984 total time=   3.7s\n",
            "[CV 4/5] END ...C=100, gamma=0.0001, kernel=rbf;, score=0.984 total time=   4.5s\n",
            "[CV 5/5] END ...C=100, gamma=0.0001, kernel=rbf;, score=0.984 total time=   4.0s\n",
            "Score: 0.9822092835193272\n"
          ]
        }
      ],
      "source": [
        "# Defining parameter range\n",
        "param_grid = {'C': [0.1, 100], \n",
        "              'gamma': [1, 0.0001],\n",
        "              'kernel': ['rbf']} \n",
        "\n",
        "grid = GridSearchCV(SVC(), param_grid, refit = True, verbose = 3)\n",
        "\n",
        "# fitting the model for grid search\n",
        "grid.fit(X_train_processed.values, y_train_c.ravel())\n",
        "\n",
        "cpredictions = grid.predict(X_test_processed.values)\n",
        "\n",
        "print('Score: {}'.format(grid.score(X_test_processed.values, y_test_c.ravel())))"
      ]
    },
    {
      "cell_type": "markdown",
      "metadata": {
        "id": "rgcyTAk7-aiw"
      },
      "source": [
        "As you can observe, the scoring is almost 100%! Great, right? Well, let's take a closer look at the confusion matrix for a deeper analysis:"
      ]
    },
    {
      "cell_type": "code",
      "execution_count": null,
      "metadata": {
        "colab": {
          "base_uri": "https://localhost:8080/",
          "height": 504
        },
        "id": "w5fOY29D-Ce9",
        "outputId": "cd358ee6-c560-42ec-83da-fb84cf123a9e"
      },
      "outputs": [
        {
          "data": {
            "image/png": "[encoded data removed]",
            "text/plain": [
              "<Figure size 800x550 with 2 Axes>"
            ]
          },
          "metadata": {},
          "output_type": "display_data"
        }
      ],
      "source": [
        "cm_display = ConfusionMatrixDisplay(confusion_matrix(y_test_c, cpredictions))\n",
        "cm_display.plot()\n",
        "plt.show()"
      ]
    },
    {
      "cell_type": "markdown",
      "metadata": {
        "id": "Xmugvy86-xTk"
      },
      "source": [
        "It looks like we have a really imbalanced dataset, where we have only 110 measurements with hidden hypoxia compared to 6073 normal ones. What should we do then?\n",
        "\n",
        "One can take several approaches when dealing with imbalanced datasets:\n",
        "- removing the number of datapoints for the majority class to match the number on the minority class. However, this might lead you to loose a lot of information.\n",
        "- upsample the minority class and generate synthetic data on it, using for example the SMOTE algorithm. This approach has the problem of maintaining the distribution of each variable for that class and might not provide the best results.\n",
        "- another approach might be to use an algorithm approppriate for this type of data. For that, there is a package very similar to sklearn called [Imbalanced Learn](https://imbalanced-learn.org/stable/) and add the class imbalance to the class_weight parameter in most sklearn algorithms (including in [SVM](https://scikit-learn.org/stable/modules/generated/sklearn.svm.SVC.html)). \n",
        "\n",
        "You can read more about it [here](https://medium.com/eni-digitalks/imbalanced-data-an-extensive-guide-on-how-to-deal-with-imbalanced-classification-problems-6c8df0bc2cab)."
      ]
    },
    {
      "cell_type": "markdown",
      "metadata": {
        "id": "_PuwC89RUzuH"
      },
      "source": [
        "### 3.5 Your model\n",
        "\n",
        "Use the insigths learned from the models previously presented to build your own model with the framework you think is most suitable. You are free to use any of the code presented in the notebook."
      ]
    },
    {
      "cell_type": "markdown",
      "metadata": {
        "id": "yhUiMhObM-Nc"
      },
      "source": [
        "###### ✏️ Implement your model"
      ]
    },
    {
      "cell_type": "code",
      "execution_count": null,
      "metadata": {
        "id": "0BP1wt2DUvJZ"
      },
      "outputs": [],
      "source": [
        "# Code here!"
      ]
    },
    {
      "cell_type": "markdown",
      "metadata": {
        "id": "ft-DfvTXyVKl"
      },
      "source": [
        "## 4. Model Evaluation\n",
        "\n",
        "To be able to develop an ML model for the recalibration of SpO2 levels and implement it in a clinical setting, it is crucial to properly evaluate its performance in the task that is supposed to do.\n",
        "\n",
        "A set of performance metrics should be carefully chosen, considering the clinical setting where the model will be aplied in but also the dataset where is what trained on:\n",
        "- If the dataset contains mostly one racial group, how will it perform on others patients?\n",
        "- Does the dataset have patients from a wide range of ages or is it more focused on a narrow range?"
      ]
    },
    {
      "cell_type": "markdown",
      "metadata": {
        "id": "Ow8GoVWd7V5m"
      },
      "source": [
        "### 4.1 Performance Metrics"
      ]
    },
    {
      "cell_type": "markdown",
      "metadata": {
        "id": "UQ2o4qok9wwx"
      },
      "source": [
        "#### Regression Model\n",
        "\n",
        "Regression tasks are often evaluated using the [$R^2$ score](https://en.wikipedia.org/wiki/Coefficient_of_determination). The best possible score is 1.0 and it can be negative (because the model can be arbitrarily worse). In the general case when the true y is non-constant, a constant model that always predicts the average y disregarding the input features would get a $R^2$ score of 0.0."
      ]
    },
    {
      "cell_type": "code",
      "execution_count": null,
      "metadata": {
        "colab": {
          "base_uri": "https://localhost:8080/"
        },
        "id": "2sSD_kcdRVqa",
        "outputId": "f0cac84d-da8a-4f42-c3c6-98bc58d3ec38"
      },
      "outputs": [
        {
          "name": "stdout",
          "output_type": "stream",
          "text": [
            "Linear model R2 score: 0.38194823452492743\n",
            "R2 score: 0.38194952705543783\n"
          ]
        }
      ],
      "source": [
        "# Evaluate the linear model with R2 :\n",
        "y_pred_train = lpipeline.predict(X_train_processed.values)\n",
        "linear_train_r2 = r2_score(y_train_r, y_pred_train)\n",
        "print(f'Linear model R2 score: {linear_train_r2}')\n",
        "\n",
        "# Evaluate the ridge model with R2 :\n",
        "y_pred_train = ridge_pipeline.predict(X_train_processed.values)\n",
        "ridge_train_r2 = r2_score(y_train_r, y_pred_train)\n",
        "print(f'R2 score: {ridge_train_r2}')"
      ]
    },
    {
      "cell_type": "markdown",
      "metadata": {
        "id": "Cl--t3q8zshl"
      },
      "source": [
        "✏️ Different regression metrics are [implemented by sklearn](https://scikit-learn.org/stable/modules/model_evaluation.html#regression-metrics). Try another metric that you think is relevant to this problem."
      ]
    },
    {
      "cell_type": "code",
      "execution_count": null,
      "metadata": {
        "id": "BHRUuwbu1omY"
      },
      "outputs": [],
      "source": [
        "# CODE here ! "
      ]
    },
    {
      "cell_type": "markdown",
      "metadata": {
        "id": "zn6uYaJ3SnuX"
      },
      "source": [
        "We saw that the regression metrics of both the linear regression and the regularized linear ridge regressions are not very satisfying. There are two explanations: either, we have not the proper variables to explain the output variables or these variables do not relate to the SaO2 with a pure linear relationship.   \n",
        "\n",
        "✏️  Can you fit and evaluate a better regression model in term of $R^2$ ? Consider for example [decision trees](https://scikit-learn.org/stable/modules/tree.html#regression) or [ensemble models](https://scikit-learn.org/stable/modules/ensemble.html). But feel free to experiment with any other type of regression algorithms ! "
      ]
    },
    {
      "cell_type": "code",
      "execution_count": null,
      "metadata": {
        "id": "XhpVmGIzSqAR"
      },
      "outputs": [],
      "source": [
        "# Code here !"
      ]
    },
    {
      "cell_type": "code",
      "execution_count": null,
      "metadata": {
        "colab": {
          "base_uri": "https://localhost:8080/",
          "height": 541
        },
        "id": "LmNJ7wF-yWH4",
        "outputId": "a3892170-1ff2-4a87-839d-e768bc9fc730"
      },
      "outputs": [
        {
          "data": {
            "image/png": "[encoded data removed]",
            "text/plain": [
              "<Figure size 800x550 with 2 Axes>"
            ]
          },
          "metadata": {},
          "output_type": "display_data"
        },
        {
          "data": {
            "text/plain": [
              "<Axes: title={'center': 'Residuals for Ridge Model'}, xlabel='Predicted Value', ylabel='Residuals'>"
            ]
          },
          "execution_count": 27,
          "metadata": {},
          "output_type": "execute_result"
        }
      ],
      "source": [
        "visualizer = ResidualsPlot(ridge_pipeline)\n",
        "visualizer.fit(X_train_processed.values, y_train_r)\n",
        "visualizer.score(X_test_processed.values, y_test_r)\n",
        "visualizer.show()"
      ]
    },
    {
      "cell_type": "code",
      "execution_count": null,
      "metadata": {
        "colab": {
          "base_uri": "https://localhost:8080/",
          "height": 522
        },
        "id": "kjZ43dwJS7-I",
        "outputId": "08d0f179-30d8-4a8e-fd0c-c01f3d3cf3c0"
      },
      "outputs": [
        {
          "name": "stdout",
          "output_type": "stream",
          "text": [
            "R2 score: 0.45085480507679765\n"
          ]
        },
        {
          "data": {
            "image/png": "[encoded data removed]",
            "text/plain": [
              "<Figure size 800x550 with 1 Axes>"
            ]
          },
          "metadata": {},
          "output_type": "display_data"
        }
      ],
      "source": [
        "ridge_pipeline.fit(X_train_processed.values, y_train_r)\n",
        "hat_y_test = ridge_pipeline.predict(X_test_processed.values)\n",
        "\n",
        "fig, ax = plt.subplots(1)\n",
        "sns.regplot(data=None, x=y_test_r, y=hat_y_test, line_kws={\"color\":\"black\", \"linestyle\":\"dotted\"})\n",
        "plt.plot()\n",
        "ax.set(xlabel=r\"$y$\", ylabel=r\"$\\hat y$\")\n",
        "test_r2_score_ = r2_score(y_test_r, hat_y_test)\n",
        "print(f\"R2 score: {test_r2_score_}\")"
      ]
    },
    {
      "cell_type": "markdown",
      "metadata": {
        "id": "lSc27qT5-ag7"
      },
      "source": [
        "#### Classification Model"
      ]
    },
    {
      "cell_type": "code",
      "execution_count": null,
      "metadata": {
        "colab": {
          "base_uri": "https://localhost:8080/",
          "height": 585
        },
        "id": "yB7wgZUo-cVB",
        "outputId": "5f6c9d7d-90e1-4eee-edd8-3f018a1bb958"
      },
      "outputs": [
        {
          "name": "stderr",
          "output_type": "stream",
          "text": [
            "Precision and F-score are ill-defined and being set to 0.0 in labels with no predicted samples. Use `zero_division` parameter to control this behavior.\n"
          ]
        },
        {
          "data": {
            "image/png": "[encoded data removed]",
            "text/plain": [
              "<Figure size 800x550 with 2 Axes>"
            ]
          },
          "metadata": {},
          "output_type": "display_data"
        },
        {
          "data": {
            "text/plain": [
              "<Axes: title={'center': 'SVC Classification Report'}>"
            ]
          },
          "execution_count": 29,
          "metadata": {},
          "output_type": "execute_result"
        }
      ],
      "source": [
        "#Instantiate the classification model and visualizer\n",
        "visualizer = ClassificationReport(SVC(), classes=[0,1], support=True)\n",
        "\n",
        "visualizer.fit(X_train_processed.values, y_train_c.ravel())        # Fit the visualizer and the model\n",
        "visualizer.score(X_test_processed.values, y_test_c.ravel())        # Evaluate the model on the test data\n",
        "visualizer.show()       "
      ]
    },
    {
      "cell_type": "code",
      "execution_count": null,
      "metadata": {
        "colab": {
          "base_uri": "https://localhost:8080/",
          "height": 551
        },
        "id": "fvKOxNhIA3B8",
        "outputId": "8019bbb2-03c9-4068-9c18-16b285b36c23"
      },
      "outputs": [
        {
          "data": {
            "image/png": "[encoded data removed]",
            "text/plain": [
              "<Figure size 800x550 with 1 Axes>"
            ]
          },
          "metadata": {},
          "output_type": "display_data"
        }
      ],
      "source": [
        "visualizer = ClassPredictionError(\n",
        "    SVC(), classes=[0,1])\n",
        "visualizer.fit(X_train_processed.values, y_train_c.ravel())\n",
        "visualizer.score(X_test_processed.values, y_test_c.ravel())\n",
        "visualizer.show();"
      ]
    },
    {
      "cell_type": "markdown",
      "metadata": {
        "id": "agMEPLscVCmS"
      },
      "source": [
        "#### ✏️ Properly evaluate your model"
      ]
    },
    {
      "cell_type": "code",
      "execution_count": null,
      "metadata": {
        "id": "bwE-jV3pVCRS"
      },
      "outputs": [],
      "source": [
        "# Code here!"
      ]
    },
    {
      "cell_type": "markdown",
      "metadata": {
        "id": "UQW25qCS7ZS1"
      },
      "source": [
        "### 4.2 Feature Importance"
      ]
    },
    {
      "cell_type": "markdown",
      "metadata": {
        "id": "mTLDuSwq72bt"
      },
      "source": [
        "Compute the SHAP values for the test data"
      ]
    },
    {
      "cell_type": "code",
      "execution_count": null,
      "metadata": {
        "colab": {
          "base_uri": "https://localhost:8080/",
          "height": 74
        },
        "id": "cASFVgiUwpVS",
        "outputId": "71cfd16e-423f-4f46-b613-bc882d15c88c"
      },
      "outputs": [
        {
          "data": {
            "text/html": [
              "<style>#sk-container-id-5 {color: black;background-color: white;}#sk-container-id-5 pre{padding: 0;}#sk-container-id-5 div.sk-toggleable {background-color: white;}#sk-container-id-5 label.sk-toggleable__label {cursor: pointer;display: block;width: 100%;margin-bottom: 0;padding: 0.3em;box-sizing: border-box;text-align: center;}#sk-container-id-5 label.sk-toggleable__label-arrow:before {content: \"▸\";float: left;margin-right: 0.25em;color: #696969;}#sk-container-id-5 label.sk-toggleable__label-arrow:hover:before {color: black;}#sk-container-id-5 div.sk-estimator:hover label.sk-toggleable__label-arrow:before {color: black;}#sk-container-id-5 div.sk-toggleable__content {max-height: 0;max-width: 0;overflow: hidden;text-align: left;background-color: #f0f8ff;}#sk-container-id-5 div.sk-toggleable__content pre {margin: 0.2em;color: black;border-radius: 0.25em;background-color: #f0f8ff;}#sk-container-id-5 input.sk-toggleable__control:checked~div.sk-toggleable__content {max-height: 200px;max-width: 100%;overflow: auto;}#sk-container-id-5 input.sk-toggleable__control:checked~label.sk-toggleable__label-arrow:before {content: \"▾\";}#sk-container-id-5 div.sk-estimator input.sk-toggleable__control:checked~label.sk-toggleable__label {background-color: #d4ebff;}#sk-container-id-5 div.sk-label input.sk-toggleable__control:checked~label.sk-toggleable__label {background-color: #d4ebff;}#sk-container-id-5 input.sk-hidden--visually {border: 0;clip: rect(1px 1px 1px 1px);clip: rect(1px, 1px, 1px, 1px);height: 1px;margin: -1px;overflow: hidden;padding: 0;position: absolute;width: 1px;}#sk-container-id-5 div.sk-estimator {font-family: monospace;background-color: #f0f8ff;border: 1px dotted black;border-radius: 0.25em;box-sizing: border-box;margin-bottom: 0.5em;}#sk-container-id-5 div.sk-estimator:hover {background-color: #d4ebff;}#sk-container-id-5 div.sk-parallel-item::after {content: \"\";width: 100%;border-bottom: 1px solid gray;flex-grow: 1;}#sk-container-id-5 div.sk-label:hover label.sk-toggleable__label {background-color: #d4ebff;}#sk-container-id-5 div.sk-serial::before {content: \"\";position: absolute;border-left: 1px solid gray;box-sizing: border-box;top: 0;bottom: 0;left: 50%;z-index: 0;}#sk-container-id-5 div.sk-serial {display: flex;flex-direction: column;align-items: center;background-color: white;padding-right: 0.2em;padding-left: 0.2em;position: relative;}#sk-container-id-5 div.sk-item {position: relative;z-index: 1;}#sk-container-id-5 div.sk-parallel {display: flex;align-items: stretch;justify-content: center;background-color: white;position: relative;}#sk-container-id-5 div.sk-item::before, #sk-container-id-5 div.sk-parallel-item::before {content: \"\";position: absolute;border-left: 1px solid gray;box-sizing: border-box;top: 0;bottom: 0;left: 50%;z-index: -1;}#sk-container-id-5 div.sk-parallel-item {display: flex;flex-direction: column;z-index: 1;position: relative;background-color: white;}#sk-container-id-5 div.sk-parallel-item:first-child::after {align-self: flex-end;width: 50%;}#sk-container-id-5 div.sk-parallel-item:last-child::after {align-self: flex-start;width: 50%;}#sk-container-id-5 div.sk-parallel-item:only-child::after {width: 0;}#sk-container-id-5 div.sk-dashed-wrapped {border: 1px dashed gray;margin: 0 0.4em 0.5em 0.4em;box-sizing: border-box;padding-bottom: 0.4em;background-color: white;}#sk-container-id-5 div.sk-label label {font-family: monospace;font-weight: bold;display: inline-block;line-height: 1.2em;}#sk-container-id-5 div.sk-label-container {text-align: center;}#sk-container-id-5 div.sk-container {/* jupyter's `normalize.less` sets `[hidden] { display: none; }` but bootstrap.min.css set `[hidden] { display: none !important; }` so we also need the `!important` here to be able to override the default hidden behavior on the sphinx rendered scikit-learn.org. See: https://github.com/scikit-learn/scikit-learn/issues/21755 */display: inline-block !important;position: relative;}#sk-container-id-5 div.sk-text-repr-fallback {display: none;}</style><div id=\"sk-container-id-5\" class=\"sk-top-container\"><div class=\"sk-text-repr-fallback\"><pre>SVC(C=0.1, gamma=1)</pre><b>In a Jupyter environment, please rerun this cell to show the HTML representation or trust the notebook. <br />On GitHub, the HTML representation is unable to render, please try loading this page with nbviewer.org.</b></div><div class=\"sk-container\" hidden><div class=\"sk-item\"><div class=\"sk-estimator sk-toggleable\"><input class=\"sk-toggleable__control sk-hidden--visually\" id=\"sk-estimator-id-9\" type=\"checkbox\" checked><label for=\"sk-estimator-id-9\" class=\"sk-toggleable__label sk-toggleable__label-arrow\">SVC</label><div class=\"sk-toggleable__content\"><pre>SVC(C=0.1, gamma=1)</pre></div></div></div></div></div>"
            ],
            "text/plain": [
              "SVC(C=0.1, gamma=1)"
            ]
          },
          "execution_count": 31,
          "metadata": {},
          "output_type": "execute_result"
        }
      ],
      "source": [
        "grid.best_estimator_"
      ]
    },
    {
      "cell_type": "code",
      "execution_count": null,
      "metadata": {
        "id": "4pNivSGGx883"
      },
      "outputs": [],
      "source": [
        "best_predictor=SVC(C=0.1, gamma=1).fit(X_train_processed, y_train_c.ravel())"
      ]
    },
    {
      "cell_type": "code",
      "execution_count": null,
      "metadata": {
        "colab": {
          "background_save": true,
          "base_uri": "https://localhost:8080/",
          "height": 117,
          "referenced_widgets": [
            "f562e03f0d704875a3a768979033d644",
            "eac7657fe5994cceb700dc96212d034a",
            "770c958747db4657a02202fd6947bbbd",
            "4cbcdc76a7d0436193b6defc784b67fc",
            "4dfed54effc24a269aa893e5de3b27d1",
            "e4b9d3d97c5349dd820390696dec8223",
            "f1e087741d434f71ad48176a83cc6b3c",
            "7328e0f997d9436dac7b624e5d0e399f",
            "99e33c81a83748dd9a1b6e2f57ede364",
            "6d926e42e6dd449b9c7c80bd0b487049",
            "aa0d32682dfe404aa41c5b4019ea7925"
          ]
        },
        "id": "skfHMZGm7bda",
        "outputId": "1d37f61e-112d-4e57-bf41-f9c17b58d042"
      },
      "outputs": [
        {
          "name": "stderr",
          "output_type": "stream",
          "text": [
            "X does not have valid feature names, but SVC was fitted with feature names\n",
            "WARNING:shap:Using 13858 background data samples could cause slower run times. Consider using shap.sample(data, K) or shap.kmeans(data, K) to summarize the background as K samples.\n"
          ]
        },
        {
          "data": {
            "application/vnd.jupyter.widget-view+json": {
              "model_id": "f562e03f0d704875a3a768979033d644",
              "version_major": 2,
              "version_minor": 0
            },
            "text/plain": [
              "  0%|          | 0/6183 [00:00<?, ?it/s]"
            ]
          },
          "metadata": {},
          "output_type": "display_data"
        },
        {
          "name": "stderr",
          "output_type": "stream",
          "text": [
            "X does not have valid feature names, but SVC was fitted with feature names\n",
            "X does not have valid feature names, but SVC was fitted with feature names\n"
          ]
        }
      ],
      "source": [
        "explainer = shap.KernelExplainer(best_predictor.predict, X_train_processed)\n",
        "shap_values = explainer.shap_values(X_test_processed.values)"
      ]
    },
    {
      "cell_type": "markdown",
      "metadata": {
        "id": "C7dTFnT276We"
      },
      "source": [
        "Plot the SHAP values for each feature"
      ]
    },
    {
      "cell_type": "code",
      "execution_count": null,
      "metadata": {
        "id": "kqMC1Cdg775N"
      },
      "outputs": [],
      "source": [
        "fig, ax = plt.subplots(figsize=(6, 8))\n",
        "shap.plots.beeswarm(shap_values, max_display=10, show=False)\n",
        "plt.title(\"Feature Importance: SHAP Values for Top 10 Features\", fontsize=14)\n",
        "plt.tight_layout()\n",
        "plt.show()"
      ]
    },
    {
      "cell_type": "markdown",
      "metadata": {
        "id": "ABKV2f3X7-jZ"
      },
      "source": [
        "Plot the most important features"
      ]
    },
    {
      "cell_type": "code",
      "execution_count": null,
      "metadata": {
        "id": "aptdyExb8BPq"
      },
      "outputs": [],
      "source": [
        "fig, ax = plt.subplots(figsize=(6, 8))\n",
        "shap.plots.bar(shap_values, max_display=10, show=False)\n",
        "plt.tight_layout()"
      ]
    }
  ],
  "metadata": {
    "colab": {
      "provenance": []
    },
    "kernelspec": {
      "display_name": "Python 3",
      "name": "python3"
    },
    "language_info": {
      "name": "python"
    },
    "widgets": {
      "application/vnd.jupyter.widget-state+json": {
        "4cbcdc76a7d0436193b6defc784b67fc": {
          "model_module": "@jupyter-widgets/controls",
          "model_module_version": "1.5.0",
          "model_name": "HTMLModel",
          "state": {
            "_dom_classes": [],
            "_model_module": "@jupyter-widgets/controls",
            "_model_module_version": "1.5.0",
            "_model_name": "HTMLModel",
            "_view_count": null,
            "_view_module": "@jupyter-widgets/controls",
            "_view_module_version": "1.5.0",
            "_view_name": "HTMLView",
            "description": "",
            "description_tooltip": null,
            "layout": "IPY_MODEL_6d926e42e6dd449b9c7c80bd0b487049",
            "placeholder": "​",
            "style": "IPY_MODEL_aa0d32682dfe404aa41c5b4019ea7925",
            "value": " 0/6183 [00:00&lt;?, ?it/s]"
          }
        },
        "4dfed54effc24a269aa893e5de3b27d1": {
          "model_module": "@jupyter-widgets/base",
          "model_module_version": "1.2.0",
          "model_name": "LayoutModel",
          "state": {
            "_model_module": "@jupyter-widgets/base",
            "_model_module_version": "1.2.0",
            "_model_name": "LayoutModel",
            "_view_count": null,
            "_view_module": "@jupyter-widgets/base",
            "_view_module_version": "1.2.0",
            "_view_name": "LayoutView",
            "align_content": null,
            "align_items": null,
            "align_self": null,
            "border": null,
            "bottom": null,
            "display": null,
            "flex": null,
            "flex_flow": null,
            "grid_area": null,
            "grid_auto_columns": null,
            "grid_auto_flow": null,
            "grid_auto_rows": null,
            "grid_column": null,
            "grid_gap": null,
            "grid_row": null,
            "grid_template_areas": null,
            "grid_template_columns": null,
            "grid_template_rows": null,
            "height": null,
            "justify_content": null,
            "justify_items": null,
            "left": null,
            "margin": null,
            "max_height": null,
            "max_width": null,
            "min_height": null,
            "min_width": null,
            "object_fit": null,
            "object_position": null,
            "order": null,
            "overflow": null,
            "overflow_x": null,
            "overflow_y": null,
            "padding": null,
            "right": null,
            "top": null,
            "visibility": null,
            "width": null
          }
        },
        "6d926e42e6dd449b9c7c80bd0b487049": {
          "model_module": "@jupyter-widgets/base",
          "model_module_version": "1.2.0",
          "model_name": "LayoutModel",
          "state": {
            "_model_module": "@jupyter-widgets/base",
            "_model_module_version": "1.2.0",
            "_model_name": "LayoutModel",
            "_view_count": null,
            "_view_module": "@jupyter-widgets/base",
            "_view_module_version": "1.2.0",
            "_view_name": "LayoutView",
            "align_content": null,
            "align_items": null,
            "align_self": null,
            "border": null,
            "bottom": null,
            "display": null,
            "flex": null,
            "flex_flow": null,
            "grid_area": null,
            "grid_auto_columns": null,
            "grid_auto_flow": null,
            "grid_auto_rows": null,
            "grid_column": null,
            "grid_gap": null,
            "grid_row": null,
            "grid_template_areas": null,
            "grid_template_columns": null,
            "grid_template_rows": null,
            "height": null,
            "justify_content": null,
            "justify_items": null,
            "left": null,
            "margin": null,
            "max_height": null,
            "max_width": null,
            "min_height": null,
            "min_width": null,
            "object_fit": null,
            "object_position": null,
            "order": null,
            "overflow": null,
            "overflow_x": null,
            "overflow_y": null,
            "padding": null,
            "right": null,
            "top": null,
            "visibility": null,
            "width": null
          }
        },
        "7328e0f997d9436dac7b624e5d0e399f": {
          "model_module": "@jupyter-widgets/base",
          "model_module_version": "1.2.0",
          "model_name": "LayoutModel",
          "state": {
            "_model_module": "@jupyter-widgets/base",
            "_model_module_version": "1.2.0",
            "_model_name": "LayoutModel",
            "_view_count": null,
            "_view_module": "@jupyter-widgets/base",
            "_view_module_version": "1.2.0",
            "_view_name": "LayoutView",
            "align_content": null,
            "align_items": null,
            "align_self": null,
            "border": null,
            "bottom": null,
            "display": null,
            "flex": null,
            "flex_flow": null,
            "grid_area": null,
            "grid_auto_columns": null,
            "grid_auto_flow": null,
            "grid_auto_rows": null,
            "grid_column": null,
            "grid_gap": null,
            "grid_row": null,
            "grid_template_areas": null,
            "grid_template_columns": null,
            "grid_template_rows": null,
            "height": null,
            "justify_content": null,
            "justify_items": null,
            "left": null,
            "margin": null,
            "max_height": null,
            "max_width": null,
            "min_height": null,
            "min_width": null,
            "object_fit": null,
            "object_position": null,
            "order": null,
            "overflow": null,
            "overflow_x": null,
            "overflow_y": null,
            "padding": null,
            "right": null,
            "top": null,
            "visibility": null,
            "width": null
          }
        },
        "770c958747db4657a02202fd6947bbbd": {
          "model_module": "@jupyter-widgets/controls",
          "model_module_version": "1.5.0",
          "model_name": "FloatProgressModel",
          "state": {
            "_dom_classes": [],
            "_model_module": "@jupyter-widgets/controls",
            "_model_module_version": "1.5.0",
            "_model_name": "FloatProgressModel",
            "_view_count": null,
            "_view_module": "@jupyter-widgets/controls",
            "_view_module_version": "1.5.0",
            "_view_name": "ProgressView",
            "bar_style": "",
            "description": "",
            "description_tooltip": null,
            "layout": "IPY_MODEL_7328e0f997d9436dac7b624e5d0e399f",
            "max": 6183,
            "min": 0,
            "orientation": "horizontal",
            "style": "IPY_MODEL_99e33c81a83748dd9a1b6e2f57ede364",
            "value": 0
          }
        },
        "99e33c81a83748dd9a1b6e2f57ede364": {
          "model_module": "@jupyter-widgets/controls",
          "model_module_version": "1.5.0",
          "model_name": "ProgressStyleModel",
          "state": {
            "_model_module": "@jupyter-widgets/controls",
            "_model_module_version": "1.5.0",
            "_model_name": "ProgressStyleModel",
            "_view_count": null,
            "_view_module": "@jupyter-widgets/base",
            "_view_module_version": "1.2.0",
            "_view_name": "StyleView",
            "bar_color": null,
            "description_width": ""
          }
        },
        "aa0d32682dfe404aa41c5b4019ea7925": {
          "model_module": "@jupyter-widgets/controls",
          "model_module_version": "1.5.0",
          "model_name": "DescriptionStyleModel",
          "state": {
            "_model_module": "@jupyter-widgets/controls",
            "_model_module_version": "1.5.0",
            "_model_name": "DescriptionStyleModel",
            "_view_count": null,
            "_view_module": "@jupyter-widgets/base",
            "_view_module_version": "1.2.0",
            "_view_name": "StyleView",
            "description_width": ""
          }
        },
        "e4b9d3d97c5349dd820390696dec8223": {
          "model_module": "@jupyter-widgets/base",
          "model_module_version": "1.2.0",
          "model_name": "LayoutModel",
          "state": {
            "_model_module": "@jupyter-widgets/base",
            "_model_module_version": "1.2.0",
            "_model_name": "LayoutModel",
            "_view_count": null,
            "_view_module": "@jupyter-widgets/base",
            "_view_module_version": "1.2.0",
            "_view_name": "LayoutView",
            "align_content": null,
            "align_items": null,
            "align_self": null,
            "border": null,
            "bottom": null,
            "display": null,
            "flex": null,
            "flex_flow": null,
            "grid_area": null,
            "grid_auto_columns": null,
            "grid_auto_flow": null,
            "grid_auto_rows": null,
            "grid_column": null,
            "grid_gap": null,
            "grid_row": null,
            "grid_template_areas": null,
            "grid_template_columns": null,
            "grid_template_rows": null,
            "height": null,
            "justify_content": null,
            "justify_items": null,
            "left": null,
            "margin": null,
            "max_height": null,
            "max_width": null,
            "min_height": null,
            "min_width": null,
            "object_fit": null,
            "object_position": null,
            "order": null,
            "overflow": null,
            "overflow_x": null,
            "overflow_y": null,
            "padding": null,
            "right": null,
            "top": null,
            "visibility": null,
            "width": null
          }
        },
        "eac7657fe5994cceb700dc96212d034a": {
          "model_module": "@jupyter-widgets/controls",
          "model_module_version": "1.5.0",
          "model_name": "HTMLModel",
          "state": {
            "_dom_classes": [],
            "_model_module": "@jupyter-widgets/controls",
            "_model_module_version": "1.5.0",
            "_model_name": "HTMLModel",
            "_view_count": null,
            "_view_module": "@jupyter-widgets/controls",
            "_view_module_version": "1.5.0",
            "_view_name": "HTMLView",
            "description": "",
            "description_tooltip": null,
            "layout": "IPY_MODEL_e4b9d3d97c5349dd820390696dec8223",
            "placeholder": "​",
            "style": "IPY_MODEL_f1e087741d434f71ad48176a83cc6b3c",
            "value": "  0%"
          }
        },
        "f1e087741d434f71ad48176a83cc6b3c": {
          "model_module": "@jupyter-widgets/controls",
          "model_module_version": "1.5.0",
          "model_name": "DescriptionStyleModel",
          "state": {
            "_model_module": "@jupyter-widgets/controls",
            "_model_module_version": "1.5.0",
            "_model_name": "DescriptionStyleModel",
            "_view_count": null,
            "_view_module": "@jupyter-widgets/base",
            "_view_module_version": "1.2.0",
            "_view_name": "StyleView",
            "description_width": ""
          }
        },
        "f562e03f0d704875a3a768979033d644": {
          "model_module": "@jupyter-widgets/controls",
          "model_module_version": "1.5.0",
          "model_name": "HBoxModel",
          "state": {
            "_dom_classes": [],
            "_model_module": "@jupyter-widgets/controls",
            "_model_module_version": "1.5.0",
            "_model_name": "HBoxModel",
            "_view_count": null,
            "_view_module": "@jupyter-widgets/controls",
            "_view_module_version": "1.5.0",
            "_view_name": "HBoxView",
            "box_style": "",
            "children": [
              "IPY_MODEL_eac7657fe5994cceb700dc96212d034a",
              "IPY_MODEL_770c958747db4657a02202fd6947bbbd",
              "IPY_MODEL_4cbcdc76a7d0436193b6defc784b67fc"
            ],
            "layout": "IPY_MODEL_4dfed54effc24a269aa893e5de3b27d1"
          }
        }
      }
    }
  },
  "nbformat": 4,
  "nbformat_minor": 0
}