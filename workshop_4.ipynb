{
  "nbformat": 4,
  "nbformat_minor": 0,
  "metadata": {
    "colab": {
      "provenance": []
    },
    "kernelspec": {
      "name": "python3",
      "display_name": "Python 3"
    },
    "language_info": {
      "name": "python"
    }
  },
  "cells": [
    {
      "cell_type": "markdown",
      "source": [
        "<a target=\"_blank\" href=\"https://colab.research.google.com/github/CriticalDatathon/workshops/blob/main/workshop_4.ipynb\">\n",
        "  <img src=\"https://colab.research.google.com/assets/colab-badge.svg\" alt=\"Open In Colab\"/>\n",
        "</a>"
      ],
      "metadata": {
        "id": "TWwQyXpPDRwS"
      }
    },
    {
      "cell_type": "markdown",
      "source": [
        "<a target=\"_blank\" href=\"https://colab.research.google.com/github/CriticalDatathon/workshops/blob/main/workshop_4.ipynb\">\n",
        "  <img src=\"https://colab.research.google.com/assets/colab-badge.svg\" alt=\"Open In Colab\"/>\n",
        "</a>\n",
        "\n",
        "# Workshop 4: Try to Tackle the Biases and Re-Model\n",
        "\n",
        "We have guided you trough the three usual steps of a predictive task with healthcare data: 1) define the question of interest, 2) select and process the variables, 3) create a predictive model. \n",
        "\n",
        "Now, you should be well equipped to develop your own ideas. Don't hesitate to re-use and adapt the code or results from the previous steps. We give you some ideas, but don't limit yourself to these, be creative 🎨 !  \n",
        "\n",
        "## ❓ Suggested questions \n",
        "\n",
        "- How to tackle the fact that some groups are less likely to get an SaO2 value ?\n",
        "- How to replace the patients that do not make it to our database ?\n",
        "- What would a good fairness metric be ?\n",
        "- How to guarantee that the proposed model will not further harm patients ?\n",
        "- How to solve race-ethnicity and outcome imbalance ?\n",
        "- How to measure a difference in performance before and after changes, when the ground truths themselves change too ?\n",
        "- How to externally validate and expand the proposed models ?\n",
        "\n",
        "## 🎯 Deliverable\n",
        "\n",
        " - Initial exploratory work\n",
        " - Assess the impact of the changes\n",
        " - 🚀 Working plan for future !"
      ],
      "metadata": {
        "id": "6j6WU_0prOUj"
      }
    },
    {
      "cell_type": "code",
      "source": [],
      "metadata": {
        "id": "D5M7fxySrWJD"
      },
      "execution_count": null,
      "outputs": []
    }
  ]
}